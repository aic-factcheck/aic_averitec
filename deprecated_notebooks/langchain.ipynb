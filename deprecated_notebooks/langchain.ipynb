{
 "cells": [
  {
   "cell_type": "code",
   "execution_count": 1,
   "metadata": {},
   "outputs": [
    {
     "name": "stderr",
     "output_type": "stream",
     "text": [
      "/home/ullriher/venvs/averitec/lib/python3.10/site-packages/sentence_transformers/cross_encoder/CrossEncoder.py:11: TqdmExperimentalWarning: Using `tqdm.autonotebook.tqdm` in notebook mode. Use `tqdm.tqdm` instead to force console mode (e.g. in jupyter console)\n",
      "  from tqdm.autonotebook import tqdm, trange\n"
     ]
    }
   ],
   "source": [
    "import json\n",
    "from langchain_huggingface.embeddings import HuggingFaceEmbeddings\n",
    "from langchain_text_splitters import CharacterTextSplitter\n",
    "from langchain_chroma import Chroma\n",
    "from langchain.docstore.document import Document\n",
    "\n",
    "embeddings = HuggingFaceEmbeddings(model_name=\"mixedbread-ai/mxbai-embed-large-v1\")"
   ]
  },
  {
   "cell_type": "code",
   "execution_count": null,
   "metadata": {},
   "outputs": [],
   "source": [
    "i = 24\n",
    "docs = []\n",
    "sents = []\n",
    "\n",
    "with open(f\"/home/ullriher/aic_akveritec/data_store/output_dev/{i}.json\") as f:\n",
    "    for line in f:\n",
    "        data = json.loads(line)\n",
    "        docs.append(\"\\n\".join(data[\"url2text\"]))\n",
    "        sents.extend(data[\"url2text\"])\n",
    "        \n",
    "with open(\"data/dev.json\") as f:\n",
    "    claims = json.load(f)\n",
    "    claim = claims[i][\"claim\"]\n",
    "claim, docs[:i]"
   ]
  },
  {
   "cell_type": "code",
   "execution_count": 27,
   "metadata": {},
   "outputs": [],
   "source": [
    "Chroma().delete_collection()\n",
    "db = Chroma.from_documents([Document(s) for s in docs], embeddings)"
   ]
  },
  {
   "cell_type": "code",
   "execution_count": 42,
   "metadata": {},
   "outputs": [
    {
     "data": {
      "text/plain": [
       "'Republican Matt Gaetz was part of a company that had to pay 75 million in hospice fraud. They stole from dying people.'"
      ]
     },
     "execution_count": 42,
     "metadata": {},
     "output_type": "execute_result"
    }
   ],
   "source": [
    "claim"
   ]
  },
  {
   "cell_type": "code",
   "execution_count": 41,
   "metadata": {},
   "outputs": [
    {
     "data": {
      "text/plain": [
       "[Document(page_content='In recent months, a national writer for Mother Jones magazine named Stephanie Mencimer has been digging into a story about the local roots of FloridaMan and U.S. Congressman Matt Gaetz.\\nIt finally dropped last week. And it should be mandatory reading for residents of the Panhandle who need to understand just how badly our community has been conned by small and corrupt confederacy political players who created Matt Gaetz.\\nHere are just a few highlights from Mencimer’s work:\\n► While Matt rants against boogeymen like \"socialism\" and \"leftist\" healthcare hijackers, the Gaetz family money came from a hospice company called \"Vitas\" that profited from Medicare and Medicaid payments.\\nThe company made the Gaetz family rich when they sold it. And later, it was sued by the Justice Department for allegedly defrauding Medicare, as Mencimer explains:\\n“In 2004, Don Gaetz and his partners cashed in, selling the hospice company to the parent company of the plumbing behemoth Roto-Rooter for $400 million.\\nWhen he ran for state Senate two years later, Don had a net worth of $25 million. In 2013, the Justice Department sued Vitas, alleging that between 2002 and 2013, the company had defrauded Medicare by filing false claims for services never provided or for patients who weren’t terminally ill.\\nThe company settled the case in 2017 for more than $75 million, at the time the largest settlement ever recovered from a hospice company.”\\nMencimer noted that Don Gaetz wasn’t named in the case and has denied any wrongdoing. But the fact is our so-called \"conservative\" congressman\\'s family made millions on the backs of taxpayers.\\nThe \"free market\" is fantastic when the public provides your payday.\\n► With links to a disgraced former Florida House Speaker, the branches of the Panhandle political tree are as crooked as they come.\\nFor a congressman who rails against corruption and preaches political purity, Gaetz\\'s hometown political roots are downright dirty.\\n“Less than a year after his drunk-driving arrest, he declared his candidacy for the state House seat in Florida’s 4th District, which was about to be vacated by House Speaker Ray Sansom, a friend of Don Gaetz for whom Matt had worked as a legislative aide during law school.\\nIn April 2009, Sansom was indicted on corruption charges, accused of tweaking the state budget to funnel more than $25 million to Northwest Florida State College in Niceville.\\nOf those funds, $6 million was earmarked to build a hangar at the Destin airport for a jet company owned by one of Sansom’s friends and donors, real estate developer Jay Odom.\\nOdom was also a client of Matt Gaetz, who handled Odom’s hangar lease. (In 2013, Odom would be sentenced to six months in prison for illegally funneling $23,000 into former Arkansas Gov. Mike Huckabee’s failed 2008 presidential campaign.\\nIn the past decade, Odom has contributed thousands of dollars to Gaetz’s political campaigns. Odom did not respond to an interview request.)\"\\nJoe Scarborough got a mention along with Jeb Bush for being campaign contributors to the Gaetzes. And Lewis Bear is mentioned only as “a Pensacola beer baron,” which conjures images of Snoopy doing aerial combat if there was a Budweiser logo on the side of his red dog house.\\nThe point is that Matt isn\\'t self-made. He was manufactured by an unimpressive network of Huckabees and Sansoms and Odoms and \"beer barons\" and Fish House fundraisers who would all be non-influential nobodies in any other part of the state.\\nBut in the small pond of the Panhandle, a few fat fish have foisted a phony congressman on the rest of us.\\n► The boy who cries “fake news” may have lied to his father about visiting wounded veterans in Walter Reed Hospital, because regrettably, his father mislead readers of this newspaper about it.\\nIn a 2017 column about charitable Christmas giving, Don Gaetz wrote, “Matt goes to Walter Reed Hospital in Washington, D.C. every week to visit warfighters from our area who are fighting the battle after the battle.\\nTheir struggle now is to reclaim their health, their mobility and their lives. Matt says we can never do enough for them and their families.\\nHe chokes up, a rare thing for him, when we donate in his name to support veterans’ housing, rehabilitative care, jobs.”\\nIt was an emotional and heart-wrenching image. A congressman so personally moved by the price paid by wounded warriors that he visited them on a weekly basis.\\nMencimer fact-checked the claim and found out this: “In reality, Matt Gaetz has made only two visits to wounded vets at Walter Reed since taking office, the last one in September 2017.\\nKeep that little tidbit in mind the next time you hear from the boy who cries “fake news.” You might not be a fan of this newspaper.\\nBut I’ve never heard of a reporter or an idiot cartoonist lying to the public about weekly visits to wounded veterans.\\n► Mencimer detailed a shady scheme to funnel family money to Matt once Jeff Miller announced his retirement in 2016.\\n“In just six years, his net worth had dwindled from nearly $1 million to $388,000, according to his financial disclosures.\\nMost of that was tied up in property he owned. He had less than $90,000 in liquid assets.\\n“Yet less than three weeks after Miller announced his retirement, Gaetz dumped $100,000 into his own campaign.\\nFour months later, he gave another $100,000... It would have been illegal for Don Gaetz to lend six figures to the campaign, but he appears to have found another way to funnel money to his son’s race.”\\n“Public records and financial disclosure forms show that in the days following Miller’s retirement announcement, Matt Gaetz sold a house he owned for just under $100,000.\\nThree months later, he sold several vacant lots he’d bought years earlier. All of Gaetz’s real estate was purchased by the same buyer: a company called Treveron, which, it turns out, is owned by his dad.”\\nMencimer said the transactions fall into a “gray area” of campaign finance law. So they weren’t necessarily illegal.\\nBut for a conman who pushes the myth and morals of a hard work ethic and personal responsibility, it’s just more evidence of the grand illusion that has duped so many suckers in Northwest Florida into buying the Gaetz bag of buffalo chips.\\nMencimer even wrote about the 37-year-old\\'s effort to conceal details about his love life that contradict his self-righteous claims of moral authority and true-conservatism.\\n“Two years ago, a former staffer sent him a blunt text message about a 21-year-old woman Gaetz was dating, who would later become a Democratic congressional intern, urging him to ask the woman to delete photos of him from her Instagram account.\\nThe staffer wrote, “Don’t be surprised if many of the conservatives and competitors, like Cris Dosev in Florida CD1, may frown upon her sexually explicit images, her videos showcasing her multiple capabilities to smoke weed, and her flagrant application of language as antithetical to the values of Northwest Florida.”\\nIt’s fitting that Matt has become one of the biggest pushers of marijuana policies in Florida. The Panhandle has been dazed and hazed by the phony persona of a family-financed self-promoter who in reality, has almost nothing in common with the vast majority of working class folks and families here in the Florida Panhandle.\\nMaybe Gaetz is just a sign of the times, an organism of the ecosystem, and a perfectly predictable politician for our phony modern era of Kardashian selfies, Facebook “memories”, self-staring smartphones and patriotism emblazoned on red hats made in China.\\nOf course it’s all a cheap and corny sham. Many things are these days.\\nAnd maybe we just can\\'t tell the difference anymore.\\nOr maybe with reporting like this from Mencimer and Mother Jones, we don’t really have any excuse for not knowing better.\\nRead the full story at: https://www.motherjones.com/politics/2019/07/how-matt-gaetz-used-daddys-money-to-become-trumps-favorite-congressman/'),\n",
       " Document(page_content='Largest US hospice company sued for Medicare fraud\\nA lawsuit filed by the U.S. Department of Justice asserts that Vitas Hospice Services, a company founded in 1983 by a group that included state Senate President Don Gaetz, submitted fraudulent bills for Medicare payment.\\nThe lawsuit alleges that for 12 years Vitas “violated the False Claims Act and misspent tens of millions of taxpayer dollars” by billing Medicare “for ineligible patients and inflated levels of care,” a Department of Justice news release said.\\nGaetz said Thursday that he has not been contacted about the complaint and was not a party to it.\\n“I have no direct knowledge of the complaint that’s been made, but it is heartbreaking to see a company I helped found involved in something like this,” he said.\\nVitas is the largest hospice care chain in the country.\\nThe Justice Department claims the Medicare fraud was occurring in 2001, three years before Gaetz and his partners sold the company.\\nBut Gaetz said he remained active in the management of Vitas only until 2000. He stepped aside that year when he was elected superintendent of the Okaloosa County School District.\\n“I told my partners I was interested in becoming superintendent of schools, and when I got elected I said I was stepping back,” said Gaetz, who lives in Niceville.\\n“I gave up all management responsibilities in 2000, though I continued as a shareholder and attended about four board meetings a year.”\\nIn 2004, Gaetz and fellow Vitas founders Hugh Westbrook and Esther Colliflower sold their stock in the company to Cincinnati-based Chemed for $406 million.\\nThe Justice Department alleges Vitas Hospice and Vitas Healthcare submitted claims for unneeded emergency services for patients or services that weren’t provided, the Associated Press has reported.\\nThe companies pressured their employees to submit more claims to get more revenue, the AP said.\\nGaetz said he is not clear on the merits of the case against Vitas Hospice Services LLC, Vitas Healthcare Corp. and Chemed.\\n“My understanding is that the owners and operators of the company are aggressively denying the complaint,” he said.\\nGaetz said he recognizes that different management priorities can evolve when a conglomerate takes over a company from its founders.\\n“I would say there are people who are still caring employees of Vitas that were there when I was involved,” he said.\\n“They are good people that I feel bad for, having to defend against this complaint.”\\nAn Associated Press version of this story is posted below:\\nFORT LAUDERDALE, Fla. (AP) — The Department of Justice is suing the hospice company founded by Florida\\'s Senate president, accusing it of submitting tens of millions of dollars in fraudulent Medicare claims for more than a decade, including while Don Gaetz was vice chairman of the board.\\nVitas Hospice and Vitas Healthcare submitted claims for emergency services for patients that weren\\'t needed, weren\\'t provided, or were provided to patients who weren\\'t eligible under Medicare requirements, according to the DOJ.\\nThe companies set goals for the number of crisis-care days to be billed and pressured their employees to submit more claims so it would get more revenue, the lawsuit said.\\nThe agency said Medicare payments for crisis care can be hundreds of dollars greater than typical hospice care payments.\\nVitas is the largest U.S. hospice care chain, and its parent company Chemed Corp. said the claims go back to 2002, two years before it acquired the company.\\nGaetz told The Associated Press on Thursday that he has not been involved with the management of the company for about 13 years, saying he gave up a management role in 2000 when he became Okaloosa County\\'s school superintendent.\\nHe founded the company in the early 1980s with Rev. Hugh Westbrook, a Democratic activist, and Esther Colliflower, a nurse.\\nStarting with an $1,800 investment, they turned Vitas into the largest company of its kind before selling it for millions to Chemed in 2004.\\nThat\\'s made Gaetz, R-Niceville, one of the Legislature\\'s wealthiest members with a net worth of about $25 million.\\n\"I continued to be a shareholder and member of the board of directors until the company was sold in 2004,\" he said, adding that he doesn\\'t currently \"own a single share of stock and I have no role with the company in any capacity.\"\\nGaetz was vice chairman of the board during part of the time that federal investigators allege the fraud took place, but he said he had no \"role in the operation of the company\" when he served as vice-chair.\\n\"It\\'s heartbreaking to see an organization which I remember as one of the formative change agents in end-of-life care in this country having to deal with a complaint like this but it\\'s not something that I have any knowledge of or any connection with,\" he said.\\nChemed said in a statement that it will fight the lawsuit \"vigorously.\"\\nThe lawsuit was filed Thursday, the night before the Florida session ended. The next day, shares of Chemed lost $14.27, or 17.5 percent of their value, to $67.52 in afternoon trading.\\nThe Justice Department says Medicare reimburses hospice care for patients who are suffering from a terminal illness and who are expected to live six months or less if the disease progresses at its normal rate.\\nPatients receiving hospice care are treated for pain and stress and symptoms but don\\'t receive treatment for their illnesses.\\nThose patients can get \"crisis care\" if they need immediate, short-term care from nurses or else hospitalization will be required.\\nThe department says the crisis care rate is the highest daily rate a hospice can bill Medicare.\\n\"The government contends that Chemed and Vitas violated the False Claims Act and misspent tens of millions of taxpayer dollars from the Medicare program,\" the Justice Department said in a news release.\\nCincinnati-based Chemed said the government can seek statutory penalties, costs, and triple damages. Those are typically allowed in whistleblower lawsuits.\\n\"Chemed and Vitas have made significant investments in controls, systems and procedures to uphold the highest industry standards and to maintain compliance with all regulatory requirements,\" the company said.\\n\"Our compliance efforts are designed to ensure our services are provided only to eligible patients.\"\\nMedicare fraud costs taxpayers an estimated $60 billion a year and federal officials frequently point to Florida, particularly South Florida, as ground zero for the complex scams.\\nFlorida Gov. Rick Scott was ousted from his role as CEO of Columbia/HCA after a Medicare fraud investigation led to the company paying a $1.7 billion settlement.'),\n",
       " Document(page_content='TALLAHASSEE — The U.S. Department of Justice has sued the hospice company founded by Florida Senate President Don Gaetz, accusing the company of engaging in Medicare fraud for more than 11 years, including during the time Gaetz was vice chairman.\\nThe lawsuit, filed May 2 in the district court for the western district of Missouri, alleges that since at least 2002 Vitas Hospice Services and Vitas Healthcare Corp., the largest provider of for-profit hospice services in the country, \"misspent tens of millions of taxpayer dollars from the Medicare program.\"\\nGaetz sold the company in 2004 to its current owner, Cincinnati-based Chemed, and reportedly no longer owns any shares or has any affiliation with the company.\\nChemed operates hospice services in 18 states including Florida.\\nThe suit, filed on the eve of the final day of the legislative session, alleges that Chemed and its hospice subsidiaries defrauded Medicare by billing the agency for patients who were not eligible for hospice care, and for charging Medicare for crisis care given to patients who either didn\\'t need it or never received it.\\nGaetz, R-Niceville, who was elected to the Senate in 2006, said through a spokeswoman late Wednesday that the Department of Justice complaint involves issues that occurred after he left the company.\\n\"For the past nine years, President Gaetz has not owned any stock in the company or served in any capacity as an employee, officer, director, consultant or volunteer,\\'\\' said Katie Betta, Gaetz\\'s spokeswoman.\\n\"The complaint relates to matters long after President Gaetz sold his interest in the company.\"\\nThe company said in a statement issued May 3 that it intends \"to defend this lawsuit vigorously.\"\\nUnder federal law, only dying patients with six or fewer months to live are eligible to receive Medicare-reimbursed hospice care and only patients \"experiencing an acute crisis that requires the immediate and short-term provision of skilled nursing services\" are eligible to receive so-called crisis care, the most costly form of hospice care, according to the complaint.\\nIn 2013, for example, Medicare\\'s daily reimbursement rate for crisis care was $742 more per patient than the daily rate for routine home care, the complaint said.\\nThe lawsuit alleges that Vitas Healthcare systematically attempted to overcharge Medicare for services that were either not provided or given to patients who were not eligible for the level of care billed to Medicare.\\nThe Justice Department also claims the company used aggressive marketing tactics and pressured staff to increase the number of crisis care claims submitted to Medicare and set goals for the number of days that were to be billed.\\nThe complaint cites the example of a California patient identified only as \"MC.\" Vitas reported that the patient was eligible for Medicare-reimbursed hospice care, the complaint alleges, but the company\\'s own records stated that MC did not have a terminal illness whose prognosis was six months or less.\\nShe was instead, \"living independently and performing daily activities without assistance,\" including doing her own laundry.\\nThe cost to Medicare for crisis care for MC was $170,999 between 2009 and 2012, according to the complaint.\\nThe Justice Department found that Vitas\\' billings for crisis care was almost six times higher than the national average.\\nA Vitas nurse reported that on more than one occasion she arrived at the home of a patient described by Vitas as needing crisis care but instead would find the patient \"at church, at the beauty parlor, or playing bingo,\" the complaint said.\\nDespite the fact that these patients did not need or receive crisis care, the complaint alleges that Vitas billed Medicare for the services anyway.\\nGaetz founded Vitas Healthcare as a nonprofit, Hospice Care Inc., in Miami in early 1978 with partners Hugh Westbrook and Esther Colliflower.\\nThat same year, Gaetz and Westbrook helped pass Florida\\'s hospice licensure law, which gave his hospice a 20-year head start over for-profit competitors.\\nFlorida\\'s hospice act was the first such law in the nation and became the model for the federal Medicare/Medicaid hospice benefit plan that Congress enacted in 1982.\\nThe company became a for-profit company in 1984 and changed its name to Vitas Healthcare in 1992.\\nGaetz and his partners sold Vitas for $406 million to Cincinnati-based Chemed, best known as the owner of Roto-Rooter.'),\n",
       " Document(page_content='FORT LAUDERDALE, Fla. — The Department of Justice is suing the hospice company founded by Florida\\'s Senate president, accusing it of submitting tens of millions of dollars in fraudulent Medicare claims for more than a decade, including while Don Gaetz was vice chairman of the board.\\nVitas Hospice and Vitas Healthcare submitted claims for emergency services for patients that weren\\'t needed, weren\\'t provided, or were provided to patients who weren\\'t eligible under Medicare requirements, according to the DOJ.\\nThe companies set goals for the number of crisis-care days to be billed and pressured their employees to submit more claims so it would get more revenue, the lawsuit said.\\nThe agency said Medicare payments for crisis care can be hundreds of dollars greater than typical hospice care payments.\\nVitas is the largest U.S. hospice care chain, and its parent company Chemed Corp. said the claims go back to 2002, two years before it acquired the company.\\nGaetz told The Associated Press on Thursday that he has not been involved with the management of the company for about 13 years, saying he gave up a management role in 2000 when he became Okaloosa County\\'s school superintendent.\\nHe founded the company in the early 1980s with Rev. Hugh Westbrook, a Democratic activist, and Esther Colliflower, a nurse.\\nStarting with an $1,800 investment, they turned Vitas into the largest company of its kind before selling it for millions to Chemed in 2004.\\nThat\\'s made Gaetz, R-Niceville, one of the Legislature\\'s wealthiest members with a net worth of about $25 million.\\n\"I continued to be a shareholder and member of the board of directors until the company was sold in 2004,\" he said, adding that he doesn\\'t currently \"own a single share of stock and I have no role with the company in any capacity.\"\\nGaetz was vice chairman of the board during part of the time that federal investigators allege the fraud took place, but he said he had no \"role in the operation of the company\" when he served as vice-chair.\\n\"It\\'s heartbreaking to see an organization which I remember as one of the formative change agents in end-of-life care in this country having to deal with a complaint like this but it\\'s not something that I have any knowledge of or any connection with,\" he said.\\nChemed said in a statement that it will fight the lawsuit \"vigorously.\"\\nThe lawsuit was filed Thursday, the night before the Florida session ended. The next day, shares of Chemed lost $14.27, or 17.5 percent of its value, to $67.52 in afternoon trading.'),\n",
       " Document(page_content='Social media posts distort the facts around an 11-year-old, dismissed DUI charge against Rep. Matt Gaetz.\\nThey also leave the false impression that he “stole from dying people.”\\nPosts about Rep. Matt Gaetz circulating on social media in recent days bend the facts to argue that the Florida Republican is part of the so-called “swamp.”\\n“Republican Matt Gaetz has had numerous DUIs and his dad got him off each time,” read the Facebook posts, accompanied by a mugshot of Gaetz.\\n“He was part of a company that had to pay 75 million in hospice fraud. They stole from dying people. He is the swamp.”\\nLike many claims that gain traction on social media, the posts have some factual basis but are muddied by misrepresentation, exaggeration and speculation.\\nCourt records and press reports show that Gaetz was arrested once, in 2008, on charges that he was driving while intoxicated — but the case was later dismissed, the Okaloosa County court docket shows.\\nThe posts offer no evidence that Gaetz has “had numerous DUIs,” or that his father, Don, a Florida state senator from 2006 to 2016, “got him off each time.”\\nHere’s what we know about the 2008 case: Gaetz, 26 at the time, was arrested in October 2008 while driving home from a nightclub — ironically, called the Swamp — on Florida’s Okaloosa Island, according to the Tampa Bay Times.\\nIn reviewing the matter in 2014, the newspaper wrote:\\nTampa Bay Times, Feb. 18, 2014: Near midnight, Okaloosa County Deputy Chris Anglin clocked Gaetz going 48 in a 35 mph zone.\\nAnglin later reported that Gaetz fumbled for his license and registration, his eyes were watery and bloodshot, and he swayed and staggered when he got out of the car.\\nSmelling alcohol, Anglin asked Gaetz if he had been drinking. Gaetz replied no. Minutes later, he admitted he had consumed two beers.\\nTwice, Anglin conducted an eye test. Twice, Gaetz’s eyes didn’t follow the prompt.\\nGaetz, who had recently begun practicing law, declined any field sobriety tests. He was arrested and refused the breath test.\\nWeeks after the arrest, Anglin, the officer who arrested Gaetz, reportedly resigned amid several alleged infractions, including that he used excessive force against another DUI suspect soon after Gaetz’s arrest.\\nAfter Anglin quit, “the prosecutor asked to be taken off the case, because his stepson was friends with Gaetz.\\nThen-Gov. Charlie Crist’s office assigned the case to Steve Meadows, the state attorney for the neighboring circuit,” according to the Tampa Bay Times.\\nGaetz’s defense attorney, Drew Pinkerton, filed a motion to dismiss the case that December. According to a report at the time from the Northwest Florida Daily News, the defense claimed that Gaetz had answered “no” to the officer’s question about whether he had too much to drink — not to whether he had anything to drink.\\nGaetz also claimed in an interview with that newspaper that he was not swerving and that the officer had said threatening things to him.\\nTampa Bay Times, Feb. 18, 2014: Less than a week later, Gaetz had his driver’s license reinstated. A field officer for the Department of Highway Safety and Motor Vehicles declared there was no evidence that Gaetz refused a breath test.\\nYet the refusal was clearly documented in Anglin’s affidavit and arrest report.\\nIt even was documented in Pinkerton’s Dec. 18 motion to dismiss charges against Gaetz.\\nThis three-page document, which Gaetz signed, states there was no evidence that he had been impaired.\\nThere was no mention of many of Anglin’s observations suggesting that Gaetz was impaired.\\nIt added a new detail: “A civilian witness drove by who knew (Gaetz) and observed no indication of impairment.”\\nYet the witness was not named, either in Pinkerton’s document or other case records at the Okaloosa County Clerk’s Office.\\nStill, this anonymous testimony is all that contradicted Anglin’s conclusion that there was probable cause to arrest Gaetz on DUI.\\nMeadows accepted Pinkerton’s motion and agreed to drop the case on Dec. 22, 2008.\\nSo, in short, we know that after the arresting officer quit amid internal allegations of improprieties and after the initial prosecutor transferred the case to avoid a conflict of interest, the new prosecutor dropped the case.\\nThere has been no evidence put forward to substantiate the claim that Gaetz’s “dad got him off.”\\nAnd while we found numerous traffic violations, such as speeding tickets, against Gaetz in Okaloosa County, we did not find any other cases in which Gaetz was charged with a DUI to support the contention that he has had “numerous DUIs.”\\nA spokesperson for Gaetz told FactCheck.org that it was “categorically false” to say the congressman had “multiple” DUI arrests, adding that Gaetz had “never been convicted of a DUI.”\\nGaetz has acknowledged the arrest in public before: In 2014, while chairing a criminal justice subcommittee in the Florida House of Representatives, he talked about his booking photo’s presence online.\\n“If anyone Googles my name, the first image that will appear is my mugshot from my arrest,” he said. “And I’m of the view that that is part of who I am.\\nI made bad decisions and [that] resulted in arrest and that is sort of something that we all live with.”\\nFollowing the unsubstantiated claim of “numerous DUIs,” the social media posts continue: “He was part of a company that had to pay 75 million in hospice fraud.\\nThey stole from dying people.” As the post is structured, readers may interpret “he” to reference Gaetz.\\nIn reality, the claim relates to a company his father founded and later sold.\\nIn 2017, Chemed Corporation and “various wholly-owned subsidiaries, including Vitas Hospice Services LLC and Vitas Healthcare Corporation” agreed to pay $75 million to settle federal charges that the companies submitted false claims for hospice services to Medicare, according to the U.S. Department of Justice.\\nVitas — which the Justice Department identified as “the largest for-profit hospice chain” in the U.S. — was co-founded by Don Gaetz.\\nRep. Matt Gaetz’s spokesperson said the congressman was never employed by Vitas.\\nFederal prosecutors claimed that “between 2002 and 2013 Vitas knowingly submitted or caused to be submitted false claims to Medicare for services to hospice patients who were not terminally ill.”\\n(Although the posts say “they stole from dying people,” the company was accused of defrauding Medicare.)\\nThe lawsuit against the company was filed in 2013 — nine years after Don Gaetz sold the company to Chemed in 2004.\\nIt’s true that at least some of the instances were alleged to have occurred before that sale date (dating back to 2002), but it’s worth noting that Don Gaetz was not a party to the lawsuit.\\nAt the time of the lawsuit’s filing, he denied that the matters in the complaint related to his work with Vitas.\\nThe elder Gaetz told the Northwest Florida Daily News that he was active in management until 2000. “I told my partners I was interested in becoming superintendent of schools, and when I got elected I said I was stepping back,” he said.\\n“I gave up all management responsibilities in 2000, though I continued as a shareholder and attended about four board meetings a year.”\\nEditor’s note: FactCheck.org is one of several organizations working with Facebook to debunk misinformation shared on social media.\\n“2008 CT 003553 S – State of Florida vs. Gaetz, Matthew Louis.” Okaloosa County Court Records. Accessed 30 Oct 2019.\\nBrooks, Robbyn. “DUI charge dropped against Matthew Gaetz.” Northwest Florida Daily News. 24 Dec 2008.\\n“Chemed Corp. and Vitas Hospice Services Agree to Pay $75 Million to Resolve False Claims Act Allegations Relating to Billing for Ineligible Patients and Inflated Levels of Care.”\\nPress release, U.S. Department of Justice. 30 Oct 2017.\\n“Criminal Justice Subcommittee – February 12, 2014.” Florida House of Representatives. Accessed 30 Oct 2019.\\nMcLaughlin, Tom. “Justice Department sues hospice care service co-founded by Don Gaetz.” Northwest Florida Daily News.\\nVan Sickler, Michael. “Lawmaker’s talk of mug shot raises questions about DUI arrest.” Tampa Bay Times.'),\n",
       " Document(page_content='Nation’s Largest Hospice Chain Faces False Claims Act Lawsuit for Medicare Fraud\\nThe U.S. Department of Justice (DOJ) announced a False Claims Act lawsuit earlier this month against the nation’s largest for-profit hospice chain.\\nVitas Hospice Services LLC and Vitas Healthcare Corporation, both owned and operated by Chemed Corporation, are accused of fraudulently admitting patients for hospice care and then billing Medicare for the medically unnecessary services, which are violations of the federal False Claims Act.\\nThe government estimates that Vitas received up to $1 billion or more each year as a result of the Medicare fraud scheme.\\nDo you know of someone committing Medicare fraud? Contact Berger Montague today.\\nAs the largest hospice chain in the country, Vitas has facilities located in 18 states. The company was founded in 1983 by Hugh Westbrook, Esther Colliflower and current Florida Senate President, Don Gaetz.\\nIn 2004, Gaetz and his co-founders decided to sell the company to the Cincinnati-based corporation, Chemed.\\nEarlier this month, Senator Gaetz publicly stated that he has no knowledge of the allegations contained within the False Claims Act lawsuit and is extremely disappointed to “see a company I helped found involved in something like this.”\\nChemed and Vitas, no doubt, make for strange bedfellows. Chemed is a corporation best known for providing Roto-Rooter plumbing and drain cleaning services.\\nThey have over 500 franchised Roto-Rooter offices located around the country. Chemed, whose mission statement promises “professional dignity in times of transition and sewer line clogs,” made an unusual decision when it chose to branch off into the world of hospice care.\\nThe company paid $406 million to acquire Vitas in 2004.\\nAccording to the government’s official complaint, for a duration of approximately 12 years, Vitas fraudulently billed Medicare for the terminal care of patients who were not dying or diagnosed with a terminal disease.\\nVitas is charged with knowingly and willfully billing Medicare for the hospice care of ineligible patients and submitting false reimbursement claims for medically unnecessary treatments.\\nIn order to be eligible for Medicare hospice benefits, patients must be diagnosed with a terminal illness and elect to receive palliative treatment exclusively.\\nPalliative treatment consists of medical care focused only on providing pain relief and comfort measures; there are no preventative or curative treatments associated with hospice care.\\nMedicare beneficiaries must also have a life expectancy of six months or less in order to qualify for hospice care.\\nVitas allegedly submitted hundreds of fraudulent claims to Medicare, some totaling as much as $170,000 each.\\nIn one example, Vitas submitted a $169,821 reimbursement claim to Medicare for a female patient that the hospice provider diagnosed with heart failure.\\nThe diagnosis was a red flag, as the patient had no previous or current symptoms to indicate she was suffering from any form of terminal disease, including heart disease.\\nIn fact, when the patient was originally admitted to the hospital, she was living independently in her own home and performing daily activities with no assistance.\\nIn fact, hidden within Vitas’s own medical documentation, the patient was noted to be “very healthy given her age.”\\nAllegations in the False Claims Act lawsuit also accuse Vitas of encouraging clinical staff members to admit high numbers of patients for hospice care, despite their diagnosis.\\nThe company allegedly paid out bonuses which were based on the number of patients each staff member enrolled.\\nIn addition, bonuses were handed out for those patients who were admitted for longer lengths of time.\\nAccording to the government, the bonus structure resulted in the admission of patients who were medically ineligible for hospice care.\\nOn an ethical and human level, one of the most disturbing allegations against Vitas is that the company convinced multiple patients that they were dying from a terminal illness when, in fact, they were not.\\nEven family members and friends were led to believe their loved ones were suffering from a terminal condition.\\nThe misrepresentation was allegedly necessary for Vitas to submit its false reimbursement claims to Medicare.\\nThe revolting scheme was also used as a means to convince patients that their terminal conditions would require Vitas hospice services.'),\n",
       " Document(page_content='Illinois Hospice Executive Charged with Federal Health Care Fraud for Allegedly Falsely Elevating Level of Patients’ Care\\nCHICAGO—An owner of an Illinois hospice company was charged with federal health care fraud for allegedly engaging in an extensive scheme to obtain higher Medicare and Medicaid payments by fraudulently elevating the level of hospice care for patients, many of whom resided at nursing homes he also controlled across the state.\\nIn many instances, the level of hospice care allegedly exceeded what was medically necessary or actually provided, including for some patients who did not have terminal illnesses or who were enrolled far longer―sometimes for several years―than the required life expectancy of six months or less.\\nThe defendant, Seth Gillman, 46, of Lincolnwood, was charged with one count each of health care fraud and obstructing a federal audit in a criminal complaint that was filed late Friday in U.S. District Court.\\nHe is scheduled to appear at 3 p.m. today before Magistrate Judge Geraldine Soat Brown in federal court.\\nGillman, an attorney, is the corporate agent, administrator, and one-fourth owner of Passages Hospice LLC, based in west suburban Lisle, and is also the agent and secretary of Asta Healthcare Company Inc., which operates Asta Care Center nursing homes in Bloomington, Colfax, Elgin, Ford County, Pontiac, Rockford, and Toluca, Illinois.\\nPassages did not have its own inpatient facility but instead deployed nurses to visit hospice patients in nursing homes and private residences.\\nAs Passages grew, it divided its operations into geographic regions covering Chicago and the western suburbs, Rockford, Bloomington, and Belleville, with different nurses, nursing directors, and medical directors for each region.\\nThe charges allege that between August 2008 and January 2012, Gillman trained and caused to be trained Passages nurses to look for signs that allegedly would qualify a hospice patient for general inpatient care (GIP), resulting in higher payments per day, compared to routine care.\\nGillman allegedly knew that many of Passages’ patients were improperly being placed on GIP, in part as a result of a 2009 review of patient files, a 2009 report by an outside consultant, and a 2010 internal audit.\\nGillman also knew that some patients were placed on GIP without a medical director’s approval.\\nIn fiscal year 2012, Medicare’s daily reimbursement for GIP was $671.84, while the daily payment for routine care was $151.23.\\nAccording to claims data, from January 2006 to late 2011, Passages submitted claims for approximately 4,769 patients to Medicare and/or Medicaid and was paid approximately $95 million from Medicare and approximately $30 million from Medicaid.\\nBetween July 2008 and late 2011, Passages was paid approximately $23 million by Medicare for claimed GIP services, in addition to Medicaid payments for claimed GIP services submitted on behalf of more than 200 patients.\\nAccording to a 69-page affidavit in support of the charges, federal agents have interviewed patients, family members, and more than 30 former and current employees of Passages, including several who reported allegedly fraudulent billing and marketing practices to Medicare and/or law enforcement before they were contacted by agents.\\nInvestigators have also reviewed e-mails, documents, and patient files that were obtained in response to a 2011 civil investigative demand, a January 2012 search warrant, and subpoenas issued in 2013, as well as claims data from Medicare and Medicaid.\\nMedicare claims data revealed that approximately 22 percent of Passages’ patients between 2006 and late 2011 had more than six months of hospice care, with 28 patients receiving more than 1,000 days of hospice care in that period.\\nBy contrast, according to the National Hospice and Palliative Care Organization, only 11.8 percent of all hospice patients in 2009 were on hospice care for longer than six months.\\nFor example, the complaint affidavit cites Patient JW, who was admitted to an Asta nursing home in 2003 following a major stroke, and Passages billed for more than 2,000 days of hospice services.\\nIn another example, Passages submitted bills for 1,443 days of hospice care for Patient LJ, who was admitted to an Asta nursing home in 2001.\\nPatient LJ’s son told investigators that his mother appeared in no danger of dying until the last month of her life.\\nThe charges also cite Medicare claims data showing that Passages’ billing for GIP services grew significantly.\\nIn 2010, Passages billed approximately 1,161 GIP patient days to Medicare monthly, and the figure rose to 1,430 GIP patient days a month through the first nine months of 2011.\\nThe average GIP payments that Passages received per month was $4,437 in the period from mid-2006 to mid-2008, and the monthly payments increased to $946,743 in 2011.\\nA hospice physician retained by the government reviewed files for 13 Passages patients, 10 of whose admissions exceed six months and extended to as many as 1,598 days over two admission periods.\\nThe government’s expert found that nine of the 13 patients were not eligible for Medicare hospice benefits for part or all of their admission and that all the 503 days of GIP submitted for those patients were improper and excessive.\\nA woman, identified as Individual E in the affidavit, who helped Gillman and his father start Passages and served as its clinical director for several years until she was fired told agents that Gillman said if a patient was under Passages’ care, they were sick enough to warrant GIP care.\\nWhen Individual E confronted Gillman over the GIP eligibility of Patient DB, Gillman allegedly told her to mind her own business because he needed the money, the affidavit states.\\nThe charges further allege that in the fall of 2008, Gillman began paying bonuses, sometimes well in excess of their salary, to Passages’ directors overseeing nurses and certified nursing assistants based on the amount of GIP under their supervision.\\nGillman also authorized large bonuses to himself and a co-administrator, Individual A, based on the number of patients per day at certain nursing homes in the Belleville region, including $833,375 to himself between March 2009 and April 2011.\\nThe bonuses increased as the number of patients on GIP increased and as the number of facilities counted for the bonuses increased, according to the affidavit.\\nPassages also allegedly had arrangements with approximately eight nursing homes in 2010 in which it paid the nursing homes $250 for every patient who was on GIP per day.\\nThe obstructing a federal audit count alleges that in August and September 2009, Gillman, Individual A, and others oversaw and conducted an effort to alter patient files that had been requested by TrustSolutions, which contracted with the Centers for Medicare and Medicaid Services to audit providers for fraud and abuse.\\nSeveral former Passages employees have admitted to agents their involvement in the altering of patient files in the summer of 2009 as well as in another session in 2010, the affidavit states.\\nThe charges were announced by Zachary T. Fardon, United States Attorney for the Northern District of Illinois; Lamont Pugh, III, Special Agent in Charge of the Chicago Regional Office of the HHS-OIG; and Robert J. Holley, Special Agent in Charge of the Chicago Office of the Federal Bureau of Investigation.\\nThe Illinois Attorney General’s Office is also participating in the investigation.\\nThe government is being represented by Assistant U.S. Attorney Stephen C. Lee.\\nHealth care fraud carries a maximum penalty of 10 years in prison and a $250,000 fine, and obstructing a federal audit carries a maximum of five years in prison and a $250,000 fine, and restitution is mandatory.\\nIf convicted, the court must impose a reasonable sentence under federal statutes and the advisory United States Sentencing Guidelines.\\nThe public is reminded that a complaint is not evidence of guilt. The defendant is presumed innocent and is entitled to a fair trial at which the government has the burden of proving guilt beyond a reasonable doubt.\\nThe Medicare Fraud Strike Force began operating in Chicago in February 2011 and consists of agents from the FBI and HHS-OIG working together with prosecutors from the U.S. Attorney’s Office and the Justice Department’s Fraud Section.\\nThe strike force is are part of the Health Care Fraud Prevention and Enforcement Action Team (HEAT), a joint initiative announced in May 2009 between the Department of Justice and HHS to focus their efforts to prevent and deter fraud and enforce current anti-fraud laws around the country.\\nScores of defendants have been charged locally in health care fraud cases since the strike force began operating in Chicago.\\nTo report health care fraud to learn more about the Health Care Fraud Prevention and Enforcement Action Team (HEAT), go to www.stopmedicarefraud.gov.')]"
      ]
     },
     "execution_count": 41,
     "metadata": {},
     "output_type": "execute_result"
    }
   ],
   "source": [
    "db.similarity_search(claim, k=7)"
   ]
  },
  {
   "cell_type": "code",
   "execution_count": 32,
   "metadata": {},
   "outputs": [
    {
     "name": "stdout",
     "output_type": "stream",
     "text": [
      "Republican Matt Gaetz was part of a company that had to pay 75 million in hospice fraud. They stole from dying people. \n",
      "---\n",
      "In recent months, a national writer for Mother Jones magazine named Stephanie Mencimer has been digging into a story about the local roots of FloridaMan and U.S. Congressman Matt Gaetz.\n",
      "It finally dropped last week. And it should be mandatory reading for residents of the Panhandle who need to understand just how badly our community has been conned by small and corrupt confederacy political players who created Matt Gaetz.\n",
      "Here are just a few highlights from Mencimer’s work:\n",
      "► While Matt rants against boogeymen like \"socialism\" and \"leftist\" healthcare hijackers, the Gaetz family money came from a hospice company called \"Vitas\" that profited from Medicare and Medicaid payments.\n",
      "The company made the Gaetz family rich when they sold it. And later, it was sued by the Justice Department for allegedly defrauding Medicare, as Mencimer explains:\n",
      "“In 2004, Don Gaetz and his partners cashed in, selling the hospice company to the parent company of the plumbing behemoth Roto-Rooter for $400 million.\n",
      "When he ran for state Senate two years later, Don had a net worth of $25 million. In 2013, the Justice Department sued Vitas, alleging that between 2002 and 2013, the company had defrauded Medicare by filing false claims for services never provided or for patients who weren’t terminally ill.\n",
      "The company settled the case in 2017 for more than $75 million, at the time the largest settlement ever recovered from a hospice company.”\n",
      "Mencimer noted that Don Gaetz wasn’t named in the case and has denied any wrongdoing. But the fact is our so-called \"conservative\" congressman's family made millions on the backs of taxpayers.\n",
      "The \"free market\" is fantastic when the public provides your payday.\n",
      "► With links to a disgraced former Florida House Speaker, the branches of the Panhandle political tree are as crooked as they come.\n",
      "For a congressman who rails against corruption and preaches political purity, Gaetz's hometown political roots are downright dirty.\n",
      "“Less than a year after his drunk-driving arrest, he declared his candidacy for the state House seat in Florida’s 4th District, which was about to be vacated by House Speaker Ray Sansom, a friend of Don Gaetz for whom Matt had worked as a legislative aide during law school.\n",
      "In April 2009, Sansom was indicted on corruption charges, accused of tweaking the state budget to funnel more than $25 million to Northwest Florida State College in Niceville.\n",
      "Of those funds, $6 million was earmarked to build a hangar at the Destin airport for a jet company owned by one of Sansom’s friends and donors, real estate developer Jay Odom.\n",
      "Odom was also a client of Matt Gaetz, who handled Odom’s hangar lease. (In 2013, Odom would be sentenced to six months in prison for illegally funneling $23,000 into former Arkansas Gov. Mike Huckabee’s failed 2008 presidential campaign.\n",
      "In the past decade, Odom has contributed thousands of dollars to Gaetz’s political campaigns. Odom did not respond to an interview request.)\"\n",
      "Joe Scarborough got a mention along with Jeb Bush for being campaign contributors to the Gaetzes. And Lewis Bear is mentioned only as “a Pensacola beer baron,” which conjures images of Snoopy doing aerial combat if there was a Budweiser logo on the side of his red dog house.\n",
      "The point is that Matt isn't self-made. He was manufactured by an unimpressive network of Huckabees and Sansoms and Odoms and \"beer barons\" and Fish House fundraisers who would all be non-influential nobodies in any other part of the state.\n",
      "But in the small pond of the Panhandle, a few fat fish have foisted a phony congressman on the rest of us.\n",
      "► The boy who cries “fake news” may have lied to his father about visiting wounded veterans in Walter Reed Hospital, because regrettably, his father mislead readers of this newspaper about it.\n",
      "In a 2017 column about charitable Christmas giving, Don Gaetz wrote, “Matt goes to Walter Reed Hospital in Washington, D.C. every week to visit warfighters from our area who are fighting the battle after the battle.\n",
      "Their struggle now is to reclaim their health, their mobility and their lives. Matt says we can never do enough for them and their families.\n",
      "He chokes up, a rare thing for him, when we donate in his name to support veterans’ housing, rehabilitative care, jobs.”\n",
      "It was an emotional and heart-wrenching image. A congressman so personally moved by the price paid by wounded warriors that he visited them on a weekly basis.\n",
      "Mencimer fact-checked the claim and found out this: “In reality, Matt Gaetz has made only two visits to wounded vets at Walter Reed since taking office, the last one in September 2017.\n",
      "Keep that little tidbit in mind the next time you hear from the boy who cries “fake news.” You might not be a fan of this newspaper.\n",
      "But I’ve never heard of a reporter or an idiot cartoonist lying to the public about weekly visits to wounded veterans.\n",
      "► Mencimer detailed a shady scheme to funnel family money to Matt once Jeff Miller announced his retirement in 2016.\n",
      "“In just six years, his net worth had dwindled from nearly $1 million to $388,000, according to his financial disclosures.\n",
      "Most of that was tied up in property he owned. He had less than $90,000 in liquid assets.\n",
      "“Yet less than three weeks after Miller announced his retirement, Gaetz dumped $100,000 into his own campaign.\n",
      "Four months later, he gave another $100,000... It would have been illegal for Don Gaetz to lend six figures to the campaign, but he appears to have found another way to funnel money to his son’s race.”\n",
      "“Public records and financial disclosure forms show that in the days following Miller’s retirement announcement, Matt Gaetz sold a house he owned for just under $100,000.\n",
      "Three months later, he sold several vacant lots he’d bought years earlier. All of Gaetz’s real estate was purchased by the same buyer: a company called Treveron, which, it turns out, is owned by his dad.”\n",
      "Mencimer said the transactions fall into a “gray area” of campaign finance law. So they weren’t necessarily illegal.\n",
      "But for a conman who pushes the myth and morals of a hard work ethic and personal responsibility, it’s just more evidence of the grand illusion that has duped so many suckers in Northwest Florida into buying the Gaetz bag of buffalo chips.\n",
      "Mencimer even wrote about the 37-year-old's effort to conceal details about his love life that contradict his self-righteous claims of moral authority and true-conservatism.\n",
      "“Two years ago, a former staffer sent him a blunt text message about a 21-year-old woman Gaetz was dating, who would later become a Democratic congressional intern, urging him to ask the woman to delete photos of him from her Instagram account.\n",
      "The staffer wrote, “Don’t be surprised if many of the conservatives and competitors, like Cris Dosev in Florida CD1, may frown upon her sexually explicit images, her videos showcasing her multiple capabilities to smoke weed, and her flagrant application of language as antithetical to the values of Northwest Florida.”\n",
      "It’s fitting that Matt has become one of the biggest pushers of marijuana policies in Florida. The Panhandle has been dazed and hazed by the phony persona of a family-financed self-promoter who in reality, has almost nothing in common with the vast majority of working class folks and families here in the Florida Panhandle.\n",
      "Maybe Gaetz is just a sign of the times, an organism of the ecosystem, and a perfectly predictable politician for our phony modern era of Kardashian selfies, Facebook “memories”, self-staring smartphones and patriotism emblazoned on red hats made in China.\n",
      "Of course it’s all a cheap and corny sham. Many things are these days.\n",
      "And maybe we just can't tell the difference anymore.\n",
      "Or maybe with reporting like this from Mencimer and Mother Jones, we don’t really have any excuse for not knowing better.\n",
      "Read the full story at: https://www.motherjones.com/politics/2019/07/how-matt-gaetz-used-daddys-money-to-become-trumps-favorite-congressman/\n",
      "Largest US hospice company sued for Medicare fraud\n",
      "A lawsuit filed by the U.S. Department of Justice asserts that Vitas Hospice Services, a company founded in 1983 by a group that included state Senate President Don Gaetz, submitted fraudulent bills for Medicare payment.\n",
      "The lawsuit alleges that for 12 years Vitas “violated the False Claims Act and misspent tens of millions of taxpayer dollars” by billing Medicare “for ineligible patients and inflated levels of care,” a Department of Justice news release said.\n",
      "Gaetz said Thursday that he has not been contacted about the complaint and was not a party to it.\n",
      "“I have no direct knowledge of the complaint that’s been made, but it is heartbreaking to see a company I helped found involved in something like this,” he said.\n",
      "Vitas is the largest hospice care chain in the country.\n",
      "The Justice Department claims the Medicare fraud was occurring in 2001, three years before Gaetz and his partners sold the company.\n",
      "But Gaetz said he remained active in the management of Vitas only until 2000. He stepped aside that year when he was elected superintendent of the Okaloosa County School District.\n",
      "“I told my partners I was interested in becoming superintendent of schools, and when I got elected I said I was stepping back,” said Gaetz, who lives in Niceville.\n",
      "“I gave up all management responsibilities in 2000, though I continued as a shareholder and attended about four board meetings a year.”\n",
      "In 2004, Gaetz and fellow Vitas founders Hugh Westbrook and Esther Colliflower sold their stock in the company to Cincinnati-based Chemed for $406 million.\n",
      "The Justice Department alleges Vitas Hospice and Vitas Healthcare submitted claims for unneeded emergency services for patients or services that weren’t provided, the Associated Press has reported.\n",
      "The companies pressured their employees to submit more claims to get more revenue, the AP said.\n",
      "Gaetz said he is not clear on the merits of the case against Vitas Hospice Services LLC, Vitas Healthcare Corp. and Chemed.\n",
      "“My understanding is that the owners and operators of the company are aggressively denying the complaint,” he said.\n",
      "Gaetz said he recognizes that different management priorities can evolve when a conglomerate takes over a company from its founders.\n",
      "“I would say there are people who are still caring employees of Vitas that were there when I was involved,” he said.\n",
      "“They are good people that I feel bad for, having to defend against this complaint.”\n",
      "An Associated Press version of this story is posted below:\n",
      "FORT LAUDERDALE, Fla. (AP) — The Department of Justice is suing the hospice company founded by Florida's Senate president, accusing it of submitting tens of millions of dollars in fraudulent Medicare claims for more than a decade, including while Don Gaetz was vice chairman of the board.\n",
      "Vitas Hospice and Vitas Healthcare submitted claims for emergency services for patients that weren't needed, weren't provided, or were provided to patients who weren't eligible under Medicare requirements, according to the DOJ.\n",
      "The companies set goals for the number of crisis-care days to be billed and pressured their employees to submit more claims so it would get more revenue, the lawsuit said.\n",
      "The agency said Medicare payments for crisis care can be hundreds of dollars greater than typical hospice care payments.\n",
      "Vitas is the largest U.S. hospice care chain, and its parent company Chemed Corp. said the claims go back to 2002, two years before it acquired the company.\n",
      "Gaetz told The Associated Press on Thursday that he has not been involved with the management of the company for about 13 years, saying he gave up a management role in 2000 when he became Okaloosa County's school superintendent.\n",
      "He founded the company in the early 1980s with Rev. Hugh Westbrook, a Democratic activist, and Esther Colliflower, a nurse.\n",
      "Starting with an $1,800 investment, they turned Vitas into the largest company of its kind before selling it for millions to Chemed in 2004.\n",
      "That's made Gaetz, R-Niceville, one of the Legislature's wealthiest members with a net worth of about $25 million.\n",
      "\"I continued to be a shareholder and member of the board of directors until the company was sold in 2004,\" he said, adding that he doesn't currently \"own a single share of stock and I have no role with the company in any capacity.\"\n",
      "Gaetz was vice chairman of the board during part of the time that federal investigators allege the fraud took place, but he said he had no \"role in the operation of the company\" when he served as vice-chair.\n",
      "\"It's heartbreaking to see an organization which I remember as one of the formative change agents in end-of-life care in this country having to deal with a complaint like this but it's not something that I have any knowledge of or any connection with,\" he said.\n",
      "Chemed said in a statement that it will fight the lawsuit \"vigorously.\"\n",
      "The lawsuit was filed Thursday, the night before the Florida session ended. The next day, shares of Chemed lost $14.27, or 17.5 percent of their value, to $67.52 in afternoon trading.\n",
      "The Justice Department says Medicare reimburses hospice care for patients who are suffering from a terminal illness and who are expected to live six months or less if the disease progresses at its normal rate.\n",
      "Patients receiving hospice care are treated for pain and stress and symptoms but don't receive treatment for their illnesses.\n",
      "Those patients can get \"crisis care\" if they need immediate, short-term care from nurses or else hospitalization will be required.\n",
      "The department says the crisis care rate is the highest daily rate a hospice can bill Medicare.\n",
      "\"The government contends that Chemed and Vitas violated the False Claims Act and misspent tens of millions of taxpayer dollars from the Medicare program,\" the Justice Department said in a news release.\n",
      "Cincinnati-based Chemed said the government can seek statutory penalties, costs, and triple damages. Those are typically allowed in whistleblower lawsuits.\n",
      "\"Chemed and Vitas have made significant investments in controls, systems and procedures to uphold the highest industry standards and to maintain compliance with all regulatory requirements,\" the company said.\n",
      "\"Our compliance efforts are designed to ensure our services are provided only to eligible patients.\"\n",
      "Medicare fraud costs taxpayers an estimated $60 billion a year and federal officials frequently point to Florida, particularly South Florida, as ground zero for the complex scams.\n",
      "Florida Gov. Rick Scott was ousted from his role as CEO of Columbia/HCA after a Medicare fraud investigation led to the company paying a $1.7 billion settlement.\n",
      "TALLAHASSEE — The U.S. Department of Justice has sued the hospice company founded by Florida Senate President Don Gaetz, accusing the company of engaging in Medicare fraud for more than 11 years, including during the time Gaetz was vice chairman.\n",
      "The lawsuit, filed May 2 in the district court for the western district of Missouri, alleges that since at least 2002 Vitas Hospice Services and Vitas Healthcare Corp., the largest provider of for-profit hospice services in the country, \"misspent tens of millions of taxpayer dollars from the Medicare program.\"\n",
      "Gaetz sold the company in 2004 to its current owner, Cincinnati-based Chemed, and reportedly no longer owns any shares or has any affiliation with the company.\n",
      "Chemed operates hospice services in 18 states including Florida.\n",
      "The suit, filed on the eve of the final day of the legislative session, alleges that Chemed and its hospice subsidiaries defrauded Medicare by billing the agency for patients who were not eligible for hospice care, and for charging Medicare for crisis care given to patients who either didn't need it or never received it.\n",
      "Gaetz, R-Niceville, who was elected to the Senate in 2006, said through a spokeswoman late Wednesday that the Department of Justice complaint involves issues that occurred after he left the company.\n",
      "\"For the past nine years, President Gaetz has not owned any stock in the company or served in any capacity as an employee, officer, director, consultant or volunteer,'' said Katie Betta, Gaetz's spokeswoman.\n",
      "\"The complaint relates to matters long after President Gaetz sold his interest in the company.\"\n",
      "The company said in a statement issued May 3 that it intends \"to defend this lawsuit vigorously.\"\n",
      "Under federal law, only dying patients with six or fewer months to live are eligible to receive Medicare-reimbursed hospice care and only patients \"experiencing an acute crisis that requires the immediate and short-term provision of skilled nursing services\" are eligible to receive so-called crisis care, the most costly form of hospice care, according to the complaint.\n",
      "In 2013, for example, Medicare's daily reimbursement rate for crisis care was $742 more per patient than the daily rate for routine home care, the complaint said.\n",
      "The lawsuit alleges that Vitas Healthcare systematically attempted to overcharge Medicare for services that were either not provided or given to patients who were not eligible for the level of care billed to Medicare.\n",
      "The Justice Department also claims the company used aggressive marketing tactics and pressured staff to increase the number of crisis care claims submitted to Medicare and set goals for the number of days that were to be billed.\n",
      "The complaint cites the example of a California patient identified only as \"MC.\" Vitas reported that the patient was eligible for Medicare-reimbursed hospice care, the complaint alleges, but the company's own records stated that MC did not have a terminal illness whose prognosis was six months or less.\n",
      "She was instead, \"living independently and performing daily activities without assistance,\" including doing her own laundry.\n",
      "The cost to Medicare for crisis care for MC was $170,999 between 2009 and 2012, according to the complaint.\n",
      "The Justice Department found that Vitas' billings for crisis care was almost six times higher than the national average.\n",
      "A Vitas nurse reported that on more than one occasion she arrived at the home of a patient described by Vitas as needing crisis care but instead would find the patient \"at church, at the beauty parlor, or playing bingo,\" the complaint said.\n",
      "Despite the fact that these patients did not need or receive crisis care, the complaint alleges that Vitas billed Medicare for the services anyway.\n",
      "Gaetz founded Vitas Healthcare as a nonprofit, Hospice Care Inc., in Miami in early 1978 with partners Hugh Westbrook and Esther Colliflower.\n",
      "That same year, Gaetz and Westbrook helped pass Florida's hospice licensure law, which gave his hospice a 20-year head start over for-profit competitors.\n",
      "Florida's hospice act was the first such law in the nation and became the model for the federal Medicare/Medicaid hospice benefit plan that Congress enacted in 1982.\n",
      "The company became a for-profit company in 1984 and changed its name to Vitas Healthcare in 1992.\n",
      "Gaetz and his partners sold Vitas for $406 million to Cincinnati-based Chemed, best known as the owner of Roto-Rooter.\n"
     ]
    }
   ],
   "source": [
    "docs = db.similarity_search(claim)\n",
    "print(claim,\"\\n---\")\n",
    "print(docs[0].page_content)\n",
    "print(docs[1].page_content)\n",
    "print(docs[2].page_content)"
   ]
  },
  {
   "cell_type": "code",
   "execution_count": 54,
   "metadata": {},
   "outputs": [
    {
     "data": {
      "text/plain": [
       "[Document(page_content=\"BERLIN (Reuters) - Germany's foreign minister has said that Thailand's King Maha Vajiralongkorn should not be conducting politics from the European country, where he spends much of his time.\\nForeign Minister Heiko Maas responded to a question by a Greens member of parliament in the Bundestag on Wednesday at a time that King Vajiralongkorn's monarchy faces unprecedented calls for reform from protesters in Thailand.\\nFollow us on our official WhatsApp channel for breaking news alerts and key updates!\"),\n",
       " Document(page_content='The German Foreign Minister Heiko Maas is against Thailand’s King Maha Vajiralongkorn (or Rama X) ruling from Bavaria where he stays with his harem in a hotel.\\nThe government official was asked by a Greens MP in the Bundestag about the King conducting politics in Germany instead of in his own country.\\n“Why does the German government tolerate this extremely unusual – and in my opinion illegal – behaviour of a foreign head of state conducting politics on German soil?” was the question posed by the MP.\\nMaas told the Bundestag: “We have made it clear that politics concerning Thailand should not be conducted from German soil.”\\nHe added: “If there are guests in our country that conduct their state business from our soil, we would always want to act to counteract that.”\\nMaas was also quizzed by Frithjof Schmidt, a Greens MP, on if Germany was ready to talk to the European Union about halting free trade talks with Thailand once more “as long as the junta continues to block the path to democracy in Thailand.”\\nMaas said it was an option but that they should discuss it with Thailand first.\\nThis comes at a time when protests against the monarchy continue to gain steam in the Asian kingdom. Demonstrators want a curb on the monarch’s increasing powers, a new constitution and democracy.\\nThailand is not a country with freedom of speech, especially when it comes to the Thai Royal Family. The nation has stringent lèse majesté laws that carry up to a 15-year prison sentence for insulting or defaming the monarch or member of the Royal Family.\\nThose who protest have been arrested and insulted by many of the royals’ supporters.'),\n",
       " Document(page_content='JAKARTA - German Foreign Minister Heiko Maas has banned Thailand\\'s King Maha Vajiralongkorn from managing his country from his country.\\nVajiralongkorn is known to have spent much of his time in this European country.\\nPreviously, it was known that the Thai government was being protested by thousands of demonstrators in recent months.\\nThe people called for monarchical reforms to curb the king\\'s power and remove the Thai Prime Minister (PM) Prayuth Chan-ocha.\\nThen in such critical times King Vajiralongkorn instead chose to leave his country and rule in Germany.\\nTherefore, launching Reuters on Friday, October 9 The German Foreign Minister issued a ban on governing his country in response to questions from Green Party MPs in the Bundestag.\\nMaas was alluded to by King Vajiralongkorn, who is facing calls for reform from Thai demonstrators.\\n\"Why does the German government tolerate the behavior of foreign heads of state who conduct politics on German soil and in my opinion this is illegal.\\nWe have made it clear that Thai politics cannot be carried out from German soil,\" Maas told parliament.\\nGreen Party MP Frithjof Schmidt also asked Maas if Germany was ready to have discussions with the European Union\\'s EU freeze free trade talks with Thailand.\\nThe EU firmly stated that it would shut down communications as long as democracy in Thailand was not enforced.\\n\"If there are guests in our country who run their state business from our land, we will always want to act to counter that,\" he added.\\nThe European Union previously cut contact at all levels with Thailand following the 2014 coup. But the two sides resumed trade talks after elections in 2019 which saw Prayuth return as Prime Minister of Thailand.\\nMaas said stopping negotiations was an \"option\" to exert pressure. But they still have the right to discuss with Thailand first.\\nNeither the Royal Palace in Bangkok nor the Thai government immediately responded to this. Thai polemic\\nProtesters challenged the Kingdom of Thailand and raided the palace building which was dominated by soldiers.\\nThis broke an old taboo by demanding reforms to the monarchy that had been in place since August.\\nKing Vajiralongkorn took the throne since 2016, but spends most of his time in Bavaria, where his 15-year-old son attends school.\\nThai protesters have complained about the cost of the king\\'s stay in Europe as well as his absence in Thailand.\\nThe protesters are trying to reduce the king\\'s powers under the constitution, which specifically allows him to exercise power when he is outside Thailand without appointing a regent.\\nThe protesters also want to relinquish direct control of the kingdom\\'s fortune worth tens of billions of dollars and several army units.\\nProtesters in Thailand said they would gather again next Wednesday. They will bring in large numbers of protesters to pressure the government to step down and suppress their calls for monarchical reform.\\nThe English, Chinese, Japanese, Arabic, and French versions are automatically generated by the AI. So there may still be inaccuracies in translating, please always see Indonesian as our main language.'),\n",
       " Document(page_content=\"Angela Merkel’s government has warned the King of Thailand not to try to rule his country remotely from Germany, it has emerged.\\nThailand is in the grip of anti-government protests that have seen thousands take to the streets and growing calls for the powers of the monarchy to be curbed.\\nBut King Maha Vajiralongkorn spends most of time in Bavaria, where he has rented an entire luxury hotel for his entourage.\\n“We have made it clear that Thai politics should not be conducted from German soil,” Heiko Maas, the German foreign minister, said this week.\\n“If there are guests in our country who choose to conduct their state business from our soil we would always want to prevent that.”\\nThe foreign minister’s comments were a rare glimpse of what is said to be the German authorities’ growing frustration with their long-term royal guest.\\nThe 68-year-old Vajiralongkorn, who is also known as Rama X, has long preferred to reside in Germany rather than his own kingdom.\\nBut his absence has fuelled a growing anti-monarchy movement in Thailand, which has coincided with a series of lurid headlines in the German press.\\nDuring the coronavirus lockdown earlier this year, it emerged Vajiralongkorn had been allowed to come and go from Germany as he pleased despite a travel ban, and flew in and out at the controls of his own 737.\\nIn the summer, he reportedly pardoned a former concubine he had previously jailed in Thailand and had her flown by private plane to join him in Bavaria\\nHe owns a lakeside villa in Bavaria but chooses to live at the Hotel Sonnenbichl in the Alps with a retinue that is said to include several other concubines.\\nThe truth about how Thais view their Royal Family has long been suppressed by ese-majeste laws under which saying anything negative about the king is punishable with 15 years in prison.\\nBut a growing number of pro-democracy protestors are defying those laws. The hashtag #whydoweneedaking has been trending on Twitter and demonstrators have openly called for the monarchy to be reformed.\\nThe German government's disquiet emerged in an answer to a question in parliament.\\nFrithjof Schmidt of the opposition Green party asked Mr Maas, “Why does the German government tolerate this highly unusual — and in my opinion illegal — practice of a foreign head of state conducting politics on German soil?”\"),\n",
       " Document(page_content='BERLIN (REUTERS) - Germany\\'s foreign minister has said that Thailand\\'s King Maha Vajiralongkorn should not be conducting politics from the European country, where he spends much of his time.\\nForeign Minister Heiko Maas responded to a question by a Greens member of Parliament in the Bundestag on Wednesday (Oct 7) at a time that King Vajiralongkorn\\'s monarchy faces unprecedented calls for reform from protesters in Thailand.\\n\"We have made it clear that politics concerning Thailand should not be conducted from German soil,\" Mr Maas told Parliament.\\n\"If there are guests in our country that conduct their state business from our soil, we would always want to act to counteract that.\"\\nThousands of protesters have been holding demonstrations in Bangkok over recent months calling for reform of the monarchy to curb the king\\'s powers and for the removal of Prime Minister Prayut Chan-o-cha, a former junta leader, and for a new Constitution and elections.\\nGreens parliamentarian Frithjof Schmidt also asked Mr Maas whether Germany was prepared to discuss with the European Union freezing free trade talks with Thailand again \"as long as the junta continues to block the path to democracy in Thailand\".\\nThe EU stopped contact at all levels with Thailand after a 2014 coup, but resumed trade talks after a general election last year that saw Mr Prayut reinstated as a civilian prime minister.\\nMr Maas said that halting negotiations was \"an option\" to exert pressure, but it would be right to discuss with Thailand first.\\nProtesters challenging Thailand\\'s palace and army-dominated establishment broke a longstanding taboo by demanding reform of the monarchy in August.\\nKing Vajiralongkorn, 68, has been on Thailand\\'s throne since 2016, but spends much of his time in Bavaria, where his 15-year-old son is at school.\\nThai protesters have complained about the cost of the king\\'s stays in Europe as well as his absence from the kingdom.\\nThe protesters seek to reduce the king\\'s powers under the Constitution, which specifically allows him to exercise powers when he is outside Thailand without appointing a regent.\\nProtesters also want to remove his direct control of a royal fortune valued in tens of billions of dollars and some units of the army.\\nIn the German Parliament, Greens member Schmidt asked: \"Why does the German government tolerate this extremely unusual - and in my opinion illegal - behaviour of a foreign head of state conducting politics on German soil?\"\\nProtesters in Thailand on Thursday said they would rally again next Wednesday and expected a big turnout to pressure the government to step down and press their calls for reform of the monarchy.')]"
      ]
     },
     "execution_count": 54,
     "metadata": {},
     "output_type": "execute_result"
    }
   ],
   "source": [
    "from langchain_community.retrievers import KNNRetriever\n",
    "\n",
    "ret = KNNRetriever.from_texts(\n",
    "    docs, embeddings, k=5\n",
    ")\n",
    "ret.get_relevant_documents(claim)"
   ]
  },
  {
   "cell_type": "code",
   "execution_count": null,
   "metadata": {},
   "outputs": [],
   "source": [
    "from langchain_core.example_selectors import (\n",
    "    MaxMarginalRelevanceExampleSelector,\n",
    "    SemanticSimilarityExampleSelector,\n",
    ")"
   ]
  },
  {
   "cell_type": "code",
   "execution_count": 22,
   "metadata": {},
   "outputs": [
    {
     "data": {
      "application/vnd.jupyter.widget-view+json": {
       "model_id": "06a0714ef2d1478f96bdc4002380ac97",
       "version_major": 2,
       "version_minor": 0
      },
      "text/plain": [
       "config.json:   0%|          | 0.00/968 [00:00<?, ?B/s]"
      ]
     },
     "metadata": {},
     "output_type": "display_data"
    },
    {
     "data": {
      "application/vnd.jupyter.widget-view+json": {
       "model_id": "cf197769ac464ccfa6af3ae38aac0a6c",
       "version_major": 2,
       "version_minor": 0
      },
      "text/plain": [
       "model.safetensors:   0%|          | 0.00/142M [00:00<?, ?B/s]"
      ]
     },
     "metadata": {},
     "output_type": "display_data"
    },
    {
     "data": {
      "application/vnd.jupyter.widget-view+json": {
       "model_id": "f385d06fa4df49208121110ae8764c2f",
       "version_major": 2,
       "version_minor": 0
      },
      "text/plain": [
       "tokenizer_config.json:   0%|          | 0.00/1.45k [00:00<?, ?B/s]"
      ]
     },
     "metadata": {},
     "output_type": "display_data"
    },
    {
     "data": {
      "application/vnd.jupyter.widget-view+json": {
       "model_id": "7cc88818d6a847a094617bf961a09e5b",
       "version_major": 2,
       "version_minor": 0
      },
      "text/plain": [
       "spm.model:   0%|          | 0.00/2.46M [00:00<?, ?B/s]"
      ]
     },
     "metadata": {},
     "output_type": "display_data"
    },
    {
     "data": {
      "application/vnd.jupyter.widget-view+json": {
       "model_id": "57b5efa4f7844854b513f1d6063f3d44",
       "version_major": 2,
       "version_minor": 0
      },
      "text/plain": [
       "tokenizer.json:   0%|          | 0.00/8.65M [00:00<?, ?B/s]"
      ]
     },
     "metadata": {},
     "output_type": "display_data"
    },
    {
     "data": {
      "application/vnd.jupyter.widget-view+json": {
       "model_id": "f1e3ae8d0d544555ba912e16ac7dac07",
       "version_major": 2,
       "version_minor": 0
      },
      "text/plain": [
       "added_tokens.json:   0%|          | 0.00/23.0 [00:00<?, ?B/s]"
      ]
     },
     "metadata": {},
     "output_type": "display_data"
    },
    {
     "data": {
      "application/vnd.jupyter.widget-view+json": {
       "model_id": "f665c5afcfa34c6f8d2056000b83d6aa",
       "version_major": 2,
       "version_minor": 0
      },
      "text/plain": [
       "special_tokens_map.json:   0%|          | 0.00/970 [00:00<?, ?B/s]"
      ]
     },
     "metadata": {},
     "output_type": "display_data"
    }
   ],
   "source": [
    "from sentence_transformers import CrossEncoder\n",
    "\n",
    "# Load the model, here we use our base sized model\n",
    "model = CrossEncoder(\"mixedbread-ai/mxbai-rerank-xsmall-v1\")\n",
    "\n",
    "\n",
    "# Example query and documents\n",
    "query = \"Who wrote 'To Kill a Mockingbird'?\"\n",
    "documents = [\n",
    "    \"'To Kill a Mockingbird' is a novel by Harper Lee published in 1960. It was immediately successful, winning the Pulitzer Prize, and has become a classic of modern American literature.\",\n",
    "    \"The novel 'Moby-Dick' was written by Herman Melville and first published in 1851. It is considered a masterpiece of American literature and deals with complex themes of obsession, revenge, and the conflict between good and evil.\",\n",
    "    \"Harper Lee, an American novelist widely known for her novel 'To Kill a Mockingbird', was born in 1926 in Monroeville, Alabama. She received the Pulitzer Prize for Fiction in 1961.\",\n",
    "    \"Jane Austen was an English novelist known primarily for her six major novels, which interpret, critique and comment upon the British landed gentry at the end of the 18th century.\",\n",
    "    \"The 'Harry Potter' series, which consists of seven fantasy novels written by British author J.K. Rowling, is among the most popular and critically acclaimed books of the modern era.\",\n",
    "    \"'The Great Gatsby', a novel written by American author F. Scott Fitzgerald, was published in 1925. The story is set in the Jazz Age and follows the life of millionaire Jay Gatsby and his pursuit of Daisy Buchanan.\"\n",
    "]\n",
    "\n",
    "# Lets get the scores\n",
    "results = model.rank(query, documents, return_documents=True, top_k=3)\n"
   ]
  }
 ],
 "metadata": {
  "kernelspec": {
   "display_name": "Python 3 (ipykernel)",
   "language": "python",
   "name": "python3"
  },
  "language_info": {
   "codemirror_mode": {
    "name": "ipython",
    "version": 3
   },
   "file_extension": ".py",
   "mimetype": "text/x-python",
   "name": "python",
   "nbconvert_exporter": "python",
   "pygments_lexer": "ipython3",
   "version": "3.10.4"
  }
 },
 "nbformat": 4,
 "nbformat_minor": 2
}
