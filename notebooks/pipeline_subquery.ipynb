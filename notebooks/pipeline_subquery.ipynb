{
 "cells": [
  {
   "cell_type": "markdown",
   "metadata": {},
   "source": [
    "# Pipeline "
   ]
  },
  {
   "cell_type": "code",
   "execution_count": 1,
   "metadata": {},
   "outputs": [],
   "source": [
    "%load_ext autoreload\n",
    "%autoreload 2\n",
    "\n",
    "from averitec import Datapoint\n",
    "from evidence_generation import GptEvidenceGenerator, GptBatchedEvidenceGenerator, DynamicFewShotBatchedEvidenceGenerator\n",
    "from classification import DefaultClassifier, HuggingfaceClassifier, AverageEnsembleClassifier, LogRegEnsembleClassifier\n",
    "from retrieval import SimpleFaissRetriever, Retriever, MmrFaissRetriever, SubqueryRetriever\n",
    "from pipeline import Pipeline, MockPipeline\n",
    "import pickle\n",
    "from labels import label2id, id2label\n",
    "import numpy as np\n",
    "from sklearn.metrics import classification_report\n",
    "import random\n",
    "from tqdm import tqdm\n",
    "random.seed(111)\n",
    "\n",
    "import json"
   ]
  },
  {
   "cell_type": "markdown",
   "metadata": {},
   "source": [
    "## Pipeline test"
   ]
  },
  {
   "cell_type": "code",
   "execution_count": 25,
   "metadata": {},
   "outputs": [],
   "source": [
    "split = \"test\"\n",
    "path = \"/mnt/data/factcheck/averitec-data/\"\n",
    "with open(path + f\"data/{split}.json\") as f:\n",
    "    dataset = json.load(f)\n",
    "    for i in range(len(dataset)):\n",
    "        dataset[i][\"claim_id\"] = i\n",
    "    datapoints = [Datapoint.from_dict(d) for d in dataset]\n",
    "    "
   ]
  },
  {
   "cell_type": "code",
   "execution_count": 26,
   "metadata": {},
   "outputs": [
    {
     "data": {
      "text/plain": [
       "Datapoint(claim=\"A research organisation has confirmed Philippine Vice President Leni Robredo received zero votes in the country's Mindanao island.\", claim_id=150, claim_date='11-3-2021', speaker='Showbiz Fanaticz', original_claim_url='https://www.youtube.com/watch?v=ErL5IzJkqh8&t=6s', reporting_source='Youtube', location_ISO_code='PH', label=None, metadata={})"
      ]
     },
     "execution_count": 26,
     "metadata": {},
     "output_type": "execute_result"
    }
   ],
   "source": [
    "datapoint = Datapoint.from_dict(dataset[150])\n",
    "datapoint"
   ]
  },
  {
   "cell_type": "code",
   "execution_count": 27,
   "metadata": {},
   "outputs": [
    {
     "data": {
      "text/plain": [
       "RetrievalResult(documents=[Document(metadata={'url': 'https://newsinfo.inquirer.net/1396547/the-4-year-robredo-marcos-vice-presidential-case', 'context_before': '', 'context_after': 'READ: Marcos asks SC to set aside Robredo proclamation, files protest Despite Marcos’ appeal to postpone the proclamation, Robredo still takes her oath of office and is inaugurated as vice president. READ: FULL TEXT: Vice President Leni Robredo inaugural speech In a two-page resolution, the SC summons Robredo to respond in ten days on Marcos’ election protest. The high court also asks the Commission Elections (Comelec) to preserve election returns (ERs) that are subject to protest through a Precautionary Protection Order (PPO). The Marcos camp files a three-page letter-manifestation questioning the Comelec’s decision to issue a resolution approving the stripping of the vote-counting machines (VCMs) and laptops used in the May 9 polls, despite the PPO from PET. The stripping activity involves the backup of data from the automated election system so that Comelec can return the leased equipment to the service provider, Smartmatic International. Robredo formally asks PET to dismiss the election protest filed against her by Marcos. In a 536-page response, she raised the issues raised by Marcos are not proper grounds for an election protest. READ: Robredo seeks dismissal of Marcos Jr.’s poll protest Through an urgent manifestation and motion, Marcos asks PET to “prohibit the poll body from releasing the subject VCMs” after the Comelec informed Supreme Court Chief Justice Maria Lourdes Sereno it plans to return the machines to Smartmatic-TIM. The Comelec starts returning over 1,000 VCMs to its supplier despite opposition from Marcos, whose poll protest was based partly on allegations that the election results had been manipulated with the use of VCMs. Marcos appeals to PET to furnish them with the results of the decryption of the supposedly “unused” SD (secured digital) cards found to have data during the stripping process. '}, page_content='MANIA, Philippines – On May 9, 2016, Vice President Leni Robredo edged out former Sen. Ferdinand “Bongbong” Marcos Jr. by 263,473 votes. On May 27, 2016, Robredo was declared the winner after the closing of the canvassing of 166 certificates of canvass (COCs). Based on the official count of Congress sitting as the National Board of Canvassers, she garnered a total of 14,418,817 votes. Meanwhile, Marcos finishes second with 14, 155,344 votes. This is despite early reports of Marcos gaining more votes from his known bailiwicks – the so-called “Solid North” like Ilocos Norte and Ilocos Sur. READ: Marcos overtakes Robredo as ‘Solid North’ votes canvassed Marcos is also the frontrunner during the first day of canvassing on May 10, 2016; however, his million-vote lead disappears overnight. READ: In the Know: The 2016 vice presidential election Unconvinced by the election results, Marcos, on June 11, announces that he will file an electoral protest before the Presidential Electoral Tribunal (PET) “to find out the truth.” READ: Marcos to file electoral protest ‘to find out the truth’ INQUIRER.net looks back at the key events on the electoral protest. Marcos asks the Supreme Court (SC) sitting as PET to set aside Robredo’s proclamation as vice president. He submits a 1,000-page petition that urges the PET to declare him as the Philippines’ duly elected and rightful vice president. Aside from the petition, he also presents 20,000 pages of affidavits, certificates of canvass (COCs), and other supporting documents. According to him, the votes for Robredo were “products of electoral frauds, anomalies, and irregularities.” Meanwhile, his votes “were significantly reduced, manipulated and altered” to make it appear that he placed behind Robredo in the race. Marcos challenges the results in 132,446 established polling precincts in 27 cities and provinces, covering 39,221 clustered precincts. He likewise asks to annul the election results in Basilan, Maguindanao, and Lanao del Sur, which he claims the poll fraud occurred. '), Document(metadata={'url': 'https://southeastasiaglobe.com/19809-2-leni-robredo-portrait/', 'context_before': '', 'context_after': 'Despite being a relative neophyte on the national stage, Robredo has done much local NGO work and took on cases pro bono as a lawyer, earning her respect and loyalty in Naga City. Along with her husband, she was instrumental in creating strong cooperation between local government and civil society in her hometown through the creation of a local people’s council, according to Ramon Casiple, executive director of the Quezon City-based Institute for Political and Electoral Reform. “This brought Naga from a fifth-class city to a first-class city,” explained Casiple. But Robredo’s focus will now shift to Manila, where she will be dealing with the country’s new president: the tough-talking former mayor of Davao City, Rodrigo Duterte, who ran for the PDP-Laban party and secured a commanding six-million vote margin over the Liberal Party’s Manuel Roxas. Although Duterte and Robredo are both from regions far from the capital and have experience in local politics, there is potential for clashes. “The issue of human rights might divide them. Leni Robredo had a career as a defender of human rights, and Duterte is well known for his contempt for the human rights of criminals,” said The Asia Foundation’s Steven Rood. Moreover, Robredo only beat her vice-presidential rival, Ferdinand Marcos Jr, son of former dictator Ferdinand Marcos, by a narrow margin of 260,000 votes. Duterte recently declared he is a political ally of the Marcos family, which could leave Robredo sidelined. Furthermore, she is closely linked to the outgoing president, Benigno Aquino III, and his protégé for the vice-presidency, Mar Roxas – both Liberal Party stalwarts. Robredo has said she will support Duterte “100%” but, as Thompson explained, many of her supporters are hoping Robredo will prove a moderate counterpoint during his term in office. “The vice-presidency, while treated by many as a spare-tyre position, can be a powerful and influential one,” said Go. '}, page_content='As a photo, it was never going to win any awards. A middle-aged woman stands on a nondescript Metro Manila street at night-time, her back to the camera, dressed in faded jeans and a striped top, waiting for a bus. But Leni Robredo, the woman in the picture, is now vice-president of the Philippines. After being taken and going viral on social media in early December, in the midst of the vice-presidential race, the image did much to cement the impression of a down-to-earth contender in the public’s eye. Until being elected to Congress as a member of the Liberal Party in 2013, Robredo lived most of her life in her hometown of Naga City in the Bicol region, southeast of Manila. Being a new face in politics, along with her distance from “well-entrenched” politicians, could work well for her, said Jan Robert R. Go, assistant professor in the Department of Political Science at the University of the Philippines Diliman. “She knows how people live and how life actually is, especially that national politics in the Philippines is dominated by Metro Manila interests,” Go said. But her appeal does not end there. She has some of what Mark Thompson, director of the Southeast Asia Research Centre at Hong Kong’s City University, calls “inherited charisma”. This was acquired from her late husband, popular statesman Jesse Robredo, who died in a 2012 plane crash. Many Filipinos see parallels with the late Corazon ‘Cory’ Aquino, who became president after the assassination of her husband and the overthrow of the Ferdinand Marcos dictatorship. “[In the election, Robredo] had the image of an honest female leader that distinguished her from the male Machiavellians who largely make up the Philippine political landscape,” said Thompson. And, although she has a limited track record in government that could be considered a weakness, “like Cory Aquino it was also a strength as she seemed to be unsullied by traditional politics”, Thompson added. '), Document(metadata={'url': 'https://www.aa.com.tr/en/asia-pacific/congress-proclaims-duterte-next-philippines-president/581048', 'context_before': '', 'context_after': ''}, page_content='Congress proclaims Duterte next Philippines president To become country\\'s first leader from southern Mindanao upon inauguration June 30; Leni Robredo proclaimed vice president The Philippines Congress has officially proclaimed Rodrigo Duterte as the country’s 16th president, after the outspoken mayor of southern Davao City won the May 9 election by a landslide. Both houses voted unanimously to approve the canvassing results that saw Congresswoman Leni Robredo, the running mate of administration-backed presidential candidate Mar Roxas, proclaimed vice president. Duterte, who is set to take office June 30 as the country’s first president from southern Mindanao island, did not attend the proclamation, having earlier told reporters that he would not travel to Manila until his inauguration. Duterte beat Roxas, a former interior and local government secretary under outgoing President Benigno Aquino III, by more than six million votes, according to the canvass report. Camarines Sur Congresswoman Robredo won the vice presidential race against Sen. Ferdinand \"Bongbong\" Marcos Jr. -- son of the late strongman Ferdinand Marcos -- by more than 260,000 votes -- a result that has been disputed by his camp. In Duterte\\'s 22 years as mayor of Davao City, a bustling commercial hub in Mindanao, the 71-year-old imposed bans on public smoking, and the selling of alcohol and the operation of entertainment spots past midnight. After winning the election on a crime-fighting campaign, he vowed to work toward re-imposing the death penalty and made overtures toward negotiating with insurgency movements. Duterte offered members of the Communist Party of the Philippines posts in the new government and offered to release all political prisoners if their leaders return from exile and sit down for peace negotiations. Duterte, a devout Christian, has also backed the outgoing government\\'s peace process with one-time largest Muslim rebel group the Moro Islamic Liberation Front as well as indigenous peoples’ calls for greater autonomy. '), Document(metadata={'url': 'http://businessmapper.biz/articles/using-gis-maps-to-track-analyze-the-philippines-elections', 'context_before': 'Using GIS maps to track & analyze the Philippines elections. (BM-155) Using GIS maps to track & analyze the recent Philippines elections and results The recent elections in the Philippines and the accompanying results maps on many news websites and newspapers is the perfect example of how GIS Mapping software can be used to analyze elections and results through using spatial, location based data. Through using a relatively basic color coded theme tool, you can see who the most popular presidential and vice presidential candidates were by region. You also have the ability to plot and track on the map the amount of votes for each candidate by province/region, as well as the vote share/percentage in a way that is accessible and simple for your average voter to view and understand at a glance. With the ability to see which candidates were popular with voters in a particular region, we can gather and analyze useful data and make correlations as to why a specific candidate is popular in a certain areas, and much less popular in others. With a quick look at the simple map of the Philippines presidential election results, we can easily deduct that; - Rodrigo Duterte (Key - Red) was very popular in the capital region of Metro Manila and the instant surrounding areas and provinces. He was also extremely popular and gathered the most votes in the significant areas of the Visayas - Cebu, Bohol and Leyte. Duterte was also very popular in the majority of the whole region of Mindanao, where he served as the mayor of Davao for 22 years. He is also the only candidate who had significant support from all 3 key demographic regions of the Philippines - Luzon, The Visayas and Mindanao. Duterte won the election by a landslide with nearly 16 million votes, more than 6 million votes more than the candidate who finished in second place, Mar Roxas. ', 'context_after': ''}, page_content='- Mar Roxas (Key - Yellow) had significant support and votes from key areas in The Visayas Region. However, by looking at the map he didn’t have much significant support in any other areas of the Philippines such as Mindanao, Luzon, or the Metro Manila area. - Grace Poe (Key - Blue), had significant support in Central Luzon and other areas in South Luzon. From the data on the map, it would appear she didn’t have any real significant support in the Visayas or Mindanao regions. - Jejomar Binay (Key - Orange) had significant support in the far northern region of Luzon, but doesn’t appear to have much support in any other region or areas. With a quick look at the simple map of the Philippines vice-presidential election results, we can easily deduct that; - Alan Peter Cayetano (Key Red) had significant parts of support in certain areas of the Mindanao region. This could be due to his association with Rodrigo Duterte - Being his running mate. Cayetano seems to have minimal support in any of the other areas or regions outside of Mindanao. - Francis Escuedero (Key Green) seems to have minimal support anywhere other than in small pockets of the Albay/Bicol region. - Gregorio Honasan (Key Orange) appears to have hardly any support from voters at all, with no pockets of orange to be seen anywhere on the map. - Ferdinand Marcos (Key Blue) appears to have a lot of support from most of the Luzon region including the capital city area of Metro Manila. The map shows that Marcos also seems to have a reasonable amount of support in spaced out pockets of The Visayas, and significant pockets of the Mindanao region. - Leni Robredo (Key Yellow) has a huge amount of support through nearly the whole of The Visayas Region as well as significant parts of the Mindanao Region. '), Document(metadata={'url': 'https://globalpeace.org/speaker/maria-leonor-g-robredo/', 'context_before': '', 'context_after': ''}, page_content='Maria Leonor Gerona Robredo is the Vice President of the Republic of the Philippines. Human rights lawyer Leni Robredo, emerged in the public eye with the loss of her husband, former Naga Mayor and Department of Interior and Local Government Secretary Jesse Robredo in 2012. She became the representative of the Third District of Camarines Sur in 2013 after she was persuaded to consider the political life. '), Document(metadata={'url': 'https://www.rappler.com/newsbreak/fact-check/bongbong-marcos-new-vice-president-philippines-september-2020/', 'context_before': '', 'context_after': 'This is not the first time that Rappler debunked a video posted by Showbiz Fanaticz. In September, Showbiz Fanaticz uploaded a false video that claimed that the Commission on Audit is running after Robredo after the commission supposedly reported P195 million worth of unutilized funds by the Office of the Vice President. It also falsely claimed that the SC affirmed that ABS-CBN is guilty of multiple charges. – Pauline Macaraeg/Rappler.com Keep us aware of suspicious Facebook pages, groups, accounts, websites, articles, or photos in your network by contacting us at factcheck@rappler.com. '}, page_content='Former senator Bongbong Marcos is the new vice president of the Philippines. Incumbent Vice President Leni Robredo is set to be dismissed from office. A video uploaded by YouTube channel Showbiz Fanaticz on Wednesday, September 30, made this claim. Facebook pages Hindi na BOBO ang mga Filipino ngayon, Last Island History, and 360 Defender VI reposted the same video on Facebook. The YouTube video and the posts by the 3 pages were flagged by Claim Check, Facebook’s monitoring tool, for fact checkers to verify. As of writing, the YouTube video had 407,376 views while the videos on Facebook had 43,200 combined reactions and 8,600 comments. Robredo is still the official Vice President of the Philippines as of October 7, 2020. The Manila Times article referred to as the source in the video did not say that Robredo will soon be unseated. The Manila Times article, which can be found here, was only about the news that Justice Mario Victor Leonen is “finally acting” on the electoral protest filed by Marcos in 2016. On September 29, the Supreme Court voted unanimously to move forward in the vice presidential electoral protest. The High Court, sitting as the Presidential Electoral Tribunal, also required the Commission on Elections to weigh in on the contested votes in Mindanao provinces of Lanao del Sur, Maguindanao, and Basilan. (READ: So what if the SC asked the Comelec to weigh in on the VP protest?) YouTube channel Showbiz Fanaticz wrongly titled its video, “BREAKING NEWS: ROBREDO PABABABAIN NA SA PWESTO| BONGBONG MARCOS BAGONG VICE PRESIDENT NG PILIPINAS!” (Robredo to be dismissed from office. Bongbong Marcos is the new vice president of the Philippines!) This wrong title was also carried by the Facebook pages that reposted the video. '), Document(metadata={'url': 'https://newsinfo.inquirer.net/785184/comelec-asks-marcos-present-proof-of-fraud', 'context_before': 'She said Marcos’ early lead in the unofficial quick count began to erode around 9 p.m. on Monday and that Robredo maintained her lead since 3 a.m. on Tuesday. Huang, however, could not explain how the supposed new computer “script” worked and admitted that the Marcos camp did not know how it affected the quick count not only for Vice President but also for all other positions. She said the Marcos camp wrote the Comelec earlier that day asking about the new script. In the meantime, she said, the Marcos camp would wait for the official canvassing results while it continued to call for a stop to the PPCRV quick count. Citing the automated election law, Guanzon said the PPCRV was mandated to inform the public on the conduct of elections. “Under the law, quick count is allowed. There is no prohibition,” she said. “We have to be transparent to the people about the status of the voting. If we will conceal it, then many would have doubts. They might say there’s ‘magic’ involved.” In a separate interview, Comelec Chair Andres Bautista said the poll body had yet to receive a formal request from the Marcos camp. “Maybe it’s better if they send it to Congress where the official canvassing of votes for President and Vice President will be held. Comelec only canvasses votes for senators and party-list groups,” Bautista said. He challenged anyone with a complaint about the quick count to present evidence. “We are committed to being neutral. We are committing to count the votes as they come,” he said. At a press briefing, Robredo’s new spokesperson, Georgina Hernandez, lamented what she described as an attempt by the Marcos camp to condition the minds of the public about election rigging when the senator had no evidence to substantiate his claims. “The rise of Congresswoman Leni’s rating is due to the sweat and hard work of her supporters and volunteers. To say this was just manipulation is a huge insult to their efforts,” she said. ', 'context_after': 'Comelec declared failure of elections in 11 towns in in the Visayas and Mindanao on Wednesday. In a statement on Wednesday, losing presidential candidate Miriam Defensor Santiago accused the Aquino administration of manipulation to cheat her running mate, Marcos. “I find it astounding that Marcos should have led in the vice presidential surveys for many months until the penultimate month, when suddenly the administration could jump up survey results to finally overtake him,” Santiago said. '}, page_content='Hernandez said the Marcos camp should file a complaint in the Comelec instead of airing their grievances on the media. At the briefing, the Robredo camp presented Alyson Yap, an Ateneo de Manila University teacher, who projected that Robredo would win by 226,000 votes based on an analysis of partial and unofficial election returns trickling in. “Based on my math, Congresswoman Leni would win by 226,000,” said Yap, a full-time faculty member of Ateneo’s Quantitative Methods and Information Technology Department. Election watchdogs said it was possible that the rankings in the vice presidential race could change when more ballots came in. Some 1.6 million votes nationwide and abroad have not been transmitted and counted two days after the May 9 elections, according to the PPCRV. Based on PPCRV’s independent tally, a large chunk of the votes yet to be transmitted will come from overseas voting, which registered a turnout of 425,402. Singson noted that countries like United Arab Emirates with 24,137 votes and Saudi Arabia with 46,905 votes still had zero transmission. She said Marcos’ request to set up an IT team to monitor the PPCRV independent count had been granted. Singson said local votes that had yet to transmit mostly come from conflict-affected provinces of Mindanao. Votes that have yet to be transmitted and counted are from Lanao del Sur with 138,884 votes; Surigao del Sur with 122,044 votes; and Maguindanao with 112,492 votes. Singson said Sulu with 97,163 votes and Sultan Kudarat’s 68,776 votes had yet to be transmitted and counted. The Comelec will hold special elections on Saturday in conflict-affected areas in Mindanao and other provinces where the elections body declared a failure of elections. Singson said the Comelec declared a failure of elections in three barangays in Lanao de Sur, several barangays in Sulu and Northern Samar as well as in the municipalities of Tagum Espino, Matuguinao and Lopez de Vega in Western Samar. '), Document(metadata={'url': 'https://web.archive.org/web/20210518133427/https://newsinfo.inquirer.net/784958/mindanao-votes-boosted-robredo-in-ranking-partial-count-shows', 'context_before': '', 'context_after': ''}, page_content='Mindanao votes boosted Robredo in ranking, partial count shows DAVAO CITY – The presidential race is over, with Rodrigo Duterte winning the quick count by a landslide. His running mate, Allan Peter Cayetano, has given up the fight. But the fight continues for Leni Robredo and Ferdinand Marcos Jr. Robredo’s number spiked when the Mindanao votes started to come in. She got a greater number of votes from the Autonomous Region in Muslim Mindanao (ARMM) at 408,397 compared to the 249,963 that Marcos garnered, based on the partial, unofficial 72.35 percent processed election returns. Both ARMM gubernatorial candidates– reelectionist Mujiv Hataman and Sulu vice governor Abdusakur Tan –belong to the pro-administration Liberal Party. They may have failed to deliver votes for the party’s standard bearer Mar Roxas as Duterte won by a wide margin in the region, but Robredo benefited from the LP machinery. Some analysts say Marcos had a dismal showing in the ARMM because of his family name. His namesake and father was the dictator blamed for starting the war in the region in the 1970s. It was during President Marcos’ administration that the Moro National Liberation Front was founded. It was also during this era that Muslims fell victims to human rights violations perpetrated by state security forces. The people’s experience under Martial Law may have also boosted Robredo’s numbers in the Caraga Region, where she got more than 120,000 votes against the dictator’s son, and in Northern Mindanao, where she garnered 680,148 votes, compared to Marcos’ 427,116. But in Central Mindanao, Marcos edged Robredo with at least 80,000 votes. It is only in Southern Mindanao where Cayetano became the frontrunner– garnering more than a million votes, more than half of Marcos’ 461,386 and Robredo’s 230,468 (94.74 percent partial, unofficial). Southern Mindanao is considered to be Duterte’s bailiwick. Even with Marcos getting more votes in Central and Southern Mindanao, these were not enough to overtake Robredo’s numbers. '), Document(metadata={'url': 'https://freedomhouse.org/country/philippines/freedom-world/2017', 'context_before': 'Governing infrastructure is well developed in the Philippines, but the rule of law and application of justice are haphazard and heavily favor ruling dynastic elites. Long-term violent insurgencies have continued for decades. Impunity remains the norm for crimes against activists and journalists, and newly elected president Rodrigo Duterte’s war on drugs has led to a surge in extrajudicial killings and vigilante justice. - Newly elected president Rodrigo Duterte’s war on drugs saw the extrajudicial killing of more than 6,000 people in both police operations and at the hands of vigilantes. - Duterte’s threats against journalists and civil society activists exacerbated their already dangerous operating atmosphere. - In February, the Philippine Congress quashed the Bangsamoro Basic Law (BBL), under which a new self-governing region, Bangsamoro, would replace and add territory to the current Autonomous Region in Muslim Mindanao (ARMM). The BBL was the next critical step outlined in a landmark 2014 peace treaty between the previous administration of President Benigno Aquino and the Moro Islamic Liberation Front (MILF), the country’s largest rebel group. - In July, Duterte issued an order establishing the country’s first freedom of information directive, though it only applied to the executive branch. Rodrigo Duterte was elected president in May 2016 after running on a law and order campaign. His ensuing war on drugs saw the extrajudicial killing of more than 6,000 people in both police operations and vigilante justice, which Duterte appeared to encourage. During the year Duterte also publicly threatened journalists and civil society activists, exacerbating an already dangerous environment. Three journalists were killed in 2016, according to the Committee to Protect Journalists (CPJ), though the motives for their murders was unclear. An environmental activist and two labor leaders were also killed during the year. ', 'context_after': 'Several other candidates also competed for both offices. In the bicameral Congress, the 24 members of the Senate are elected on a nationwide ballot and serve six-year terms, with half of the seats up for election every three years. The 297 members of the House of Representatives serve three-year terms, with 238 elected in single-member constituencies and the remainder elected through party-list voting. In the 2016 congressional elections, no single party won an outright majority in either house, but President Duterte’s PDP-Laban Party secured unprecedented majority alliances in both chambers. While open and competitive, elections in the Philippines are typically marred by fraud, intimidation, and political violence. The 2016 national elections were credible, and while they were marked by dozens of incidents of election-related violence, including a number of killings, there were fewer such incidents compared to previous election years. Other persistent problems included media bias, which tends to favor wealthier candidates, and vote buying, offers for which affected nearly 20 percent of voters in 2016, according to one survey. The president appoints the Commission on Elections (Comelec). Although discredited in past scandals, Comelec’s performance was generally praised in 2016. Approximately 1.3 million overseas voters were registered for the 2016 elections compared to 700,000 for the 2013 midterm elections; registration requirements for overseas voters had been eased in 2013. Appointments or promotions in government offices are banned in the period surrounding elections. The Philippines has a strong record of open competition among multiple parties, though candidates and political parties typically have weak ideological identities. Legislative coalitions are exceptionally fluid, and members of Congress often change party affiliation. '}, page_content='In December, Vice President Leni Robredo resigned as chairperson of the Housing and Urban Development Coordinating Council, a cabinet position, citing “major differences in principles and values” with Duterte. Robredo, who had voiced opposition to the drug war and other policy initiatives, stayed on as vice president. In February, the Philippine Congress quashed the Bangsamoro Basic Law, under which a new self-governing region, Bangsamoro, would replace and add territory to the current Autonomous Region in Muslim Mindanao. The BBL was the next critical step outlined in a landmark 2014 peace treaty between the previous Aquino administration and the Moro Islamic Liberation Front (MILF), the country’s largest rebel group. The lack of an agreement, which could have ended more than 40 years of separatist violence among Moros, as the region’s Muslim population is known, means that peace remained elusive even as the newly elected president’s peace team talked of creating a more inclusive replacement agreement in 2017. In July 2016, the president issued an order establishing the country’s first freedom of information directive, though it applied solely to the executive branch. Separately, in an effort to address longstanding concerns about media freedom and the safety of journalists, in October Duterte issued an order creating the Presidential Task Force on Violations of the Right to Life, Liberty, and Security of the Members of the Media. However, it had yet to open a major investigation by year’s end. The Philippines’ directly elected president is limited to a single six-year term. The vice president is directly elected on a separate ticket and may serve up to two successive six-year terms. Rodrigo Duterte won the May 2016 presidential election with 39 percent of the vote, followed by Manuel Roxas II with 23 percent. Maria Leonor “Leni” Robredo won the closely contested vice presidency with 35 percent of the vote, followed by Ferdinand Marcos Jr. with 35 percent. '), Document(metadata={'url': 'https://www.philstar.com/headlines/2018/10/25/1863045/benigno-aquino-iii-leni-robredo-endorse-opposition-senate-12', 'context_before': '', 'context_after': '“In spite of the hardship they face in being part of the opposition now, they still choose to stand firm and continue the fight. Many are saying that the opposition is silent but it is very much alive,” she said. For his part, former president Aquino called on voters to look not on the popularity but the good and clean track record of the opposition candidates. “We’re showing eight individuals whom we can be proud of, who have dreams for our country,” he said. Hilbay, who served as solicitor general under the previous administration, led the Philippines’ case against China before the Permanent Court of Arbitration in The Hague over disputed territories in the West Philippine Sea. As a human rights lawyer, Diokno vowed to improve the present justice system. Diokno chairs the Free Legal Assistance Group and is the founding dean of the De La Salle University College of Law. Macalintal, a veteran election lawyer, vowed to strengthen the government’s support and benefits given to senior citizens. '}, page_content='Benigno Aquino III, Leni Robredo endorse opposition Senate 12 MANILA, Philippines — Betting on their good and clean track record, Vice President Leni Robredo yesterday expressed confidence in the victory of candidates of the opposition coalition in the May 2019 senatorial elections. Robredo, who chairs the Liberal Party, led the presentation of the Oposisyon Koalisyon (OK) slate in Barangay Parang, Marikina City. The opposition candidates include former senator Mar Roxas, former Quezon congressman Erin Tañada, Maranao advocate Samira Gutoc-Tomawis, Magdalo Rep. Gary Alejano, human rights lawyer Jose Manuel “Chel” Diokno, election lawyer Romulo Macalintal, incumbent Sen. Paolo Benigno “Bam” Aquino IV and former solicitor general Florin Hilbay. Of the eight candidates, only Aquino, Tañada and Roxas belong to LP. Roxas was not able to attend the event because he is abroad, according to Aquino. “The eight candidates whom we will field come from different backgrounds but their capabilities are beyond question,” the Vice President said in a speech delivered in Filipino. Robredo admitted that these candidates are not as popular as some others, but she believes they will win as long as the public would unite for them, relating her own experience in the 2016 national election. “Many are saying that this will be a tough fight for them. But I think I’m the best example. Many have said that I didn’t have the chance (to win the vice presidency). But because the people united for me, the one percent to vice president became possible,” she said, referring to her initial ratings in surveys prior to the May 2016 polls. Apart from Robredo, former president Benigno Aquino III, Sen. Antonio Trillanes IV, Sen. Risa Hontiveros, Albay Rep. Edcel Lagman and Marikina Rep. Miro Quimbo also attended the event. Robredo said the opposition remains “very alive” despite being supposedly threatened by the present administration. ')], metadata=None)"
      ]
     },
     "execution_count": 27,
     "metadata": {},
     "output_type": "execute_result"
    }
   ],
   "source": [
    "# retriever = SimpleFaissRetriever(path=\"/mnt/data/factcheck/averitec-data/data_store/vecstore/dev/6k\")\n",
    "retriever = MmrFaissRetriever(path=f\"/mnt/data/factcheck/averitec-data/data_store/vecstore/{split}/2k\")\n",
    "retrieval_result = retriever(datapoint)\n",
    "retrieval_result"
   ]
  },
  {
   "cell_type": "code",
   "execution_count": 28,
   "metadata": {},
   "outputs": [
    {
     "data": {
      "text/plain": [
       "('South African hospital found that traces of the novel coronavirus had survived on the surface of fresh food items for 12 hours during lab tests.',\n",
       " '3-12-2021',\n",
       " None)"
      ]
     },
     "execution_count": 28,
     "metadata": {},
     "output_type": "execute_result"
    }
   ],
   "source": [
    "datapoint = Datapoint.from_dict(dataset[2])\n",
    "datapoint.claim, datapoint.claim_date, datapoint.speaker"
   ]
  },
  {
   "cell_type": "code",
   "execution_count": 29,
   "metadata": {},
   "outputs": [
    {
     "data": {
      "text/plain": [
       "'{\"question\": \"South African hospital found that traces of the novel coronavirus had survived on the surface of fresh food items for 12 hours during lab tests.\", \"context\": null}'"
      ]
     },
     "execution_count": 29,
     "metadata": {},
     "output_type": "execute_result"
    }
   ],
   "source": [
    "json.dumps({\"question\": datapoint.claim, \"context\": datapoint.speaker})"
   ]
  },
  {
   "cell_type": "code",
   "execution_count": 30,
   "metadata": {},
   "outputs": [
    {
     "name": "stderr",
     "output_type": "stream",
     "text": [
      "100%|██████████| 2215/2215 [02:25<00:00, 15.27it/s]\n"
     ]
    }
   ],
   "source": [
    "from classification import DefaultClassifier, HuggingfaceClassifier, AverageEnsembleClassifier, LogRegEnsembleClassifier, RandomForestClassifier\n",
    "\n",
    "path = \"/mnt/data/factcheck/averitec-data/\"\n",
    "target = path + \"data_store/vecstore/test/2k\"\n",
    "PIPELINE_NAME = \"mmr+gpt4o-dfewshot-tiebrk-atype\"\n",
    "classifier = DefaultClassifier()\n",
    "pipeline = Pipeline(\n",
    "    #dumps = \"/mnt/data/factcheck/averitec-data/data_store/submissions/dev_mmr+gpt4o-dfewshot.pkl\",\n",
    "    #SubqueryRetriever(retriever),\n",
    "    retriever,\n",
    "    evidence_generator=DynamicFewShotBatchedEvidenceGenerator(), \n",
    "    classifier=classifier\n",
    ")\n",
    "\n",
    "submission = []\n",
    "dump = []\n",
    "\n",
    "for dp in tqdm(datapoints):\n",
    "    pipeline_result = pipeline(dp)\n",
    "    submission.append(pipeline_result.to_submission())\n",
    "    dump.append(pipeline_result)\n",
    "with open(f\"/mnt/data/factcheck/averitec-data/data_store/submissions/{split}_{PIPELINE_NAME}.json\", \"w\") as f:\n",
    "    json.dump(submission, f, indent=4)\n",
    "with open(f\"/mnt/data/factcheck/averitec-data/data_store/submissions/{split}_{PIPELINE_NAME}.pkl\", \"wb\") as f:\n",
    "    pickle.dump(dump, f)"
   ]
  },
  {
   "cell_type": "code",
   "execution_count": 32,
   "metadata": {},
   "outputs": [],
   "source": [
    "files = pipeline.evidence_generator.get_batch_files(path=f\"/mnt/data/factcheck/averitec-data/data_store/batch_jobs/{split}_{PIPELINE_NAME}\", batch_size=90)"
   ]
  },
  {
   "cell_type": "code",
   "execution_count": 33,
   "metadata": {},
   "outputs": [
    {
     "data": {
      "text/plain": [
       "['/mnt/data/factcheck/averitec-data/data_store/batch_jobs/test_mmr+gpt4o-dfewshot-tiebrk-atype/batch_1.jsonl',\n",
       " '/mnt/data/factcheck/averitec-data/data_store/batch_jobs/test_mmr+gpt4o-dfewshot-tiebrk-atype/batch_2.jsonl',\n",
       " '/mnt/data/factcheck/averitec-data/data_store/batch_jobs/test_mmr+gpt4o-dfewshot-tiebrk-atype/batch_3.jsonl',\n",
       " '/mnt/data/factcheck/averitec-data/data_store/batch_jobs/test_mmr+gpt4o-dfewshot-tiebrk-atype/batch_4.jsonl',\n",
       " '/mnt/data/factcheck/averitec-data/data_store/batch_jobs/test_mmr+gpt4o-dfewshot-tiebrk-atype/batch_5.jsonl',\n",
       " '/mnt/data/factcheck/averitec-data/data_store/batch_jobs/test_mmr+gpt4o-dfewshot-tiebrk-atype/batch_6.jsonl',\n",
       " '/mnt/data/factcheck/averitec-data/data_store/batch_jobs/test_mmr+gpt4o-dfewshot-tiebrk-atype/batch_7.jsonl',\n",
       " '/mnt/data/factcheck/averitec-data/data_store/batch_jobs/test_mmr+gpt4o-dfewshot-tiebrk-atype/batch_8.jsonl',\n",
       " '/mnt/data/factcheck/averitec-data/data_store/batch_jobs/test_mmr+gpt4o-dfewshot-tiebrk-atype/batch_9.jsonl',\n",
       " '/mnt/data/factcheck/averitec-data/data_store/batch_jobs/test_mmr+gpt4o-dfewshot-tiebrk-atype/batch_10.jsonl',\n",
       " '/mnt/data/factcheck/averitec-data/data_store/batch_jobs/test_mmr+gpt4o-dfewshot-tiebrk-atype/batch_11.jsonl',\n",
       " '/mnt/data/factcheck/averitec-data/data_store/batch_jobs/test_mmr+gpt4o-dfewshot-tiebrk-atype/batch_12.jsonl',\n",
       " '/mnt/data/factcheck/averitec-data/data_store/batch_jobs/test_mmr+gpt4o-dfewshot-tiebrk-atype/batch_13.jsonl',\n",
       " '/mnt/data/factcheck/averitec-data/data_store/batch_jobs/test_mmr+gpt4o-dfewshot-tiebrk-atype/batch_14.jsonl',\n",
       " '/mnt/data/factcheck/averitec-data/data_store/batch_jobs/test_mmr+gpt4o-dfewshot-tiebrk-atype/batch_15.jsonl',\n",
       " '/mnt/data/factcheck/averitec-data/data_store/batch_jobs/test_mmr+gpt4o-dfewshot-tiebrk-atype/batch_16.jsonl',\n",
       " '/mnt/data/factcheck/averitec-data/data_store/batch_jobs/test_mmr+gpt4o-dfewshot-tiebrk-atype/batch_17.jsonl',\n",
       " '/mnt/data/factcheck/averitec-data/data_store/batch_jobs/test_mmr+gpt4o-dfewshot-tiebrk-atype/batch_18.jsonl',\n",
       " '/mnt/data/factcheck/averitec-data/data_store/batch_jobs/test_mmr+gpt4o-dfewshot-tiebrk-atype/batch_19.jsonl',\n",
       " '/mnt/data/factcheck/averitec-data/data_store/batch_jobs/test_mmr+gpt4o-dfewshot-tiebrk-atype/batch_20.jsonl',\n",
       " '/mnt/data/factcheck/averitec-data/data_store/batch_jobs/test_mmr+gpt4o-dfewshot-tiebrk-atype/batch_21.jsonl',\n",
       " '/mnt/data/factcheck/averitec-data/data_store/batch_jobs/test_mmr+gpt4o-dfewshot-tiebrk-atype/batch_22.jsonl',\n",
       " '/mnt/data/factcheck/averitec-data/data_store/batch_jobs/test_mmr+gpt4o-dfewshot-tiebrk-atype/batch_23.jsonl',\n",
       " '/mnt/data/factcheck/averitec-data/data_store/batch_jobs/test_mmr+gpt4o-dfewshot-tiebrk-atype/batch_24.jsonl',\n",
       " '/mnt/data/factcheck/averitec-data/data_store/batch_jobs/test_mmr+gpt4o-dfewshot-tiebrk-atype/batch_25.jsonl']"
      ]
     },
     "execution_count": 33,
     "metadata": {},
     "output_type": "execute_result"
    }
   ],
   "source": [
    "files"
   ]
  },
  {
   "cell_type": "code",
   "execution_count": 34,
   "metadata": {},
   "outputs": [
    {
     "name": "stderr",
     "output_type": "stream",
     "text": [
      "  0%|          | 0/25 [00:00<?, ?it/s]"
     ]
    },
    {
     "name": "stdout",
     "output_type": "stream",
     "text": [
      "Batch(id='batch_b71LCLk3tzgAAta78Nh7WRbF', completion_window='24h', created_at=1722202477, endpoint='/v1/chat/completions', input_file_id='file-EuxPiUbVE6m9dtLLQ6cQ9PlC', object='batch', status='validating', cancelled_at=None, cancelling_at=None, completed_at=None, error_file_id=None, errors=None, expired_at=None, expires_at=1722288877, failed_at=None, finalizing_at=None, in_progress_at=None, metadata={'description': 'dev-set job, batch 1'}, output_file_id=None, request_counts=BatchRequestCounts(completed=0, failed=0, total=0))\n",
      "waiting for batch to complete BatchRequestCounts(completed=0, failed=0, total=0) batch_b71LCLk3tzgAAta78Nh7WRbF\n",
      "waiting for batch to complete BatchRequestCounts(completed=0, failed=0, total=90) batch_b71LCLk3tzgAAta78Nh7WRbF\n",
      "waiting for batch to complete BatchRequestCounts(completed=1, failed=0, total=90) batch_b71LCLk3tzgAAta78Nh7WRbF\n",
      "waiting for batch to complete BatchRequestCounts(completed=7, failed=0, total=90) batch_b71LCLk3tzgAAta78Nh7WRbF\n",
      "waiting for batch to complete BatchRequestCounts(completed=10, failed=0, total=90) batch_b71LCLk3tzgAAta78Nh7WRbF\n",
      "waiting for batch to complete BatchRequestCounts(completed=15, failed=0, total=90) batch_b71LCLk3tzgAAta78Nh7WRbF\n",
      "waiting for batch to complete BatchRequestCounts(completed=15, failed=0, total=90) batch_b71LCLk3tzgAAta78Nh7WRbF\n",
      "waiting for batch to complete BatchRequestCounts(completed=15, failed=0, total=90) batch_b71LCLk3tzgAAta78Nh7WRbF\n",
      "waiting for batch to complete BatchRequestCounts(completed=15, failed=0, total=90) batch_b71LCLk3tzgAAta78Nh7WRbF\n",
      "waiting for batch to complete BatchRequestCounts(completed=23, failed=0, total=90) batch_b71LCLk3tzgAAta78Nh7WRbF\n",
      "waiting for batch to complete BatchRequestCounts(completed=23, failed=0, total=90) batch_b71LCLk3tzgAAta78Nh7WRbF\n",
      "waiting for batch to complete BatchRequestCounts(completed=23, failed=0, total=90) batch_b71LCLk3tzgAAta78Nh7WRbF\n",
      "waiting for batch to complete BatchRequestCounts(completed=23, failed=0, total=90) batch_b71LCLk3tzgAAta78Nh7WRbF\n",
      "waiting for batch to complete BatchRequestCounts(completed=23, failed=0, total=90) batch_b71LCLk3tzgAAta78Nh7WRbF\n",
      "waiting for batch to complete BatchRequestCounts(completed=23, failed=0, total=90) batch_b71LCLk3tzgAAta78Nh7WRbF\n",
      "waiting for batch to complete BatchRequestCounts(completed=23, failed=0, total=90) batch_b71LCLk3tzgAAta78Nh7WRbF\n",
      "waiting for batch to complete BatchRequestCounts(completed=23, failed=0, total=90) batch_b71LCLk3tzgAAta78Nh7WRbF\n",
      "waiting for batch to complete BatchRequestCounts(completed=23, failed=0, total=90) batch_b71LCLk3tzgAAta78Nh7WRbF\n",
      "waiting for batch to complete BatchRequestCounts(completed=44, failed=0, total=90) batch_b71LCLk3tzgAAta78Nh7WRbF\n",
      "waiting for batch to complete BatchRequestCounts(completed=44, failed=0, total=90) batch_b71LCLk3tzgAAta78Nh7WRbF\n",
      "waiting for batch to complete BatchRequestCounts(completed=44, failed=0, total=90) batch_b71LCLk3tzgAAta78Nh7WRbF\n",
      "waiting for batch to complete BatchRequestCounts(completed=44, failed=0, total=90) batch_b71LCLk3tzgAAta78Nh7WRbF\n",
      "waiting for batch to complete BatchRequestCounts(completed=44, failed=0, total=90) batch_b71LCLk3tzgAAta78Nh7WRbF\n",
      "waiting for batch to complete BatchRequestCounts(completed=44, failed=0, total=90) batch_b71LCLk3tzgAAta78Nh7WRbF\n",
      "waiting for batch to complete BatchRequestCounts(completed=44, failed=0, total=90) batch_b71LCLk3tzgAAta78Nh7WRbF\n",
      "waiting for batch to complete BatchRequestCounts(completed=44, failed=0, total=90) batch_b71LCLk3tzgAAta78Nh7WRbF\n",
      "waiting for batch to complete BatchRequestCounts(completed=44, failed=0, total=90) batch_b71LCLk3tzgAAta78Nh7WRbF\n",
      "waiting for batch to complete BatchRequestCounts(completed=44, failed=0, total=90) batch_b71LCLk3tzgAAta78Nh7WRbF\n",
      "waiting for batch to complete BatchRequestCounts(completed=44, failed=0, total=90) batch_b71LCLk3tzgAAta78Nh7WRbF\n",
      "waiting for batch to complete BatchRequestCounts(completed=44, failed=0, total=90) batch_b71LCLk3tzgAAta78Nh7WRbF\n",
      "waiting for batch to complete BatchRequestCounts(completed=44, failed=0, total=90) batch_b71LCLk3tzgAAta78Nh7WRbF\n",
      "waiting for batch to complete BatchRequestCounts(completed=44, failed=0, total=90) batch_b71LCLk3tzgAAta78Nh7WRbF\n",
      "waiting for batch to complete BatchRequestCounts(completed=44, failed=0, total=90) batch_b71LCLk3tzgAAta78Nh7WRbF\n",
      "waiting for batch to complete BatchRequestCounts(completed=44, failed=0, total=90) batch_b71LCLk3tzgAAta78Nh7WRbF\n",
      "waiting for batch to complete BatchRequestCounts(completed=44, failed=0, total=90) batch_b71LCLk3tzgAAta78Nh7WRbF\n",
      "waiting for batch to complete BatchRequestCounts(completed=44, failed=0, total=90) batch_b71LCLk3tzgAAta78Nh7WRbF\n",
      "waiting for batch to complete BatchRequestCounts(completed=44, failed=0, total=90) batch_b71LCLk3tzgAAta78Nh7WRbF\n",
      "waiting for batch to complete BatchRequestCounts(completed=44, failed=0, total=90) batch_b71LCLk3tzgAAta78Nh7WRbF\n",
      "waiting for batch to complete BatchRequestCounts(completed=44, failed=0, total=90) batch_b71LCLk3tzgAAta78Nh7WRbF\n",
      "waiting for batch to complete BatchRequestCounts(completed=44, failed=0, total=90) batch_b71LCLk3tzgAAta78Nh7WRbF\n",
      "waiting for batch to complete BatchRequestCounts(completed=44, failed=0, total=90) batch_b71LCLk3tzgAAta78Nh7WRbF\n",
      "waiting for batch to complete BatchRequestCounts(completed=44, failed=0, total=90) batch_b71LCLk3tzgAAta78Nh7WRbF\n",
      "waiting for batch to complete BatchRequestCounts(completed=90, failed=0, total=90) batch_b71LCLk3tzgAAta78Nh7WRbF\n",
      "batch 1 completed\n"
     ]
    },
    {
     "name": "stderr",
     "output_type": "stream",
     "text": [
      "  4%|▍         | 1/25 [07:23<2:57:32, 443.85s/it]"
     ]
    },
    {
     "name": "stdout",
     "output_type": "stream",
     "text": [
      "Batch(id='batch_T99qudNnmff3vpynk4iBkiBo', completion_window='24h', created_at=1722202921, endpoint='/v1/chat/completions', input_file_id='file-eXaqjVCmr6DH0HQbE1OSj0RK', object='batch', status='validating', cancelled_at=None, cancelling_at=None, completed_at=None, error_file_id=None, errors=None, expired_at=None, expires_at=1722289321, failed_at=None, finalizing_at=None, in_progress_at=None, metadata={'description': 'dev-set job, batch 2'}, output_file_id=None, request_counts=BatchRequestCounts(completed=0, failed=0, total=0))\n",
      "waiting for batch to complete BatchRequestCounts(completed=0, failed=0, total=0) batch_T99qudNnmff3vpynk4iBkiBo\n",
      "waiting for batch to complete BatchRequestCounts(completed=13, failed=0, total=90) batch_T99qudNnmff3vpynk4iBkiBo\n",
      "waiting for batch to complete BatchRequestCounts(completed=89, failed=0, total=90) batch_T99qudNnmff3vpynk4iBkiBo\n",
      "waiting for batch to complete BatchRequestCounts(completed=89, failed=0, total=90) batch_T99qudNnmff3vpynk4iBkiBo\n",
      "waiting for batch to complete BatchRequestCounts(completed=89, failed=0, total=90) batch_T99qudNnmff3vpynk4iBkiBo\n",
      "waiting for batch to complete BatchRequestCounts(completed=89, failed=0, total=90) batch_T99qudNnmff3vpynk4iBkiBo\n",
      "waiting for batch to complete BatchRequestCounts(completed=89, failed=0, total=90) batch_T99qudNnmff3vpynk4iBkiBo\n",
      "waiting for batch to complete BatchRequestCounts(completed=90, failed=0, total=90) batch_T99qudNnmff3vpynk4iBkiBo\n",
      "batch 2 completed\n"
     ]
    },
    {
     "name": "stderr",
     "output_type": "stream",
     "text": [
      "  8%|▊         | 2/25 [08:48<1:29:13, 232.77s/it]"
     ]
    },
    {
     "name": "stdout",
     "output_type": "stream",
     "text": [
      "Batch(id='batch_fs8JDMzi9LKoV2MTTLCPqwJz', completion_window='24h', created_at=1722203006, endpoint='/v1/chat/completions', input_file_id='file-C5sxyxa3gKSjciwq3VQo5V29', object='batch', status='validating', cancelled_at=None, cancelling_at=None, completed_at=None, error_file_id=None, errors=None, expired_at=None, expires_at=1722289406, failed_at=None, finalizing_at=None, in_progress_at=None, metadata={'description': 'dev-set job, batch 3'}, output_file_id=None, request_counts=BatchRequestCounts(completed=0, failed=0, total=0))\n",
      "waiting for batch to complete BatchRequestCounts(completed=0, failed=0, total=0) batch_fs8JDMzi9LKoV2MTTLCPqwJz\n",
      "waiting for batch to complete BatchRequestCounts(completed=7, failed=0, total=90) batch_fs8JDMzi9LKoV2MTTLCPqwJz\n",
      "waiting for batch to complete BatchRequestCounts(completed=90, failed=0, total=90) batch_fs8JDMzi9LKoV2MTTLCPqwJz\n",
      "batch 3 completed\n"
     ]
    },
    {
     "name": "stderr",
     "output_type": "stream",
     "text": [
      " 12%|█▏        | 3/25 [09:22<52:02, 141.95s/it]  "
     ]
    },
    {
     "name": "stdout",
     "output_type": "stream",
     "text": [
      "Batch(id='batch_tW75oHDYC8m2IRqX9mgqdfoY', completion_window='24h', created_at=1722203040, endpoint='/v1/chat/completions', input_file_id='file-XfTu5kydNbVbeDjyHgM3Hbvb', object='batch', status='validating', cancelled_at=None, cancelling_at=None, completed_at=None, error_file_id=None, errors=None, expired_at=None, expires_at=1722289440, failed_at=None, finalizing_at=None, in_progress_at=None, metadata={'description': 'dev-set job, batch 4'}, output_file_id=None, request_counts=BatchRequestCounts(completed=0, failed=0, total=0))\n",
      "waiting for batch to complete BatchRequestCounts(completed=0, failed=0, total=0) batch_tW75oHDYC8m2IRqX9mgqdfoY\n",
      "waiting for batch to complete BatchRequestCounts(completed=14, failed=0, total=90) batch_tW75oHDYC8m2IRqX9mgqdfoY\n",
      "waiting for batch to complete BatchRequestCounts(completed=89, failed=0, total=90) batch_tW75oHDYC8m2IRqX9mgqdfoY\n",
      "batch 4 completed\n"
     ]
    },
    {
     "name": "stderr",
     "output_type": "stream",
     "text": [
      " 16%|█▌        | 4/25 [09:56<34:45, 99.33s/it] "
     ]
    },
    {
     "name": "stdout",
     "output_type": "stream",
     "text": [
      "Batch(id='batch_MPiMAadnGyyqqylhUfm4tQlS', completion_window='24h', created_at=1722203074, endpoint='/v1/chat/completions', input_file_id='file-q4iI6bVyz7suG0BRENbSUKSB', object='batch', status='validating', cancelled_at=None, cancelling_at=None, completed_at=None, error_file_id=None, errors=None, expired_at=None, expires_at=1722289474, failed_at=None, finalizing_at=None, in_progress_at=None, metadata={'description': 'dev-set job, batch 5'}, output_file_id=None, request_counts=BatchRequestCounts(completed=0, failed=0, total=0))\n",
      "waiting for batch to complete BatchRequestCounts(completed=0, failed=0, total=0) batch_MPiMAadnGyyqqylhUfm4tQlS\n",
      "waiting for batch to complete BatchRequestCounts(completed=9, failed=0, total=90) batch_MPiMAadnGyyqqylhUfm4tQlS\n",
      "waiting for batch to complete BatchRequestCounts(completed=88, failed=0, total=90) batch_MPiMAadnGyyqqylhUfm4tQlS\n",
      "waiting for batch to complete BatchRequestCounts(completed=89, failed=0, total=90) batch_MPiMAadnGyyqqylhUfm4tQlS\n",
      "waiting for batch to complete BatchRequestCounts(completed=89, failed=0, total=90) batch_MPiMAadnGyyqqylhUfm4tQlS\n",
      "waiting for batch to complete BatchRequestCounts(completed=89, failed=0, total=90) batch_MPiMAadnGyyqqylhUfm4tQlS\n",
      "waiting for batch to complete BatchRequestCounts(completed=89, failed=0, total=90) batch_MPiMAadnGyyqqylhUfm4tQlS\n",
      "waiting for batch to complete BatchRequestCounts(completed=90, failed=0, total=90) batch_MPiMAadnGyyqqylhUfm4tQlS\n",
      "batch 5 completed\n"
     ]
    },
    {
     "name": "stderr",
     "output_type": "stream",
     "text": [
      " 20%|██        | 5/25 [11:21<31:24, 94.24s/it]"
     ]
    },
    {
     "name": "stdout",
     "output_type": "stream",
     "text": [
      "Batch(id='batch_821MUkzWS0mdATtr5ZehbXbw', completion_window='24h', created_at=1722203159, endpoint='/v1/chat/completions', input_file_id='file-qZs7snTXwqga0IKNQcGBCpao', object='batch', status='validating', cancelled_at=None, cancelling_at=None, completed_at=None, error_file_id=None, errors=None, expired_at=None, expires_at=1722289559, failed_at=None, finalizing_at=None, in_progress_at=None, metadata={'description': 'dev-set job, batch 6'}, output_file_id=None, request_counts=BatchRequestCounts(completed=0, failed=0, total=0))\n",
      "waiting for batch to complete BatchRequestCounts(completed=0, failed=0, total=0) batch_821MUkzWS0mdATtr5ZehbXbw\n",
      "waiting for batch to complete BatchRequestCounts(completed=0, failed=0, total=90) batch_821MUkzWS0mdATtr5ZehbXbw\n",
      "waiting for batch to complete BatchRequestCounts(completed=0, failed=0, total=90) batch_821MUkzWS0mdATtr5ZehbXbw\n",
      "waiting for batch to complete BatchRequestCounts(completed=79, failed=0, total=90) batch_821MUkzWS0mdATtr5ZehbXbw\n",
      "batch 6 completed\n"
     ]
    },
    {
     "name": "stderr",
     "output_type": "stream",
     "text": [
      " 24%|██▍       | 6/25 [12:06<24:28, 77.29s/it]"
     ]
    },
    {
     "name": "stdout",
     "output_type": "stream",
     "text": [
      "Batch(id='batch_eTA3cTlDTZMlHLYOWnKx095J', completion_window='24h', created_at=1722203203, endpoint='/v1/chat/completions', input_file_id='file-jzYsw3x8H0o2rur24w75fveD', object='batch', status='validating', cancelled_at=None, cancelling_at=None, completed_at=None, error_file_id=None, errors=None, expired_at=None, expires_at=1722289603, failed_at=None, finalizing_at=None, in_progress_at=None, metadata={'description': 'dev-set job, batch 7'}, output_file_id=None, request_counts=BatchRequestCounts(completed=0, failed=0, total=0))\n",
      "waiting for batch to complete BatchRequestCounts(completed=0, failed=0, total=0) batch_eTA3cTlDTZMlHLYOWnKx095J\n",
      "waiting for batch to complete BatchRequestCounts(completed=11, failed=0, total=90) batch_eTA3cTlDTZMlHLYOWnKx095J\n",
      "waiting for batch to complete BatchRequestCounts(completed=90, failed=0, total=90) batch_eTA3cTlDTZMlHLYOWnKx095J\n",
      "batch 7 completed\n"
     ]
    },
    {
     "name": "stderr",
     "output_type": "stream",
     "text": [
      " 28%|██▊       | 7/25 [12:40<18:55, 63.06s/it]"
     ]
    },
    {
     "name": "stdout",
     "output_type": "stream",
     "text": [
      "Batch(id='batch_u1Bp9nebvMqaQ0hJvdtDGxHg', completion_window='24h', created_at=1722203237, endpoint='/v1/chat/completions', input_file_id='file-HkG3tgKo4Aam6OJ2vE4c5YEt', object='batch', status='validating', cancelled_at=None, cancelling_at=None, completed_at=None, error_file_id=None, errors=None, expired_at=None, expires_at=1722289637, failed_at=None, finalizing_at=None, in_progress_at=None, metadata={'description': 'dev-set job, batch 8'}, output_file_id=None, request_counts=BatchRequestCounts(completed=0, failed=0, total=0))\n",
      "waiting for batch to complete BatchRequestCounts(completed=0, failed=0, total=0) batch_u1Bp9nebvMqaQ0hJvdtDGxHg\n",
      "waiting for batch to complete BatchRequestCounts(completed=13, failed=0, total=90) batch_u1Bp9nebvMqaQ0hJvdtDGxHg\n",
      "waiting for batch to complete BatchRequestCounts(completed=88, failed=0, total=90) batch_u1Bp9nebvMqaQ0hJvdtDGxHg\n",
      "waiting for batch to complete BatchRequestCounts(completed=88, failed=0, total=90) batch_u1Bp9nebvMqaQ0hJvdtDGxHg\n",
      "batch 8 completed\n"
     ]
    },
    {
     "name": "stderr",
     "output_type": "stream",
     "text": [
      " 32%|███▏      | 8/25 [13:24<16:08, 56.99s/it]"
     ]
    },
    {
     "name": "stdout",
     "output_type": "stream",
     "text": [
      "Batch(id='batch_N4huWPezCq1ZWbowBK0QuTyn', completion_window='24h', created_at=1722203281, endpoint='/v1/chat/completions', input_file_id='file-VrtNYedfsjXZH7vBVE4uEcj4', object='batch', status='validating', cancelled_at=None, cancelling_at=None, completed_at=None, error_file_id=None, errors=None, expired_at=None, expires_at=1722289681, failed_at=None, finalizing_at=None, in_progress_at=None, metadata={'description': 'dev-set job, batch 9'}, output_file_id=None, request_counts=BatchRequestCounts(completed=0, failed=0, total=0))\n",
      "waiting for batch to complete BatchRequestCounts(completed=0, failed=0, total=0) batch_N4huWPezCq1ZWbowBK0QuTyn\n",
      "waiting for batch to complete BatchRequestCounts(completed=10, failed=0, total=90) batch_N4huWPezCq1ZWbowBK0QuTyn\n",
      "waiting for batch to complete BatchRequestCounts(completed=90, failed=0, total=90) batch_N4huWPezCq1ZWbowBK0QuTyn\n",
      "batch 9 completed\n"
     ]
    },
    {
     "name": "stderr",
     "output_type": "stream",
     "text": [
      " 36%|███▌      | 9/25 [13:57<13:15, 49.70s/it]"
     ]
    },
    {
     "name": "stdout",
     "output_type": "stream",
     "text": [
      "Batch(id='batch_hKeynZgHOoRCfNDsR7mD8aPO', completion_window='24h', created_at=1722203314, endpoint='/v1/chat/completions', input_file_id='file-TJ5IR7ychOR6b05airFyaJaZ', object='batch', status='validating', cancelled_at=None, cancelling_at=None, completed_at=None, error_file_id=None, errors=None, expired_at=None, expires_at=1722289714, failed_at=None, finalizing_at=None, in_progress_at=None, metadata={'description': 'dev-set job, batch 10'}, output_file_id=None, request_counts=BatchRequestCounts(completed=0, failed=0, total=0))\n",
      "waiting for batch to complete BatchRequestCounts(completed=0, failed=0, total=0) batch_hKeynZgHOoRCfNDsR7mD8aPO\n",
      "waiting for batch to complete BatchRequestCounts(completed=10, failed=0, total=90) batch_hKeynZgHOoRCfNDsR7mD8aPO\n",
      "waiting for batch to complete BatchRequestCounts(completed=89, failed=0, total=90) batch_hKeynZgHOoRCfNDsR7mD8aPO\n",
      "waiting for batch to complete BatchRequestCounts(completed=89, failed=0, total=90) batch_hKeynZgHOoRCfNDsR7mD8aPO\n",
      "waiting for batch to complete BatchRequestCounts(completed=89, failed=0, total=90) batch_hKeynZgHOoRCfNDsR7mD8aPO\n",
      "waiting for batch to complete BatchRequestCounts(completed=89, failed=0, total=90) batch_hKeynZgHOoRCfNDsR7mD8aPO\n",
      "waiting for batch to complete BatchRequestCounts(completed=89, failed=0, total=90) batch_hKeynZgHOoRCfNDsR7mD8aPO\n",
      "batch 10 completed\n"
     ]
    },
    {
     "name": "stderr",
     "output_type": "stream",
     "text": [
      " 40%|████      | 10/25 [15:11<14:19, 57.27s/it]"
     ]
    },
    {
     "name": "stdout",
     "output_type": "stream",
     "text": [
      "Batch(id='batch_AH5uEb0p4AgKXMX2wqveKh5n', completion_window='24h', created_at=1722203389, endpoint='/v1/chat/completions', input_file_id='file-WdIl87ZCH1qC2FhBCaBqXVWz', object='batch', status='validating', cancelled_at=None, cancelling_at=None, completed_at=None, error_file_id=None, errors=None, expired_at=None, expires_at=1722289789, failed_at=None, finalizing_at=None, in_progress_at=None, metadata={'description': 'dev-set job, batch 11'}, output_file_id=None, request_counts=BatchRequestCounts(completed=0, failed=0, total=0))\n",
      "waiting for batch to complete BatchRequestCounts(completed=0, failed=0, total=0) batch_AH5uEb0p4AgKXMX2wqveKh5n\n",
      "waiting for batch to complete BatchRequestCounts(completed=18, failed=0, total=90) batch_AH5uEb0p4AgKXMX2wqveKh5n\n",
      "waiting for batch to complete BatchRequestCounts(completed=90, failed=0, total=90) batch_AH5uEb0p4AgKXMX2wqveKh5n\n",
      "batch 11 completed\n"
     ]
    },
    {
     "name": "stderr",
     "output_type": "stream",
     "text": [
      " 44%|████▍     | 11/25 [15:46<11:42, 50.19s/it]"
     ]
    },
    {
     "name": "stdout",
     "output_type": "stream",
     "text": [
      "Batch(id='batch_H46vcemfsY4mDRxKiwbQ2rn2', completion_window='24h', created_at=1722203423, endpoint='/v1/chat/completions', input_file_id='file-EnYjl3UspDQJV1j5BFD3bMGt', object='batch', status='validating', cancelled_at=None, cancelling_at=None, completed_at=None, error_file_id=None, errors=None, expired_at=None, expires_at=1722289823, failed_at=None, finalizing_at=None, in_progress_at=None, metadata={'description': 'dev-set job, batch 12'}, output_file_id=None, request_counts=BatchRequestCounts(completed=0, failed=0, total=0))\n",
      "waiting for batch to complete BatchRequestCounts(completed=0, failed=0, total=0) batch_H46vcemfsY4mDRxKiwbQ2rn2\n",
      "waiting for batch to complete BatchRequestCounts(completed=12, failed=0, total=90) batch_H46vcemfsY4mDRxKiwbQ2rn2\n",
      "waiting for batch to complete BatchRequestCounts(completed=90, failed=0, total=90) batch_H46vcemfsY4mDRxKiwbQ2rn2\n",
      "batch 12 completed\n"
     ]
    },
    {
     "name": "stderr",
     "output_type": "stream",
     "text": [
      " 48%|████▊     | 12/25 [16:19<09:47, 45.16s/it]"
     ]
    },
    {
     "name": "stdout",
     "output_type": "stream",
     "text": [
      "Batch(id='batch_Jg0hIaLg3ck663VdYu1sR7HW', completion_window='24h', created_at=1722203457, endpoint='/v1/chat/completions', input_file_id='file-QXxCTQVPOmVw6BDTs8PnfVaH', object='batch', status='validating', cancelled_at=None, cancelling_at=None, completed_at=None, error_file_id=None, errors=None, expired_at=None, expires_at=1722289857, failed_at=None, finalizing_at=None, in_progress_at=None, metadata={'description': 'dev-set job, batch 13'}, output_file_id=None, request_counts=BatchRequestCounts(completed=0, failed=0, total=0))\n",
      "waiting for batch to complete BatchRequestCounts(completed=0, failed=0, total=0) batch_Jg0hIaLg3ck663VdYu1sR7HW\n",
      "waiting for batch to complete BatchRequestCounts(completed=11, failed=0, total=90) batch_Jg0hIaLg3ck663VdYu1sR7HW\n",
      "waiting for batch to complete BatchRequestCounts(completed=90, failed=0, total=90) batch_Jg0hIaLg3ck663VdYu1sR7HW\n",
      "batch 13 completed\n"
     ]
    },
    {
     "name": "stderr",
     "output_type": "stream",
     "text": [
      " 52%|█████▏    | 13/25 [16:53<08:21, 41.77s/it]"
     ]
    },
    {
     "name": "stdout",
     "output_type": "stream",
     "text": [
      "Batch(id='batch_bbyz2QIKVSa18BCZgSyR2G3N', completion_window='24h', created_at=1722203491, endpoint='/v1/chat/completions', input_file_id='file-tdhU9crk2NIfZ7YzniRNoRNv', object='batch', status='validating', cancelled_at=None, cancelling_at=None, completed_at=None, error_file_id=None, errors=None, expired_at=None, expires_at=1722289891, failed_at=None, finalizing_at=None, in_progress_at=None, metadata={'description': 'dev-set job, batch 14'}, output_file_id=None, request_counts=BatchRequestCounts(completed=0, failed=0, total=0))\n",
      "waiting for batch to complete BatchRequestCounts(completed=0, failed=0, total=0) batch_bbyz2QIKVSa18BCZgSyR2G3N\n",
      "waiting for batch to complete BatchRequestCounts(completed=0, failed=0, total=90) batch_bbyz2QIKVSa18BCZgSyR2G3N\n",
      "waiting for batch to complete BatchRequestCounts(completed=0, failed=0, total=90) batch_bbyz2QIKVSa18BCZgSyR2G3N\n",
      "waiting for batch to complete BatchRequestCounts(completed=4, failed=0, total=90) batch_bbyz2QIKVSa18BCZgSyR2G3N\n",
      "waiting for batch to complete BatchRequestCounts(completed=88, failed=0, total=90) batch_bbyz2QIKVSa18BCZgSyR2G3N\n",
      "waiting for batch to complete BatchRequestCounts(completed=89, failed=0, total=90) batch_bbyz2QIKVSa18BCZgSyR2G3N\n",
      "waiting for batch to complete BatchRequestCounts(completed=89, failed=0, total=90) batch_bbyz2QIKVSa18BCZgSyR2G3N\n",
      "waiting for batch to complete BatchRequestCounts(completed=90, failed=0, total=90) batch_bbyz2QIKVSa18BCZgSyR2G3N\n",
      "batch 14 completed\n"
     ]
    },
    {
     "name": "stderr",
     "output_type": "stream",
     "text": [
      " 56%|█████▌    | 14/25 [18:18<10:03, 54.84s/it]"
     ]
    },
    {
     "name": "stdout",
     "output_type": "stream",
     "text": [
      "Batch(id='batch_AGig79l2vnGfx7WSveZHnHQC', completion_window='24h', created_at=1722203575, endpoint='/v1/chat/completions', input_file_id='file-kpUu04GzCPxQH70w2jDCt0A8', object='batch', status='validating', cancelled_at=None, cancelling_at=None, completed_at=None, error_file_id=None, errors=None, expired_at=None, expires_at=1722289975, failed_at=None, finalizing_at=None, in_progress_at=None, metadata={'description': 'dev-set job, batch 15'}, output_file_id=None, request_counts=BatchRequestCounts(completed=0, failed=0, total=0))\n",
      "waiting for batch to complete BatchRequestCounts(completed=0, failed=0, total=0) batch_AGig79l2vnGfx7WSveZHnHQC\n",
      "waiting for batch to complete BatchRequestCounts(completed=14, failed=0, total=90) batch_AGig79l2vnGfx7WSveZHnHQC\n",
      "waiting for batch to complete BatchRequestCounts(completed=89, failed=0, total=90) batch_AGig79l2vnGfx7WSveZHnHQC\n",
      "batch 15 completed\n"
     ]
    },
    {
     "name": "stderr",
     "output_type": "stream",
     "text": [
      " 60%|██████    | 15/25 [18:52<08:03, 48.39s/it]"
     ]
    },
    {
     "name": "stdout",
     "output_type": "stream",
     "text": [
      "Batch(id='batch_bXSc3A8hhoOjNWK7VvcFlBux', completion_window='24h', created_at=1722203609, endpoint='/v1/chat/completions', input_file_id='file-VDKBaBuPlhXGG4oDRlYN4sg6', object='batch', status='validating', cancelled_at=None, cancelling_at=None, completed_at=None, error_file_id=None, errors=None, expired_at=None, expires_at=1722290009, failed_at=None, finalizing_at=None, in_progress_at=None, metadata={'description': 'dev-set job, batch 16'}, output_file_id=None, request_counts=BatchRequestCounts(completed=0, failed=0, total=0))\n",
      "waiting for batch to complete BatchRequestCounts(completed=0, failed=0, total=0) batch_bXSc3A8hhoOjNWK7VvcFlBux\n",
      "waiting for batch to complete BatchRequestCounts(completed=9, failed=0, total=90) batch_bXSc3A8hhoOjNWK7VvcFlBux\n",
      "waiting for batch to complete BatchRequestCounts(completed=88, failed=0, total=90) batch_bXSc3A8hhoOjNWK7VvcFlBux\n",
      "waiting for batch to complete BatchRequestCounts(completed=88, failed=0, total=90) batch_bXSc3A8hhoOjNWK7VvcFlBux\n",
      "waiting for batch to complete BatchRequestCounts(completed=89, failed=0, total=90) batch_bXSc3A8hhoOjNWK7VvcFlBux\n",
      "waiting for batch to complete BatchRequestCounts(completed=89, failed=0, total=90) batch_bXSc3A8hhoOjNWK7VvcFlBux\n",
      "waiting for batch to complete BatchRequestCounts(completed=89, failed=0, total=90) batch_bXSc3A8hhoOjNWK7VvcFlBux\n",
      "waiting for batch to complete BatchRequestCounts(completed=90, failed=0, total=90) batch_bXSc3A8hhoOjNWK7VvcFlBux\n",
      "batch 16 completed\n"
     ]
    },
    {
     "name": "stderr",
     "output_type": "stream",
     "text": [
      " 64%|██████▍   | 16/25 [20:17<08:54, 59.36s/it]"
     ]
    },
    {
     "name": "stdout",
     "output_type": "stream",
     "text": [
      "Batch(id='batch_SrW81WzYHaP0O2qAPc1lDZqW', completion_window='24h', created_at=1722203694, endpoint='/v1/chat/completions', input_file_id='file-1ikoFzo9q0ivfT0RaVbZ1LQ2', object='batch', status='validating', cancelled_at=None, cancelling_at=None, completed_at=None, error_file_id=None, errors=None, expired_at=None, expires_at=1722290094, failed_at=None, finalizing_at=None, in_progress_at=None, metadata={'description': 'dev-set job, batch 17'}, output_file_id=None, request_counts=BatchRequestCounts(completed=0, failed=0, total=0))\n",
      "waiting for batch to complete BatchRequestCounts(completed=0, failed=0, total=0) batch_SrW81WzYHaP0O2qAPc1lDZqW\n",
      "waiting for batch to complete BatchRequestCounts(completed=7, failed=0, total=90) batch_SrW81WzYHaP0O2qAPc1lDZqW\n",
      "waiting for batch to complete BatchRequestCounts(completed=20, failed=0, total=90) batch_SrW81WzYHaP0O2qAPc1lDZqW\n",
      "waiting for batch to complete BatchRequestCounts(completed=20, failed=0, total=90) batch_SrW81WzYHaP0O2qAPc1lDZqW\n",
      "waiting for batch to complete BatchRequestCounts(completed=90, failed=0, total=90) batch_SrW81WzYHaP0O2qAPc1lDZqW\n",
      "batch 17 completed\n"
     ]
    },
    {
     "name": "stderr",
     "output_type": "stream",
     "text": [
      " 68%|██████▊   | 17/25 [21:11<07:41, 57.73s/it]"
     ]
    },
    {
     "name": "stdout",
     "output_type": "stream",
     "text": [
      "Batch(id='batch_cCf1KD5vvFUqDLtgAezaBowa', completion_window='24h', created_at=1722203748, endpoint='/v1/chat/completions', input_file_id='file-iMIRgLOsr63kmGslvzwZBG9f', object='batch', status='validating', cancelled_at=None, cancelling_at=None, completed_at=None, error_file_id=None, errors=None, expired_at=None, expires_at=1722290148, failed_at=None, finalizing_at=None, in_progress_at=None, metadata={'description': 'dev-set job, batch 18'}, output_file_id=None, request_counts=BatchRequestCounts(completed=0, failed=0, total=0))\n",
      "waiting for batch to complete BatchRequestCounts(completed=0, failed=0, total=0) batch_cCf1KD5vvFUqDLtgAezaBowa\n",
      "waiting for batch to complete BatchRequestCounts(completed=13, failed=0, total=90) batch_cCf1KD5vvFUqDLtgAezaBowa\n",
      "waiting for batch to complete BatchRequestCounts(completed=89, failed=0, total=90) batch_cCf1KD5vvFUqDLtgAezaBowa\n",
      "batch 18 completed\n"
     ]
    },
    {
     "name": "stderr",
     "output_type": "stream",
     "text": [
      " 72%|███████▏  | 18/25 [21:45<05:54, 50.61s/it]"
     ]
    },
    {
     "name": "stdout",
     "output_type": "stream",
     "text": [
      "Batch(id='batch_GO5iIBaov4moVy1JojdZdX8v', completion_window='24h', created_at=1722203782, endpoint='/v1/chat/completions', input_file_id='file-zvxet35M0BEXDy0cothw5a4M', object='batch', status='validating', cancelled_at=None, cancelling_at=None, completed_at=None, error_file_id=None, errors=None, expired_at=None, expires_at=1722290182, failed_at=None, finalizing_at=None, in_progress_at=None, metadata={'description': 'dev-set job, batch 19'}, output_file_id=None, request_counts=BatchRequestCounts(completed=0, failed=0, total=0))\n",
      "waiting for batch to complete BatchRequestCounts(completed=0, failed=0, total=0) batch_GO5iIBaov4moVy1JojdZdX8v\n",
      "waiting for batch to complete BatchRequestCounts(completed=12, failed=0, total=90) batch_GO5iIBaov4moVy1JojdZdX8v\n",
      "waiting for batch to complete BatchRequestCounts(completed=88, failed=0, total=90) batch_GO5iIBaov4moVy1JojdZdX8v\n",
      "waiting for batch to complete BatchRequestCounts(completed=89, failed=0, total=90) batch_GO5iIBaov4moVy1JojdZdX8v\n",
      "waiting for batch to complete BatchRequestCounts(completed=89, failed=0, total=90) batch_GO5iIBaov4moVy1JojdZdX8v\n",
      "waiting for batch to complete BatchRequestCounts(completed=89, failed=0, total=90) batch_GO5iIBaov4moVy1JojdZdX8v\n",
      "waiting for batch to complete BatchRequestCounts(completed=89, failed=0, total=90) batch_GO5iIBaov4moVy1JojdZdX8v\n",
      "waiting for batch to complete BatchRequestCounts(completed=89, failed=0, total=90) batch_GO5iIBaov4moVy1JojdZdX8v\n",
      "batch 19 completed\n"
     ]
    },
    {
     "name": "stderr",
     "output_type": "stream",
     "text": [
      " 76%|███████▌  | 19/25 [23:09<06:05, 60.90s/it]"
     ]
    },
    {
     "name": "stdout",
     "output_type": "stream",
     "text": [
      "Batch(id='batch_k5fHxsPTd6wY0fE6AwQ7bqvH', completion_window='24h', created_at=1722203867, endpoint='/v1/chat/completions', input_file_id='file-4oZ72ytQgH6GmxQC8Y5nhF6u', object='batch', status='validating', cancelled_at=None, cancelling_at=None, completed_at=None, error_file_id=None, errors=None, expired_at=None, expires_at=1722290267, failed_at=None, finalizing_at=None, in_progress_at=None, metadata={'description': 'dev-set job, batch 20'}, output_file_id=None, request_counts=BatchRequestCounts(completed=0, failed=0, total=0))\n",
      "waiting for batch to complete BatchRequestCounts(completed=0, failed=0, total=0) batch_k5fHxsPTd6wY0fE6AwQ7bqvH\n",
      "waiting for batch to complete BatchRequestCounts(completed=13, failed=0, total=90) batch_k5fHxsPTd6wY0fE6AwQ7bqvH\n",
      "waiting for batch to complete BatchRequestCounts(completed=89, failed=0, total=90) batch_k5fHxsPTd6wY0fE6AwQ7bqvH\n",
      "batch 20 completed\n"
     ]
    },
    {
     "name": "stderr",
     "output_type": "stream",
     "text": [
      " 80%|████████  | 20/25 [23:43<04:23, 52.75s/it]"
     ]
    },
    {
     "name": "stdout",
     "output_type": "stream",
     "text": [
      "Batch(id='batch_mUFl4vELjXGPRVRKcSNMwAiB', completion_window='24h', created_at=1722203900, endpoint='/v1/chat/completions', input_file_id='file-WSHjGeOGVkxhu4IhraeQbcCp', object='batch', status='validating', cancelled_at=None, cancelling_at=None, completed_at=None, error_file_id=None, errors=None, expired_at=None, expires_at=1722290300, failed_at=None, finalizing_at=None, in_progress_at=None, metadata={'description': 'dev-set job, batch 21'}, output_file_id=None, request_counts=BatchRequestCounts(completed=0, failed=0, total=0))\n",
      "waiting for batch to complete BatchRequestCounts(completed=0, failed=0, total=0) batch_mUFl4vELjXGPRVRKcSNMwAiB\n",
      "waiting for batch to complete BatchRequestCounts(completed=11, failed=0, total=90) batch_mUFl4vELjXGPRVRKcSNMwAiB\n",
      "waiting for batch to complete BatchRequestCounts(completed=90, failed=0, total=90) batch_mUFl4vELjXGPRVRKcSNMwAiB\n",
      "batch 21 completed\n"
     ]
    },
    {
     "name": "stderr",
     "output_type": "stream",
     "text": [
      " 84%|████████▍ | 21/25 [24:17<03:08, 47.02s/it]"
     ]
    },
    {
     "name": "stdout",
     "output_type": "stream",
     "text": [
      "Batch(id='batch_3IfMPcZGPejqL596SgMxmpBQ', completion_window='24h', created_at=1722203934, endpoint='/v1/chat/completions', input_file_id='file-PNQXstJFn3BeCtLq7edRehlh', object='batch', status='validating', cancelled_at=None, cancelling_at=None, completed_at=None, error_file_id=None, errors=None, expired_at=None, expires_at=1722290334, failed_at=None, finalizing_at=None, in_progress_at=None, metadata={'description': 'dev-set job, batch 22'}, output_file_id=None, request_counts=BatchRequestCounts(completed=0, failed=0, total=0))\n",
      "waiting for batch to complete BatchRequestCounts(completed=0, failed=0, total=0) batch_3IfMPcZGPejqL596SgMxmpBQ\n",
      "waiting for batch to complete BatchRequestCounts(completed=12, failed=0, total=90) batch_3IfMPcZGPejqL596SgMxmpBQ\n",
      "waiting for batch to complete BatchRequestCounts(completed=88, failed=0, total=90) batch_3IfMPcZGPejqL596SgMxmpBQ\n",
      "batch 22 completed\n"
     ]
    },
    {
     "name": "stderr",
     "output_type": "stream",
     "text": [
      " 88%|████████▊ | 22/25 [24:51<02:09, 43.04s/it]"
     ]
    },
    {
     "name": "stdout",
     "output_type": "stream",
     "text": [
      "Batch(id='batch_yJxeI6TFQ0PlOMmMWKy3M8lL', completion_window='24h', created_at=1722203968, endpoint='/v1/chat/completions', input_file_id='file-ok1vjddj5yZKMZUrI2UU8nIy', object='batch', status='validating', cancelled_at=None, cancelling_at=None, completed_at=None, error_file_id=None, errors=None, expired_at=None, expires_at=1722290368, failed_at=None, finalizing_at=None, in_progress_at=None, metadata={'description': 'dev-set job, batch 23'}, output_file_id=None, request_counts=BatchRequestCounts(completed=0, failed=0, total=0))\n",
      "waiting for batch to complete BatchRequestCounts(completed=0, failed=0, total=0) batch_yJxeI6TFQ0PlOMmMWKy3M8lL\n",
      "waiting for batch to complete BatchRequestCounts(completed=10, failed=0, total=90) batch_yJxeI6TFQ0PlOMmMWKy3M8lL\n",
      "waiting for batch to complete BatchRequestCounts(completed=89, failed=0, total=90) batch_yJxeI6TFQ0PlOMmMWKy3M8lL\n",
      "batch 23 completed\n"
     ]
    },
    {
     "name": "stderr",
     "output_type": "stream",
     "text": [
      " 92%|█████████▏| 23/25 [25:24<01:20, 40.18s/it]"
     ]
    },
    {
     "name": "stdout",
     "output_type": "stream",
     "text": [
      "Batch(id='batch_qg2uAr2Z2LtGedLaP0A1f2sq', completion_window='24h', created_at=1722204001, endpoint='/v1/chat/completions', input_file_id='file-Wi1l0bgvMLdnapj4QGZKntoh', object='batch', status='validating', cancelled_at=None, cancelling_at=None, completed_at=None, error_file_id=None, errors=None, expired_at=None, expires_at=1722290401, failed_at=None, finalizing_at=None, in_progress_at=None, metadata={'description': 'dev-set job, batch 24'}, output_file_id=None, request_counts=BatchRequestCounts(completed=0, failed=0, total=0))\n",
      "waiting for batch to complete BatchRequestCounts(completed=0, failed=0, total=0) batch_qg2uAr2Z2LtGedLaP0A1f2sq\n",
      "waiting for batch to complete BatchRequestCounts(completed=7, failed=0, total=90) batch_qg2uAr2Z2LtGedLaP0A1f2sq\n",
      "waiting for batch to complete BatchRequestCounts(completed=88, failed=0, total=90) batch_qg2uAr2Z2LtGedLaP0A1f2sq\n",
      "batch 24 completed\n"
     ]
    },
    {
     "name": "stderr",
     "output_type": "stream",
     "text": [
      " 96%|█████████▌| 24/25 [25:57<00:38, 38.14s/it]"
     ]
    },
    {
     "name": "stdout",
     "output_type": "stream",
     "text": [
      "Batch(id='batch_W5Dvza64qLxLkUGxNMNoALQj', completion_window='24h', created_at=1722204034, endpoint='/v1/chat/completions', input_file_id='file-nOe62hpBh7Juy5khBhONH6pb', object='batch', status='validating', cancelled_at=None, cancelling_at=None, completed_at=None, error_file_id=None, errors=None, expired_at=None, expires_at=1722290434, failed_at=None, finalizing_at=None, in_progress_at=None, metadata={'description': 'dev-set job, batch 25'}, output_file_id=None, request_counts=BatchRequestCounts(completed=0, failed=0, total=0))\n",
      "waiting for batch to complete BatchRequestCounts(completed=0, failed=0, total=0) batch_W5Dvza64qLxLkUGxNMNoALQj\n",
      "waiting for batch to complete BatchRequestCounts(completed=9, failed=0, total=55) batch_W5Dvza64qLxLkUGxNMNoALQj\n",
      "waiting for batch to complete BatchRequestCounts(completed=55, failed=0, total=55) batch_W5Dvza64qLxLkUGxNMNoALQj\n",
      "batch 25 completed\n"
     ]
    },
    {
     "name": "stderr",
     "output_type": "stream",
     "text": [
      "100%|██████████| 25/25 [26:31<00:00, 63.66s/it]\n"
     ]
    }
   ],
   "source": [
    "batch_results = pipeline.evidence_generator.submit_and_await_batches(files, f\"/mnt/data/factcheck/averitec-data/data_store/batch_jobs/{split}_{PIPELINE_NAME}/output.jsonl\")"
   ]
  },
  {
   "cell_type": "code",
   "execution_count": null,
   "metadata": {},
   "outputs": [],
   "source": []
  },
  {
   "cell_type": "code",
   "execution_count": 35,
   "metadata": {},
   "outputs": [
    {
     "name": "stdout",
     "output_type": "stream",
     "text": [
      "Error parsing JSON for EvidenceGenerator.\n",
      " \n",
      "{\n",
      "    \"questions\":\n",
      "        [\n",
      "            {\"question\": \"Did the Supreme Court deny a lawsuit challenging Biden's victory in Pennsylvania?\", \"answer\": \"Yes, the Supreme Court denied the lawsuit.\", \"source\": \"1\", \"answer_type\":\"Boolean\"},\n",
      "            {\"question\": \"Who filed the lawsuit challenging Biden's victory in Pennsylvania?\", \"answer\": \"The lawsuit was filed by Rep. Mike Kelly and other Republican challengers.\", \"source\": \"1\", \"answer_type\":\"Extractive\"},\n",
      "            {\"question\": \"What was the basis of the lawsuit challenging Biden's victory in Pennsylvania?\", \"answer\": \"The lawsuit challenged a Pennsylvania law that had expanded mail-in voting in the state.\", \"source\": \"1\", \"answer_type\":\"Extractive\"},\n",
      "            {\"question\": \"What was the Supreme Court's response to the lawsuit?\", \"answer\": \"The Supreme Court denied the application for injunctive relief.\", \"source\": \"1\", \"answer_type\":\"Extractive\"},\n",
      "            {\"question\": \"Did the Supreme Court provide any comments or explanations for their decision?\", \"answer\": \"No, the Supreme Court denied the appeal in a one-sentence order with no noted dissents.\", \"source\": \"4\", \"answer_type\":\"Extractive\"},\n",
      "            {\"question\": \"What was the outcome of the Pennsylvania Supreme Court's decision on the same lawsuit?\", \"answer\": \"The Pennsylvania Supreme Court dismissed the challenge, stating the lawsuit was filed too late.\", \"source\": \"2\", \"answer_type\":\"Extractive\"},\n",
      "            {\"question\": \"What did the plaintiffs seek as a remedy in their lawsuit?\", \"answer\": \"The\n",
      "list indices must be integers or slices, not str\n",
      "failed, using fallback gpt\n",
      "Error parsing JSON for EvidenceGenerator.\n",
      " \n",
      "{\n",
      "    \"questions\":\n",
      "        [\n",
      "            {\"question\": \"Did Dominion Voting Systems delete 2.7 million Trump votes nationwide?\", \"answer\": \"No, there’s no evidence to support this claim and multiple election officials have disputed the accusations.\", \"source\": \"1\", \"answer_type\":\"Extractive\"},\n",
      "            {\"question\": \"What did the Department of Homeland Security say about the claim that Dominion Voting Systems deleted votes?\", \"answer\": \"The Department of Homeland Security’s\n",
      "list indices must be integers or slices, not str\n",
      "failed, using fallback gpt\n",
      "Error parsing JSON for EvidenceGenerator.\n",
      " \n",
      "{\n",
      "    \"questions\":\n",
      "        [\n",
      "            {\"question\": \"Did Donald Trump declare victory in the 2020 US presidential election before all votes were counted?\", \"answer\": \"Yes, Donald Trump declared victory before all votes were counted.\", \"source\": \"1\", \"answer_type\":\"Boolean\"},\n",
      "            {\"question\": \"What did Trump say about the election results in his early morning speech on November 4, 2020?\", \"answer\": \"Trump said, 'We will win this, and as far as I’m concerned, we already have won it.'\", \"source\": \"1\", \"answer_type\":\"Extractive\"},\n",
      "            {\"question\": \"Did any credible organization report that Trump won the 2020 presidential election when he made his speech?\", \"answer\": \"No credible organization had reported that Trump won when he made his speech.\", \"source\": \"3\", \"answer_type\":\"Boolean\"},\n",
      "            {\"question\": \"What was the status of the vote count in key states when Trump declared victory?\", \"answer\": \"The vote count in key states like Pennsylvania, Michigan, and Wisconsin was incomplete.\", \"source\": \"5\", \"answer_type\":\"Extractive\"},\n",
      "            {\"question\": \"What did Trump claim about the election process in his speech?\", \"answer\": \"Trump claimed, 'This is a fraud on the American public. This is an embarrassment to our country.'\", \"source\": \"5\", \"answer_type\":\"Extractive\"},\n",
      "            {\"question\": \"What was the reaction of Biden's campaign to Trump's declaration of victory?\", \"answer\": \"Biden's campaign manager called Trump's statement 'outrageous' and said counting of ballots would continue.\", \"source\": \"9\", \"answer_type\":\"Extractive\"},\n",
      "            {\"question\": \"Did Trump plan to take any legal action following his declaration of victory?\", \"answer\": \"Trump said he planned to take the battle to the U.S. Supreme Court but did not explain what he meant.\", \"source\": \"9\", \"answer_type\":\"Extractive\"},\n",
      "            {\"question\": \"What was the status of the electoral votes when Trump declared victory?\", \"answer\": \"At 4 a.m. ET on November 4, Biden had 238 electoral votes, and Trump had 213 votes, with 87 votes still in the balance.\", \"source\": \"9\", \"answer_type\":\"Extractive\"},\n",
      "            {\"question\": \"What did Trump tweet about the election results on November 4, 2020?\", \"answer\": \"Trump\n",
      "list indices must be integers or slices, not str\n",
      "failed, using fallback gpt\n"
     ]
    }
   ],
   "source": [
    "new_dump = []\n",
    "pipeline.evidence_generator.fallback_gpt_generator.client.temperature = .5\n",
    "for pipeline_result, batch_result in zip(dump[:len(batch_results)], batch_results):\n",
    "    new_result = pipeline.evidence_generator.update_pipeline_result(pipeline_result, batch_result, pipeline.classifier)\n",
    "    new_dump.append(new_result)\n"
   ]
  },
  {
   "cell_type": "code",
   "execution_count": 23,
   "metadata": {},
   "outputs": [
    {
     "data": {
      "text/plain": [
       "(PipelineResult(datapoint=Datapoint(claim='Trump Administration claimed songwriter Billie Eilish Is Destroying Our Country In Leaked Documents', claim_id=1, claim_date='31-10-2020', speaker=None, original_claim_url=None, reporting_source='Instagram', location_ISO_code='US', label='Refuted', metadata={'required_reannotation': False, 'justification': 'Seems that the Wzshington post accused the singer wrong lyrics. Therefore the claim is refuted', 'fact_checking_article': 'https://web.archive.org/web/20201103001419/https://leadstories.com/hoax-alert/2020/11/fact-check-trump-administration-did-not-claim-songwriter-billie-eilish-was-destroying-country-in-leaked-documents.html', 'claim_types': ['Position Statement', 'Event/Property Claim'], 'fact_checking_strategies': ['Written Evidence'], 'questions': [{'question': 'Has the Trump administration voiced that Billie Eilish was destroying the country', 'answers': [{'answer': 'A Washington Post story wrongly claimed the Trump administration accused Billie Eilish of “destroying our country', 'answer_type': 'Extractive', 'source_url': 'https://web.archive.org/web/20201101145631/https://nypost.com/2020/10/30/washington-post-wrongly-claims-trump-officials-criticized-billie-eilish/', 'source_medium': 'Web text', 'cached_source_url': 'https://web.archive.org/web/20201101145631/https://nypost.com/2020/10/30/washington-post-wrongly-claims-trump-officials-criticized-billie-eilish/'}]}], 'cached_original_claim_url': None}), evidence_generation_result=EvidenceGenerationResult(evidences=[Evidence(question='Did the Trump administration plan a public health campaign featuring celebrities?', answer=\"Yes, the Trump administration planned to roll out a public health campaign featuring numerous celebrities to help 'defeat despair and inspire hope' amid the pandemic.\", url='https://www.businessinsider.nl/the-trump-administration-accused-billie-eilish-of-destroying-our-country-and-everything-we-care-about-in-newly-leaked-documents/', scraped_text='\\n- In a series of newly leaked documents, the Trump administration accused Billie Eilish of “destroying our country and everything we care about.” - The documents were part of a plan to launch a public health campaign that would feature various celebrities. - However, a Trump administration official reportedly injected “partisan political interests” into the campaign in an effort to support President Donald Trump. - Eilish was thus said to be unfit to participate since she was “not a Trump Supporter.” - Other celebrities, including Jennifer Lopez and director Judd Apatow, were also ruled out because of their politics. - The Washington Post reported that only 10 celebrities — out of hundreds — were ultimately approved to participate in the campaign, which hasn’t come to fruition yet. The Trump administration accused Billie Eilish of “destroying” the US in a new series of leaked documents, according to the Washington Post. On Thursday, the Post reported that the Trump administration had planned to roll out a public health campaign featuring numerous celebrities to help “defeat despair and inspire hope” amid the pandemic. But, in what appeared to be a move designed to support President Donald Trump ahead of Election Day, a top Trump administration official inserted “partisan political interests” into the $250 million advertising contract by disqualifying certain stars based on their political affiliations. Per the Post, the documents for the project (obtained by Democratic lawmakers) showed that some stars were ultimately excluded from consideration because they have criticized Trump, publicly supported Barack Obama, or were supportive of gay rights and same-sex marriage. Eilish, for example, was said to be unfit to participate because she was “not a Trump Supporter.” The documents also reportedly said that the 18-year-old was \"destroying our country and everything we care about.\" \\nOther stars, including Jennifer Lopez and director Judd Apatow, were also reportedly vetoed due to their past criticisms of the president. The Post reported that of at least 247 celebrities that were considered, only 10 were apparently approved: Dennis Quaid, Marc Anthony, Enrique Iglesias, Billy Ray Cyrus, Miranda Lambert, Garth Brooks, Dwyane Wade, Dr. Oz, CeCe Winans, and Shulem Lemmer. The \"Bad Guy\" singer has been vocal in her disapproval of Trump. In August, Eilish performed her latest single during a virtual appearance at the 2020 Democratic National Convention. Before launching into her rendition of \"My Future,\" however, Eilish gave an impassioned speech decrying Trump and his handling of the coronavirus pandemic. \"You don\\'t need me to tell you things are a mess,\" Eilish said. \"Donald Trump is destroying our country and everything we care about. We need leaders who will solve problems like climate change and COVID, not deny them. Leaders who will fight against systemic racism and inequality.\" Eilish continued: \"And that starts by voting for someone who understands how much is at stake. Someone who\\'s building a team that shares our values. It starts with voting against Donald Trump and for Joe Biden. Silence is not an option, and we cannot sit this one out.\" Eilish pressed the importance of the election and told viewers \"to vote like our lives and the world depend on it, because they do.\" She concluded: \"The only way to be certain of the future is to make it ourselves. Please register. Please vote.\" The singer subsequently shared her recorded message to Twitter, and Democratic presidential nominee Joe Biden also reshared it. Representatives for Eilish and the Trump administration didn\\'t immediately respond to Insider\\'s requests for comment. - Billie Eilish appeared to call out influencers for partying during the pandemic: \\'I haven\\'t hugged my best friends in 6 months\\' - Billie Eilish encourages fans to normalize \\'real bodies\\' after she was photographed wearing tighter clothing ', answer_type='Boolean'), Evidence(question=\"Was Billie Eilish considered for the Trump administration's public health campaign?\", answer=\"Yes, Billie Eilish was considered for the Trump administration's public health campaign.\", url='https://www.businessinsider.nl/the-trump-administration-accused-billie-eilish-of-destroying-our-country-and-everything-we-care-about-in-newly-leaked-documents/', scraped_text='\\n- In a series of newly leaked documents, the Trump administration accused Billie Eilish of “destroying our country and everything we care about.” - The documents were part of a plan to launch a public health campaign that would feature various celebrities. - However, a Trump administration official reportedly injected “partisan political interests” into the campaign in an effort to support President Donald Trump. - Eilish was thus said to be unfit to participate since she was “not a Trump Supporter.” - Other celebrities, including Jennifer Lopez and director Judd Apatow, were also ruled out because of their politics. - The Washington Post reported that only 10 celebrities — out of hundreds — were ultimately approved to participate in the campaign, which hasn’t come to fruition yet. The Trump administration accused Billie Eilish of “destroying” the US in a new series of leaked documents, according to the Washington Post. On Thursday, the Post reported that the Trump administration had planned to roll out a public health campaign featuring numerous celebrities to help “defeat despair and inspire hope” amid the pandemic. But, in what appeared to be a move designed to support President Donald Trump ahead of Election Day, a top Trump administration official inserted “partisan political interests” into the $250 million advertising contract by disqualifying certain stars based on their political affiliations. Per the Post, the documents for the project (obtained by Democratic lawmakers) showed that some stars were ultimately excluded from consideration because they have criticized Trump, publicly supported Barack Obama, or were supportive of gay rights and same-sex marriage. Eilish, for example, was said to be unfit to participate because she was “not a Trump Supporter.” The documents also reportedly said that the 18-year-old was \"destroying our country and everything we care about.\" \\nOther stars, including Jennifer Lopez and director Judd Apatow, were also reportedly vetoed due to their past criticisms of the president. The Post reported that of at least 247 celebrities that were considered, only 10 were apparently approved: Dennis Quaid, Marc Anthony, Enrique Iglesias, Billy Ray Cyrus, Miranda Lambert, Garth Brooks, Dwyane Wade, Dr. Oz, CeCe Winans, and Shulem Lemmer. The \"Bad Guy\" singer has been vocal in her disapproval of Trump. In August, Eilish performed her latest single during a virtual appearance at the 2020 Democratic National Convention. Before launching into her rendition of \"My Future,\" however, Eilish gave an impassioned speech decrying Trump and his handling of the coronavirus pandemic. \"You don\\'t need me to tell you things are a mess,\" Eilish said. \"Donald Trump is destroying our country and everything we care about. We need leaders who will solve problems like climate change and COVID, not deny them. Leaders who will fight against systemic racism and inequality.\" Eilish continued: \"And that starts by voting for someone who understands how much is at stake. Someone who\\'s building a team that shares our values. It starts with voting against Donald Trump and for Joe Biden. Silence is not an option, and we cannot sit this one out.\" Eilish pressed the importance of the election and told viewers \"to vote like our lives and the world depend on it, because they do.\" She concluded: \"The only way to be certain of the future is to make it ourselves. Please register. Please vote.\" The singer subsequently shared her recorded message to Twitter, and Democratic presidential nominee Joe Biden also reshared it. Representatives for Eilish and the Trump administration didn\\'t immediately respond to Insider\\'s requests for comment. - Billie Eilish appeared to call out influencers for partying during the pandemic: \\'I haven\\'t hugged my best friends in 6 months\\' - Billie Eilish encourages fans to normalize \\'real bodies\\' after she was photographed wearing tighter clothing ', answer_type='Boolean'), Evidence(question=\"Why was Billie Eilish disqualified from participating in the Trump administration's public health campaign?\", answer=\"Billie Eilish was disqualified because she was 'not a Trump supporter' and had made political statements against Trump.\", url='https://www.businessinsider.nl/the-trump-administration-accused-billie-eilish-of-destroying-our-country-and-everything-we-care-about-in-newly-leaked-documents/', scraped_text='\\n- In a series of newly leaked documents, the Trump administration accused Billie Eilish of “destroying our country and everything we care about.” - The documents were part of a plan to launch a public health campaign that would feature various celebrities. - However, a Trump administration official reportedly injected “partisan political interests” into the campaign in an effort to support President Donald Trump. - Eilish was thus said to be unfit to participate since she was “not a Trump Supporter.” - Other celebrities, including Jennifer Lopez and director Judd Apatow, were also ruled out because of their politics. - The Washington Post reported that only 10 celebrities — out of hundreds — were ultimately approved to participate in the campaign, which hasn’t come to fruition yet. The Trump administration accused Billie Eilish of “destroying” the US in a new series of leaked documents, according to the Washington Post. On Thursday, the Post reported that the Trump administration had planned to roll out a public health campaign featuring numerous celebrities to help “defeat despair and inspire hope” amid the pandemic. But, in what appeared to be a move designed to support President Donald Trump ahead of Election Day, a top Trump administration official inserted “partisan political interests” into the $250 million advertising contract by disqualifying certain stars based on their political affiliations. Per the Post, the documents for the project (obtained by Democratic lawmakers) showed that some stars were ultimately excluded from consideration because they have criticized Trump, publicly supported Barack Obama, or were supportive of gay rights and same-sex marriage. Eilish, for example, was said to be unfit to participate because she was “not a Trump Supporter.” The documents also reportedly said that the 18-year-old was \"destroying our country and everything we care about.\" \\nOther stars, including Jennifer Lopez and director Judd Apatow, were also reportedly vetoed due to their past criticisms of the president. The Post reported that of at least 247 celebrities that were considered, only 10 were apparently approved: Dennis Quaid, Marc Anthony, Enrique Iglesias, Billy Ray Cyrus, Miranda Lambert, Garth Brooks, Dwyane Wade, Dr. Oz, CeCe Winans, and Shulem Lemmer. The \"Bad Guy\" singer has been vocal in her disapproval of Trump. In August, Eilish performed her latest single during a virtual appearance at the 2020 Democratic National Convention. Before launching into her rendition of \"My Future,\" however, Eilish gave an impassioned speech decrying Trump and his handling of the coronavirus pandemic. \"You don\\'t need me to tell you things are a mess,\" Eilish said. \"Donald Trump is destroying our country and everything we care about. We need leaders who will solve problems like climate change and COVID, not deny them. Leaders who will fight against systemic racism and inequality.\" Eilish continued: \"And that starts by voting for someone who understands how much is at stake. Someone who\\'s building a team that shares our values. It starts with voting against Donald Trump and for Joe Biden. Silence is not an option, and we cannot sit this one out.\" Eilish pressed the importance of the election and told viewers \"to vote like our lives and the world depend on it, because they do.\" She concluded: \"The only way to be certain of the future is to make it ourselves. Please register. Please vote.\" The singer subsequently shared her recorded message to Twitter, and Democratic presidential nominee Joe Biden also reshared it. Representatives for Eilish and the Trump administration didn\\'t immediately respond to Insider\\'s requests for comment. - Billie Eilish appeared to call out influencers for partying during the pandemic: \\'I haven\\'t hugged my best friends in 6 months\\' - Billie Eilish encourages fans to normalize \\'real bodies\\' after she was photographed wearing tighter clothing ', answer_type='Extractive'), Evidence(question=\"Did the Trump administration documents explicitly state that Billie Eilish is 'destroying our country and everything we care about'?\", answer=\"No, the documents stated that Billie Eilish 'stated he [Trump] is destroying our country and everything we care about.'\", url='https://nypost.com/2020/10/30/washington-post-wrongly-claims-trump-officials-criticized-billie-eilish/', scraped_text=\"\\nA Washington Post story wrongly claimed the Trump administration accused Billie Eilish of “destroying our country” — then spread like wildfire among the entertainment industry. The article on Thursday — in part about hundreds of celebrities being vetted for a Trump administration coronavirus ad campaign — included a misattributed quote from the White House about Eilish. “Donald Trump is destroying our country and everything we care about,” the Grammy-winning singer said at the Democratic National Convention in August. Citing leaked documents obtained by Democratic House lawmakers, the Washington Post incorrectly wrote that the Trump officials described Eilish as “not a Trump supporter,” saying she is “destroying our country and everything we care about.” A screenshot of the leaked papers showed that Trump officials’ description of Eilish was clear — they said the “Bad Guy” singer “made a political statement on gun control in 2019; will be a first time voter in 2020; not a Trump supporter, stated he ‘is destroying our country and everything we care about.'” The flub was picked up by Vice editor Jill Krajewski, who noted that “an embarrassing number of music outlets” including Complex, NME, Consequence of Sound and The Fader aggregated the misreported Washington Post story. On Friday, a correction appeared on the Washington Post story. \\n\", answer_type='Extractive'), Evidence(question='Did the Washington Post issue a correction regarding the misattributed quote about Billie Eilish?', answer='Yes, a correction appeared on the Washington Post story.', url='https://nypost.com/2020/10/30/washington-post-wrongly-claims-trump-officials-criticized-billie-eilish/', scraped_text=\"\\nA Washington Post story wrongly claimed the Trump administration accused Billie Eilish of “destroying our country” — then spread like wildfire among the entertainment industry. The article on Thursday — in part about hundreds of celebrities being vetted for a Trump administration coronavirus ad campaign — included a misattributed quote from the White House about Eilish. “Donald Trump is destroying our country and everything we care about,” the Grammy-winning singer said at the Democratic National Convention in August. Citing leaked documents obtained by Democratic House lawmakers, the Washington Post incorrectly wrote that the Trump officials described Eilish as “not a Trump supporter,” saying she is “destroying our country and everything we care about.” A screenshot of the leaked papers showed that Trump officials’ description of Eilish was clear — they said the “Bad Guy” singer “made a political statement on gun control in 2019; will be a first time voter in 2020; not a Trump supporter, stated he ‘is destroying our country and everything we care about.'” The flub was picked up by Vice editor Jill Krajewski, who noted that “an embarrassing number of music outlets” including Complex, NME, Consequence of Sound and The Fader aggregated the misreported Washington Post story. On Friday, a correction appeared on the Washington Post story. \\n\", answer_type='Boolean'), Evidence(question='What did Billie Eilish say about Trump at the Democratic National Convention?', answer=\"Billie Eilish said, 'Donald Trump is destroying our country and everything we care about.'\", url='https://people.com/politics/billie-eilish-urges-fans-to-vote-in-2020-democratic-national-convention-appearance/', scraped_text='\\nPolitics Billie Eilish Says Trump Is \\'Destroying Our Country and Everything We Care About\\' in DNC Remarks \"Silence is not an option, and we cannot sit this one out,\" the singer about the Nov. 3 election ahead of her DNC performance on Wednesday By Benjamin VanHoose Benjamin VanHoose Benjamin VanHoose is an Associate Editor on the Movies team at PEOPLE. He has written about entertainment and breaking news for over five years. People Editorial Guidelines Published on August 20, 2020 10:12AM EDT Billie Eilish is taking control of her future. On Wednesday, the 18-year-old Grammy winner performed her latest single, \"My Future,\" during the virtual 2020 Democratic National Convention broadcast. Before the emotional live performance, however, Eilish made a plea to fans, urging them to vote in the Nov. 3 election. \"You don\\'t need me to tell you things are a mess,\" she began her message to viewers. \"Donald Trump is destroying our country and everything we care about. We need leaders who will solve problems like climate change and COVID, not deny them; leaders who will fight against systemic racism and inequality.\" \"And that starts by voting for someone who understands how much is at stake, someone who is building a team that shares our values,\" Eilish continued. \"It starts with voting against Donald Trump and for Joe Biden.\" The \"Bad Guy\" singer concluded her address by calling on everyone to register to vote and cast their ballot. \"Silence is not an option, and we cannot sit this one out,\" she said. \"We all have to vote like our lives and the world depends on it because they do. \\nThe only way to be certain of the future is to make it ourselves. Please register, please vote.\" Billie Eilish Reveals She Was Once \\'Super Religious\\' Even Though Her Family Wasn\\'t: \\'It Was Weird\\' Never miss a story — sign up for PEOPLE\\'s free daily newsletter to stay up-to-date on the best of what PEOPLE has to offer, from juicy celebrity news to compelling human interest stories In December, Eilish opened up to the Los Angeles Times about voting in her first election, and why she\\'s \"worried\" about the outcome of the presidential race. The artist said she is \"going to do all my research\" to be informed by Election Day. “I’m pretty worried about [2020],” she said at the time. “I think stupid Trump is probably going to get reelected, and that makes my heart break. You know, some people just love horrible people. It’s weird.” RELATED VIDEO: Joe Biden and Kamala Harris\\' First Joint Interview: \\'Audacity\\' of Partnering & Their \\'Modern Family\\' Values Meghan Markle Reveals Why She\\'ll Vote in 2020 Election: \\'I Know What It\\'s Like...to Feel Voiceless\\' In a message to fans on social media back in March, Eilish spoke on the importance of voting, especially for young people. “Like a lot of you, I’m going to be voting for the first time – and so are you. You’ve got to make sure you’re registered to vote already, pre-registered to vote, whatever it is.” she said, partnering with HeadCount.org to register voters. \"... Do it.\" Aside from Eilish, a number of other A-listers were enlisted to perform at the four-day DNC, which concludes Thursday night. ', answer_type='Extractive'), Evidence(question='Did multiple news outlets report the misattributed quote from the Washington Post?', answer='Yes, multiple news outlets including Complex, NME, Consequence of Sound, and The Fader aggregated the misreported Washington Post story.', url='https://nypost.com/2020/10/30/washington-post-wrongly-claims-trump-officials-criticized-billie-eilish/', scraped_text=\"\\nA Washington Post story wrongly claimed the Trump administration accused Billie Eilish of “destroying our country” — then spread like wildfire among the entertainment industry. The article on Thursday — in part about hundreds of celebrities being vetted for a Trump administration coronavirus ad campaign — included a misattributed quote from the White House about Eilish. “Donald Trump is destroying our country and everything we care about,” the Grammy-winning singer said at the Democratic National Convention in August. Citing leaked documents obtained by Democratic House lawmakers, the Washington Post incorrectly wrote that the Trump officials described Eilish as “not a Trump supporter,” saying she is “destroying our country and everything we care about.” A screenshot of the leaked papers showed that Trump officials’ description of Eilish was clear — they said the “Bad Guy” singer “made a political statement on gun control in 2019; will be a first time voter in 2020; not a Trump supporter, stated he ‘is destroying our country and everything we care about.'” The flub was picked up by Vice editor Jill Krajewski, who noted that “an embarrassing number of music outlets” including Complex, NME, Consequence of Sound and The Fader aggregated the misreported Washington Post story. On Friday, a correction appeared on the Washington Post story. \\n\", answer_type='Boolean'), Evidence(question=\"Did the Trump administration's public health campaign come to fruition?\", answer='No, the campaign has not come to fruition yet.', url='https://www.businessinsider.nl/the-trump-administration-accused-billie-eilish-of-destroying-our-country-and-everything-we-care-about-in-newly-leaked-documents/', scraped_text='\\n- In a series of newly leaked documents, the Trump administration accused Billie Eilish of “destroying our country and everything we care about.” - The documents were part of a plan to launch a public health campaign that would feature various celebrities. - However, a Trump administration official reportedly injected “partisan political interests” into the campaign in an effort to support President Donald Trump. - Eilish was thus said to be unfit to participate since she was “not a Trump Supporter.” - Other celebrities, including Jennifer Lopez and director Judd Apatow, were also ruled out because of their politics. - The Washington Post reported that only 10 celebrities — out of hundreds — were ultimately approved to participate in the campaign, which hasn’t come to fruition yet. The Trump administration accused Billie Eilish of “destroying” the US in a new series of leaked documents, according to the Washington Post. On Thursday, the Post reported that the Trump administration had planned to roll out a public health campaign featuring numerous celebrities to help “defeat despair and inspire hope” amid the pandemic. But, in what appeared to be a move designed to support President Donald Trump ahead of Election Day, a top Trump administration official inserted “partisan political interests” into the $250 million advertising contract by disqualifying certain stars based on their political affiliations. Per the Post, the documents for the project (obtained by Democratic lawmakers) showed that some stars were ultimately excluded from consideration because they have criticized Trump, publicly supported Barack Obama, or were supportive of gay rights and same-sex marriage. Eilish, for example, was said to be unfit to participate because she was “not a Trump Supporter.” The documents also reportedly said that the 18-year-old was \"destroying our country and everything we care about.\" \\nOther stars, including Jennifer Lopez and director Judd Apatow, were also reportedly vetoed due to their past criticisms of the president. The Post reported that of at least 247 celebrities that were considered, only 10 were apparently approved: Dennis Quaid, Marc Anthony, Enrique Iglesias, Billy Ray Cyrus, Miranda Lambert, Garth Brooks, Dwyane Wade, Dr. Oz, CeCe Winans, and Shulem Lemmer. The \"Bad Guy\" singer has been vocal in her disapproval of Trump. In August, Eilish performed her latest single during a virtual appearance at the 2020 Democratic National Convention. Before launching into her rendition of \"My Future,\" however, Eilish gave an impassioned speech decrying Trump and his handling of the coronavirus pandemic. \"You don\\'t need me to tell you things are a mess,\" Eilish said. \"Donald Trump is destroying our country and everything we care about. We need leaders who will solve problems like climate change and COVID, not deny them. Leaders who will fight against systemic racism and inequality.\" Eilish continued: \"And that starts by voting for someone who understands how much is at stake. Someone who\\'s building a team that shares our values. It starts with voting against Donald Trump and for Joe Biden. Silence is not an option, and we cannot sit this one out.\" Eilish pressed the importance of the election and told viewers \"to vote like our lives and the world depend on it, because they do.\" She concluded: \"The only way to be certain of the future is to make it ourselves. Please register. Please vote.\" The singer subsequently shared her recorded message to Twitter, and Democratic presidential nominee Joe Biden also reshared it. Representatives for Eilish and the Trump administration didn\\'t immediately respond to Insider\\'s requests for comment. - Billie Eilish appeared to call out influencers for partying during the pandemic: \\'I haven\\'t hugged my best friends in 6 months\\' - Billie Eilish encourages fans to normalize \\'real bodies\\' after she was photographed wearing tighter clothing ', answer_type='Boolean'), Evidence(question=\"Who was in charge of the Trump administration's public health campaign?\", answer='HHS Assistant Secretary for Public Affairs, Michael Caputo, was in charge of the initiative.', url='https://happymag.tv/leaked-trump-docs-billie-eilish-destroying-america/', scraped_text='\\nThe Trump administration has labelled the 18-year-old, green-haired superstar Billie Eilish a threat to the sanctity of America. US President Donald Trump, admired by world dictators and extremist religious groups alike, is seemingly concerned by a less likely presence when it comes to the erosion of American society: Billie Eilish. In recently leaked documents – which reveal that Trump’s office considered using Eilish for a publicity campaign – the president’s administration described the singer as “destroying our country and everything we care about”. The admission comes as part of a larger matter in which the administration seemingly wanted to use $250 million of taxpayer money (intended for a coronavirus awareness campaign) for publicity designed to help Trump get re-elected. The allegations, which amount to a pretty serious scandal, came after Politico revealed that the Department of Health and Human Services (HHS) contacted several communications firms in regards to a $250 million contract. Apparently, the HHS, who is supposed to be independent, has recently been under heightened scrutiny around their partisan leanings. One former senior Obama HHS official described the move as “quite a stretch beyond what HHS traditionally does”. WH Officials Tried to Use $250 Million in Taxpayer Money on Covid Ad Campaign to Boost Trump Reelection! Dems on the House Oversight Committee accused HHS officials of engaging in a \"cover-up to conceal Trump misused hundreds of millions of taxpayer dollars for partisan purposes. — scott immordino (@ScottImmordino) October 29, 2020 Following this, documents on the matter were shared to the Washington Post by three Democratic congressional representatives, revealing that HHS Assistant Secretary for Public Affairs, Michael Caputo, was seemingly in charge of the initiative. Allegedly, Caputo had proposed the angle of the coronavirus awareness campaign be “Helping the President will Help the Country.” \\nCaputo, alongside other Trump appointees, then went on to consider more than 274 celebrities who could star as the campaign’s spokesperson. During this process, the majority of them were culled for obvious reasons. billie eilish destroying america and everything they care about: pic.twitter.com/DBEr3cUsJs Christina Aguilera was turned down due to being “an Obama-supporting Democrat and a gay rights supporting liberal”, with Justin Timberlake, Johnny Depp, and Maroon 5’s Adam Levine rejected for similar reasons. Meanwhile, The 40-Year-Old Virgin director Judd Apatow was booted (understandably) because he “believes Trump does not have the intellectual capacity to run as President”. Elsewhere, Jennifer Lopez was vetoed because her recent Super Bowl performance (which included children in cages) was a statement against Trump’s immigration policies, whilst Jack Black was dubbed “a classic Hollywood liberal”. Yet the most colourful rejection was reserved for megastar and Gen Z icon, Billie Eilish, who was someone they categorically dubbed as “not a Trump supporter” and “destroying our country and everything we care about”. Wtf Trump! Billie Eilish doesn\\'t have anything to do with destroying the country. You destroyed it yourself, douche bag! All in all, the process left a modest ten celebrities who were deemed suitable for the job, a list which included Dr. Oz, Enrique Iglesias, and Billy Ray Cyrus. Whilst some of these contenders allegedly sat down for interviews, they have subsequently all withdrawn approval for their use. The whole endeavour has now been stopped in its tracks, although it appears unlikely the Trump administration will face any consequences. Caputo is now on a leave of absence due to health reasons. ', answer_type='Extractive'), Evidence(question='Were other celebrities also disqualified from the campaign for political reasons?', answer='Yes, other celebrities including Jennifer Lopez and director Judd Apatow were also ruled out because of their politics.', url='https://www.businessinsider.nl/the-trump-administration-accused-billie-eilish-of-destroying-our-country-and-everything-we-care-about-in-newly-leaked-documents/', scraped_text='\\n- In a series of newly leaked documents, the Trump administration accused Billie Eilish of “destroying our country and everything we care about.” - The documents were part of a plan to launch a public health campaign that would feature various celebrities. - However, a Trump administration official reportedly injected “partisan political interests” into the campaign in an effort to support President Donald Trump. - Eilish was thus said to be unfit to participate since she was “not a Trump Supporter.” - Other celebrities, including Jennifer Lopez and director Judd Apatow, were also ruled out because of their politics. - The Washington Post reported that only 10 celebrities — out of hundreds — were ultimately approved to participate in the campaign, which hasn’t come to fruition yet. The Trump administration accused Billie Eilish of “destroying” the US in a new series of leaked documents, according to the Washington Post. On Thursday, the Post reported that the Trump administration had planned to roll out a public health campaign featuring numerous celebrities to help “defeat despair and inspire hope” amid the pandemic. But, in what appeared to be a move designed to support President Donald Trump ahead of Election Day, a top Trump administration official inserted “partisan political interests” into the $250 million advertising contract by disqualifying certain stars based on their political affiliations. Per the Post, the documents for the project (obtained by Democratic lawmakers) showed that some stars were ultimately excluded from consideration because they have criticized Trump, publicly supported Barack Obama, or were supportive of gay rights and same-sex marriage. Eilish, for example, was said to be unfit to participate because she was “not a Trump Supporter.” The documents also reportedly said that the 18-year-old was \"destroying our country and everything we care about.\" \\nOther stars, including Jennifer Lopez and director Judd Apatow, were also reportedly vetoed due to their past criticisms of the president. The Post reported that of at least 247 celebrities that were considered, only 10 were apparently approved: Dennis Quaid, Marc Anthony, Enrique Iglesias, Billy Ray Cyrus, Miranda Lambert, Garth Brooks, Dwyane Wade, Dr. Oz, CeCe Winans, and Shulem Lemmer. The \"Bad Guy\" singer has been vocal in her disapproval of Trump. In August, Eilish performed her latest single during a virtual appearance at the 2020 Democratic National Convention. Before launching into her rendition of \"My Future,\" however, Eilish gave an impassioned speech decrying Trump and his handling of the coronavirus pandemic. \"You don\\'t need me to tell you things are a mess,\" Eilish said. \"Donald Trump is destroying our country and everything we care about. We need leaders who will solve problems like climate change and COVID, not deny them. Leaders who will fight against systemic racism and inequality.\" Eilish continued: \"And that starts by voting for someone who understands how much is at stake. Someone who\\'s building a team that shares our values. It starts with voting against Donald Trump and for Joe Biden. Silence is not an option, and we cannot sit this one out.\" Eilish pressed the importance of the election and told viewers \"to vote like our lives and the world depend on it, because they do.\" She concluded: \"The only way to be certain of the future is to make it ourselves. Please register. Please vote.\" The singer subsequently shared her recorded message to Twitter, and Democratic presidential nominee Joe Biden also reshared it. Representatives for Eilish and the Trump administration didn\\'t immediately respond to Insider\\'s requests for comment. - Billie Eilish appeared to call out influencers for partying during the pandemic: \\'I haven\\'t hugged my best friends in 6 months\\' - Billie Eilish encourages fans to normalize \\'real bodies\\' after she was photographed wearing tighter clothing ', answer_type='Boolean')], metadata={'suggested_label': 'Refuted', 'label_confidences': array([0.68145256, 0.03392753, 0.03392753, 0.25069239]), 'llm_type': 'gpt-4o', 'llm_output': {'questions': [{'question': 'Did the Trump administration plan a public health campaign featuring celebrities?', 'answer': \"Yes, the Trump administration planned to roll out a public health campaign featuring numerous celebrities to help 'defeat despair and inspire hope' amid the pandemic.\", 'source': '1', 'answer_type': 'Boolean'}, {'question': \"Was Billie Eilish considered for the Trump administration's public health campaign?\", 'answer': \"Yes, Billie Eilish was considered for the Trump administration's public health campaign.\", 'source': '1', 'answer_type': 'Boolean'}, {'question': \"Why was Billie Eilish disqualified from participating in the Trump administration's public health campaign?\", 'answer': \"Billie Eilish was disqualified because she was 'not a Trump supporter' and had made political statements against Trump.\", 'source': '1', 'answer_type': 'Extractive'}, {'question': \"Did the Trump administration documents explicitly state that Billie Eilish is 'destroying our country and everything we care about'?\", 'answer': \"No, the documents stated that Billie Eilish 'stated he [Trump] is destroying our country and everything we care about.'\", 'source': '3', 'answer_type': 'Extractive'}, {'question': 'Did the Washington Post issue a correction regarding the misattributed quote about Billie Eilish?', 'answer': 'Yes, a correction appeared on the Washington Post story.', 'source': '3', 'answer_type': 'Boolean'}, {'question': 'What did Billie Eilish say about Trump at the Democratic National Convention?', 'answer': \"Billie Eilish said, 'Donald Trump is destroying our country and everything we care about.'\", 'source': '8', 'answer_type': 'Extractive'}, {'question': 'Did multiple news outlets report the misattributed quote from the Washington Post?', 'answer': 'Yes, multiple news outlets including Complex, NME, Consequence of Sound, and The Fader aggregated the misreported Washington Post story.', 'source': '3', 'answer_type': 'Boolean'}, {'question': \"Did the Trump administration's public health campaign come to fruition?\", 'answer': 'No, the campaign has not come to fruition yet.', 'source': '1', 'answer_type': 'Boolean'}, {'question': \"Who was in charge of the Trump administration's public health campaign?\", 'answer': 'HHS Assistant Secretary for Public Affairs, Michael Caputo, was in charge of the initiative.', 'source': '9', 'answer_type': 'Extractive'}, {'question': 'Were other celebrities also disqualified from the campaign for political reasons?', 'answer': 'Yes, other celebrities including Jennifer Lopez and director Judd Apatow were also ruled out because of their politics.', 'source': '1', 'answer_type': 'Boolean'}], 'claim_veracity': {'Supported': '2', 'Refuted': '5', 'Not Enough Evidence': '2', 'Conflicting Evidence/Cherrypicking': '4'}, 'veracity_verdict': 'Refuted'}}), retrieval_result=RetrievalResult(documents=[Document(metadata={'url': 'https://www.businessinsider.nl/the-trump-administration-accused-billie-eilish-of-destroying-our-country-and-everything-we-care-about-in-newly-leaked-documents/', 'context_before': '', 'context_after': 'Other stars, including Jennifer Lopez and director Judd Apatow, were also reportedly vetoed due to their past criticisms of the president. The Post reported that of at least 247 celebrities that were considered, only 10 were apparently approved: Dennis Quaid, Marc Anthony, Enrique Iglesias, Billy Ray Cyrus, Miranda Lambert, Garth Brooks, Dwyane Wade, Dr. Oz, CeCe Winans, and Shulem Lemmer. The \"Bad Guy\" singer has been vocal in her disapproval of Trump. In August, Eilish performed her latest single during a virtual appearance at the 2020 Democratic National Convention. Before launching into her rendition of \"My Future,\" however, Eilish gave an impassioned speech decrying Trump and his handling of the coronavirus pandemic. \"You don\\'t need me to tell you things are a mess,\" Eilish said. \"Donald Trump is destroying our country and everything we care about. We need leaders who will solve problems like climate change and COVID, not deny them. Leaders who will fight against systemic racism and inequality.\" Eilish continued: \"And that starts by voting for someone who understands how much is at stake. Someone who\\'s building a team that shares our values. It starts with voting against Donald Trump and for Joe Biden. Silence is not an option, and we cannot sit this one out.\" Eilish pressed the importance of the election and told viewers \"to vote like our lives and the world depend on it, because they do.\" She concluded: \"The only way to be certain of the future is to make it ourselves. Please register. Please vote.\" The singer subsequently shared her recorded message to Twitter, and Democratic presidential nominee Joe Biden also reshared it. Representatives for Eilish and the Trump administration didn\\'t immediately respond to Insider\\'s requests for comment. - Billie Eilish appeared to call out influencers for partying during the pandemic: \\'I haven\\'t hugged my best friends in 6 months\\' - Billie Eilish encourages fans to normalize \\'real bodies\\' after she was photographed wearing tighter clothing '}, page_content='- In a series of newly leaked documents, the Trump administration accused Billie Eilish of “destroying our country and everything we care about.” - The documents were part of a plan to launch a public health campaign that would feature various celebrities. - However, a Trump administration official reportedly injected “partisan political interests” into the campaign in an effort to support President Donald Trump. - Eilish was thus said to be unfit to participate since she was “not a Trump Supporter.” - Other celebrities, including Jennifer Lopez and director Judd Apatow, were also ruled out because of their politics. - The Washington Post reported that only 10 celebrities — out of hundreds — were ultimately approved to participate in the campaign, which hasn’t come to fruition yet. The Trump administration accused Billie Eilish of “destroying” the US in a new series of leaked documents, according to the Washington Post. On Thursday, the Post reported that the Trump administration had planned to roll out a public health campaign featuring numerous celebrities to help “defeat despair and inspire hope” amid the pandemic. But, in what appeared to be a move designed to support President Donald Trump ahead of Election Day, a top Trump administration official inserted “partisan political interests” into the $250 million advertising contract by disqualifying certain stars based on their political affiliations. Per the Post, the documents for the project (obtained by Democratic lawmakers) showed that some stars were ultimately excluded from consideration because they have criticized Trump, publicly supported Barack Obama, or were supportive of gay rights and same-sex marriage. Eilish, for example, was said to be unfit to participate because she was “not a Trump Supporter.” The documents also reportedly said that the 18-year-old was \"destroying our country and everything we care about.\" '), Document(metadata={'url': 'https://www.justjared.com/2020/10/29/trump-administration-official-accused-billie-eilish-of-destroying-our-country/', 'context_before': '', 'context_after': ''}, page_content=\"Trump Administration Official Accused Billie Eilish of 'Destroying Our Country' - A top official in Donald Trump‘s administration accused Billie Eilish of “destroying our country” – TMZ - She’s back in the Saved by the Bell reboot – DListed - The American Horror Story house is really haunted? – TooFab - She’s joining the Gossip Girl cast! – Just Jared Jr \"), Document(metadata={'url': 'https://nypost.com/2020/10/30/washington-post-wrongly-claims-trump-officials-criticized-billie-eilish/', 'context_before': '', 'context_after': ''}, page_content=\"A Washington Post story wrongly claimed the Trump administration accused Billie Eilish of “destroying our country” — then spread like wildfire among the entertainment industry. The article on Thursday — in part about hundreds of celebrities being vetted for a Trump administration coronavirus ad campaign — included a misattributed quote from the White House about Eilish. “Donald Trump is destroying our country and everything we care about,” the Grammy-winning singer said at the Democratic National Convention in August. Citing leaked documents obtained by Democratic House lawmakers, the Washington Post incorrectly wrote that the Trump officials described Eilish as “not a Trump supporter,” saying she is “destroying our country and everything we care about.” A screenshot of the leaked papers showed that Trump officials’ description of Eilish was clear — they said the “Bad Guy” singer “made a political statement on gun control in 2019; will be a first time voter in 2020; not a Trump supporter, stated he ‘is destroying our country and everything we care about.'” The flub was picked up by Vice editor Jill Krajewski, who noted that “an embarrassing number of music outlets” including Complex, NME, Consequence of Sound and The Fader aggregated the misreported Washington Post story. On Friday, a correction appeared on the Washington Post story. \"), Document(metadata={'url': 'https://www.reddit.com/r/popheads/comments/jkdyi8/trump_admin_says_billie_eilish_is_destroying_our/', 'context_before': '', 'context_after': ''}, page_content='The latest and greatest in pop music, all in one subreddit. Trump admin says Billie Eilish is \"destroying our country and everything we care about\" '), Document(metadata={'url': 'https://finance.yahoo.com/news/trump-administration-claimed-billie-eilish-214141314.html', 'context_before': '', 'context_after': \"RELATED: Billie Eilish's Optical Illusion Sneakers Are Dividing the Internet In addition to Quaid, CeCe Winans, Marc Anthony, Shulem Lemmer, Dr. Oz, Billy Ray Cyrus, Miranda Lambert, Garth Brooks, Dwyane Wade, and Enrique Iglesias agreed to participate. Only three sat down for filmed interviews and the Post notes that even that trio has withdrawn consent, so nobody will ever get to see the finished PSAs. And while Eilish's supposed power to corrupt the entire country may be one of the bigger takeaways, the Post notes that the whole situation reeks of violations. \"}, page_content='The Trump Administration Claimed That Billie Eilish Is \"Destroying the Country\" The Trump Administration Claimed That Billie Eilish Is “Destroying the Country” In a new story published by the Washington Post, an anonymous Health And Human Services employee revealed that the Trump Administration had hired an advertising agency and tasked it with creating celebrity PSAs aimed to lift morale. The whole thing was supposed to be done before Election Day and to get some famous faces to pull attention away from an entire country being sieged by the coronavirus pandemic. However, the Post\\'s story notes that one celeb in particular: green-haired, soft-voiced Billie Eilish, was quickly disqualified because the team behind the entire debacle thought she was \"destroying our country and everything we care about.\" RELATED: Billie Eilish\\'s Followers Came to Her Defense Following a Body-Shaming Tweet The AV Club notes that the list of celebrities approved to be approached for the project was probably collected after Eilish\\'s performance at the Democratic National Convention. Apparently, the only name that managed to get vetted and actually come through for the project was Dennis Quaid. And seeing as how no Dennis Quaid PSA has hit the internet just yet, it\\'s clear that the $300 million project was a waste of taxpayer money. The AV Club adds that any individuals who had ever been critical of Donald Trump or \"supported former President Barack Obama, gay rights, or same-sex marriage\" were automatically disqualified. The Post published the reasoning behind a few more exclusions: \"The same document indicates that singer-songwriter Christina Aguilera \\'is an Obama-supporting Democrat and a gay rights supporting liberal\\'; singer Adam Levine is a \\'liberal Democrat who supported Obama and fights for gay rights\\'; singer-songwriter Justin Timberlake \\'publicly endorsed Obama and supports gay marriage\\'; actor Johnny Depp \\'appears to be aligned with the liberal left\\'; and actor Jack Black is \\'known to be a classic Hollywood liberal.\\'\" '), Document(metadata={'url': 'https://medium.com/everythings-interesting/no-the-trump-administration-didnt-accuse-billie-eilish-of-destroying-our-country-3771ad9361b6', 'context_before': '', 'context_after': ''}, page_content='No, the Trump administration didn’t accuse Billie Eilish of “destroying our country” The dangers of aggregate journalism in the age of “fake news” Earlier today, news broke in the Washington Post that the Trump administration had been attempting to set up a $250 million PSA campaign to “inspire hope” amid the ongoing coronavirus pandemic, an attempt which now seems to have fallen apart. Leaked internal documents obtained by the Post show an exhaustive list of celebrities who were approached to participate in the ad campaign, and everyone from Miranda Cosgrove to Meryl Streep is included, making the list a fascinating look at who’s famous at this moment… as well as which demographics the Trump administration thought each celeb could help reach. It’s quite a silly read. They think Lin-Manuel Miranda is perfect for Asian-American outreach, for some reason — perhaps just racist assumptions based on his name rather than any idea of who he is as a person. They seem to have ruled Christina Aguilera out of consideration because she “is a gay-rights supporting liberal,” whereas Lady Gaga’s entry bizarrely says she “has not specifically claimed any political side.” It’s a pop culture-obsessive’s delight, seeing through the looking glass at what conservatives apparently think of celebrities — who tend, typically, to be on our side. Many entertainment news outlets, though, chose to cover this story by zeroing in on one particular spreadsheet entry — the one about music’s it-girl Billie Eilish. In particular, outlets from the AV Club to Billboard, from NME and Complex to LoveBScott, all wrote something along the lines of: “Leaked documents show the Trump administration thinks Billie Eilish is ‘destroying our country and everything we care about.’” That’d be funny… if it were true. But he documents say no such thing. '), Document(metadata={'url': 'https://www.tmz.com/2020/10/29/billie-eilish-trump-document-ripped-leaked-destroying-our-country/', 'context_before': '', 'context_after': 'J Lo famously bashed Trump\\'s immigration policies during February\\'s Super Bowl halftime show and officials ruled out Judd because he \"believes Trump does not have the intellectual capacity to run as President.\" The leaked docs reportedly outline lots of other Trump administration beefs with potential celebs for the ad blitz. Highlights include labeling Christina Aguilera, Adam Levine and Justin Timberlake as liberal Obama-supporting Democrats who fight for gay rights. Jack Black is reportedly referred to in the docs as a \"classic Hollywood liberal\" and Johnny Depp was passed over because he \"appears to be aligned with the liberal left.\" '}, page_content='Trump\\'s Alleged Beef With Billie Eilish, WaPo Report Under Scrutiny Billie Eilish Trump Beef Or Misquote??? WaPo Report Under Scrutiny 6:28 PM PT -- The Trump administration might not hate Billie as much as everyone thought ... the Washington Post report detailing the alleged beef between the Prez and the singer is under intense scrutiny. Some folks are saying the WaPo took the \"destroying our country and everything we care about\" quote out of context. It\\'s what Billie said about Trump at the DNC, and allegedly NOT what a top Trump official said about her. The doc actually says Billie \"stated he \\'is destroying our country and everything we care about\\'\" ... according to Vice. In other words, the doc was just summing up Billie\\'s views on Trump. Billie Eilish is destroying the very fabric of American life ... at least that\\'s how officials in Donald Trump\\'s administration view the pop sensation. Here\\'s the deal ... a top Trump administration official put a decidedly partisan spin on a $250 million campaign it wanted to roll out weeks before the election, aiming to \"defeat despair and inspire\" hope amid the COVID-19 pandemic. We say it was partisan because the official reportedly ripped celebrities known to oppose the Prez. Billie drew much of the Trump administration\\'s scorn ... in the docs, which the Washington Post says were obtained by Democrats in the House, the Trump official described the singer as \"not a Trump Supporter\" and accused her of \"destroying our country and everything we care about.\" Billie\\'s bad review makes sense ... she performed earlier this year at the Democratic National Convention, and she said the President was destroying the country. Guess her phrasing struck a chord with Trump\\'s camp. The ad campaign was reportedly seeking celebs to support Trump\\'s response to the pandemic, and other famous folks like Jennifer Lopez and director Judd Apatow did not make the cut either. '), Document(metadata={'url': 'https://people.com/politics/billie-eilish-urges-fans-to-vote-in-2020-democratic-national-convention-appearance/', 'context_before': '', 'context_after': 'The only way to be certain of the future is to make it ourselves. Please register, please vote.\" Billie Eilish Reveals She Was Once \\'Super Religious\\' Even Though Her Family Wasn\\'t: \\'It Was Weird\\' Never miss a story — sign up for PEOPLE\\'s free daily newsletter to stay up-to-date on the best of what PEOPLE has to offer, from juicy celebrity news to compelling human interest stories In December, Eilish opened up to the Los Angeles Times about voting in her first election, and why she\\'s \"worried\" about the outcome of the presidential race. The artist said she is \"going to do all my research\" to be informed by Election Day. “I’m pretty worried about [2020],” she said at the time. “I think stupid Trump is probably going to get reelected, and that makes my heart break. You know, some people just love horrible people. It’s weird.” RELATED VIDEO: Joe Biden and Kamala Harris\\' First Joint Interview: \\'Audacity\\' of Partnering & Their \\'Modern Family\\' Values Meghan Markle Reveals Why She\\'ll Vote in 2020 Election: \\'I Know What It\\'s Like...to Feel Voiceless\\' In a message to fans on social media back in March, Eilish spoke on the importance of voting, especially for young people. “Like a lot of you, I’m going to be voting for the first time – and so are you. You’ve got to make sure you’re registered to vote already, pre-registered to vote, whatever it is.” she said, partnering with HeadCount.org to register voters. \"... Do it.\" Aside from Eilish, a number of other A-listers were enlisted to perform at the four-day DNC, which concludes Thursday night. '}, page_content='Politics Billie Eilish Says Trump Is \\'Destroying Our Country and Everything We Care About\\' in DNC Remarks \"Silence is not an option, and we cannot sit this one out,\" the singer about the Nov. 3 election ahead of her DNC performance on Wednesday By Benjamin VanHoose Benjamin VanHoose Benjamin VanHoose is an Associate Editor on the Movies team at PEOPLE. He has written about entertainment and breaking news for over five years. People Editorial Guidelines Published on August 20, 2020 10:12AM EDT Billie Eilish is taking control of her future. On Wednesday, the 18-year-old Grammy winner performed her latest single, \"My Future,\" during the virtual 2020 Democratic National Convention broadcast. Before the emotional live performance, however, Eilish made a plea to fans, urging them to vote in the Nov. 3 election. \"You don\\'t need me to tell you things are a mess,\" she began her message to viewers. \"Donald Trump is destroying our country and everything we care about. We need leaders who will solve problems like climate change and COVID, not deny them; leaders who will fight against systemic racism and inequality.\" \"And that starts by voting for someone who understands how much is at stake, someone who is building a team that shares our values,\" Eilish continued. \"It starts with voting against Donald Trump and for Joe Biden.\" The \"Bad Guy\" singer concluded her address by calling on everyone to register to vote and cast their ballot. \"Silence is not an option, and we cannot sit this one out,\" she said. \"We all have to vote like our lives and the world depends on it because they do. '), Document(metadata={'url': 'https://happymag.tv/leaked-trump-docs-billie-eilish-destroying-america/', 'context_before': '', 'context_after': \"Caputo, alongside other Trump appointees, then went on to consider more than 274 celebrities who could star as the campaign’s spokesperson. During this process, the majority of them were culled for obvious reasons. billie eilish destroying america and everything they care about: pic.twitter.com/DBEr3cUsJs Christina Aguilera was turned down due to being “an Obama-supporting Democrat and a gay rights supporting liberal”, with Justin Timberlake, Johnny Depp, and Maroon 5’s Adam Levine rejected for similar reasons. Meanwhile, The 40-Year-Old Virgin director Judd Apatow was booted (understandably) because he “believes Trump does not have the intellectual capacity to run as President”. Elsewhere, Jennifer Lopez was vetoed because her recent Super Bowl performance (which included children in cages) was a statement against Trump’s immigration policies, whilst Jack Black was dubbed “a classic Hollywood liberal”. Yet the most colourful rejection was reserved for megastar and Gen Z icon, Billie Eilish, who was someone they categorically dubbed as “not a Trump supporter” and “destroying our country and everything we care about”. Wtf Trump! Billie Eilish doesn't have anything to do with destroying the country. You destroyed it yourself, douche bag! All in all, the process left a modest ten celebrities who were deemed suitable for the job, a list which included Dr. Oz, Enrique Iglesias, and Billy Ray Cyrus. Whilst some of these contenders allegedly sat down for interviews, they have subsequently all withdrawn approval for their use. The whole endeavour has now been stopped in its tracks, although it appears unlikely the Trump administration will face any consequences. Caputo is now on a leave of absence due to health reasons. \"}, page_content='The Trump administration has labelled the 18-year-old, green-haired superstar Billie Eilish a threat to the sanctity of America. US President Donald Trump, admired by world dictators and extremist religious groups alike, is seemingly concerned by a less likely presence when it comes to the erosion of American society: Billie Eilish. In recently leaked documents – which reveal that Trump’s office considered using Eilish for a publicity campaign – the president’s administration described the singer as “destroying our country and everything we care about”. The admission comes as part of a larger matter in which the administration seemingly wanted to use $250 million of taxpayer money (intended for a coronavirus awareness campaign) for publicity designed to help Trump get re-elected. The allegations, which amount to a pretty serious scandal, came after Politico revealed that the Department of Health and Human Services (HHS) contacted several communications firms in regards to a $250 million contract. Apparently, the HHS, who is supposed to be independent, has recently been under heightened scrutiny around their partisan leanings. One former senior Obama HHS official described the move as “quite a stretch beyond what HHS traditionally does”. WH Officials Tried to Use $250 Million in Taxpayer Money on Covid Ad Campaign to Boost Trump Reelection! Dems on the House Oversight Committee accused HHS officials of engaging in a \"cover-up to conceal Trump misused hundreds of millions of taxpayer dollars for partisan purposes. — scott immordino (@ScottImmordino) October 29, 2020 Following this, documents on the matter were shared to the Washington Post by three Democratic congressional representatives, revealing that HHS Assistant Secretary for Public Affairs, Michael Caputo, was seemingly in charge of the initiative. Allegedly, Caputo had proposed the angle of the coronavirus awareness campaign be “Helping the President will Help the Country.” '), Document(metadata={'url': 'https://web.archive.org/web/20201101145631/https://nypost.com/2020/10/30/washington-post-wrongly-claims-trump-officials-criticized-billie-eilish/', 'context_before': '', 'context_after': ''}, page_content=\"A Washington Post story wrongly claimed the Trump administration accused Billie Eilish of “destroying our country” — then spread like wildfire among the entertainment industry. The article on Thursday — in part about hundreds of celebrities being vetted for a Trump administration coronavirus ad campaign — included a misattributed quote from the White House about Eilish. “Donald Trump is destroying our country and everything we care about,” the Grammy-winning singer said at the Democratic National Convention in August. Citing leaked documents obtained by Democratic House lawmakers, the Washington Post incorrectly wrote that the Trump officials described Eilish as “not a Trump supporter,” saying she is “destroying our country and everything we care about.” A screenshot of the leaked papers showed that Trump officials’ description of Eilish was clear — they said the “Bad Guy” singer “made a political statement on gun control in 2019; will be a first time voter in 2020; not a Trump supporter, stated he ‘is destroying our country and everything we care about.'” The flub was picked up by Vice editor Jill Krajewski, who noted that “an embarrassing number of music outlets” including Complex, NME, Consequence of Sound and The Fader aggregated the misreported Washington Post story. On Friday, a correction appeared on the Washington Post story. \")], metadata=None), classification_result=ClassificationResult(probs=array([1., 0., 0., 0.]), metadata=None)),\n",
       " EvidenceGenerationResult(evidences=[Evidence(question='Did the Trump administration plan a public health campaign featuring celebrities?', answer=\"Yes, the Trump administration planned to roll out a public health campaign featuring numerous celebrities to help 'defeat despair and inspire hope' amid the pandemic.\", url='https://www.businessinsider.nl/the-trump-administration-accused-billie-eilish-of-destroying-our-country-and-everything-we-care-about-in-newly-leaked-documents/', scraped_text='\\n- In a series of newly leaked documents, the Trump administration accused Billie Eilish of “destroying our country and everything we care about.” - The documents were part of a plan to launch a public health campaign that would feature various celebrities. - However, a Trump administration official reportedly injected “partisan political interests” into the campaign in an effort to support President Donald Trump. - Eilish was thus said to be unfit to participate since she was “not a Trump Supporter.” - Other celebrities, including Jennifer Lopez and director Judd Apatow, were also ruled out because of their politics. - The Washington Post reported that only 10 celebrities — out of hundreds — were ultimately approved to participate in the campaign, which hasn’t come to fruition yet. The Trump administration accused Billie Eilish of “destroying” the US in a new series of leaked documents, according to the Washington Post. On Thursday, the Post reported that the Trump administration had planned to roll out a public health campaign featuring numerous celebrities to help “defeat despair and inspire hope” amid the pandemic. But, in what appeared to be a move designed to support President Donald Trump ahead of Election Day, a top Trump administration official inserted “partisan political interests” into the $250 million advertising contract by disqualifying certain stars based on their political affiliations. Per the Post, the documents for the project (obtained by Democratic lawmakers) showed that some stars were ultimately excluded from consideration because they have criticized Trump, publicly supported Barack Obama, or were supportive of gay rights and same-sex marriage. Eilish, for example, was said to be unfit to participate because she was “not a Trump Supporter.” The documents also reportedly said that the 18-year-old was \"destroying our country and everything we care about.\" \\nOther stars, including Jennifer Lopez and director Judd Apatow, were also reportedly vetoed due to their past criticisms of the president. The Post reported that of at least 247 celebrities that were considered, only 10 were apparently approved: Dennis Quaid, Marc Anthony, Enrique Iglesias, Billy Ray Cyrus, Miranda Lambert, Garth Brooks, Dwyane Wade, Dr. Oz, CeCe Winans, and Shulem Lemmer. The \"Bad Guy\" singer has been vocal in her disapproval of Trump. In August, Eilish performed her latest single during a virtual appearance at the 2020 Democratic National Convention. Before launching into her rendition of \"My Future,\" however, Eilish gave an impassioned speech decrying Trump and his handling of the coronavirus pandemic. \"You don\\'t need me to tell you things are a mess,\" Eilish said. \"Donald Trump is destroying our country and everything we care about. We need leaders who will solve problems like climate change and COVID, not deny them. Leaders who will fight against systemic racism and inequality.\" Eilish continued: \"And that starts by voting for someone who understands how much is at stake. Someone who\\'s building a team that shares our values. It starts with voting against Donald Trump and for Joe Biden. Silence is not an option, and we cannot sit this one out.\" Eilish pressed the importance of the election and told viewers \"to vote like our lives and the world depend on it, because they do.\" She concluded: \"The only way to be certain of the future is to make it ourselves. Please register. Please vote.\" The singer subsequently shared her recorded message to Twitter, and Democratic presidential nominee Joe Biden also reshared it. Representatives for Eilish and the Trump administration didn\\'t immediately respond to Insider\\'s requests for comment. - Billie Eilish appeared to call out influencers for partying during the pandemic: \\'I haven\\'t hugged my best friends in 6 months\\' - Billie Eilish encourages fans to normalize \\'real bodies\\' after she was photographed wearing tighter clothing ', answer_type='Boolean'), Evidence(question=\"Was Billie Eilish considered for the Trump administration's public health campaign?\", answer=\"Yes, Billie Eilish was considered for the Trump administration's public health campaign.\", url='https://www.businessinsider.nl/the-trump-administration-accused-billie-eilish-of-destroying-our-country-and-everything-we-care-about-in-newly-leaked-documents/', scraped_text='\\n- In a series of newly leaked documents, the Trump administration accused Billie Eilish of “destroying our country and everything we care about.” - The documents were part of a plan to launch a public health campaign that would feature various celebrities. - However, a Trump administration official reportedly injected “partisan political interests” into the campaign in an effort to support President Donald Trump. - Eilish was thus said to be unfit to participate since she was “not a Trump Supporter.” - Other celebrities, including Jennifer Lopez and director Judd Apatow, were also ruled out because of their politics. - The Washington Post reported that only 10 celebrities — out of hundreds — were ultimately approved to participate in the campaign, which hasn’t come to fruition yet. The Trump administration accused Billie Eilish of “destroying” the US in a new series of leaked documents, according to the Washington Post. On Thursday, the Post reported that the Trump administration had planned to roll out a public health campaign featuring numerous celebrities to help “defeat despair and inspire hope” amid the pandemic. But, in what appeared to be a move designed to support President Donald Trump ahead of Election Day, a top Trump administration official inserted “partisan political interests” into the $250 million advertising contract by disqualifying certain stars based on their political affiliations. Per the Post, the documents for the project (obtained by Democratic lawmakers) showed that some stars were ultimately excluded from consideration because they have criticized Trump, publicly supported Barack Obama, or were supportive of gay rights and same-sex marriage. Eilish, for example, was said to be unfit to participate because she was “not a Trump Supporter.” The documents also reportedly said that the 18-year-old was \"destroying our country and everything we care about.\" \\nOther stars, including Jennifer Lopez and director Judd Apatow, were also reportedly vetoed due to their past criticisms of the president. The Post reported that of at least 247 celebrities that were considered, only 10 were apparently approved: Dennis Quaid, Marc Anthony, Enrique Iglesias, Billy Ray Cyrus, Miranda Lambert, Garth Brooks, Dwyane Wade, Dr. Oz, CeCe Winans, and Shulem Lemmer. The \"Bad Guy\" singer has been vocal in her disapproval of Trump. In August, Eilish performed her latest single during a virtual appearance at the 2020 Democratic National Convention. Before launching into her rendition of \"My Future,\" however, Eilish gave an impassioned speech decrying Trump and his handling of the coronavirus pandemic. \"You don\\'t need me to tell you things are a mess,\" Eilish said. \"Donald Trump is destroying our country and everything we care about. We need leaders who will solve problems like climate change and COVID, not deny them. Leaders who will fight against systemic racism and inequality.\" Eilish continued: \"And that starts by voting for someone who understands how much is at stake. Someone who\\'s building a team that shares our values. It starts with voting against Donald Trump and for Joe Biden. Silence is not an option, and we cannot sit this one out.\" Eilish pressed the importance of the election and told viewers \"to vote like our lives and the world depend on it, because they do.\" She concluded: \"The only way to be certain of the future is to make it ourselves. Please register. Please vote.\" The singer subsequently shared her recorded message to Twitter, and Democratic presidential nominee Joe Biden also reshared it. Representatives for Eilish and the Trump administration didn\\'t immediately respond to Insider\\'s requests for comment. - Billie Eilish appeared to call out influencers for partying during the pandemic: \\'I haven\\'t hugged my best friends in 6 months\\' - Billie Eilish encourages fans to normalize \\'real bodies\\' after she was photographed wearing tighter clothing ', answer_type='Boolean'), Evidence(question=\"Why was Billie Eilish disqualified from participating in the Trump administration's public health campaign?\", answer=\"Billie Eilish was disqualified because she was 'not a Trump supporter' and had made political statements against Trump.\", url='https://www.businessinsider.nl/the-trump-administration-accused-billie-eilish-of-destroying-our-country-and-everything-we-care-about-in-newly-leaked-documents/', scraped_text='\\n- In a series of newly leaked documents, the Trump administration accused Billie Eilish of “destroying our country and everything we care about.” - The documents were part of a plan to launch a public health campaign that would feature various celebrities. - However, a Trump administration official reportedly injected “partisan political interests” into the campaign in an effort to support President Donald Trump. - Eilish was thus said to be unfit to participate since she was “not a Trump Supporter.” - Other celebrities, including Jennifer Lopez and director Judd Apatow, were also ruled out because of their politics. - The Washington Post reported that only 10 celebrities — out of hundreds — were ultimately approved to participate in the campaign, which hasn’t come to fruition yet. The Trump administration accused Billie Eilish of “destroying” the US in a new series of leaked documents, according to the Washington Post. On Thursday, the Post reported that the Trump administration had planned to roll out a public health campaign featuring numerous celebrities to help “defeat despair and inspire hope” amid the pandemic. But, in what appeared to be a move designed to support President Donald Trump ahead of Election Day, a top Trump administration official inserted “partisan political interests” into the $250 million advertising contract by disqualifying certain stars based on their political affiliations. Per the Post, the documents for the project (obtained by Democratic lawmakers) showed that some stars were ultimately excluded from consideration because they have criticized Trump, publicly supported Barack Obama, or were supportive of gay rights and same-sex marriage. Eilish, for example, was said to be unfit to participate because she was “not a Trump Supporter.” The documents also reportedly said that the 18-year-old was \"destroying our country and everything we care about.\" \\nOther stars, including Jennifer Lopez and director Judd Apatow, were also reportedly vetoed due to their past criticisms of the president. The Post reported that of at least 247 celebrities that were considered, only 10 were apparently approved: Dennis Quaid, Marc Anthony, Enrique Iglesias, Billy Ray Cyrus, Miranda Lambert, Garth Brooks, Dwyane Wade, Dr. Oz, CeCe Winans, and Shulem Lemmer. The \"Bad Guy\" singer has been vocal in her disapproval of Trump. In August, Eilish performed her latest single during a virtual appearance at the 2020 Democratic National Convention. Before launching into her rendition of \"My Future,\" however, Eilish gave an impassioned speech decrying Trump and his handling of the coronavirus pandemic. \"You don\\'t need me to tell you things are a mess,\" Eilish said. \"Donald Trump is destroying our country and everything we care about. We need leaders who will solve problems like climate change and COVID, not deny them. Leaders who will fight against systemic racism and inequality.\" Eilish continued: \"And that starts by voting for someone who understands how much is at stake. Someone who\\'s building a team that shares our values. It starts with voting against Donald Trump and for Joe Biden. Silence is not an option, and we cannot sit this one out.\" Eilish pressed the importance of the election and told viewers \"to vote like our lives and the world depend on it, because they do.\" She concluded: \"The only way to be certain of the future is to make it ourselves. Please register. Please vote.\" The singer subsequently shared her recorded message to Twitter, and Democratic presidential nominee Joe Biden also reshared it. Representatives for Eilish and the Trump administration didn\\'t immediately respond to Insider\\'s requests for comment. - Billie Eilish appeared to call out influencers for partying during the pandemic: \\'I haven\\'t hugged my best friends in 6 months\\' - Billie Eilish encourages fans to normalize \\'real bodies\\' after she was photographed wearing tighter clothing ', answer_type='Extractive'), Evidence(question=\"Did the Trump administration documents explicitly state that Billie Eilish is 'destroying our country and everything we care about'?\", answer=\"No, the documents stated that Billie Eilish 'stated he [Trump] is destroying our country and everything we care about.'\", url='https://nypost.com/2020/10/30/washington-post-wrongly-claims-trump-officials-criticized-billie-eilish/', scraped_text=\"\\nA Washington Post story wrongly claimed the Trump administration accused Billie Eilish of “destroying our country” — then spread like wildfire among the entertainment industry. The article on Thursday — in part about hundreds of celebrities being vetted for a Trump administration coronavirus ad campaign — included a misattributed quote from the White House about Eilish. “Donald Trump is destroying our country and everything we care about,” the Grammy-winning singer said at the Democratic National Convention in August. Citing leaked documents obtained by Democratic House lawmakers, the Washington Post incorrectly wrote that the Trump officials described Eilish as “not a Trump supporter,” saying she is “destroying our country and everything we care about.” A screenshot of the leaked papers showed that Trump officials’ description of Eilish was clear — they said the “Bad Guy” singer “made a political statement on gun control in 2019; will be a first time voter in 2020; not a Trump supporter, stated he ‘is destroying our country and everything we care about.'” The flub was picked up by Vice editor Jill Krajewski, who noted that “an embarrassing number of music outlets” including Complex, NME, Consequence of Sound and The Fader aggregated the misreported Washington Post story. On Friday, a correction appeared on the Washington Post story. \\n\", answer_type='Extractive'), Evidence(question='Did the Washington Post issue a correction regarding the misattributed quote about Billie Eilish?', answer='Yes, a correction appeared on the Washington Post story.', url='https://nypost.com/2020/10/30/washington-post-wrongly-claims-trump-officials-criticized-billie-eilish/', scraped_text=\"\\nA Washington Post story wrongly claimed the Trump administration accused Billie Eilish of “destroying our country” — then spread like wildfire among the entertainment industry. The article on Thursday — in part about hundreds of celebrities being vetted for a Trump administration coronavirus ad campaign — included a misattributed quote from the White House about Eilish. “Donald Trump is destroying our country and everything we care about,” the Grammy-winning singer said at the Democratic National Convention in August. Citing leaked documents obtained by Democratic House lawmakers, the Washington Post incorrectly wrote that the Trump officials described Eilish as “not a Trump supporter,” saying she is “destroying our country and everything we care about.” A screenshot of the leaked papers showed that Trump officials’ description of Eilish was clear — they said the “Bad Guy” singer “made a political statement on gun control in 2019; will be a first time voter in 2020; not a Trump supporter, stated he ‘is destroying our country and everything we care about.'” The flub was picked up by Vice editor Jill Krajewski, who noted that “an embarrassing number of music outlets” including Complex, NME, Consequence of Sound and The Fader aggregated the misreported Washington Post story. On Friday, a correction appeared on the Washington Post story. \\n\", answer_type='Boolean'), Evidence(question='What did Billie Eilish say about Trump at the Democratic National Convention?', answer=\"Billie Eilish said, 'Donald Trump is destroying our country and everything we care about.'\", url='https://people.com/politics/billie-eilish-urges-fans-to-vote-in-2020-democratic-national-convention-appearance/', scraped_text='\\nPolitics Billie Eilish Says Trump Is \\'Destroying Our Country and Everything We Care About\\' in DNC Remarks \"Silence is not an option, and we cannot sit this one out,\" the singer about the Nov. 3 election ahead of her DNC performance on Wednesday By Benjamin VanHoose Benjamin VanHoose Benjamin VanHoose is an Associate Editor on the Movies team at PEOPLE. He has written about entertainment and breaking news for over five years. People Editorial Guidelines Published on August 20, 2020 10:12AM EDT Billie Eilish is taking control of her future. On Wednesday, the 18-year-old Grammy winner performed her latest single, \"My Future,\" during the virtual 2020 Democratic National Convention broadcast. Before the emotional live performance, however, Eilish made a plea to fans, urging them to vote in the Nov. 3 election. \"You don\\'t need me to tell you things are a mess,\" she began her message to viewers. \"Donald Trump is destroying our country and everything we care about. We need leaders who will solve problems like climate change and COVID, not deny them; leaders who will fight against systemic racism and inequality.\" \"And that starts by voting for someone who understands how much is at stake, someone who is building a team that shares our values,\" Eilish continued. \"It starts with voting against Donald Trump and for Joe Biden.\" The \"Bad Guy\" singer concluded her address by calling on everyone to register to vote and cast their ballot. \"Silence is not an option, and we cannot sit this one out,\" she said. \"We all have to vote like our lives and the world depends on it because they do. \\nThe only way to be certain of the future is to make it ourselves. Please register, please vote.\" Billie Eilish Reveals She Was Once \\'Super Religious\\' Even Though Her Family Wasn\\'t: \\'It Was Weird\\' Never miss a story — sign up for PEOPLE\\'s free daily newsletter to stay up-to-date on the best of what PEOPLE has to offer, from juicy celebrity news to compelling human interest stories In December, Eilish opened up to the Los Angeles Times about voting in her first election, and why she\\'s \"worried\" about the outcome of the presidential race. The artist said she is \"going to do all my research\" to be informed by Election Day. “I’m pretty worried about [2020],” she said at the time. “I think stupid Trump is probably going to get reelected, and that makes my heart break. You know, some people just love horrible people. It’s weird.” RELATED VIDEO: Joe Biden and Kamala Harris\\' First Joint Interview: \\'Audacity\\' of Partnering & Their \\'Modern Family\\' Values Meghan Markle Reveals Why She\\'ll Vote in 2020 Election: \\'I Know What It\\'s Like...to Feel Voiceless\\' In a message to fans on social media back in March, Eilish spoke on the importance of voting, especially for young people. “Like a lot of you, I’m going to be voting for the first time – and so are you. You’ve got to make sure you’re registered to vote already, pre-registered to vote, whatever it is.” she said, partnering with HeadCount.org to register voters. \"... Do it.\" Aside from Eilish, a number of other A-listers were enlisted to perform at the four-day DNC, which concludes Thursday night. ', answer_type='Extractive'), Evidence(question='Did multiple news outlets report the misattributed quote from the Washington Post?', answer='Yes, multiple news outlets including Complex, NME, Consequence of Sound, and The Fader aggregated the misreported Washington Post story.', url='https://nypost.com/2020/10/30/washington-post-wrongly-claims-trump-officials-criticized-billie-eilish/', scraped_text=\"\\nA Washington Post story wrongly claimed the Trump administration accused Billie Eilish of “destroying our country” — then spread like wildfire among the entertainment industry. The article on Thursday — in part about hundreds of celebrities being vetted for a Trump administration coronavirus ad campaign — included a misattributed quote from the White House about Eilish. “Donald Trump is destroying our country and everything we care about,” the Grammy-winning singer said at the Democratic National Convention in August. Citing leaked documents obtained by Democratic House lawmakers, the Washington Post incorrectly wrote that the Trump officials described Eilish as “not a Trump supporter,” saying she is “destroying our country and everything we care about.” A screenshot of the leaked papers showed that Trump officials’ description of Eilish was clear — they said the “Bad Guy” singer “made a political statement on gun control in 2019; will be a first time voter in 2020; not a Trump supporter, stated he ‘is destroying our country and everything we care about.'” The flub was picked up by Vice editor Jill Krajewski, who noted that “an embarrassing number of music outlets” including Complex, NME, Consequence of Sound and The Fader aggregated the misreported Washington Post story. On Friday, a correction appeared on the Washington Post story. \\n\", answer_type='Boolean'), Evidence(question=\"Did the Trump administration's public health campaign come to fruition?\", answer='No, the campaign has not come to fruition yet.', url='https://www.businessinsider.nl/the-trump-administration-accused-billie-eilish-of-destroying-our-country-and-everything-we-care-about-in-newly-leaked-documents/', scraped_text='\\n- In a series of newly leaked documents, the Trump administration accused Billie Eilish of “destroying our country and everything we care about.” - The documents were part of a plan to launch a public health campaign that would feature various celebrities. - However, a Trump administration official reportedly injected “partisan political interests” into the campaign in an effort to support President Donald Trump. - Eilish was thus said to be unfit to participate since she was “not a Trump Supporter.” - Other celebrities, including Jennifer Lopez and director Judd Apatow, were also ruled out because of their politics. - The Washington Post reported that only 10 celebrities — out of hundreds — were ultimately approved to participate in the campaign, which hasn’t come to fruition yet. The Trump administration accused Billie Eilish of “destroying” the US in a new series of leaked documents, according to the Washington Post. On Thursday, the Post reported that the Trump administration had planned to roll out a public health campaign featuring numerous celebrities to help “defeat despair and inspire hope” amid the pandemic. But, in what appeared to be a move designed to support President Donald Trump ahead of Election Day, a top Trump administration official inserted “partisan political interests” into the $250 million advertising contract by disqualifying certain stars based on their political affiliations. Per the Post, the documents for the project (obtained by Democratic lawmakers) showed that some stars were ultimately excluded from consideration because they have criticized Trump, publicly supported Barack Obama, or were supportive of gay rights and same-sex marriage. Eilish, for example, was said to be unfit to participate because she was “not a Trump Supporter.” The documents also reportedly said that the 18-year-old was \"destroying our country and everything we care about.\" \\nOther stars, including Jennifer Lopez and director Judd Apatow, were also reportedly vetoed due to their past criticisms of the president. The Post reported that of at least 247 celebrities that were considered, only 10 were apparently approved: Dennis Quaid, Marc Anthony, Enrique Iglesias, Billy Ray Cyrus, Miranda Lambert, Garth Brooks, Dwyane Wade, Dr. Oz, CeCe Winans, and Shulem Lemmer. The \"Bad Guy\" singer has been vocal in her disapproval of Trump. In August, Eilish performed her latest single during a virtual appearance at the 2020 Democratic National Convention. Before launching into her rendition of \"My Future,\" however, Eilish gave an impassioned speech decrying Trump and his handling of the coronavirus pandemic. \"You don\\'t need me to tell you things are a mess,\" Eilish said. \"Donald Trump is destroying our country and everything we care about. We need leaders who will solve problems like climate change and COVID, not deny them. Leaders who will fight against systemic racism and inequality.\" Eilish continued: \"And that starts by voting for someone who understands how much is at stake. Someone who\\'s building a team that shares our values. It starts with voting against Donald Trump and for Joe Biden. Silence is not an option, and we cannot sit this one out.\" Eilish pressed the importance of the election and told viewers \"to vote like our lives and the world depend on it, because they do.\" She concluded: \"The only way to be certain of the future is to make it ourselves. Please register. Please vote.\" The singer subsequently shared her recorded message to Twitter, and Democratic presidential nominee Joe Biden also reshared it. Representatives for Eilish and the Trump administration didn\\'t immediately respond to Insider\\'s requests for comment. - Billie Eilish appeared to call out influencers for partying during the pandemic: \\'I haven\\'t hugged my best friends in 6 months\\' - Billie Eilish encourages fans to normalize \\'real bodies\\' after she was photographed wearing tighter clothing ', answer_type='Boolean'), Evidence(question=\"Who was in charge of the Trump administration's public health campaign?\", answer='HHS Assistant Secretary for Public Affairs, Michael Caputo, was in charge of the initiative.', url='https://happymag.tv/leaked-trump-docs-billie-eilish-destroying-america/', scraped_text='\\nThe Trump administration has labelled the 18-year-old, green-haired superstar Billie Eilish a threat to the sanctity of America. US President Donald Trump, admired by world dictators and extremist religious groups alike, is seemingly concerned by a less likely presence when it comes to the erosion of American society: Billie Eilish. In recently leaked documents – which reveal that Trump’s office considered using Eilish for a publicity campaign – the president’s administration described the singer as “destroying our country and everything we care about”. The admission comes as part of a larger matter in which the administration seemingly wanted to use $250 million of taxpayer money (intended for a coronavirus awareness campaign) for publicity designed to help Trump get re-elected. The allegations, which amount to a pretty serious scandal, came after Politico revealed that the Department of Health and Human Services (HHS) contacted several communications firms in regards to a $250 million contract. Apparently, the HHS, who is supposed to be independent, has recently been under heightened scrutiny around their partisan leanings. One former senior Obama HHS official described the move as “quite a stretch beyond what HHS traditionally does”. WH Officials Tried to Use $250 Million in Taxpayer Money on Covid Ad Campaign to Boost Trump Reelection! Dems on the House Oversight Committee accused HHS officials of engaging in a \"cover-up to conceal Trump misused hundreds of millions of taxpayer dollars for partisan purposes. — scott immordino (@ScottImmordino) October 29, 2020 Following this, documents on the matter were shared to the Washington Post by three Democratic congressional representatives, revealing that HHS Assistant Secretary for Public Affairs, Michael Caputo, was seemingly in charge of the initiative. Allegedly, Caputo had proposed the angle of the coronavirus awareness campaign be “Helping the President will Help the Country.” \\nCaputo, alongside other Trump appointees, then went on to consider more than 274 celebrities who could star as the campaign’s spokesperson. During this process, the majority of them were culled for obvious reasons. billie eilish destroying america and everything they care about: pic.twitter.com/DBEr3cUsJs Christina Aguilera was turned down due to being “an Obama-supporting Democrat and a gay rights supporting liberal”, with Justin Timberlake, Johnny Depp, and Maroon 5’s Adam Levine rejected for similar reasons. Meanwhile, The 40-Year-Old Virgin director Judd Apatow was booted (understandably) because he “believes Trump does not have the intellectual capacity to run as President”. Elsewhere, Jennifer Lopez was vetoed because her recent Super Bowl performance (which included children in cages) was a statement against Trump’s immigration policies, whilst Jack Black was dubbed “a classic Hollywood liberal”. Yet the most colourful rejection was reserved for megastar and Gen Z icon, Billie Eilish, who was someone they categorically dubbed as “not a Trump supporter” and “destroying our country and everything we care about”. Wtf Trump! Billie Eilish doesn\\'t have anything to do with destroying the country. You destroyed it yourself, douche bag! All in all, the process left a modest ten celebrities who were deemed suitable for the job, a list which included Dr. Oz, Enrique Iglesias, and Billy Ray Cyrus. Whilst some of these contenders allegedly sat down for interviews, they have subsequently all withdrawn approval for their use. The whole endeavour has now been stopped in its tracks, although it appears unlikely the Trump administration will face any consequences. Caputo is now on a leave of absence due to health reasons. ', answer_type='Extractive'), Evidence(question='Were other celebrities also disqualified from the campaign for political reasons?', answer='Yes, other celebrities including Jennifer Lopez and director Judd Apatow were also ruled out because of their politics.', url='https://www.businessinsider.nl/the-trump-administration-accused-billie-eilish-of-destroying-our-country-and-everything-we-care-about-in-newly-leaked-documents/', scraped_text='\\n- In a series of newly leaked documents, the Trump administration accused Billie Eilish of “destroying our country and everything we care about.” - The documents were part of a plan to launch a public health campaign that would feature various celebrities. - However, a Trump administration official reportedly injected “partisan political interests” into the campaign in an effort to support President Donald Trump. - Eilish was thus said to be unfit to participate since she was “not a Trump Supporter.” - Other celebrities, including Jennifer Lopez and director Judd Apatow, were also ruled out because of their politics. - The Washington Post reported that only 10 celebrities — out of hundreds — were ultimately approved to participate in the campaign, which hasn’t come to fruition yet. The Trump administration accused Billie Eilish of “destroying” the US in a new series of leaked documents, according to the Washington Post. On Thursday, the Post reported that the Trump administration had planned to roll out a public health campaign featuring numerous celebrities to help “defeat despair and inspire hope” amid the pandemic. But, in what appeared to be a move designed to support President Donald Trump ahead of Election Day, a top Trump administration official inserted “partisan political interests” into the $250 million advertising contract by disqualifying certain stars based on their political affiliations. Per the Post, the documents for the project (obtained by Democratic lawmakers) showed that some stars were ultimately excluded from consideration because they have criticized Trump, publicly supported Barack Obama, or were supportive of gay rights and same-sex marriage. Eilish, for example, was said to be unfit to participate because she was “not a Trump Supporter.” The documents also reportedly said that the 18-year-old was \"destroying our country and everything we care about.\" \\nOther stars, including Jennifer Lopez and director Judd Apatow, were also reportedly vetoed due to their past criticisms of the president. The Post reported that of at least 247 celebrities that were considered, only 10 were apparently approved: Dennis Quaid, Marc Anthony, Enrique Iglesias, Billy Ray Cyrus, Miranda Lambert, Garth Brooks, Dwyane Wade, Dr. Oz, CeCe Winans, and Shulem Lemmer. The \"Bad Guy\" singer has been vocal in her disapproval of Trump. In August, Eilish performed her latest single during a virtual appearance at the 2020 Democratic National Convention. Before launching into her rendition of \"My Future,\" however, Eilish gave an impassioned speech decrying Trump and his handling of the coronavirus pandemic. \"You don\\'t need me to tell you things are a mess,\" Eilish said. \"Donald Trump is destroying our country and everything we care about. We need leaders who will solve problems like climate change and COVID, not deny them. Leaders who will fight against systemic racism and inequality.\" Eilish continued: \"And that starts by voting for someone who understands how much is at stake. Someone who\\'s building a team that shares our values. It starts with voting against Donald Trump and for Joe Biden. Silence is not an option, and we cannot sit this one out.\" Eilish pressed the importance of the election and told viewers \"to vote like our lives and the world depend on it, because they do.\" She concluded: \"The only way to be certain of the future is to make it ourselves. Please register. Please vote.\" The singer subsequently shared her recorded message to Twitter, and Democratic presidential nominee Joe Biden also reshared it. Representatives for Eilish and the Trump administration didn\\'t immediately respond to Insider\\'s requests for comment. - Billie Eilish appeared to call out influencers for partying during the pandemic: \\'I haven\\'t hugged my best friends in 6 months\\' - Billie Eilish encourages fans to normalize \\'real bodies\\' after she was photographed wearing tighter clothing ', answer_type='Boolean')], metadata={'suggested_label': 'Refuted', 'label_confidences': array([0.68145256, 0.03392753, 0.03392753, 0.25069239]), 'llm_type': 'gpt-4o', 'llm_output': {'questions': [{'question': 'Did the Trump administration plan a public health campaign featuring celebrities?', 'answer': \"Yes, the Trump administration planned to roll out a public health campaign featuring numerous celebrities to help 'defeat despair and inspire hope' amid the pandemic.\", 'source': '1', 'answer_type': 'Boolean'}, {'question': \"Was Billie Eilish considered for the Trump administration's public health campaign?\", 'answer': \"Yes, Billie Eilish was considered for the Trump administration's public health campaign.\", 'source': '1', 'answer_type': 'Boolean'}, {'question': \"Why was Billie Eilish disqualified from participating in the Trump administration's public health campaign?\", 'answer': \"Billie Eilish was disqualified because she was 'not a Trump supporter' and had made political statements against Trump.\", 'source': '1', 'answer_type': 'Extractive'}, {'question': \"Did the Trump administration documents explicitly state that Billie Eilish is 'destroying our country and everything we care about'?\", 'answer': \"No, the documents stated that Billie Eilish 'stated he [Trump] is destroying our country and everything we care about.'\", 'source': '3', 'answer_type': 'Extractive'}, {'question': 'Did the Washington Post issue a correction regarding the misattributed quote about Billie Eilish?', 'answer': 'Yes, a correction appeared on the Washington Post story.', 'source': '3', 'answer_type': 'Boolean'}, {'question': 'What did Billie Eilish say about Trump at the Democratic National Convention?', 'answer': \"Billie Eilish said, 'Donald Trump is destroying our country and everything we care about.'\", 'source': '8', 'answer_type': 'Extractive'}, {'question': 'Did multiple news outlets report the misattributed quote from the Washington Post?', 'answer': 'Yes, multiple news outlets including Complex, NME, Consequence of Sound, and The Fader aggregated the misreported Washington Post story.', 'source': '3', 'answer_type': 'Boolean'}, {'question': \"Did the Trump administration's public health campaign come to fruition?\", 'answer': 'No, the campaign has not come to fruition yet.', 'source': '1', 'answer_type': 'Boolean'}, {'question': \"Who was in charge of the Trump administration's public health campaign?\", 'answer': 'HHS Assistant Secretary for Public Affairs, Michael Caputo, was in charge of the initiative.', 'source': '9', 'answer_type': 'Extractive'}, {'question': 'Were other celebrities also disqualified from the campaign for political reasons?', 'answer': 'Yes, other celebrities including Jennifer Lopez and director Judd Apatow were also ruled out because of their politics.', 'source': '1', 'answer_type': 'Boolean'}], 'claim_veracity': {'Supported': '2', 'Refuted': '5', 'Not Enough Evidence': '2', 'Conflicting Evidence/Cherrypicking': '4'}, 'veracity_verdict': 'Refuted'}}),\n",
       " ClassificationResult(probs=array([1., 0., 0., 0.]), metadata=None))"
      ]
     },
     "execution_count": 23,
     "metadata": {},
     "output_type": "execute_result"
    }
   ],
   "source": [
    "(\n",
    "    new_dump[1],\n",
    "    new_dump[1].evidence_generation_result,\n",
    "    new_dump[1].classification_result\n",
    ")"
   ]
  },
  {
   "cell_type": "code",
   "execution_count": null,
   "metadata": {},
   "outputs": [],
   "source": []
  },
  {
   "cell_type": "code",
   "execution_count": 36,
   "metadata": {},
   "outputs": [],
   "source": [
    "with open(f\"/mnt/data/factcheck/averitec-data/data_store/submissions/{split}_{PIPELINE_NAME}.json\", \"w\") as f:\n",
    "    json.dump([d.to_submission() for d in new_dump], f, indent=4)\n",
    "with open(f\"/mnt/data/factcheck/averitec-data/data_store/submissions/{split}_{PIPELINE_NAME}.pkl\", \"wb\") as f:\n",
    "    pickle.dump(new_dump, f)"
   ]
  },
  {
   "cell_type": "code",
   "execution_count": 21,
   "metadata": {},
   "outputs": [
    {
     "name": "stdout",
     "output_type": "stream",
     "text": [
      "dev_mmr+gpt4o-dfewshot-tiebrk-atype\n",
      "Question-only score (HU-meteor):             0.45651171638681776\n",
      "Question-answer score (HU-meteor):           0.2875847086574023\n",
      "====================\n",
      "Veracity F1 scores:\n",
      " * Supported:                                0.7368421052631579\n",
      " * Refuted:                                  0.813953488372093\n",
      " * Not Enough Evidence:                      0.2222222222222222\n",
      " * Conflicting Evidence/Cherrypicking:       0.0784313725490196\n",
      " * macro:                                    0.46286229710162313\n",
      " * acc:                                      0.708\n",
      "--------------------\n",
      "AVeriTeC scores:\n",
      " * Veracity scores (meteor @ 0.1):           0.688\n",
      " * Veracity scores (meteor @ 0.2):           0.54\n",
      " * Veracity scores (meteor @ 0.25):          0.412\n",
      " * Veracity scores (meteor @ 0.3):           0.29\n",
      " * Veracity scores (meteor @ 0.4):           0.132\n",
      " * Veracity scores (meteor @ 0.5):           0.052\n",
      "--------------------\n",
      "AVeriTeC scores by type @ 0.25:\n",
      " * Veracity scores (Event/Property Claim):   0.20615390027006983\n",
      " * Veracity scores (Position Statement):     0.24902632031305175\n",
      " * Veracity scores (Causal Claim):           0.1744179187790451\n",
      " * Veracity scores (Numerical Claim):        0.23190823143116548\n",
      " * Veracity scores (Quote Verification):     0.17478359308805957\n"
     ]
    }
   ],
   "source": [
    "print(f\"{split}_{PIPELINE_NAME}\")\n",
    "%run src/prediction/evaluate_veracity.py --label_file /mnt/data/factcheck/averitec-data/data/dev.json --prediction_file /mnt/data/factcheck/averitec-data/data_store/submissions/{split}_{PIPELINE_NAME}.json"
   ]
  },
  {
   "cell_type": "code",
   "execution_count": 45,
   "metadata": {},
   "outputs": [
    {
     "name": "stdout",
     "output_type": "stream",
     "text": [
      "dev_mmr+gpt4o-dfewshot-gpttie-10ev\n",
      "Question-only score (HU-meteor):             0.44806149103778475\n",
      "Question-answer score (HU-meteor):           0.28123074910922286\n",
      "====================\n",
      "Veracity F1 scores:\n",
      " * Supported:                                0.7293233082706767\n",
      " * Refuted:                                  0.8165289256198347\n",
      " * Not Enough Evidence:                      0.19672131147540983\n",
      " * Conflicting Evidence/Cherrypicking:       0.14705882352941177\n",
      " * macro:                                    0.47240809222383323\n",
      " * acc:                                      0.71\n",
      "--------------------\n",
      "AVeriTeC scores:\n",
      " * Veracity scores (meteor @ 0.1):           0.69\n",
      " * Veracity scores (meteor @ 0.2):           0.544\n",
      " * Veracity scores (meteor @ 0.25):          0.402\n",
      " * Veracity scores (meteor @ 0.3):           0.27\n",
      " * Veracity scores (meteor @ 0.4):           0.124\n",
      " * Veracity scores (meteor @ 0.5):           0.038\n",
      "--------------------\n",
      "AVeriTeC scores by type @ 0.25:\n",
      " * Veracity scores (Event/Property Claim):   0.1996318277467308\n",
      " * Veracity scores (Position Statement):     0.24026378933443782\n",
      " * Veracity scores (Causal Claim):           0.17116573793633377\n",
      " * Veracity scores (Numerical Claim):        0.2197065552912399\n",
      " * Veracity scores (Quote Verification):     0.1606056002119244\n"
     ]
    }
   ],
   "source": [
    "print(f\"{split}_{PIPELINE_NAME}\")\n",
    "%run src/prediction/evaluate_veracity.py --label_file /mnt/data/factcheck/averitec-data/data/dev.json --prediction_file /mnt/data/factcheck/averitec-data/data_store/submissions/{split}_{PIPELINE_NAME}.json"
   ]
  },
  {
   "cell_type": "code",
   "execution_count": 22,
   "metadata": {},
   "outputs": [
    {
     "name": "stdout",
     "output_type": "stream",
     "text": [
      "Question-only score (HU-meteor):             0.44559202247101487\n",
      "Question-answer score (HU-meteor):           0.27486491800924373\n",
      "====================\n",
      "Veracity F1 scores:\n",
      " * Supported:                                0.6566037735849056\n",
      " * Refuted:                                  0.8098360655737705\n",
      " * Not Enough Evidence:                      0.1891891891891892\n",
      " * Conflicting Evidence/Cherrypicking:       0.0784313725490196\n",
      " * macro:                                    0.43351510022422124\n",
      " * acc:                                      0.686\n",
      "--------------------\n",
      "AVeriTeC scores:\n",
      " * Veracity scores (meteor @ 0.1):           0.672\n",
      " * Veracity scores (meteor @ 0.2):           0.532\n",
      " * Veracity scores (meteor @ 0.25):          0.394\n",
      " * Veracity scores (meteor @ 0.3):           0.256\n",
      " * Veracity scores (meteor @ 0.4):           0.106\n",
      " * Veracity scores (meteor @ 0.5):           0.03\n",
      "--------------------\n",
      "AVeriTeC scores by type @ 0.25:\n",
      " * Veracity scores (Event/Property Claim):   0.18721511530819013\n",
      " * Veracity scores (Position Statement):     0.2481496158938146\n",
      " * Veracity scores (Causal Claim):           0.1562263392835381\n",
      " * Veracity scores (Numerical Claim):        0.2067296026668847\n",
      " * Veracity scores (Quote Verification):     0.16204951947304194\n"
     ]
    }
   ],
   "source": [
    "%run src/prediction/evaluate_veracity.py --label_file /mnt/data/factcheck/averitec-data/data/dev.json --prediction_file /mnt/data/factcheck/averitec-data/data_store/submissions/{split}_{PIPELINE_NAME}.json"
   ]
  },
  {
   "cell_type": "code",
   "execution_count": 21,
   "metadata": {},
   "outputs": [
    {
     "name": "stdout",
     "output_type": "stream",
     "text": [
      "Question-only score (HU-meteor):             0.4505443758501816\n",
      "Question-answer score (HU-meteor):           0.2848630013774468\n",
      "====================\n",
      "Veracity F1 scores:\n",
      " * Supported:                                0.7003610108303249\n",
      " * Refuted:                                  0.831973898858075\n",
      " * Not Enough Evidence:                      0.29508196721311475\n",
      " * Conflicting Evidence/Cherrypicking:       0.08163265306122448\n",
      " * macro:                                    0.47726238249068476\n",
      " * acc:                                      0.726\n",
      "--------------------\n",
      "AVeriTeC scores:\n",
      " * Veracity scores (meteor @ 0.1):           0.71\n",
      " * Veracity scores (meteor @ 0.2):           0.574\n",
      " * Veracity scores (meteor @ 0.25):          0.42\n",
      " * Veracity scores (meteor @ 0.3):           0.304\n",
      " * Veracity scores (meteor @ 0.4):           0.122\n",
      " * Veracity scores (meteor @ 0.5):           0.044\n",
      "--------------------\n",
      "AVeriTeC scores by type @ 0.25:\n",
      " * Veracity scores (Event/Property Claim):   0.19985145249552058\n",
      " * Veracity scores (Position Statement):     0.23319550146247342\n",
      " * Veracity scores (Causal Claim):           0.16777171378885483\n",
      " * Veracity scores (Numerical Claim):        0.22671836798922917\n",
      " * Veracity scores (Quote Verification):     0.18830096525100962\n"
     ]
    }
   ],
   "source": [
    "%run src/prediction/evaluate_veracity.py --label_file /mnt/data/factcheck/averitec-data/data/dev.json --prediction_file /mnt/data/factcheck/averitec-data/data_store/submissions/dev_{PIPELINE_NAME}.json"
   ]
  },
  {
   "cell_type": "markdown",
   "metadata": {},
   "source": [
    "## collapsible begin"
   ]
  },
  {
   "cell_type": "code",
   "execution_count": null,
   "metadata": {},
   "outputs": [],
   "source": [
    "from IPython.display import display, Markdown, Latex"
   ]
  },
  {
   "cell_type": "code",
   "execution_count": null,
   "metadata": {},
   "outputs": [],
   "source": [
    "knn_retrieval_result = retriever(datapoint)\n",
    "display(Markdown(\"### 🗯️ \" + datapoint.claim))\n",
    "display(Markdown(\"*Retrieved by knn*\\n\\n\"))\n",
    "# sample 3\n",
    "for r in knn_retrieval_result:\n",
    "    newline = \"\\n\"\n",
    "    display(Markdown(f\"**{r.metadata['url']}**\\n\\n{r.page_content[:256]}\"))"
   ]
  },
  {
   "cell_type": "code",
   "execution_count": null,
   "metadata": {},
   "outputs": [],
   "source": [
    "from retrieval import MmrFaissRetriever\n",
    "\n",
    "mmr_retriever = MmrFaissRetriever(retriever.path)\n",
    "mmr_retrieval_result = mmr_retriever(datapoint)\n",
    "display(Markdown(\"### 🗯️ \" + datapoint.claim))\n",
    "display(Markdown(\"*Retrieved by MMR*\\n\\n\"))\n",
    "# sample 3\n",
    "for r in mmr_retrieval_result:\n",
    "    newline = \"\\n\"\n",
    "    display(Markdown(f\"**{r.metadata['url']}**\\n\\n{r.page_content[:256]}\"))"
   ]
  },
  {
   "cell_type": "code",
   "execution_count": null,
   "metadata": {},
   "outputs": [],
   "source": [
    "subquery_retriever = SubqueryRetriever(retriever)\n",
    "subquery_retrieval_result = subquery_retriever(datapoint)\n",
    "display(Markdown(\"### 🗯️ \" + datapoint.claim))\n",
    "display(Markdown(\"*Retrieved by subqueries*\\n\\n\"))\n",
    "# sample 3\n",
    "for r in subquery_retrieval_result:\n",
    "    newline = \"\\n\"\n",
    "    display(Markdown(f\"**{r.metadata['url']}**\\n\\n*{';'.join(r.metadata['queries'])}*\\n\\n{r.page_content[:256]}\"))"
   ]
  },
  {
   "cell_type": "code",
   "execution_count": null,
   "metadata": {},
   "outputs": [],
   "source": [
    "subquery_retrieval_result.metadata"
   ]
  },
  {
   "cell_type": "markdown",
   "metadata": {},
   "source": [
    "## Collapsible section end"
   ]
  },
  {
   "cell_type": "code",
   "execution_count": null,
   "metadata": {},
   "outputs": [],
   "source": [
    "evidence_generator = GptBatchedEvidenceGenerator(\"gpt-4o\")\n",
    "evidence_generation_result = evidence_generator(datapoint, retrieval_result)\n",
    "evidence_generation_result"
   ]
  },
  {
   "cell_type": "code",
   "execution_count": null,
   "metadata": {},
   "outputs": [],
   "source": [
    "evidence_generation_result.metadata[\"suggested_label\"]"
   ]
  },
  {
   "cell_type": "code",
   "execution_count": null,
   "metadata": {},
   "outputs": [],
   "source": [
    "datapoint.label"
   ]
  },
  {
   "cell_type": "code",
   "execution_count": null,
   "metadata": {},
   "outputs": [],
   "source": [
    "classifier = DefaultClassifier()\n",
    "classification_result = classifier(datapoint, evidence_generation_result, retrieval_result)\n",
    "str(classification_result), classification_result"
   ]
  },
  {
   "cell_type": "code",
   "execution_count": null,
   "metadata": {},
   "outputs": [],
   "source": [
    "datapoint2 = Datapoint.from_dict(dataset[16])\n",
    "pipeline = Pipeline(retriever, evidence_generator, classifier)\n",
    "pipeline_result = pipeline(datapoint2)\n",
    "pipeline_result"
   ]
  },
  {
   "cell_type": "code",
   "execution_count": null,
   "metadata": {},
   "outputs": [],
   "source": [
    "str(pipeline_result.classification_result), datapoint2.label"
   ]
  },
  {
   "cell_type": "code",
   "execution_count": null,
   "metadata": {},
   "outputs": [],
   "source": [
    "pipeline_result.to_submission()"
   ]
  },
  {
   "cell_type": "code",
   "execution_count": null,
   "metadata": {},
   "outputs": [],
   "source": [
    "# pickle dump pipeline result\n",
    "import pickle\n",
    "with open('data/pipeline_result.pkl', 'wb') as f:\n",
    "    pickle.dump(pipeline_result, f)"
   ]
  },
  {
   "cell_type": "code",
   "execution_count": null,
   "metadata": {},
   "outputs": [],
   "source": [
    "%run src/prediction/evaluate_veracity.py --label_file /mnt/data/factcheck/averitec-data/data/dev.json --prediction_file /mnt/data/factcheck/averitec-data/data_store/submission_dev_avg_clf.json"
   ]
  }
 ],
 "metadata": {
  "kernelspec": {
   "display_name": "Python 3 (ipykernel)",
   "language": "python",
   "name": "python3"
  },
  "language_info": {
   "codemirror_mode": {
    "name": "ipython",
    "version": 3
   },
   "file_extension": ".py",
   "mimetype": "text/x-python",
   "name": "python",
   "nbconvert_exporter": "python",
   "pygments_lexer": "ipython3",
   "version": "3.10.4"
  }
 },
 "nbformat": 4,
 "nbformat_minor": 2
}
