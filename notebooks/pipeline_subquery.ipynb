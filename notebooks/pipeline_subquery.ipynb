{
 "cells": [
  {
   "cell_type": "markdown",
   "metadata": {},
   "source": [
    "# Pipeline "
   ]
  },
  {
   "cell_type": "code",
   "execution_count": 69,
   "metadata": {},
   "outputs": [
    {
     "name": "stdout",
     "output_type": "stream",
     "text": [
      "The autoreload extension is already loaded. To reload it, use:\n",
      "  %reload_ext autoreload\n"
     ]
    }
   ],
   "source": [
    "%load_ext autoreload\n",
    "%autoreload 2\n",
    "\n",
    "from averitec import Datapoint\n",
    "from evidence_generation import GptEvidenceGenerator, GptBatchedEvidenceGenerator\n",
    "from classification import DefaultClassifier, HuggingfaceClassifier, AverageEnsembleClassifier, LogRegEnsembleClassifier\n",
    "from retrieval import SimpleFaissRetriever, Retriever, MmrFaissRetriever, SubqueryRetriever\n",
    "from pipeline import Pipeline, MockPipeline\n",
    "import pickle\n",
    "from labels import label2id, id2label\n",
    "import numpy as np\n",
    "from sklearn.metrics import classification_report\n",
    "import random\n",
    "from tqdm import tqdm\n",
    "random.seed(111)\n",
    "\n",
    "import json"
   ]
  },
  {
   "cell_type": "markdown",
   "metadata": {},
   "source": [
    "## Pipeline test"
   ]
  },
  {
   "cell_type": "code",
   "execution_count": 75,
   "metadata": {},
   "outputs": [],
   "source": [
    "split = \"dev\"\n",
    "path = \"/mnt/data/factcheck/averitec-data/\"\n",
    "with open(path + f\"data/{split}.json\") as f:\n",
    "    dataset = json.load(f)\n",
    "    for i in range(len(dataset)):\n",
    "        dataset[i][\"claim_id\"] = i\n",
    "    datapoints = [Datapoint.from_dict(d) for d in dataset]\n",
    "    "
   ]
  },
  {
   "cell_type": "code",
   "execution_count": 71,
   "metadata": {},
   "outputs": [
    {
     "data": {
      "text/plain": [
       "Datapoint(claim='Zimbabwe gets more than half of the African Export Import Bank loans.', claim_id=150, claim_date='7-10-2020', speaker='Tendai Biti', original_claim_url='https://web.archive.org/web/20210129100929im_/https://lh4.googleusercontent.com/WwmjzhYNC1g84X0JmQzruGRgW4tjrB8rAPT9Zx6x-W6xBhQpVIwGW1zw7wImZ6R6JAyQywo-CiCE3_AZtJcxB74aev7jVG1PFobnm3PKanSX0bwWP3Z8E6z-6tDwuPgrSa6mhuz7', reporting_source='Twitter', location_ISO_code='ZW', label='Refuted', metadata={'required_reannotation': False, 'justification': 'Seems the numbers is no where near half. Therefore the claim is refuted', 'fact_checking_article': 'https://web.archive.org/web/20210129100929/https://zimfact.org/does-zimbabwe-get-more-than-half-afreximbank-loans/', 'claim_types': ['Numerical Claim'], 'fact_checking_strategies': ['Numerical Comparison'], 'questions': [{'question': 'How much has Zimbabwe gotten from the Africa Export Import Bank', 'answers': [{'answer': 'Zimbabwe got US$2,78 billion.', 'answer_type': 'Abstractive', 'source_url': 'https://web.archive.org/web/20210917074327/https://afr-corp-media-prod.s3-eu-west-1.amazonaws.com/afrexim/Afreximbank-Half-Year-2020-Results-Presentation-.pdf', 'source_medium': 'PDF', 'cached_source_url': 'https://web.archive.org/web/20210917074327/https://afr-corp-media-prod.s3-eu-west-1.amazonaws.com/afrexim/Afreximbank-Half-Year-2020-Results-Presentation-.pdf'}]}, {'question': 'How much loans were given out by the bank', 'answers': [{'answer': 'US$15.2 billion at the end of June 2020.', 'answer_type': 'Abstractive', 'source_url': 'https://web.archive.org/web/20210917074327/https://afr-corp-media-prod.s3-eu-west-1.amazonaws.com/afrexim/Afreximbank-Half-Year-2020-Results-Presentation-.pdf', 'source_medium': 'PDF', 'cached_source_url': 'https://web.archive.org/web/20210917074327/https://afr-corp-media-prod.s3-eu-west-1.amazonaws.com/afrexim/Afreximbank-Half-Year-2020-Results-Presentation-.pdf'}]}, {'question': 'What percentage of 15.2 billion is 2.78 billion', 'answers': [{'answer': '18.2%', 'answer_type': 'Abstractive', 'source_url': 'https://www.online-calculator.com/', 'source_medium': 'Other', 'cached_source_url': 'https://web.archive.org/web/20230327125745/https://www.online-calculator.com/'}]}], 'cached_original_claim_url': 'https://web.archive.org/web/20210129100929im_/https://lh4.googleusercontent.com/WwmjzhYNC1g84X0JmQzruGRgW4tjrB8rAPT9Zx6x-W6xBhQpVIwGW1zw7wImZ6R6JAyQywo-CiCE3_AZtJcxB74aev7jVG1PFobnm3PKanSX0bwWP3Z8E6z-6tDwuPgrSa6mhuz7'})"
      ]
     },
     "execution_count": 71,
     "metadata": {},
     "output_type": "execute_result"
    }
   ],
   "source": [
    "datapoint = Datapoint.from_dict(dataset[150])\n",
    "datapoint"
   ]
  },
  {
   "cell_type": "code",
   "execution_count": 101,
   "metadata": {},
   "outputs": [
    {
     "data": {
      "text/plain": [
       "RetrievalResult(documents=[Document(metadata={'url': 'https://www.voanews.com/a/afreximbank-pledges-to-post-mugabe-zimbabwe/4161541.html', 'context_before': '', 'context_after': 'The southern African nation, which dumped its hyperinflation-hit currency in 2009, is struggling with a severe dollar crunch that has seen banks fail to avail cash to customers while importers struggle to pay for imports. Finance Minister Patrick Chinamasa promised in a budget speech last week to re-engage with international lenders, curb spending and attract investors to revive the economy. ', 'queries': ['Zimbabwe African Export Import Bank loan percentage 2020']}, page_content='The African Export and Import Bank has pledged up to $1.5 billion in new loans and financial guarantees to Zimbabwe in a major boost for new President Emmerson Mnangagwa\\'s government, the bank\\'s president and chairman said Tuesday. Mnangagwa, who took over last month after veteran autocrat Robert Mugabe quit following a de facto military coup, has vowed to focus on reviving the struggling economy and provide jobs in a nation with an unemployment rate exceeding 80 percent. Afreximbank was the only international lender that stood by Zimbabwe throughout Mugabe\\'s repressive 37-year rule, but its quick announcement of a fresh package of loans and guarantees appeared to be a vote of confidence in the new government. Cairo-based Afreximbank was a major funder of Zimbabwe while the country was cut off from the International Monetary Fund and World Bank for having defaulted on its debt in 1999. Bank president and chairman Okey Oramah told reporters after a meeting with Mnangagwa and senior government officials that Afreximbank would provide $150 million to local banks to help them pay for outstanding critical imports. \"We also discussed a number of other areas that involve additional investment from us for something that will be in the order of $1 billion to $1.5 billion that will include certain kinds of guarantees to encourage investors to come to Zimbabwe. \"We ... want to make sure that we support the stabilization of the economy, that means providing liquidity to make sure that the situation where people are rushing every time to look for cash is dealt with,\" Oramah said. In August, before Mugabe\\'s ouster, Afreximbank provided $600 million to help Zimbabwe pay for imports and $300 million to allow it to print more \"bond notes,\" a quasi-currency that officially trades on par with the U.S. dollar. Zimbabwe has a foreign debt of more than $7 billion and in September said it would not be able to pay $1.8 billion in arrears to the World Bank and African Development Bank until economic fundamentals improved. '), Document(metadata={'url': 'https://media.afreximbank.com/afrexim/AFREXIMBANK_20_YEARS_PROMOTING_AFRICAN_TRADE.pdf', 'context_before': 'Figure 4.2 Evolution of Global Nominal GDP, 1980-2012 (US$ Trillion) ....................................51 Figure 4.3 Trends in Short Term Interest Rate, 1980-2012 (percent) .............................................54 Figure 4.4 Trends of Real GDP Growth for BRICS, 1980-2011 (percent) ....................................55 Figure 4.5 The Share of BRICs in Global Output, 1980-2010 (percent) ........................................55 Figure 4.6 Trends in Global Trade,1980-2011 (US$ Trillion) ........................................................65 Figure 4.7: Trends in Volume of Global Trade,1980-2017 (percent) ..............................................65 Figure 4.8 Intra-South Trade, 1980-2010 (percent) .........................................................................67 Figure 4.9 Commodity Composition of Intra-South Trade, 2010 (percent) ...................................68 Figure 4.10 Distribution of Global Trade1980-2011 (percent) .......................................................70 Figure 4.11: Intra-Regional Trade 1990 - 2010 (percent) ................................................................70 Figure 4.12 Membership of the WTO 1995 - 2012 .........................................................................73 Figure 4.13 Global Output Commodity Prices, 1960-2012 (Percent) ............................................75 Figure 4.7 Trends in Major Commodity Prices, 1970-2012 (US$, 2005=100) .............................73 Figure 4.15 Africa’s Real GDP Growth and Drivers,1970-2011 (percent) ....................................81 Figure 4.16 Evolution of Africa’s Real GDP, Trade and Global Economic Growth,1970-2011  (percent) .......................................................................................................................... Figure 4.17 Growth Rate of Real GDP by Region, 2007-11 (percent) ........................................... Figure 4.18 Trends in Africa’s Merchandise Trade,1960-2012 (US$ Billion) ...............................91 ', 'context_after': 'the trade and economic development aspirations of its  public sector shareholders while using commercial  approaches to create and deliver to its private sector  shareholders remunerative financial returns on their  investments in the Bank --- a balancing act that the  To mark the twentieth anniversary of the establish- ment of the Bank, this Special 20th Anniversary Pub- lication (the “Book” or the “Report”) documents the  history, founding philosophy and objectives for the  establishment of the Bank; reviews the operations and  activities of the Bank, its performance in terms of the  operational and financial targets set in its various stra- tegic plans; and the near- to medium-term prospects of  the Bank. The Report is intended to serve as a useful  reference material to the Bank’s stakeholders and po- tential investors on the performance of the Bank over  the past two decades vis-à-vis the objectives for which  the Bank was established and against the backdrop of  the operating environment within which it conducted  The rest of this Book is organized in six Chapters.  nomic antecedents to the creation of the Bank while  Chapter Three discusses the processes and activities  leading to the formal establishment of the Bank as  well as critical elements of the Bank as drawn from  its Constitutive documents. Chapter Four reviews the  global and African operating environments in which  the Bank’s operations and activities were carried out  during the past twenty years followed in Chapter Five  by a discussion of the Bank’s planning processes and  an in-depth analysis and assessment of the Bank’s op- erational and financial performances in the context of  the corporate objectives set under its medium-term  strategic plans. A sample of operational transactions  of the Bank’s business are discussed in Chapter Six.  pects for African trade and the Bank’s business, and  concludes highlighting important lessons for the de- The Book shows that the challenges in the global and  ', 'queries': ['African Export Import Bank loan distribution by country 2020']}, page_content='Figure 4.19 Africa’s Share of Global Merchandise Trade,1960-2012 (percent) ............................91 Figure 4.20 Share of Intra-African Trade inTotal  African Merchandise Trade,1980-2011  (percent) .......................................................................................................................... Figure 4.21 Africa: Contribution of Services Trade,1990-2011 (percent) ......................................97 Figure 4.22 International Tourism Exports, 1995-2011 ................................................................101 the “Bank”) was created as a regional trade finance in- stitution based on a unique international public-private  partnership among African public and private inves- tors and non- African investors to spearhead trade de- velopment in Africa  by promoting and financing in- tra- and extra-African trade. The idea of a continental  trade finance bank was conceived by African Ministers  of Finance who attended the Annual Meeting of the  Board of Governors of the African Development Bank  (AfDB) in May 1987 in Cairo, Egypt. At that meeting,  studies to determine the feasibility of establishing a con- tinental trade finance institution to promote the devel- opment of intra- and extra- African trade by addressing  the challenges to trade development in the continent.  Those challenges included, among others, the low lev- el of intra-African trade, decline in trade and project  finance flows to the continent and worsening external  debt position of many African countries. The Ministers  were of the view that a specialized continental finan- cial institution was needed and that such an institution  would be viable. The outcome of the feasibility study  pointed to the viability of setting up such an institu- tion. Following conclusion of preparatory works for its  establishment, the Bank was formally launched at the  maiden General Meeting of Shareholders that was held  As an international public–private partnership, the  Bank was expected to operate in a manner that meets  '), Document(metadata={'url': 'https://afr-corp-media-prod.s3-eu-west-1.amazonaws.com/afrexim/Afreximbank-Half-Year-2020-Results-Presentation-.pdf', 'context_before': 'African Export-Import Bank  |  Half Year 2020 Results Presentation Implemented its business continuity plan and adopted various measures to mitigate the impact of Covid-19 on its staff, customers, business, systems, budget, loan quality, liquidity and capital. These measures are being reviewed and validated regularly Enforced Work From Home “WFH” initiative since March 2020 and restricted travel out of duty stations for staff and their family members. Entrenched governance, as Board and Management Committees met regularly, while all operations continued normally Demonstrated relevance with a net amount of US$3 billion under PATIMFA to assist member countries in managing the adverse impact of financial, economic, and health shocks caused by the pandemic. US$200 million has been set aside to finance the production of COVID-19 equipment and medical supplies within Africa Disbursed more than US$3.5 billion as PATIMFA-related loans and provided a grant of US$3 million towards the COVID-19 Special Fund set up by the African Union as well as to the African Center for Disease Control and other agencies Conducted its 27th AGM by correspondence on 13 June 2020 and shareholders re- appointed Prof Benedict O. Oramah as President for a new 5-year term. In addition, the African Union affirmed that “Afreximbank has played a major countercyclical role in African Export-Import Bank  |  Half Year 2020 Results Presentation African Export-Import Bank  |  Half Year 2020 Results Presentation ▪ The Bank’s total assets grew by 34% to US$19.4 billion (FY2019: US$14.4 billion). The growth was driven by an (FY2019: 83%), as the proportion of cash stood at 20.2% ▪ The robust cash position affirms that the Bank has the liquidity to finance planned disbursements in the second African Export-Import Bank  |  Half Year 2020 Results Presentation Funded by solid, diversified capital and liquidity position… ▪ Diversified funding sources continue to support the Bank’s balance sheet evolution. Credit lines from FIs, customer ', 'context_after': '▪ …which has improved income mix in the first half with non- interest income accounting for 10% of total income, higher than 5% in H1-2019. Fees from Guarantees, LCs, and digital initiatives will drive fee income ratio in the medium ▪ Internal efficiencies have created better economic value with net income margin rising to 29.0% (H12019: 27.6%). African Export-Import Bank  |  Half Year 2020 Results Presentation Robust income has trickled down the economic value funnel African Export-Import Bank  |  Half Year 2020 Results Presentation ▪ Net interest margin increased to 3.7% (H1-2019: 3.3%), due to higher net interest income following the decline in interest ▪ The NIM remains satisfactory and is in line with expected average margins achieved on the Bank’s interest-bearing assets. ▪ Cost to income ratio improved to 16.5% (H1-2019: strategy and drive various initiatives in the Bank. African Export-Import Bank  |  Half Year 2020 Results Presentation ▪ Increase in the Bank’s net asset value by 7.7% to US$54,793 (FY-2019: US$50,896) demonstrates growth ▪ Return on average equity and assets remained stable at 10.4% and 1.8% respectively during the first half of ▪ Despite raising additional equity of US$140 million in the first half of the year, RoAE remained stable at 10.4%. African Export-Import Bank  |  Half Year 2020 Results Presentation 1 Compound annual growth rate over one-and-half years   African Export-Import Bank  |  Half Year 2020 Results Presentation African Export-Import Bank  |  Half Year 2020 Results Presentation African Export-Import Bank  |  Half Year 2020 Results Presentation African Export-Import Bank  |  Half Year 2020 Results Presentation ', 'queries': ['African Export Import Bank loans statistics 2020']}, page_content='deposits account for 58.4% of funding pool in the first half. ▪ Liquidity position improved to 20.2% (FY2019: 15.4%) due to increased funding and in anticipation for lending ▪ Equity base continues to grow steadily on the back of internally generated capital and new equity raise… ▪ …this has enabled the Bank to maintain a strong capital adequacy ratio of 23% (FY2019: 23%) which is above African Export-Import Bank  |  Half Year 2020 Results Presentation ▪ Loan book accelerated by 26% to $15.2 billion (FY2019: $12.0 billion) due to the disbursement of PATIMFA-related loans needed to support customers against the challenges ▪ Lending to financial services increased to 55.2%, which includes support to African central banks (22% of total loans). Exposure to Oil & Gas sector reduced to 13.8% (FY2019: 6.2%) in line with efforts to boost industrialization African Export-Import Bank  |  Half Year 2020 Results Presentation Improving loan distribution by geography and programme ▪ Having received a large amount of new loans, North Africa’s proportion of loan book increased to 26.9% (FY2019: 16.3%). Lending to West Africa improved over the period to $5.5 billion ▪ Actual lending amount to East Africa increased by 25.3% to $2.2 billion, while support to Southern Africa rose by 10.3% to ▪ Lines of credit and direct finance continue to be the Bank’s main financing programmes accounting for 75.4% of total African Export-Import Bank  |  Half Year 2020 Results Presentation ▪ NPL ratio was 3.47% in H1-2020, and this is still below the target ceiling of 4%. This affirms the efficacy of the various credit enhancement and risk management tools deployed by the Bank. ▪ The Bank’s loan loss coverage ratio of 121% (FY-2019: 118%) remained satisfactory and above the minimum African Export-Import Bank  |  Half Year 2020 Results Presentation ▪ Gross income for Half year 2020 amounted to US$520.4 million in June 2018. The key driver was interest income as well as increased contribution from advisory services… '), Document(metadata={'url': 'https://media.afreximbank.com/afrexim/AFREXIMBANK_20_YEARS_PROMOTING_AFRICAN_TRADE.pdf', 'context_before': 'projects in Africa. Traditional instruments used by the  Bank to leverage international financing into Africa  include arranging and co-arranging syndications and  club deals and inviting others to share the risk of  such deals; granting lenders taking African exposures  facilities; raising money in its name from the markets  and on-lending to entities that would ordinarily not  be able to access the international financial markets;  and providing Advisory Services that encourage debt  and non-debt capital inflows. For instance, in 2010,  in fulfilment of its leveraging objective, the Bank  arranged, co-arranged or participated in 28 syndicated  financing transactions amounting to US$4.23 billion.  The Bank’s participation in these syndicated deals  funding committed by the Bank, it was able to attract  into Africa, on the average, about US$4.5 to support  In  2011, the Bank arranged, co-arranged or participated  in 14 syndicated financing transactions amounting to  US$3.27 billion. The Bank’s participation in those  syndicated deals amounted to US$953 million. Aside  from funding, the Bank, in some cases, supported the  deals by providing additional comfort in the form  of country risk guarantees to some members of the  lending Syndicate. Thus, for every US dollar funding  committed by the Bank, it was able to attract into  Africa about US$3.4 to support trade and bankable  trade-related projects in the continent. In furtherance  of its leveraging goal, in 2012, the Bank arranged, co- arranged or participated in 15 syndicated financing  transactions worth US$5.45 billion; and participated  in those deals up to an amount of US$894.5 million.  Following these developments, for every US dollar  committed by the Bank, it was able to attract into  Africa about US$6.10 to support bankable trade and  Further, during 2011, the Bank supported CBZ Bank  in the issuance of a three-year Zimbabwe Economic  issuance, which was arranged and guaranteed by the  Bank, mobilised much needed long term funding for  ', 'context_after': 'the Bank’s funding needs, only US$300 million was  taken (Table 6.2). The tenor of 5 years was chosen in  line with the objectives of the Bank to leverage term  funding to support the capital investments in Africa. Further, in July 2011, the Bank issued a benchmark  size bond in an amount of US$500 million under its  tight end attracted a coupon of 5.75% for a tenor of  5 years. The bond was six times oversubscribed with  an order book of US$3.2 billion at time of market  distress due to a worsening of the sovereign debt  crisis of the Eurozone. The success of the transaction  underscored the confidence of the bond market in the  Bank’s credit standing. Again, in December 2012, the  Bank arranged a private placement with BNP Paribas  to raise €35million under the US$1.5 billion EMTN  financing into the continent by providing guarantees  guarantee and reimbursement guarantee in an amount  of US$642.2 million as comfort to entities funding  African entities/projects. The Bank also actively used  its borrowing activities in leveraging international  As part of its effort at promoting intra-African trade,  the Bank has been providing financing and advisory  aviation) and communication service providers with a  pan-African focus to enable them build the necessary  infrastructure and/or provide the necessary services  to support the trade. In this regard, during 2010, the  facility in favour of Lonrho’s Fly540 (Fly540). Fly540  is building the first international standard, regional  airline that fully connects Sub Saharan Africa ---  East to West and North to South. Fly540 focuses on  operations built around three regional hubs, in Nairobi  hub feeds passengers domestically, regionally and  across the continent providing a route network that  connects the continent, and offers intercontinental  passengers arriving from Europe, USA, Middle East  and Far East a pan African access. The Kenyan and  Angolan hubs started operations well ahead of the  third regional hub in Accra, Ghana, which commenced  ', 'queries': ['Zimbabwe gets more than half of the African Export Import Bank loans.']}, page_content='capital investments in key sectors of the Zimbabwean  economy, including mining, energy and agriculture.  foreign investor participation, helped to mobilize  resources from both domestic and foreign investors.  The transaction reflects the success of the Bank’s  work towards encouraging the return of international  investors into Zimbabwe in support of the country’s  leverages international funding into Africa through  its partnership with Export Credit Agencies (ECAs),  who provide financing and guarantees for importation  of essential and capital goods from their country; and  Development Finance Institutions (DFIs), who provide  term financing for essential projects. Leveraging of  Table 6.1 Syndications/ Club Deals Arranged, Co-arranged by AFREXIMBANK, 2000 - 12 * Leverage Ratio is the  total amount the Bank raises per dollar invested Source: Afreximbank Annual Report (various issues) cHapter sIX: trade deVeLopment Impact of tHe BanK’s operatIons and actIVItIes significantly in recent times, especially at the height  of the global financial and economic crises in 2008/9  with a view to ensuring that African trade did not  suffer as a result of the crises. In this regard, in 2010,  for example, the Bank mobilised funded and unfunded  International Cooperation (US$100 million), Korea  others. The Bank also leveraged funding support from  DFIs, including the International Finance Corporation  (IFC) of the World Bank (US$200 million), African  million) in 2010. Overall, during 2009-12, the Bank  leveraged term funding of over US$.1.1 billion from  As part of its efforts at diversifying funding sources  trade-related projects in response to growing requests  from African counterparties in member countries, the  Bank, in 2009, arranged a US$1.5 billion Euro Medium  in the international bond markets. After successful  roadshows in Europe and Asia, the order books were  closed with orders in excess of US$1.5 billion from  135 different accounts spread across Europe, Asia,  '), Document(metadata={'url': 'https://gfmag.com/country/zimbabwe-gdp-country-report/', 'context_before': '', 'context_after': 'Protestant 74.8% (includes Apostolic 37.5%, Pentecostal 21.8%, other 15.5%), Roman Catholic 7.3%, other Christian 5.3%, traditional 1.5%, Muslim 0.5%, other 0.1%, none 10.5%(2015 est.) ', 'queries': ['Zimbabwe share of African Export Import Bank loans 2020']}, page_content='Includes Zimbabwe real Gross Domestic Product growth rate, with latest forecasts and historical data, GDP per capita, GDP composition and breakdown by sector. Browse additional economic indicators and data sets, selected by Global Finance editors, to learn more about Zimbabwe economic outlook, debt to GDP ratio, international trade performance and population trends. Rankings of Zimbabwe best banks and safest banks are also available. International Monetary Fund (IMF), data retrieved October 2019 |Public debt (General government gross debt as a % of GDP) |Public deficit (General government net lending/borrowing as a % of GDP) |Exports as percent of GDP (Exports of goods and services) Opium, fruits and nuts, handwoven carpets, wool, cotton, hides and pelts, precious and semi-precious gems, and medical herbs Machinery and other capital goods, food, textiles, petroleum products China 21%, Iran 20.5%, Pakistan 11.8%, Kazakhstan 11%, Uzbekistan 6.8%, Malaysia 5.3%(2017) |Value of cross-border M&A, by country of purchaser |Cross-border M&A deals worth over $3 billion completed in 2014 |Cross-border M&A deals worth over $3 billion completed in 2015 Economies are ranked on their ease of doing business. A high ease of doing business ranking means the regulatory environment is more conducive to the starting and operation of a local firm. Dealing with Construction Permits: 140 out of 190 countries Protecting Minority Investors: 97 out of 190 countries (1 represents the most free, 7 the least free rating) (fixed-telephone subscribers and mobile-cellular subscribers) Shona (official; most widely spoken), Ndebele (official, second most widely spoken), English (official; traditionally used for official business), 13 minority languages (official; includes Chewa, Chibarwe, Kalanga, Koisan, Nambya, Ndau, Shangani, sign lan Definition: age 15 and over can read and write english (2015 est.) '), Document(metadata={'url': 'https://erlassjahr.de/wordpress/wp-content/uploads/2016/03/ZIM_Uncovering_Zimbabwes_debt.pdf', 'context_before': 'official currencies. Along with the formation of the  led to a stabilisation of the Zimbabwean economy,  with growth returning since 2009, supported by high  In the early 2000s debt owed to other governments  increased by one-third. It is likely that this was due to   export credit agencies paying out on defaulted private   Export credit agencies promote exports from their  country by giving government backing to bank loans   multinational bank gives a loan to the Zimbabwean  government to buy exports from a British company. The   UK government export credit agency, the Export Credits   repayments, the UK government bails out the bank and   (US$300 million).143 At least £90 million of this plus  interest arrears originated between 2000 and 2004,  private bank loans used to pay for British exports   to, amongst others, the Ministry of Finance, ZESA   UK government £20.9 million for loans to buy 1,500  British made Land Rovers and parts to be used by the  Zimbabwean police. A further £5.9 million is owed  on loans given to buy radar equipment from Siemens  revealed whether this was for civilian or military use.  Incredibly, the UK ECGD says that it “does not hold  that information” when asked what debt repayments  say what date the exports were first supported, and  how much of the debt owed is principle and interest,  Whilst Zimbabwe has been in default on most of its  loans to the west, it has continued to make some (but   not all) repayments to the IMF, under threat of expulsion.   million. This has tended to consist of a few million  dollars a year, but in 2005 Zimbabwe made a one-off  payment of $165 million, allegedly through raiding  private foreign exchange accounts in Harare.148 In  September 2011 the IMF said it  “strongly encouraged  institutions stopped lending to Zimbabwe in the 2000s,   one key new lender has been China. One of the most  million (US$100 million) loan agreed in 2011 to build  a defence college (it is not known how much of this  has been disbursed). Devaluation of the US dollar  ', 'context_after': 'Population using an improved drinking water source, per cent Population using an improved sanitation facility, per cent reconciliation of owed amounts has yet been made   with creditors, and it is feared that some new loans and   activities are not fully captured in official statements.  Zimbabwe’s debt today has been reported to be as high   as US$7 billion.156 The IMF and World Bank estimate  amounts to around 120 per cent of national income.157  Zimbabwe is currently in default on most of its debt  from the western world, although it is taking out  new loans and repaying lenders such as China. The  Zimbabwean coalition government has recently set up  a new debt management office and has opened talks  with creditors on resolving the debt. The government  says it intends to implement a hybrid option of taking  part in the ‘best’ parts of the Heavily Indebted Poor  Countries (HIPC) initiative and using revenue from  diamond sales to pay off the debt.166 However, for the  creditors which run the HIPC scheme, there is at the  moment no option for a country to choose which bits  it wants to take part in. What creditors require of a  Below we look at the options for Zimbabwe and what  Members of Zimbabwean civil society meet to discuss alternatives for dealing with debt and to promote responsible lending debts. It is a voluntary scheme, meaning no creditor  is obligated to cancel any debts. On completion of  the scheme, multilateral and most bilateral creditors  relieve debts to get the total debt down to a level  judged by the IMF and World Bank to be ‘sustainable’.  private creditors is patchy. In addition, many western  governments cancel up to 100 per cent of debt owed,  whilst the IMF, World Bank and African Development  Multilateral Debt Relief Initiative (MDRI) – cancel 100  per cent of debt owed to them prior to 2003/2004.  Zimbabwe does not officially qualify for the Heavily  default on World Bank repayments, it has never been  reclassified as being poor enough to be eligible to  ', 'queries': ['Tendai Biti claim Zimbabwe African Export Import Bank loans']}, page_content='against the Yuan, a process that is only likely to continue,  means the relative size of the loan for the Zimbabwean  economy has already increased. The interest rate on  this loan has reported to be between 2 and 5 per cent.  Land Rovers on display at British motor festival, 2008. It is  not known what make were sold to the Zimbabwean police. 1980    82      84      86      88    1990    92     94      96      98   2000    02      04      06      08   2010 The loan agreement was signed by Finance Minister  Tendai Biti before it was scrutinised by parliament.  Under questioning in parliament, Minister Biti said:   “A country like Zimbabwe does not have the capacity of   repaying those interests. It does not have the capacity   of paying such amounts.” 150 Given these views, it is  unclear why Minister Biti signed the loan agreement.  According to news reports, parliamentarians were   unhappy that they were not consulted on the contraction   of the loan. By the time of the parliamentary debate  Other loans have included US$25 million of loans for  agricultural equipment and tools, tied to no less than  China has also been following the past practice of   western governments by giving export credits; backing   bank loans to Zimbabwe to buy Chinese exports. In   Chinese fertilisers and agricultural equipment.151 Other Chinese loans have included US$20 million for  steel production and US$8 million for the ministry of  specifically states loans would be repaid with proceeds   of exports of tobacco, cotton and minerals such as  these exports are vital to the continued industrial  Whilst Zimbabwe is in default on most of its external  debts, according to the World Bank it continues to   pay around US$100 million a year in external debt  service, around 2 per cent of national income and   An internally displaced family’s weekly food supply, provided  Table 2. Progress towards the Millennium Development Goals  (Data is for nearest available years. Only those where some data is available are listed)155 '), Document(metadata={'url': 'https://www.afreximbank.com/afreximbank-tackles-zimbabwes-financial-sector-liquidity-challenges-new-facility-trade-finance-banks/', 'context_before': 'Cairo, 11 Feb. 2014– To boost access to trade finance, the African Export-Import Bank (Afreximbank) has entered into an agreement to introduce a facility and associated instruments to alleviate the liquidity challenges confronting the financial sector in Zimbabwe. The Afreximbank Trade Debt-backed Securities (AFTRADES) will be provided to participating banks as debt securities that could be used as collateral for interbank funds placements in order to promote interbank dealings among Zimbabwean Banks active in trade finance, according to the terms of a memorandum of understanding signed on by Afreximbank, the Zimbabwe Ministry of Finance and Economic Development and the Reserve Bank of Zimbabwe. “Our objective is to use this facility to enable trade finance banks in Zimbabwe to access much-needed liquidity from cash-surplus banks in the country, thereby increasing their capacity to deepen their trade finance activities,” said Jean-Louis Ekra, President of Afreximbank, after signing the memorandum of understanding in Cairo on 10 February. Patrick Chinamasa, Minister of Finance and Economic Planning, and Dr. Charity L. Dhliwayo, Acting Governor of the Reserve Bank, had signed it on 31 January on behalf of the Zimbabwean parties. Mr. Ekra said that Afreximbank’s decision to introduce the facility was motivated by its recognition of the serious constraints limiting the access of Zimbabwe’s trade finance banks to funding as a result of the liquidity challenge confronting the financial sector. Under the terms of the memorandum of understanding, AFTRADES would be structured as a collateral swap involving the issuance of securities by Afreximbank to participating banks in exchange for trade–related collateral or securities presented by those banks. ', 'context_after': '', 'queries': ['Zimbabwe African Export Import Bank loan percentage 2020']}, page_content='The Government of Zimbabwe, through the Ministry of Finance and Economic Development, will serve as the facility’s guarantor and liquidity support contributor, up to agreed levels, while the Reserve Bank of Zimbabwe will grant the regulatory approvals required by the participating banks. In addition, the Reserve Bank will provide the infrastructure required for the implementation and administration of the facility. Only solvent banks which are not facing fundamental problems of viability will be eligible for the facility, according to the memorandum. The African Export Import Bank was established in October 1993 by African governments, African private and institutional investors, and non-African investors to finance and promote intra- and extra-African trade. Its two basic constitutive documents are the Establishment Agreement, which gives it the status of an international organization, and the Charter, which governs its corporate structure and operations. Since 1994, the Bank has approved more than $25 billion in credit facilities in support of African trade, including $3.71 billion in 2012. '), Document(metadata={'url': 'https://www.centralbanking.com/central-banks/reserves/foreign-exchange/4072761/zimbabwe-borrows-985-million-from-pan-african-lenders', 'context_before': '', 'context_after': 'If you already have an account, please sign in here. You already have an account with one of the websites below that uses this email address. Risk.net, FX Markets.com, WatersTechnology.com, Central Banking.com, PostOnline.co.uk, InsuranceAge.co.uk, RiskTechForum.com and Chartis-Research.com. All fields are mandatory unless otherwise highlighted Malaysian governor urges firms to support currency Cambodian and Malaysian central banks will launch a new cross-border payments link Central bank tightens currency restrictions as inflation continues to rise and dollar shortages continue Nigerian authorities accuse ex-governor of $6m theft Emefiele has denied all charges but prosecutors say cheque to president was forged Nigerian central bank says it has cleared some lenders’ FX liabilities Move comes one week after CBN replaces management of three banks for alleged law-breaking Philippine central bank will cut FX interventions, governor says “We’ve been intervening a bit too much”, Remolona says, as officials work on new framework Board splits over decision, as inflation remains above 10% while economy slows Argentine government devalues peso and replaces governor Finance minister announces austerity as IMF welcomes new president’s early moves Fuel runs short as ex-governor says government “does not want to recognise” crisis - Central bank of the year: Central Bank of Brazil - Central Banking Awards 2024: second group of winners unveiled ', 'queries': ['Zimbabwe African Export Import Bank loan percentage 2020']}, page_content='Zimbabwe borrows $985 million from pan-African lenders The Reserve Bank of Zimbabwe (RBZ) has borrowed $985 million from pan-African lending institutions to cover import of basic products, governor John Mangudya told the country’s parliament on March 4. The southern African nation is grappling with hyperinflation, low exports and insufficient foreign exchange reserves. These cover just four weeks of imports, according to deputy governor Jesimen Chipika, and stood at $200 million in September 2018. Only users who have a paid subscription or are part of a corporate subscription are able to print or copy content. To access these options, along with all other subscription benefits, please contact info@centralbanking.com or view our subscription options here: http://subscriptions.centralbanking.com/subscribe You are currently unable to print this content. Please contact info@centralbanking.com to find out more. You are currently unable to copy this content. Please contact info@centralbanking.com to find out more. Copyright Infopro Digital Limited. All rights reserved. You may share this content using our article tools. Printing this content is for the sole use of the Authorised User (named subscriber), as outlined in our terms and conditions - https://www.infopro-insight.com/terms-conditions/insight-subscriptions/ If you would like to purchase additional rights please email info@centralbanking.com Copyright Infopro Digital Limited. All rights reserved. You may share this content using our article tools. Copying this content is for the sole use of the Authorised User (named subscriber), as outlined in our terms and conditions - https://www.infopro-insight.com/terms-conditions/insight-subscriptions/ If you would like to purchase additional rights please email info@centralbanking.com Sorry, our subscription options are not loading right now Please try again later. Get in touch with our customer services team if this issue persists. New to Central Banking? View our subscription options '), Document(metadata={'url': 'https://media.afreximbank.com/afrexim/Afreximbank-Registration-Document.pdf', 'context_before': \"Included in other operating income recognized as an operating lease income amounting to US$ 633 (2017 : US$1,100) The Bank has entered into operating lease agreements for leasing of office premises. These leases have an average life of between two and five years, with renewal option included in the contracts. Where the Bank is the lessee, the future minimum lease payments under non-cancellable The Bank has entered into operating lease agreements for leasing of office space on its building. These leases have an average life of between two and five years, with renewal option included in the contracts. Where the Bank is the lessor, the future minimum lease receivables under non- Interest on investments amortised cost (held to maturity in 2017) General and administrative expenses are made up as follows: Professional services fees include US$ 210,000 (2017: US$90,000) in respect of external auditors' fees. Net income attributable to equity holders of the bank Weighted average number of ordinary shares in issue (basic) (note 15.1) Weighted average number of ordinary shares in issue (Diluted) (note 15.2) Basic earnings per share (expressed in US$000 per share) Diluted earnings per share (expressed in US$000 per share) The interest income reported above are calculated using the effective interest method The interest expense reported above are calculated using the effective interest method. The fees and commission income exclude those included in determining the effective interest rate for financial assets measured at amortised cost. Interest income accrued on impaired financial assets amounting to US$2,541,929 was recorded in 2017. Total interest income from loans and advances measured at FV amounted to US$ 3,530,000 and interest income from loans and advances measured at amortized cost amounting to US$ 672,070,000. Earnings per share are calculated by dividing the net income attributable to equity holders of the Bank by the weighted average number of ordinary shares in issue during the year. \", 'context_after': \"Loans from financial institutions, have both short-term and long-term borrowings ranging from tenor periods of one month to 12 years with interest rates ranging from 0.5% to 4.65%. term tenor borrowings are matched with specific assets with the same tenor. The table below analyses the details of the Bank's property and equipment. Total accumulated depreciation as at 31 December 2017 The table below analyses the details of the Bank's property and equipment. Total accumulated depreciation as at 31 December 2018 *Transfers relates to the accumulated depreciation as at the revaluation date that was eliminated against the gross carrying amount of the revalued asset. During 2017 the bank received a land from government of Zimbabwe in order to establish a reginonal office to facilitate the business of the Bank in Southern Africa region as is being accounted for as a government The fair value of the building and the land which reflects market conditions at the reporting date was US$ 22,860,000 (2017: US$ US$ 23,161,000) and US$ 13,415,000 (2017: US$ 5,908,000) respectively. fair value was determined using an independent valuer on 31 December 2018.The valuer used was Arab Group for Technical Consultant who has experience in similar projects. Headquarters' land and building would have been US$ 34,000 (2017:US$ 34,000) and US$ 8,247,000 (2017:US$  8,796,000) respectively if both classes had not been revalued. In terms of customer group, the deposits and customer accounts above were from sovereigns, enterprises and financial institutions. customer accounts approximate the carrying amount, as they have variable interest rates. The amount in respect of loan commitments issued represents: - At 31 December 2018 - the sum of: ECL provision of USD3.9 million (see impairment note 3.3.3) and the amounts recognised at origination of loan commitments less cumulative The amount in respect of financial guarantee contracts issued represents: \", 'queries': ['Zimbabwe African Export Import Bank loan percentage 2020']}, page_content=\"Net income attributable to equity holders of the Bank have been calculated on the basis of assuming that all the net income for the year is distributed. 15.1 Weighted average number of ordinary shares in issue (basic) Weighted average number of ordinary shares at 31 Decemeber 15.2 Weighted average number of ordinary shares in issue (diluted) Weighted average number of ordinary shares in issue (basic) Weighted average number of ordinary shares at 31 Decemeber These instruments are allocated in stage 1 for ECL purposes These loans and advances relate to Syndicated loans in which the Bank acted as lead arranger. 17.2 Allowance for impairment on loans and advances Reconciliation of allowance for impairment of loans and advances is as follows: Loans written off during the year as uncollectible Impairment charge for the year on loans and advances Accrued income relates to fees and commisions receivable. Other prepayments include fees and commissions on borrowings, prepaid rent and insurance expenses. Other receivables above mainly relate to taxes recoverable from some member countries  arising from payment of invoices inclusive of tax. In accordance with Article XIV of the agreement for Establishment of African Export Import Bank, the Bank is exempt from all taxation and custom duties (note 38). 20 Financial investments at amortized cost (Held to maturity in 2017) These instruments are treasury bills issued by the Central Bank of Zimbabwe and they have been allocated in stage 1 for ECL purposes The Bank issued, under the Euro Medium Term Note Programme (EMTN),  US$ 3,036.50 million bonds (2017: US$2,850 million) with different maturities and coupon rates. under an EMTN Programme, US$186.5 million (2017: US$41.5 million) private placement with floating rate. Fitch Ratings and Moody's assigned these bonds an investment grade rating BBB-, and Baa2 The Bank has not had any defaults of principal, interest or other breach  with respect to its debt securities during the year ended 31 December 2018 and 2017. \"), Document(metadata={'url': 'https://www.afreximbank.com/afreximbank-holds-trade-finance-training-for-zimbabwean-banks/', 'context_before': '', 'context_after': 'Also speaking, Okechukwu Ihejirika, Senior Manager, Trade Services, at Afreximbank, said that the training was aimed at helping participants to become better professionals in trade finance matters while ensuring alignment with global best practice in terms of trade finance instruments originating from Zimbabwe. The programme covered topics up to the intermediate level, with Afreximbank announcing plans to deliver an advanced level course to the group in the future and to hold sessions in other countries. The programme is also part of the Afreximbank Academy through which the Bank is promoting knowledge in Africa. The Afreximbank delegation also included Ernest Ahiagbe, Manager, Trade Services; Victor Mashoko, Manager, Trade Finance, Southern Africa; and Andrew Masuwa, Manager, Client Relations. Media Contact: Amadou Labba Sall (asall@afreximbank.com; Tel. +202-2456-4085) Follow us on Twitter: @Afreximbank Like us on Facebook: Afreximbank Follow us on Instagram: @Afreximbankofficial Follow us on Linked-in: Afreximbank About Afreximbank: The African Export-Import Bank (Afreximbank) is the foremost pan-African multilateral financial institution devoted to financing and promoting intra- and extra-African trade. The Bank was established in October 1993 by African governments, African private and institutional investors, and non-African investors. Its two basic constitutive documents are the Establishment Agreement, which gives it the status of an international organization, and the Charter, which governs its corporate structure and operations. Since 1994, it has approved more than $67 billion in credit facilities for African businesses, including $7.2 billion in 2018. Afreximbank had total assets of $13.4 billion as at 31 December 2018. It is rated A- (GCR), Baa1 (Moody’s), and BBB- (Fitch). ', 'queries': ['Zimbabwe African Export Import Bank loan percentage 2020']}, page_content='Harare, 19 March 2020: – The African Export-Import Bank (Afreximbank) has delivered a training programme for Zimbabwean banks in an effort to enhance their technical skills in trade finance. The documentary trade finance training, held in Harare from 24 to 29 February, attracted 44 participants from 15 commercial banks, one non-bank financial institution and the Reserve Bank of Zimbabwe. The six-day programme consisted of two three-day sessions focused on the operational aspects of trade finance. Topics covered included documentary letters of credit, bills for collection, bank guarantees, relevant International Chamber of Commerce rules, compliance issues related to trade finance and risks in international business and ways of mitigating them. Case studies of real-life scenarios were reviewed and participants were taken through a practical review session on common errors that had been noticed in trade finance instruments issued by Zimbabwean banks in order to help them learn from the errors. Based on the discussions and feedback received, the banks agreed to work towards designing a model letter of credit verbiage to cover key commodity imports. The model letter, which is expected to be endorsed by the Reserve Bank of Zimbabwe, would be adopted, going forward, by all the banks. The training programme was organised in line with Afreximbank’s Trade Finance leadership pillar under which it seeks to play a leading role in matters relating to the development of trade finance in Africa, said Humphrey Nwugo, the Bank’s Regional Chief Operating Officer for Southern Africa, at the opening. “According to the World Trade Organization, some 80 per cent to 90 per cent of world trade relies on trade finance,” he told the participants. “That is the opportunity we, as trade financiers, are sitting on, with anecdotal evidence pointing to a trade finance gap in Africa in excess of $100-billion.” ')], metadata={'queries': ['Zimbabwe share of African Export Import Bank loans 2020', 'African Export Import Bank loan distribution by country 2020', 'Tendai Biti claim Zimbabwe African Export Import Bank loans', 'African Export Import Bank loans statistics 2020', 'Zimbabwe African Export Import Bank loan percentage 2020', 'Zimbabwe gets more than half of the African Export Import Bank loans.']})"
      ]
     },
     "execution_count": 101,
     "metadata": {},
     "output_type": "execute_result"
    }
   ],
   "source": [
    "retriever = SubqueryRetriever(SimpleFaissRetriever(path=\"/mnt/data/factcheck/averitec-data/data_store/vecstore/dev/6k\"))\n",
    "retrieval_result = retriever(datapoint)\n",
    "retrieval_result"
   ]
  },
  {
   "cell_type": "code",
   "execution_count": null,
   "metadata": {},
   "outputs": [],
   "source": [
    "datapoint = Datapoint.from_dict(dataset[2])\n",
    "datapoint.claim, datapoint.claim_date, datapoint.speaker"
   ]
  },
  {
   "cell_type": "code",
   "execution_count": 102,
   "metadata": {},
   "outputs": [
    {
     "name": "stderr",
     "output_type": "stream",
     "text": [
      "100%|██████████| 500/500 [1:31:08<00:00, 10.94s/it]\n"
     ]
    }
   ],
   "source": [
    "path = \"/mnt/data/factcheck/averitec-data/\"\n",
    "target = path + \"data_store/vecstore/dev/6k\"\n",
    "PIPELINE_NAME = \"subquery+gpt4o\"\n",
    "pipeline = Pipeline(\n",
    "    retriever,\n",
    "    GptBatchedEvidenceGenerator(), \n",
    "    DefaultClassifier()\n",
    ")\n",
    "\n",
    "submission = []\n",
    "dump = []\n",
    "\n",
    "for dp in tqdm(datapoints):\n",
    "    pipeline_result = pipeline(dp)\n",
    "    submission.append(pipeline_result.to_submission())\n",
    "    dump.append(pipeline_result)\n",
    "with open(f\"/mnt/data/factcheck/averitec-data/data_store/submissions/{split}_{PIPELINE_NAME}.json\", \"w\") as f:\n",
    "    json.dump(submission, f, indent=4)\n",
    "with open(f\"/mnt/data/factcheck/averitec-data/data_store/submissions/{split}_{PIPELINE_NAME}.pkl\", \"wb\") as f:\n",
    "    pickle.dump(dump, f)"
   ]
  },
  {
   "cell_type": "markdown",
   "metadata": {},
   "source": []
  },
  {
   "cell_type": "code",
   "execution_count": 76,
   "metadata": {},
   "outputs": [
    {
     "name": "stderr",
     "output_type": "stream",
     "text": [
      "100%|██████████| 500/500 [01:54<00:00,  4.38it/s]\n"
     ]
    }
   ],
   "source": [
    "path = \"/mnt/data/factcheck/averitec-data/\"\n",
    "target = path + \"data_store/vecstore/dev/6k\"\n",
    "PIPELINE_NAME = \"mmr+gpt4o\"\n",
    "pipeline = Pipeline(\n",
    "    MmrFaissRetriever(path + \"data_store/vecstore/dev/6k\"), # TODO: TRIPLE CHECK BEFORE EVERY LAUNCH\n",
    "    GptBatchedEvidenceGenerator(), \n",
    "    DefaultClassifier()\n",
    ")\n",
    "\n",
    "submission = []\n",
    "dump = []\n",
    "\n",
    "for dp in tqdm(datapoints):\n",
    "    pipeline_result = pipeline(dp)\n",
    "    submission.append(pipeline_result.to_submission())\n",
    "    dump.append(pipeline_result)\n",
    "with open(f\"/mnt/data/factcheck/averitec-data/data_store/submissions/{split}_{PIPELINE_NAME}.json\", \"w\") as f:\n",
    "    json.dump(submission, f, indent=4)\n",
    "with open(f\"/mnt/data/factcheck/averitec-data/data_store/submissions/{split}_{PIPELINE_NAME}.pkl\", \"wb\") as f:\n",
    "    pickle.dump(dump, f)"
   ]
  },
  {
   "cell_type": "code",
   "execution_count": 103,
   "metadata": {},
   "outputs": [],
   "source": [
    "files = pipeline.evidence_generator.get_batch_files(path=f\"/mnt/data/factcheck/averitec-data/data_store/batch_jobs/{split}_{PIPELINE_NAME}\")"
   ]
  },
  {
   "cell_type": "code",
   "execution_count": 104,
   "metadata": {},
   "outputs": [
    {
     "name": "stderr",
     "output_type": "stream",
     "text": [
      "  0%|          | 0/5 [00:00<?, ?it/s]"
     ]
    },
    {
     "name": "stdout",
     "output_type": "stream",
     "text": [
      "Batch(id='batch_7QTbWxoS8QazKtX0EBpyvDRN', completion_window='24h', created_at=1721861194, endpoint='/v1/chat/completions', input_file_id='file-2JVYE9rub3JkaQbwHFRJGZHR', object='batch', status='validating', cancelled_at=None, cancelling_at=None, completed_at=None, error_file_id=None, errors=None, expired_at=None, expires_at=1721947594, failed_at=None, finalizing_at=None, in_progress_at=None, metadata={'description': 'dev-set job, batch 1'}, output_file_id=None, request_counts=BatchRequestCounts(completed=0, failed=0, total=0))\n",
      "waiting for batch to complete BatchRequestCounts(completed=0, failed=0, total=0) batch_7QTbWxoS8QazKtX0EBpyvDRN\n",
      "waiting for batch to complete BatchRequestCounts(completed=5, failed=0, total=100) batch_7QTbWxoS8QazKtX0EBpyvDRN\n",
      "waiting for batch to complete BatchRequestCounts(completed=93, failed=0, total=100) batch_7QTbWxoS8QazKtX0EBpyvDRN\n"
     ]
    },
    {
     "name": "stdout",
     "output_type": "stream",
     "text": [
      "waiting for batch to complete BatchRequestCounts(completed=99, failed=0, total=100) batch_7QTbWxoS8QazKtX0EBpyvDRN\n",
      "waiting for batch to complete BatchRequestCounts(completed=99, failed=0, total=100) batch_7QTbWxoS8QazKtX0EBpyvDRN\n",
      "waiting for batch to complete BatchRequestCounts(completed=99, failed=0, total=100) batch_7QTbWxoS8QazKtX0EBpyvDRN\n",
      "waiting for batch to complete BatchRequestCounts(completed=99, failed=0, total=100) batch_7QTbWxoS8QazKtX0EBpyvDRN\n",
      "waiting for batch to complete BatchRequestCounts(completed=100, failed=0, total=100) batch_7QTbWxoS8QazKtX0EBpyvDRN\n",
      "batch 1 completed\n"
     ]
    },
    {
     "name": "stderr",
     "output_type": "stream",
     "text": [
      " 20%|██        | 1/5 [01:25<05:40, 85.06s/it]"
     ]
    },
    {
     "name": "stdout",
     "output_type": "stream",
     "text": [
      "Batch(id='batch_POrSSUcuQcLrhB6tHPLdVhCV', completion_window='24h', created_at=1721861279, endpoint='/v1/chat/completions', input_file_id='file-86Y96riGfTqzFwHMOkzjoy1q', object='batch', status='validating', cancelled_at=None, cancelling_at=None, completed_at=None, error_file_id=None, errors=None, expired_at=None, expires_at=1721947679, failed_at=None, finalizing_at=None, in_progress_at=None, metadata={'description': 'dev-set job, batch 2'}, output_file_id=None, request_counts=BatchRequestCounts(completed=0, failed=0, total=0))\n",
      "waiting for batch to complete BatchRequestCounts(completed=0, failed=0, total=0) batch_POrSSUcuQcLrhB6tHPLdVhCV\n",
      "waiting for batch to complete BatchRequestCounts(completed=5, failed=0, total=100) batch_POrSSUcuQcLrhB6tHPLdVhCV\n",
      "waiting for batch to complete BatchRequestCounts(completed=95, failed=0, total=100) batch_POrSSUcuQcLrhB6tHPLdVhCV\n",
      "batch 2 completed\n"
     ]
    },
    {
     "name": "stderr",
     "output_type": "stream",
     "text": [
      " 40%|████      | 2/5 [01:59<02:45, 55.19s/it]"
     ]
    },
    {
     "name": "stdout",
     "output_type": "stream",
     "text": [
      "Batch(id='batch_LA1i78namW35w6SMWI9K2A1a', completion_window='24h', created_at=1721861312, endpoint='/v1/chat/completions', input_file_id='file-cHJYW3lvk8SKG5fz6iojQF2y', object='batch', status='validating', cancelled_at=None, cancelling_at=None, completed_at=None, error_file_id=None, errors=None, expired_at=None, expires_at=1721947712, failed_at=None, finalizing_at=None, in_progress_at=None, metadata={'description': 'dev-set job, batch 3'}, output_file_id=None, request_counts=BatchRequestCounts(completed=0, failed=0, total=0))\n",
      "waiting for batch to complete BatchRequestCounts(completed=0, failed=0, total=0) batch_LA1i78namW35w6SMWI9K2A1a\n",
      "waiting for batch to complete BatchRequestCounts(completed=11, failed=0, total=100) batch_LA1i78namW35w6SMWI9K2A1a\n",
      "waiting for batch to complete BatchRequestCounts(completed=84, failed=0, total=100) batch_LA1i78namW35w6SMWI9K2A1a\n",
      "batch 3 completed\n"
     ]
    },
    {
     "name": "stderr",
     "output_type": "stream",
     "text": [
      " 60%|██████    | 3/5 [02:32<01:30, 45.24s/it]"
     ]
    },
    {
     "name": "stdout",
     "output_type": "stream",
     "text": [
      "Batch(id='batch_Z5BPN35JdK1uxJ6G7y4vhIXV', completion_window='24h', created_at=1721861346, endpoint='/v1/chat/completions', input_file_id='file-D4re1zxjzn5HLYVFteNa2D9t', object='batch', status='validating', cancelled_at=None, cancelling_at=None, completed_at=None, error_file_id=None, errors=None, expired_at=None, expires_at=1721947746, failed_at=None, finalizing_at=None, in_progress_at=None, metadata={'description': 'dev-set job, batch 4'}, output_file_id=None, request_counts=BatchRequestCounts(completed=0, failed=0, total=0))\n",
      "waiting for batch to complete BatchRequestCounts(completed=0, failed=0, total=0) batch_Z5BPN35JdK1uxJ6G7y4vhIXV\n",
      "waiting for batch to complete BatchRequestCounts(completed=12, failed=0, total=100) batch_Z5BPN35JdK1uxJ6G7y4vhIXV\n",
      "waiting for batch to complete BatchRequestCounts(completed=92, failed=0, total=100) batch_Z5BPN35JdK1uxJ6G7y4vhIXV\n",
      "batch 4 completed\n"
     ]
    },
    {
     "name": "stderr",
     "output_type": "stream",
     "text": [
      " 80%|████████  | 4/5 [03:06<00:40, 40.59s/it]"
     ]
    },
    {
     "name": "stdout",
     "output_type": "stream",
     "text": [
      "Batch(id='batch_UjJ7mIIKC2SMoICls4tEhrPv', completion_window='24h', created_at=1721861379, endpoint='/v1/chat/completions', input_file_id='file-G0VNnXgRsdxueFvG2IZ5guPh', object='batch', status='validating', cancelled_at=None, cancelling_at=None, completed_at=None, error_file_id=None, errors=None, expired_at=None, expires_at=1721947779, failed_at=None, finalizing_at=None, in_progress_at=None, metadata={'description': 'dev-set job, batch 5'}, output_file_id=None, request_counts=BatchRequestCounts(completed=0, failed=0, total=0))\n",
      "waiting for batch to complete BatchRequestCounts(completed=0, failed=0, total=0) batch_UjJ7mIIKC2SMoICls4tEhrPv\n",
      "waiting for batch to complete BatchRequestCounts(completed=5, failed=0, total=100) batch_UjJ7mIIKC2SMoICls4tEhrPv\n",
      "waiting for batch to complete BatchRequestCounts(completed=91, failed=0, total=100) batch_UjJ7mIIKC2SMoICls4tEhrPv\n",
      "batch 5 completed\n"
     ]
    },
    {
     "name": "stderr",
     "output_type": "stream",
     "text": [
      "100%|██████████| 5/5 [03:39<00:00, 43.87s/it]\n"
     ]
    }
   ],
   "source": [
    "batch_results = pipeline.evidence_generator.submit_and_await_batches(files, f\"/mnt/data/factcheck/averitec-data/data_store/batch_jobs/{split}_{PIPELINE_NAME}/output.jsonl\")"
   ]
  },
  {
   "cell_type": "code",
   "execution_count": 105,
   "metadata": {},
   "outputs": [
    {
     "name": "stdout",
     "output_type": "stream",
     "text": [
      "Error parsing JSON for EvidenceGenerator.\n",
      " \n",
      "{\n",
      "    \"questions\":\n",
      "        [\n",
      "            {\"question\": \"Did Netflix tweet that its content is 'mostly pedophilia-free'?\", \"answer\": \"No, there is no evidence that Netflix tweeted this.\", \"source\": \"1\"},\n",
      "            {\"question\": \"What was the nature of the backlash against Netflix for streaming 'Cuties'?\", \"answer\": \"The backlash was due to accusations that the film sexualizes children and promotes pedophilia.\", \"source\": \"2\"},\n",
      "            {\"question\": \"How did Netflix respond to the backlash over 'Cuties'?\", \"answer\": \"Netflix apologized for the inappropriate artwork and stated that 'Cuties' is a social commentary against the sexualization of young children.\", \"source\": \"3\"},\n",
      "            {\"question\": \"Did Netflix change the promotional materials for 'Cuties' after the backlash?\", \"answer\": \"Yes, Netflix changed the poster and description of the film.\", \"source\": \"7\"},\n",
      "            {\"question\": \"What was the original description of 'Cuties' on Netflix?\", \"answer\": \"The original description read 'Amy, 11, becomes fascinated with a twerking dance crew. Hoping to join them, she starts to explore her femininity, defying her family’s traditions.'\", \"source\": \"2\"},\n",
      "            {\"question\": \"What was the updated description of 'Cuties' on Netflix?\", \"answer\": \"The updated description read '\n",
      "failed, using fallback gpt\n"
     ]
    }
   ],
   "source": [
    "new_dump = []\n",
    "pipeline.evidence_generator.fallback_gpt_generator.client.temperature = .5\n",
    "for pipeline_result, batch_result in zip(dump[:len(batch_results)], batch_results):\n",
    "    new_result = pipeline.evidence_generator.update_pipeline_result(pipeline_result, batch_result, pipeline.classifier)\n",
    "    new_dump.append(new_result)\n"
   ]
  },
  {
   "cell_type": "code",
   "execution_count": 106,
   "metadata": {},
   "outputs": [],
   "source": [
    "with open(f\"/mnt/data/factcheck/averitec-data/data_store/submissions/{split}_{PIPELINE_NAME}.json\", \"w\") as f:\n",
    "    json.dump([d.to_submission() for d in new_dump], f, indent=4)\n",
    "with open(f\"/mnt/data/factcheck/averitec-data/data_store/submissions/{split}_{PIPELINE_NAME}.pkl\", \"wb\") as f:\n",
    "    pickle.dump(new_dump, f)"
   ]
  },
  {
   "cell_type": "code",
   "execution_count": 107,
   "metadata": {},
   "outputs": [
    {
     "name": "stdout",
     "output_type": "stream",
     "text": [
      "Question-only score (HU-meteor):             0.45140886312940254\n",
      "Question-answer score (HU-meteor):           0.27770055976133534\n",
      "====================\n",
      "Veracity F1 scores:\n",
      " * Supported:                                0.6937269372693727\n",
      " * Refuted:                                  0.7979966611018364\n",
      " * Not Enough Evidence:                      0.20512820512820512\n",
      " * Conflicting Evidence/Cherrypicking:       0.038461538461538464\n",
      " * macro:                                    0.4338283354902382\n",
      " * acc:                                      0.684\n",
      "--------------------\n",
      "AVeriTeC scores:\n",
      " * Veracity scores (meteor @ 0.1):           0.67\n",
      " * Veracity scores (meteor @ 0.2):           0.532\n",
      " * Veracity scores (meteor @ 0.25):          0.4\n",
      " * Veracity scores (meteor @ 0.3):           0.266\n",
      " * Veracity scores (meteor @ 0.4):           0.092\n",
      " * Veracity scores (meteor @ 0.5):           0.042\n",
      "--------------------\n",
      "AVeriTeC scores by type @ 0.25:\n",
      " * Veracity scores (Event/Property Claim):   0.1925972444043578\n",
      " * Veracity scores (Position Statement):     0.22028518807327807\n",
      " * Veracity scores (Causal Claim):           0.15201118426528842\n",
      " * Veracity scores (Numerical Claim):        0.20668840810573125\n",
      " * Veracity scores (Quote Verification):     0.1692973018966679\n"
     ]
    }
   ],
   "source": [
    "%run src/prediction/evaluate_veracity.py --label_file /mnt/data/factcheck/averitec-data/data/dev.json --prediction_file /mnt/data/factcheck/averitec-data/data_store/submissions/{split}_{PIPELINE_NAME}.json"
   ]
  },
  {
   "cell_type": "markdown",
   "metadata": {},
   "source": [
    "## collapsible begin"
   ]
  },
  {
   "cell_type": "code",
   "execution_count": null,
   "metadata": {},
   "outputs": [],
   "source": [
    "from IPython.display import display, Markdown, Latex"
   ]
  },
  {
   "cell_type": "code",
   "execution_count": null,
   "metadata": {},
   "outputs": [],
   "source": [
    "knn_retrieval_result = retriever(datapoint)\n",
    "display(Markdown(\"### 🗯️ \" + datapoint.claim))\n",
    "display(Markdown(\"*Retrieved by knn*\\n\\n\"))\n",
    "# sample 3\n",
    "for r in knn_retrieval_result:\n",
    "    newline = \"\\n\"\n",
    "    display(Markdown(f\"**{r.metadata['url']}**\\n\\n{r.page_content[:256]}\"))"
   ]
  },
  {
   "cell_type": "code",
   "execution_count": null,
   "metadata": {},
   "outputs": [],
   "source": [
    "from retrieval import MmrFaissRetriever\n",
    "\n",
    "mmr_retriever = MmrFaissRetriever(retriever.path)\n",
    "mmr_retrieval_result = mmr_retriever(datapoint)\n",
    "display(Markdown(\"### 🗯️ \" + datapoint.claim))\n",
    "display(Markdown(\"*Retrieved by MMR*\\n\\n\"))\n",
    "# sample 3\n",
    "for r in mmr_retrieval_result:\n",
    "    newline = \"\\n\"\n",
    "    display(Markdown(f\"**{r.metadata['url']}**\\n\\n{r.page_content[:256]}\"))"
   ]
  },
  {
   "cell_type": "code",
   "execution_count": null,
   "metadata": {},
   "outputs": [],
   "source": [
    "subquery_retriever = SubqueryRetriever(retriever)\n",
    "subquery_retrieval_result = subquery_retriever(datapoint)\n",
    "display(Markdown(\"### 🗯️ \" + datapoint.claim))\n",
    "display(Markdown(\"*Retrieved by subqueries*\\n\\n\"))\n",
    "# sample 3\n",
    "for r in subquery_retrieval_result:\n",
    "    newline = \"\\n\"\n",
    "    display(Markdown(f\"**{r.metadata['url']}**\\n\\n*{';'.join(r.metadata['queries'])}*\\n\\n{r.page_content[:256]}\"))"
   ]
  },
  {
   "cell_type": "code",
   "execution_count": null,
   "metadata": {},
   "outputs": [],
   "source": [
    "subquery_retrieval_result.metadata"
   ]
  },
  {
   "cell_type": "markdown",
   "metadata": {},
   "source": [
    "## Collapsible section end"
   ]
  },
  {
   "cell_type": "code",
   "execution_count": null,
   "metadata": {},
   "outputs": [],
   "source": [
    "evidence_generator = GptBatchedEvidenceGenerator(\"gpt-4o\")\n",
    "evidence_generation_result = evidence_generator(datapoint, retrieval_result)\n",
    "evidence_generation_result"
   ]
  },
  {
   "cell_type": "code",
   "execution_count": null,
   "metadata": {},
   "outputs": [],
   "source": [
    "evidence_generation_result.metadata[\"suggested_label\"]"
   ]
  },
  {
   "cell_type": "code",
   "execution_count": null,
   "metadata": {},
   "outputs": [],
   "source": [
    "datapoint.label"
   ]
  },
  {
   "cell_type": "code",
   "execution_count": null,
   "metadata": {},
   "outputs": [],
   "source": [
    "classifier = DefaultClassifier()\n",
    "classification_result = classifier(datapoint, evidence_generation_result, retrieval_result)\n",
    "str(classification_result), classification_result"
   ]
  },
  {
   "cell_type": "code",
   "execution_count": null,
   "metadata": {},
   "outputs": [],
   "source": [
    "datapoint2 = Datapoint.from_dict(dataset[16])\n",
    "pipeline = Pipeline(retriever, evidence_generator, classifier)\n",
    "pipeline_result = pipeline(datapoint2)\n",
    "pipeline_result"
   ]
  },
  {
   "cell_type": "code",
   "execution_count": null,
   "metadata": {},
   "outputs": [],
   "source": [
    "str(pipeline_result.classification_result), datapoint2.label"
   ]
  },
  {
   "cell_type": "code",
   "execution_count": null,
   "metadata": {},
   "outputs": [],
   "source": [
    "pipeline_result.to_submission()"
   ]
  },
  {
   "cell_type": "code",
   "execution_count": null,
   "metadata": {},
   "outputs": [],
   "source": [
    "# pickle dump pipeline result\n",
    "import pickle\n",
    "with open('data/pipeline_result.pkl', 'wb') as f:\n",
    "    pickle.dump(pipeline_result, f)"
   ]
  },
  {
   "cell_type": "code",
   "execution_count": null,
   "metadata": {},
   "outputs": [],
   "source": [
    "%run src/prediction/evaluate_veracity.py --label_file /mnt/data/factcheck/averitec-data/data/dev.json --prediction_file /mnt/data/factcheck/averitec-data/data_store/submission_dev_avg_clf.json"
   ]
  }
 ],
 "metadata": {
  "kernelspec": {
   "display_name": "Python 3 (ipykernel)",
   "language": "python",
   "name": "python3"
  },
  "language_info": {
   "codemirror_mode": {
    "name": "ipython",
    "version": 3
   },
   "file_extension": ".py",
   "mimetype": "text/x-python",
   "name": "python",
   "nbconvert_exporter": "python",
   "pygments_lexer": "ipython3",
   "version": "3.10.4"
  }
 },
 "nbformat": 4,
 "nbformat_minor": 2
}
