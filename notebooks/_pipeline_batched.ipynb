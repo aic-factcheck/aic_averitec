{
 "cells": [
  {
   "cell_type": "markdown",
   "metadata": {},
   "source": [
    "## First, let's load the test set"
   ]
  },
  {
   "cell_type": "code",
   "execution_count": 8,
   "metadata": {},
   "outputs": [
    {
     "name": "stdout",
     "output_type": "stream",
     "text": [
      "The autoreload extension is already loaded. To reload it, use:\n",
      "  %reload_ext autoreload\n"
     ]
    }
   ],
   "source": [
    "%load_ext autoreload\n",
    "%autoreload 2\n",
    "\n",
    "from averitec import Datapoint\n",
    "from evidence_generation import EvidenceGenerationResult, GptEvidenceGenerator\n",
    "from classification import DefaultClassifier\n",
    "from retrieval import RetrievalResult, SimpleFaissRetriever\n",
    "from pipeline import Pipeline\n",
    "import json, random, pickle\n",
    "from tqdm.notebook import tqdm\n",
    "\n",
    "random.seed(111)\n",
    "batch = []\n",
    "split = \"test\"\n",
    "path = \"/mnt/data/factcheck/averitec-data/\"\n",
    "with open(path + f\"data/{split}.json\") as f:\n",
    "    dataset = json.load(f)\n",
    "    datapoints = [Datapoint.from_dict(d) for d in dataset]\n",
    "    \n",
    "    \n",
    "class GptBatchedEvidenceGenerator(GptEvidenceGenerator):\n",
    "    def get_batch_dict(self, datapoint: Datapoint, retrieval_result: RetrievalResult):\n",
    "        system_prompt = self.format_system_prompt(retrieval_result)\n",
    "        user_prompt = datapoint.claim\n",
    "        return {\n",
    "            \"custom_id\": f\"{split}-{datapoint.claim_id}\", \n",
    "            \"method\": \"POST\", \"url\": \"/v1/chat/completions\", \n",
    "            \"body\": {\n",
    "                \"model\": \"gpt-4o\",\n",
    "                #\"model\": \"gpt-3.5-turbo-0125\",\n",
    "                \"messages\": [\n",
    "                    {\"role\": \"system\", \"content\": system_prompt},\n",
    "                    {\"role\": \"user\", \"content\": user_prompt}\n",
    "                ],\n",
    "            \"temperature\": 0}}\n",
    "    \n",
    "    def __call__(self, datapoint: Datapoint, retrieval_result: RetrievalResult, *args, **kwargs) -> EvidenceGenerationResult:\n",
    "        batch.append(self.get_batch_dict(datapoint, retrieval_result))\n",
    "        return EvidenceGenerationResult(evidences=[],metadata={\"suggested_label\":[0,0,0,0]})"
   ]
  },
  {
   "cell_type": "code",
   "execution_count": 20,
   "metadata": {},
   "outputs": [],
   "source": [
    "pipeline = Pipeline(\n",
    "    SimpleFaissRetriever(path + \"data_store/vecstore/test/2k\"), # TODO: TRIPLE CHECK BEFORE EVERY LAUNCH\n",
    "    GptBatchedEvidenceGenerator(), \n",
    "    DefaultClassifier()\n",
    ")"
   ]
  },
  {
   "cell_type": "code",
   "execution_count": 21,
   "metadata": {},
   "outputs": [
    {
     "data": {
      "text/plain": [
       "2215"
      ]
     },
     "execution_count": 21,
     "metadata": {},
     "output_type": "execute_result"
    }
   ],
   "source": [
    "len(datapoints)"
   ]
  },
  {
   "cell_type": "code",
   "execution_count": 22,
   "metadata": {},
   "outputs": [
    {
     "data": {
      "application/vnd.jupyter.widget-view+json": {
       "model_id": "c487d51b3ffc4e60949405be80af0c09",
       "version_major": 2,
       "version_minor": 0
      },
      "text/plain": [
       "  0%|          | 0/2215 [00:00<?, ?it/s]"
      ]
     },
     "metadata": {},
     "output_type": "display_data"
    }
   ],
   "source": [
    "submission = []\n",
    "dump = []\n",
    "\n",
    "for dp in tqdm(datapoints):\n",
    "    pipeline_result = pipeline(dp)\n",
    "    submission.append(pipeline_result.to_submission())\n",
    "    dump.append(pipeline_result)\n",
    "    with open(f\"/mnt/data/factcheck/averitec-data/data_store/submission_{split}.json\", \"w\") as f:\n",
    "        json.dump(submission, f, indent=4)\n",
    "    with open(f\"/mnt/data/factcheck/averitec-data/data_store/pipeline_result_{split}.pkl\", \"wb\") as f:\n",
    "        pickle.dump(dump, f)"
   ]
  },
  {
   "cell_type": "code",
   "execution_count": null,
   "metadata": {},
   "outputs": [],
   "source": [
    "/mnt/data/factcheck/averitec-data"
   ]
  }
 ],
 "metadata": {
  "kernelspec": {
   "display_name": "Python 3 (ipykernel)",
   "language": "python",
   "name": "python3"
  },
  "language_info": {
   "codemirror_mode": {
    "name": "ipython",
    "version": 3
   },
   "file_extension": ".py",
   "mimetype": "text/x-python",
   "name": "python",
   "nbconvert_exporter": "python",
   "pygments_lexer": "ipython3",
   "version": "3.10.4"
  }
 },
 "nbformat": 4,
 "nbformat_minor": 2
}
