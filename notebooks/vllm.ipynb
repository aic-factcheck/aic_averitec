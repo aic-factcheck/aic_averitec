{
 "cells": [
  {
   "cell_type": "code",
   "execution_count": 1,
   "metadata": {},
   "outputs": [],
   "source": [
    "from openai import OpenAI"
   ]
  },
  {
   "cell_type": "code",
   "execution_count": 8,
   "metadata": {},
   "outputs": [
    {
     "name": "stdout",
     "output_type": "stream",
     "text": [
      "ChatCompletionMessage(content=\"Hello! It's nice to meet you. Is there something I can help you with or would you like to chat?\", role='assistant', function_call=None, tool_calls=[])\n"
     ]
    }
   ],
   "source": [
    "from openai import OpenAI\n",
    "client = OpenAI(\n",
    "    base_url=\"http://g04:8094/v1\",\n",
    "    api_key=\"token-abc123\",\n",
    ")\n",
    "\n",
    "completion = client.chat.completions.create(\n",
    "  model=\"hugging-quants/Meta-Llama-3.1-70B-Instruct-AWQ-INT4\",\n",
    "  messages=[\n",
    "    {\"role\": \"user\", \"content\": \"Hello!\"}\n",
    "  ]\n",
    ")\n",
    "\n",
    "print(completion.choices[0].message)"
   ]
  },
  {
   "cell_type": "code",
   "execution_count": 9,
   "metadata": {},
   "outputs": [],
   "source": [
    "import json\n",
    "\n",
    "\n",
    "data = []\n",
    "\n",
    "with open(\"/mnt/data/factcheck/averitec-data/data_store/batch_jobs/dev_mmr+gpt4o-dfewshot-tiebrk-atype/batch_1.jsonl\", \"r\") as f:\n",
    "    for line in f:\n",
    "        data.append(json.loads(line))"
   ]
  },
  {
   "cell_type": "code",
   "execution_count": null,
   "metadata": {},
   "outputs": [],
   "source": [
    "completion = client.chat.completions.create(\n",
    "  model=\"hugging-quants/Meta-Llama-3.1-70B-Instruct-AWQ-INT4\",\n",
    "  messages=[\n",
    "    {\"role\": \"user\", \"content\": \"Hello!\"}\n",
    "  ]\n",
    ")"
   ]
  },
  {
   "cell_type": "code",
   "execution_count": 28,
   "metadata": {},
   "outputs": [
    {
     "ename": "TypeError",
     "evalue": "Completions.create() got an unexpected keyword argument 'custom_id'",
     "output_type": "error",
     "traceback": [
      "\u001b[0;31m---------------------------------------------------------------------------\u001b[0m",
      "\u001b[0;31mTypeError\u001b[0m                                 Traceback (most recent call last)",
      "Cell \u001b[0;32mIn[28], line 1\u001b[0m\n\u001b[0;32m----> 1\u001b[0m completion \u001b[38;5;241m=\u001b[39m \u001b[43mclient\u001b[49m\u001b[38;5;241;43m.\u001b[39;49m\u001b[43mchat\u001b[49m\u001b[38;5;241;43m.\u001b[39;49m\u001b[43mcompletions\u001b[49m\u001b[38;5;241;43m.\u001b[39;49m\u001b[43mcreate\u001b[49m\u001b[43m(\u001b[49m\u001b[43mmodel\u001b[49m\u001b[38;5;241;43m=\u001b[39;49m\u001b[38;5;124;43m\"\u001b[39;49m\u001b[38;5;124;43mhugging-quants/Meta-Llama-3.1-70B-Instruct-AWQ-INT4\u001b[39;49m\u001b[38;5;124;43m\"\u001b[39;49m\u001b[43m,\u001b[49m\u001b[43m \u001b[49m\n\u001b[1;32m      2\u001b[0m \u001b[43m                                            \u001b[49m\u001b[43mmessages\u001b[49m\u001b[38;5;241;43m=\u001b[39;49m\u001b[43mdata\u001b[49m\u001b[43m[\u001b[49m\u001b[38;5;241;43m0\u001b[39;49m\u001b[43m]\u001b[49m\u001b[43m[\u001b[49m\u001b[38;5;124;43m\"\u001b[39;49m\u001b[38;5;124;43mbody\u001b[39;49m\u001b[38;5;124;43m\"\u001b[39;49m\u001b[43m]\u001b[49m\u001b[43m[\u001b[49m\u001b[38;5;124;43m\"\u001b[39;49m\u001b[38;5;124;43mmessages\u001b[39;49m\u001b[38;5;124;43m\"\u001b[39;49m\u001b[43m]\u001b[49m\u001b[43m,\u001b[49m\u001b[43m \u001b[49m\n\u001b[1;32m      3\u001b[0m \u001b[43m                                            \u001b[49m\u001b[43mtemperature\u001b[49m\u001b[38;5;241;43m=\u001b[39;49m\u001b[43mdata\u001b[49m\u001b[43m[\u001b[49m\u001b[38;5;241;43m0\u001b[39;49m\u001b[43m]\u001b[49m\u001b[43m[\u001b[49m\u001b[38;5;124;43m\"\u001b[39;49m\u001b[38;5;124;43mbody\u001b[39;49m\u001b[38;5;124;43m\"\u001b[39;49m\u001b[43m]\u001b[49m\u001b[43m[\u001b[49m\u001b[38;5;124;43m\"\u001b[39;49m\u001b[38;5;124;43mtemperature\u001b[39;49m\u001b[38;5;124;43m\"\u001b[39;49m\u001b[43m]\u001b[49m\u001b[43m,\u001b[49m\n\u001b[1;32m      4\u001b[0m \u001b[43m                                            \u001b[49m\u001b[43mcustom_id\u001b[49m\u001b[43m \u001b[49m\u001b[38;5;241;43m=\u001b[39;49m\u001b[43m \u001b[49m\u001b[43mdata\u001b[49m\u001b[43m[\u001b[49m\u001b[38;5;241;43m0\u001b[39;49m\u001b[43m]\u001b[49m\u001b[43m[\u001b[49m\u001b[38;5;124;43m\"\u001b[39;49m\u001b[38;5;124;43mcustom_id\u001b[39;49m\u001b[38;5;124;43m\"\u001b[39;49m\u001b[43m]\u001b[49m\u001b[43m,\u001b[49m\u001b[43m)\u001b[49m\n",
      "File \u001b[0;32m~/aic_averitec/venvs/averitec/lib/python3.10/site-packages/openai/_utils/_utils.py:277\u001b[0m, in \u001b[0;36mrequired_args.<locals>.inner.<locals>.wrapper\u001b[0;34m(*args, **kwargs)\u001b[0m\n\u001b[1;32m    275\u001b[0m             msg \u001b[38;5;241m=\u001b[39m \u001b[38;5;124mf\u001b[39m\u001b[38;5;124m\"\u001b[39m\u001b[38;5;124mMissing required argument: \u001b[39m\u001b[38;5;132;01m{\u001b[39;00mquote(missing[\u001b[38;5;241m0\u001b[39m])\u001b[38;5;132;01m}\u001b[39;00m\u001b[38;5;124m\"\u001b[39m\n\u001b[1;32m    276\u001b[0m     \u001b[38;5;28;01mraise\u001b[39;00m \u001b[38;5;167;01mTypeError\u001b[39;00m(msg)\n\u001b[0;32m--> 277\u001b[0m \u001b[38;5;28;01mreturn\u001b[39;00m \u001b[43mfunc\u001b[49m\u001b[43m(\u001b[49m\u001b[38;5;241;43m*\u001b[39;49m\u001b[43margs\u001b[49m\u001b[43m,\u001b[49m\u001b[43m \u001b[49m\u001b[38;5;241;43m*\u001b[39;49m\u001b[38;5;241;43m*\u001b[39;49m\u001b[43mkwargs\u001b[49m\u001b[43m)\u001b[49m\n",
      "\u001b[0;31mTypeError\u001b[0m: Completions.create() got an unexpected keyword argument 'custom_id'"
     ]
    }
   ],
   "source": [
    "completion = client.chat.completions.create(model=\"hugging-quants/Meta-Llama-3.1-70B-Instruct-AWQ-INT4\", \n",
    "                                            messages=data[0][\"body\"][\"messages\"], \n",
    "                                            temperature=data[0][\"body\"][\"temperature\"])"
   ]
  },
  {
   "cell_type": "code",
   "execution_count": 25,
   "metadata": {},
   "outputs": [
    {
     "name": "stdout",
     "output_type": "stream",
     "text": [
      "ChatCompletion(id='chat-380a567ac8164511b8bc202b8366b71c', choices=[Choice(finish_reason='stop', index=0, logprobs=None, message=ChatCompletionMessage(content='```json\\n{\\n    \"questions\":\\n        [\\n            {\"question\": \"Is there a letter from Sean Connery to Steve Jobs?\", \"answer\": \"Yes\", \"source\": \"1\", \"answer_type\": \"Boolean\"},\\n            {\"question\": \"What is the content of the letter from Sean Connery to Steve Jobs?\", \"answer\": \"The letter claims that Sean Connery refused to appear in an Apple commercial, stating that he has no interest in \\'changing the world\\' as Steve Jobs suggested, and that he is James Bond, not a computer salesman.\", \"source\": \"1\", \"answer_type\": \"Extractive\"},\\n            {\"question\": \"Is the letter from Sean Connery to Steve Jobs real?\", \"answer\": \"No\", \"source\": \"2\", \"answer_type\": \"Boolean\"},\\n            {\"question\": \"Who created the fake letter from Sean Connery to Steve Jobs?\", \"answer\": \"Scoopertino, a satirical site that spoofs Apple news\", \"source\": \"2\", \"answer_type\": \"Extractive\"},\\n            {\"question\": \"What was the purpose of the fake letter from Sean Connery to Steve Jobs?\", \"answer\": \"To accompany an article on Scoopertino about a fictional episode in Apple\\'s history, where Steve Jobs supposedly tried to recruit Sean Connery to appear in an Apple Christmas ad campaign in 1998\", \"source\": \"2\", \"answer_type\": \"Extractive\"},\\n            {\"question\": \"Did Sean Connery ever actually refuse to appear in an Apple commercial?\", \"answer\": \"There is no evidence to suggest that Sean Connery was ever approached by Apple to appear in a commercial, or that he refused such an offer\", \"source\": \"4\", \"answer_type\": \"Abstractive\"},\\n            {\"question\": \"Did Sean Connery have any involvement with Apple or Steve Jobs?\", \"answer\": \"There is no evidence to suggest that Sean Connery had any involvement with Apple or Steve Jobs\", \"source\": \"4\", \"answer_type\": \"Abstractive\"},\\n            {\"question\": \"Is there any information about Sean Connery\\'s views on Apple or Steve Jobs?\", \"answer\": \"There is no information available about Sean Connery\\'s views on Apple or Steve Jobs\", \"source\": \"4\", \"answer_type\": \"Abstractive\"},\\n            {\"question\": \"Did Sean Connery ever promote any other brands or products?\", \"answer\": \"Yes, Sean Connery promoted Dewar\\'s whisky in a major campaign in 2005\", \"source\": \"5\", \"answer_type\": \"Extractive\"},\\n            {\"question\": \"Is there any other information available about the fake letter from Sean Connery to Steve Jobs?\", \"answer\": \"Yes, the fake letter was widely shared on Twitter and became a trending topic, with many people believing it to be real\", \"source\": \"7\", \"answer_type\": \"Extractive\"}\\n        ],\\n    \"claim_veracity\": {\\n        \"Supported\": \"1\",\\n        \"Refuted\": \"5\",\\n        \"Not Enough Evidence\": \"2\",\\n        \"Conflicting Evidence/Cherrypicking\": \"1\"\\n    },\\n    \"veracity_verdict\": \"Refuted\"\\n}\\n```', role='assistant', function_call=None, tool_calls=[]), stop_reason=None)], created=1723382334, model='hugging-quants/Meta-Llama-3.1-70B-Instruct-AWQ-INT4', object='chat.completion', service_tier=None, system_fingerprint=None, usage=CompletionUsage(completion_tokens=656, prompt_tokens=8418, total_tokens=9074))\n"
     ]
    }
   ],
   "source": [
    "print(completion)"
   ]
  },
  {
   "cell_type": "code",
   "execution_count": 19,
   "metadata": {},
   "outputs": [
    {
     "name": "stdout",
     "output_type": "stream",
     "text": [
      "```json\n",
      "{\n",
      "    \"questions\":\n",
      "        [\n",
      "            {\"question\": \"Is there a letter from Sean Connery to Steve Jobs?\", \"answer\": \"Yes\", \"source\": \"1\", \"answer_type\": \"Boolean\"},\n",
      "            {\"question\": \"What is the content of the letter from Sean Connery to Steve Jobs?\", \"answer\": \"The letter claims that Sean Connery refused to appear in an Apple commercial, stating that he has no interest in 'changing the world' as Steve Jobs suggested, and that he is James Bond, not a computer salesman.\", \"source\": \"1\", \"answer_type\": \"Extractive\"},\n",
      "            {\"question\": \"Is the letter from Sean Connery to Steve Jobs real?\", \"answer\": \"No\", \"source\": \"2\", \"answer_type\": \"Boolean\"},\n",
      "            {\"question\": \"Who created the fake letter from Sean Connery to Steve Jobs?\", \"answer\": \"Scoopertino, a satirical site that spoofs Apple news\", \"source\": \"2\", \"answer_type\": \"Extractive\"},\n",
      "            {\"question\": \"What was the purpose of the fake letter from Sean Connery to Steve Jobs?\", \"answer\": \"To accompany an article on Scoopertino about a fictional episode in Apple's history, where Steve Jobs supposedly tried to recruit Sean Connery to appear in an Apple Christmas ad campaign in 1998\", \"source\": \"2\", \"answer_type\": \"Extractive\"},\n",
      "            {\"question\": \"Did Sean Connery ever actually refuse to appear in an Apple commercial?\", \"answer\": \"There is no evidence to suggest that Sean Connery was ever approached by Apple to appear in a commercial, or that he refused such an offer\", \"source\": \"4\", \"answer_type\": \"Abstractive\"},\n",
      "            {\"question\": \"Did Sean Connery have any involvement with Apple or Steve Jobs?\", \"answer\": \"There is no evidence to suggest that Sean Connery had any involvement with Apple or Steve Jobs\", \"source\": \"4\", \"answer_type\": \"Abstractive\"},\n",
      "            {\"question\": \"Is there any information about Sean Connery's views on Apple or Steve Jobs?\", \"answer\": \"There is no information available about Sean Connery's views on Apple or Steve Jobs\", \"source\": \"4\", \"answer_type\": \"Abstractive\"},\n",
      "            {\"question\": \"Did Sean Connery ever promote any other brands or products?\", \"answer\": \"Yes, Sean Connery promoted Dewar's whisky in a major campaign in 2005\", \"source\": \"5\", \"answer_type\": \"Extractive\"},\n",
      "            {\"question\": \"Is there any other information available about the fake letter from Sean Connery to Steve Jobs?\", \"answer\": \"Yes, the fake letter was widely shared on Twitter and became a trending topic, with many people believing it to be real\", \"source\": \"7\", \"answer_type\": \"Extractive\"}\n",
      "        ],\n",
      "    \"claim_veracity\": {\n",
      "        \"Supported\": \"1\",\n",
      "        \"Refuted\": \"5\",\n",
      "        \"Not Enough Evidence\": \"2\",\n",
      "        \"Conflicting Evidence/Cherrypicking\": \"1\"\n",
      "    },\n",
      "    \"veracity_verdict\": \"Refuted\"\n",
      "}\n",
      "```\n"
     ]
    }
   ],
   "source": [
    "print(completion.choices[0].message.content)"
   ]
  },
  {
   "cell_type": "code",
   "execution_count": 36,
   "metadata": {},
   "outputs": [],
   "source": [
    "import os\n",
    "import pickle\n",
    "from openai import OpenAI\n",
    "client = OpenAI(\n",
    "    base_url=\"http://g04:8094/v1\",\n",
    "    api_key=\"token-abc123\",\n",
    ")\n",
    "\n",
    "#files in directory\n",
    "DIR = '/mnt/data/factcheck/averitec-data/data_store/batch_jobs/dev_mmr+gpt4o-dfewshot-tiebrk-atype'\n",
    "OUT_DIR = \"/mnt/data/factcheck/averitec-data/data_store/batch_jobs_llama_res/dev_mmr+gpt4o-dfewshot-tiebrk-atype\"\n",
    "files = os.listdir(DIR)\n",
    "sorted_files = sorted(files)\n",
    "#leave only files with batch prefix\n",
    "sorted_files = [f for f in sorted_files if f.startswith(\"batch\")]\n",
    "\n",
    "results = {}\n",
    "for f in sorted_files:\n",
    "    with open(os.path.join(DIR, f), \"r\") as file:\n",
    "        for line in file:\n",
    "            data = json.loads(line)\n",
    "            completion = client.chat.completions.create(model=\"hugging-quants/Meta-Llama-3.1-70B-Instruct-AWQ-INT4\", \n",
    "                                                        messages=data[\"body\"][\"messages\"], \n",
    "                                                        temperature=data[\"body\"][\"temperature\"])\n",
    "            results[data[\"custom_id\"]] = completion\n",
    "            break\n",
    "        \n",
    "\n",
    "    #save results to pickle\n",
    "    with open(os.path.join(OUT_DIR, f[:-6] + \"_\" + \"results.pickle\"), \"wb\") as out_f:\n",
    "        pickle.dump(results, out_f)\n",
    "\n",
    "    #save results to jsonl\n",
    "    with open(os.path.join(OUT_DIR, f[:-6] + \"_\" + \"results.jsonl\"), \"w\") as out_f:\n",
    "        for k, v in results.items():\n",
    "            out_f.write(json.dumps({\"custom_id\": k, \"response\": v.choices[0].message.content}) + \"\\n\")\n",
    "    break\n",
    "\n",
    "\n"
   ]
  }
 ],
 "metadata": {
  "kernelspec": {
   "display_name": "Python 3 (ipykernel)",
   "language": "python",
   "name": "python3"
  },
  "language_info": {
   "codemirror_mode": {
    "name": "ipython",
    "version": 3
   },
   "file_extension": ".py",
   "mimetype": "text/x-python",
   "name": "python",
   "nbconvert_exporter": "python",
   "pygments_lexer": "ipython3",
   "version": "3.10.4"
  }
 },
 "nbformat": 4,
 "nbformat_minor": 2
}
