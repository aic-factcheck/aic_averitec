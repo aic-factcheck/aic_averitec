{
 "cells": [
  {
   "cell_type": "code",
   "execution_count": 1,
   "metadata": {},
   "outputs": [],
   "source": [
    "LOCATION = \"europe-west1\"  # or \"us-east5\"\n",
    "PROJECT_ID = \"monterrey-177809\""
   ]
  },
  {
   "cell_type": "markdown",
   "metadata": {},
   "source": [
    "## 👤 Claude 3.5"
   ]
  },
  {
   "cell_type": "code",
   "execution_count": 2,
   "metadata": {},
   "outputs": [
    {
     "name": "stdout",
     "output_type": "stream",
     "text": [
      "{\n",
      "  \"id\": \"msg_vrtx_014TaVouuNfEb2L9wc4rUqci\",\n",
      "  \"content\": [\n",
      "    {\n",
      "      \"text\": \"Here's a simple recipe for delicious banana bread:\\n\\nIngredients:\\n- 2-3 ripe bananas, mashed\\n- 1/3 cup melted butter\\n- 1/2 cup sugar\\n- 1 egg\\n- 1 teaspoon vanilla extract\\n- 1 teaspoon baking soda\\n- Pinch of salt\\n- 1 1/2 cups all-purpose flour\\n- Optional: 1/2 cup chopped nuts or chocolate chips\\n\\nInstructions:\\n\\n1. Preheat oven to 350°F (175°C). Grease a 4x8-inch loaf pan.\\n\\n2. In a large bowl, mix mashed bananas with melted butter.\\n\\n3. Mix in the sugar, egg, and vanilla extract.\\n\\n4. Sprinkle baking soda and salt over the mixture and stir in.\\n\\n5. Add the flour and mix until just combined. Don't overmix.\\n\\n6. Fold in optional nuts or chocolate chips if using.\\n\\n7. Pour the batter into the prepared loaf pan.\\n\\n8. Bake for 50-60 minutes, or until a toothpick inserted into the center comes out clean.\\n\\n9. Remove from oven and let cool in the pan for a few minutes.\\n\\n10. Turn out onto a wire rack to cool completely.\\n\\nEnjoy your homemade banana bread!\",\n",
      "      \"type\": \"text\"\n",
      "    }\n",
      "  ],\n",
      "  \"model\": \"claude-3-5-sonnet-20240620\",\n",
      "  \"role\": \"assistant\",\n",
      "  \"stop_reason\": \"end_turn\",\n",
      "  \"stop_sequence\": null,\n",
      "  \"type\": \"message\",\n",
      "  \"usage\": {\n",
      "    \"input_tokens\": 15,\n",
      "    \"output_tokens\": 321\n",
      "  }\n",
      "}\n"
     ]
    }
   ],
   "source": [
    "from anthropic import AnthropicVertex\n",
    "\n",
    "LOCATION = \"europe-west1\"  # or \"us-east5\"\n",
    "PROJECT_ID = \"monterrey-177809\"\n",
    "client = AnthropicVertex(region=LOCATION, project_id=PROJECT_ID)\n",
    "    \n",
    "message = client.messages.create(\n",
    "    max_tokens=1024,\n",
    "    messages=[\n",
    "        {\n",
    "            \"role\": \"user\",\n",
    "            \"content\": \"Send me a recipe for banana bread.\",\n",
    "        }\n",
    "    ],\n",
    "    model=\"claude-3-5-sonnet@20240620\",\n",
    ")\n",
    "print(message.model_dump_json(indent=2))"
   ]
  },
  {
   "cell_type": "markdown",
   "metadata": {},
   "source": [
    "## ♊️ Geminóza"
   ]
  },
  {
   "cell_type": "code",
   "execution_count": 6,
   "metadata": {},
   "outputs": [],
   "source": [
    "import vertexai\n",
    "import IPython.display\n",
    "from IPython.core.interactiveshell import InteractiveShell\n",
    "\n",
    "InteractiveShell.ast_node_interactivity = \"all\"\n",
    "\n",
    "from vertexai.generative_models import (\n",
    "    GenerationConfig,\n",
    "    GenerativeModel,\n",
    "    HarmBlockThreshold,\n",
    "    HarmCategory,\n",
    "    Part,\n",
    ")\n",
    "\n",
    "vertexai.init(project=PROJECT_ID, location=LOCATION)"
   ]
  },
  {
   "cell_type": "code",
   "execution_count": null,
   "metadata": {},
   "outputs": [],
   "source": [
    "prompt = \"\"\"\n",
    "Task: Answer the following questions based on a PDF document and image file provided in the context.\n",
    "\n",
    "Instructions:\n",
    "- Look through the image and the PDF document carefully and answer the question.\n",
    "- Give a short and terse answer to the following question.\n",
    "- Do not paraphrase or reformat the text you see in the image.\n",
    "- Cite the source of page number for the PDF document provided as context.\n",
    "\n",
    "  Questions:\n",
    "  - What is in the given image?\n",
    "  - Is there a similar graph in the given document?\n",
    "\n",
    "Context:\n",
    "\"\"\"\n",
    "\n",
    "contents = [\n",
    "    pdf_file,\n",
    "    image_file_uri,\n",
    "    prompt,\n",
    "]\n",
    "\n",
    "response = model.generate_content(contents)\n",
    "print(response.text)"
   ]
  }
 ],
 "metadata": {
  "kernelspec": {
   "display_name": "Python 3 (ipykernel)",
   "language": "python",
   "name": "python3"
  },
  "language_info": {
   "codemirror_mode": {
    "name": "ipython",
    "version": 3
   },
   "file_extension": ".py",
   "mimetype": "text/x-python",
   "name": "python",
   "nbconvert_exporter": "python",
   "pygments_lexer": "ipython3",
   "version": "3.10.4"
  }
 },
 "nbformat": 4,
 "nbformat_minor": 2
}
