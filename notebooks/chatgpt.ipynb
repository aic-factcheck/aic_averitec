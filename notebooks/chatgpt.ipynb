{
 "cells": [
  {
   "cell_type": "code",
   "execution_count": 24,
   "metadata": {},
   "outputs": [
    {
     "name": "stdout",
     "output_type": "stream",
     "text": [
      "In a letter to Steve Jobs, Sean Connery refused to appear in an apple commercial.\n",
      "Refuted\n",
      "The answer and sources show that the claim was published in a fake news site so the claim is refuted.\n"
     ]
    }
   ],
   "source": [
    "import json\n",
    "from utils.chat import *\n",
    "\n",
    "\n",
    "# load 1st line of data/dev.json\n",
    "with open('data/dev.json') as f:\n",
    "    data = json.load(f)\n",
    "    i = 0\n",
    "    datapoint = data[i]\n",
    "    print(datapoint['claim'])\n",
    "    print(datapoint['label'])\n",
    "    print(datapoint['justification'])\n",
    "    \n",
    "system_prompt = \"\"\"You are a professional fact checker, formulate about 4 questions that cover all the facts needed to validate whether the following statement is true, false, uncertain or a matter of opinion.\n",
    "\n",
    "Please, you MUST only print the output in the following output format:\n",
    "```json\n",
    "[\n",
    "    \"<Your first question>\",\n",
    "    \"<Your second question>\",\n",
    "    \"<Your third question>\"\n",
    "]\n",
    "```\"\"\"\n",
    "user_message = datapoint['claim']\n",
    "chat = SimpleJSONChat(model=\"gpt-4o\",system_prompt=system_prompt)"
   ]
  },
  {
   "cell_type": "code",
   "execution_count": 26,
   "metadata": {},
   "outputs": [
    {
     "name": "stdout",
     "output_type": "stream",
     "text": [
      "['Did Sean Connery ever write a letter to Steve Jobs?', 'Did Sean Connery refuse to appear in an Apple commercial?', 'Is there any documented evidence or credible source that confirms the existence of such a letter?']\n"
     ]
    }
   ],
   "source": [
    "print(chat(user_message))"
   ]
  },
  {
   "cell_type": "code",
   "execution_count": null,
   "metadata": {},
   "outputs": [],
   "source": []
  }
 ],
 "metadata": {
  "kernelspec": {
   "display_name": "Python 3 (ipykernel)",
   "language": "python",
   "name": "python3"
  },
  "language_info": {
   "codemirror_mode": {
    "name": "ipython",
    "version": 3
   },
   "file_extension": ".py",
   "mimetype": "text/x-python",
   "name": "python",
   "nbconvert_exporter": "python",
   "pygments_lexer": "ipython3",
   "version": "3.10.4"
  }
 },
 "nbformat": 4,
 "nbformat_minor": 2
}
