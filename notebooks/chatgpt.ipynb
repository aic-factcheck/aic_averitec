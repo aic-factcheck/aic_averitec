{
 "cells": [
  {
   "cell_type": "code",
   "execution_count": 24,
   "metadata": {},
   "outputs": [
    {
     "name": "stdout",
     "output_type": "stream",
     "text": [
      "In a letter to Steve Jobs, Sean Connery refused to appear in an apple commercial.\n",
      "Refuted\n",
      "The answer and sources show that the claim was published in a fake news site so the claim is refuted.\n"
     ]
    }
   ],
   "source": [
    "import json\n",
    "from utils.chat import *\n",
    "\n",
    "\n",
    "# load 1st line of data/dev.json\n",
    "with open('data/dev.json') as f:\n",
    "    data = json.load(f)\n",
    "    i = 0\n",
    "    datapoint = data[i]\n",
    "    print(datapoint['claim'])\n",
    "    print(datapoint['label'])\n",
    "    print(datapoint['justification'])\n",
    "    \n",
    "system_prompt = \"\"\"You are a professional fact checker, formulate about 4 questions that cover all the facts needed to validate whether the following statement is true, false, uncertain or a matter of opinion.\n",
    "\n",
    "Please, you MUST only print the output in the following output format:\n",
    "```json\n",
    "[\n",
    "    \"<Your first question>\",\n",
    "    \"<Your second question>\",\n",
    "    \"<Your third question>\"\n",
    "]\n",
    "```\"\"\"\n",
    "user_message = datapoint['claim']\n",
    "chat = SimpleJSONChat(model=\"gpt-4o\",system_prompt=system_prompt)"
   ]
  },
  {
   "cell_type": "code",
   "execution_count": 26,
   "metadata": {},
   "outputs": [
    {
     "name": "stdout",
     "output_type": "stream",
     "text": [
      "['Did Sean Connery ever write a letter to Steve Jobs?', 'Did Sean Connery refuse to appear in an Apple commercial?', 'Is there any documented evidence or credible source that confirms the existence of such a letter?']\n"
     ]
    }
   ],
   "source": [
    "print(chat(user_message))"
   ]
  },
  {
   "cell_type": "code",
   "execution_count": 27,
   "metadata": {},
   "outputs": [
    {
     "data": {
      "text/plain": [
       "['Have there been verified instances of the United States or its Western allies using media outlets to publish fabricated information?',\n",
       " 'What specific articles or media reports are being referred to in the statement?',\n",
       " 'Have there been any official investigations or reports confirming the use of fabricated information by the United States or its Western allies regarding the Chemical Weapons Convention?',\n",
       " 'What are the sources or evidence supporting the claim that the information published was fabricated?']"
      ]
     },
     "execution_count": 27,
     "metadata": {},
     "output_type": "execute_result"
    }
   ],
   "source": [
    "chat(\"The United States of America and its Western allies have been using their media outlets to publish articles based on fabricated information under allegations of non-compliance with the Chemical Weapons Convention.\")"
   ]
  },
  {
   "cell_type": "code",
   "execution_count": 28,
   "metadata": {},
   "outputs": [
    {
     "data": {
      "text/plain": [
       "['Did Donald Trump pay $750 in federal income taxes in a specific year?',\n",
       " 'Did Donald Trump publicly state that he pays low taxes because he is smart and knows how to game the system?',\n",
       " 'Is there a context or specific time frame mentioned when Donald Trump made the statement about paying low taxes?']"
      ]
     },
     "execution_count": 28,
     "metadata": {},
     "output_type": "execute_result"
    }
   ],
   "source": [
    "chat( \"Why should you pay more taxes than Donald Trump pays? And that\\u2019s a fact. $750. Remember what he said when that was raised a while ago, how he only pays \\u2026 He said, \\u2018Because I\\u2019m smart. I know how to game the system.\\u2019\")"
   ]
  },
  {
   "cell_type": "code",
   "execution_count": null,
   "metadata": {},
   "outputs": [],
   "source": []
  }
 ],
 "metadata": {
  "kernelspec": {
   "display_name": "Python 3 (ipykernel)",
   "language": "python",
   "name": "python3"
  },
  "language_info": {
   "codemirror_mode": {
    "name": "ipython",
    "version": 3
   },
   "file_extension": ".py",
   "mimetype": "text/x-python",
   "name": "python",
   "nbconvert_exporter": "python",
   "pygments_lexer": "ipython3",
   "version": "3.10.4"
  }
 },
 "nbformat": 4,
 "nbformat_minor": 2
}
