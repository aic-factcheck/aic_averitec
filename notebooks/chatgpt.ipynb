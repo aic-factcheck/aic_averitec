{
 "cells": [
  {
   "cell_type": "markdown",
   "metadata": {},
   "source": [
    "# ꩜ Test rounds with ChatGPT"
   ]
  },
  {
   "cell_type": "code",
   "execution_count": 49,
   "metadata": {},
   "outputs": [],
   "source": [
    "import json\n",
    "from utils.chat import *"
   ]
  },
  {
   "cell_type": "markdown",
   "metadata": {},
   "source": [
    "## 1. ❓ Question generation expt"
   ]
  },
  {
   "cell_type": "code",
   "execution_count": 42,
   "metadata": {},
   "outputs": [
    {
     "name": "stdout",
     "output_type": "stream",
     "text": [
      "In a letter to Steve Jobs, Sean Connery refused to appear in an apple commercial.\n",
      "Refuted\n",
      "The answer and sources show that the claim was published in a fake news site so the claim is refuted.\n"
     ]
    }
   ],
   "source": [
    "# load 1st line of data/dev.json\n",
    "with open('data/dev.json') as f:\n",
    "    data = json.load(f)\n",
    "    i = 0\n",
    "    datapoint = data[i]\n",
    "    print(datapoint['claim'])\n",
    "    print(datapoint['label'])\n",
    "    print(datapoint['justification'])\n",
    "    \n",
    "system_prompt = \"\"\"You are a professional fact checker, formulate about 4 questions that cover all the facts needed to validate whether the following statement is true, false, uncertain or a matter of opinion.\n",
    "\n",
    "Please, you MUST only print the output in the following output format:\n",
    "```json\n",
    "[\n",
    "    \"<Your first question>\",\n",
    "    \"<Your second question>\",\n",
    "    \"<Your third question>\"\n",
    "]\n",
    "```\"\"\"\n",
    "user_message = datapoint['claim']\n",
    "chat = SimpleJSONChat(model=\"gpt-4o\",system_prompt=system_prompt)"
   ]
  },
  {
   "cell_type": "code",
   "execution_count": 26,
   "metadata": {},
   "outputs": [
    {
     "name": "stdout",
     "output_type": "stream",
     "text": [
      "['Did Sean Connery ever write a letter to Steve Jobs?', 'Did Sean Connery refuse to appear in an Apple commercial?', 'Is there any documented evidence or credible source that confirms the existence of such a letter?']\n"
     ]
    }
   ],
   "source": [
    "print(chat(user_message))"
   ]
  },
  {
   "cell_type": "code",
   "execution_count": 27,
   "metadata": {},
   "outputs": [
    {
     "data": {
      "text/plain": [
       "['Have there been verified instances of the United States or its Western allies using media outlets to publish fabricated information?',\n",
       " 'What specific articles or media reports are being referred to in the statement?',\n",
       " 'Have there been any official investigations or reports confirming the use of fabricated information by the United States or its Western allies regarding the Chemical Weapons Convention?',\n",
       " 'What are the sources or evidence supporting the claim that the information published was fabricated?']"
      ]
     },
     "execution_count": 27,
     "metadata": {},
     "output_type": "execute_result"
    }
   ],
   "source": [
    "chat(\"The United States of America and its Western allies have been using their media outlets to publish articles based on fabricated information under allegations of non-compliance with the Chemical Weapons Convention.\")"
   ]
  },
  {
   "cell_type": "code",
   "execution_count": 28,
   "metadata": {},
   "outputs": [
    {
     "data": {
      "text/plain": [
       "['Did Donald Trump pay $750 in federal income taxes in a specific year?',\n",
       " 'Did Donald Trump publicly state that he pays low taxes because he is smart and knows how to game the system?',\n",
       " 'Is there a context or specific time frame mentioned when Donald Trump made the statement about paying low taxes?']"
      ]
     },
     "execution_count": 28,
     "metadata": {},
     "output_type": "execute_result"
    }
   ],
   "source": [
    "chat( \"Why should you pay more taxes than Donald Trump pays? And that\\u2019s a fact. $750. Remember what he said when that was raised a while ago, how he only pays \\u2026 He said, \\u2018Because I\\u2019m smart. I know how to game the system.\\u2019\")"
   ]
  },
  {
   "cell_type": "markdown",
   "metadata": {},
   "source": [
    "## 2. 🤥 Veracity labeling expt"
   ]
  },
  {
   "cell_type": "code",
   "execution_count": 44,
   "metadata": {},
   "outputs": [
    {
     "name": "stdout",
     "output_type": "stream",
     "text": [
      "In a letter to Steve Jobs, Sean Connery refused to appear in an apple commercial.\n",
      "Refuted\n",
      "The answer and sources show that the claim was published in a fake news site so the claim is refuted.\n"
     ]
    },
    {
     "data": {
      "text/plain": [
       "{'claim': 'In a letter to Steve Jobs, Sean Connery refused to appear in an apple commercial.',\n",
       " 'required_reannotation': False,\n",
       " 'label': 'Refuted',\n",
       " 'justification': 'The answer and sources show that the claim was published in a fake news site so the claim is refuted.',\n",
       " 'claim_date': '31-10-2020',\n",
       " 'speaker': None,\n",
       " 'original_claim_url': None,\n",
       " 'fact_checking_article': 'https://web.archive.org/web/20201130144023/https://checkyourfact.com/2020/11/03/fact-check-sean-connery-letter-steve-jobs-apple-1998/',\n",
       " 'reporting_source': 'Facebook',\n",
       " 'location_ISO_code': None,\n",
       " 'claim_types': ['Event/Property Claim'],\n",
       " 'fact_checking_strategies': ['Written Evidence'],\n",
       " 'questions': [{'question': 'Where was the claim first published',\n",
       "   'answers': [{'answer': 'It was first published on Sccopertino',\n",
       "     'answer_type': 'Abstractive',\n",
       "     'source_url': 'https://web.archive.org/web/20201129141238/https://scoopertino.com/exposed-the-imac-disaster-that-almost-was/',\n",
       "     'source_medium': 'Web text',\n",
       "     'cached_source_url': 'https://web.archive.org/web/20201129141238/https://scoopertino.com/exposed-the-imac-disaster-that-almost-was/'}]},\n",
       "  {'question': 'What kind of website is Scoopertino',\n",
       "   'answers': [{'answer': 'Scoopertino is an imaginary news organization devoted to ferreting out the most relevant stories in the world of Apple, whether or not they actually occurred - says their about page',\n",
       "     'answer_type': 'Extractive',\n",
       "     'source_url': 'https://web.archive.org/web/20201202085933/https://scoopertino.com/about-scoopertino/',\n",
       "     'source_medium': 'Web text',\n",
       "     'cached_source_url': 'https://web.archive.org/web/20201202085933/https://scoopertino.com/about-scoopertino/'}]}],\n",
       " 'cached_original_claim_url': None}"
      ]
     },
     "execution_count": 44,
     "metadata": {},
     "output_type": "execute_result"
    }
   ],
   "source": [
    "# unpack /home/ullriher/aic_averitec/data/dev.json to data\n",
    "with open('data/dev.json') as f:\n",
    "    data = json.load(f)\n",
    "    i = 0\n",
    "    datapoint = data[i]\n",
    "    print(datapoint['claim'])\n",
    "    print(datapoint['label'])\n",
    "    print(datapoint['justification'])\n",
    "datapoint"
   ]
  },
  {
   "cell_type": "code",
   "execution_count": 35,
   "metadata": {},
   "outputs": [
    {
     "data": {
      "text/plain": [
       "{'claim_id': 0,\n",
       " 'claim': 'In a letter to Steve Jobs, Sean Connery refused to appear in an apple commercial.',\n",
       " 'evidence': [{'question': 'Did Sean connery send a fake letter about real Steve jobs?',\n",
       "   'answer': 'Also, fake Sean Connery sent a letter to Real Steve Jobs.',\n",
       "   'url': 'https://www.nbcnews.com/news/world/pre-caffeine-tech-apple-gossip-smart-pugs-flna122578'},\n",
       "  {'question': 'Did President Trump tell the truth about the fake letter to Apple CEO Steve Job Jobs Jobs  Question answer:  Yes, Trump said it was fake.?',\n",
       "   'answer': 'Thanks to the confluence of my interests and the fact that it’s funny as hell, I’ve been inundated with email regarding Scoopertino’s fake 1998 letter from Sean Connery to Steve Jobs.',\n",
       "   'url': 'https://maclalala2.wordpress.com/2011/06/24/%E3%81%9F%E3%81%8B%E3%81%8C%E3%82%B3%E3%83%B3%E3%83%94%E3%83%A5%E3%83%BC%E3%82%BF%E3%82%BB%E3%83%BC%E3%83%AB%E3%82%B9%E3%83%9E%E3%83%B3%E3%81%AE%E3%81%9F%E3%82%81%E3%81%AB%E3%82%B8%E3%82%A7%E3%83%BC/'},\n",
       "  {'question': 'Did Steve Job send a letter of refusal to a movie called James Bond?',\n",
       "   'answer': 'First, the bad news. Sean Connery never actually sent a typewritten letter to Steve Jobs in 1998 refusing to be in an Apple ad.',\n",
       "   'url': 'https://www.cnet.com/culture/fake-sean-connery-letter-to-steve-jobs-goes-viral/'}]}"
      ]
     },
     "execution_count": 35,
     "metadata": {},
     "output_type": "execute_result"
    }
   ],
   "source": [
    "# load /home/ullriher/aic_averitec/data_store/dev_top_3_rerank_qa.jsonl\n",
    "with open('data_store/dev_top_3_rerank_qa.json') as f:\n",
    "    data = []\n",
    "    for line in f:\n",
    "        data.append(json.loads(line))\n",
    "    datapoint = data[i]\n",
    "datapoint"
   ]
  },
  {
   "cell_type": "code",
   "execution_count": null,
   "metadata": {},
   "outputs": [],
   "source": [
    "for datapoint in data:\n",
    "    #if has questions, concatenate them as a {question:question, answer:concat(answers[answer])} evidence\n",
    "    if 'questions' in datapoint:\n",
    "        questions = datapoint['questions']\n",
    "        answers = []\n",
    "        for question in questions:\n",
    "            answers.append(question['answer'])\n",
    "        evidence = {'question':questions[0]['question'],'answer':answers}\n",
    "        datapoint['evidence'] = evidence"
   ]
  },
  {
   "cell_type": "code",
   "execution_count": 48,
   "metadata": {},
   "outputs": [
    {
     "data": {
      "text/plain": [
       "{'claim': 'In a letter to Steve Jobs, Sean Connery refused to appear in an apple commercial.',\n",
       " 'required_reannotation': False,\n",
       " 'label': 'Refuted',\n",
       " 'justification': 'The answer and sources show that the claim was published in a fake news site so the claim is refuted.',\n",
       " 'claim_date': '31-10-2020',\n",
       " 'speaker': None,\n",
       " 'original_claim_url': None,\n",
       " 'fact_checking_article': 'https://web.archive.org/web/20201130144023/https://checkyourfact.com/2020/11/03/fact-check-sean-connery-letter-steve-jobs-apple-1998/',\n",
       " 'reporting_source': 'Facebook',\n",
       " 'location_ISO_code': None,\n",
       " 'claim_types': ['Event/Property Claim'],\n",
       " 'fact_checking_strategies': ['Written Evidence'],\n",
       " 'questions': [{'question': 'Where was the claim first published',\n",
       "   'answers': [{'answer': 'It was first published on Sccopertino',\n",
       "     'answer_type': 'Abstractive',\n",
       "     'source_url': 'https://web.archive.org/web/20201129141238/https://scoopertino.com/exposed-the-imac-disaster-that-almost-was/',\n",
       "     'source_medium': 'Web text',\n",
       "     'cached_source_url': 'https://web.archive.org/web/20201129141238/https://scoopertino.com/exposed-the-imac-disaster-that-almost-was/'}]},\n",
       "  {'question': 'What kind of website is Scoopertino',\n",
       "   'answers': [{'answer': 'Scoopertino is an imaginary news organization devoted to ferreting out the most relevant stories in the world of Apple, whether or not they actually occurred - says their about page',\n",
       "     'answer_type': 'Extractive',\n",
       "     'source_url': 'https://web.archive.org/web/20201202085933/https://scoopertino.com/about-scoopertino/',\n",
       "     'source_medium': 'Web text',\n",
       "     'cached_source_url': 'https://web.archive.org/web/20201202085933/https://scoopertino.com/about-scoopertino/'}]}],\n",
       " 'cached_original_claim_url': None}"
      ]
     },
     "execution_count": 48,
     "metadata": {},
     "output_type": "execute_result"
    }
   ],
   "source": [
    "datapoint"
   ]
  },
  {
   "cell_type": "code",
   "execution_count": 46,
   "metadata": {},
   "outputs": [
    {
     "name": "stdout",
     "output_type": "stream",
     "text": [
      "You are an expert factchecker, you classify the user's claim veracity ONLY WITH RESPECT to the following 3 questions and their answers:\n",
      "\n",
      "Q: How did the Republicans get the ratings they did on Monday night's first day of their convention?\n",
      "A:Now, for the somewhat complicated look at TV ratings for Monday’s first night of the Republican National Convention.\n",
      "\n",
      "Q: How many viewers watched the convention?\n",
      "A:The second night of the Democratic convention had 19.2 million viewers across the same networks.[242] As per the table below, night two of the Republican convention had 18 million viewers across six major, traditional television and cable networks tracked by Nielsen.\n",
      "\n",
      "Q: What are the networks that were the viewers of this night's Democratic Convention?\n",
      "A:The second night of the Democratic convention had 18.5 million viewers across the same six networks.[243]\n",
      "\n",
      "    You must only print one of the following outputs:\n",
      "    Supported\n",
      "- Refuted\n",
      "- Not Enough Evidence\n",
      "- Conflicting Evidence/Cherrypicking                    \n",
      "    \n"
     ]
    }
   ],
   "source": [
    "print(chat2.system_prompt)"
   ]
  },
  {
   "cell_type": "code",
   "execution_count": 47,
   "metadata": {},
   "outputs": [
    {
     "ename": "KeyError",
     "evalue": "'evidence'",
     "output_type": "error",
     "traceback": [
      "\u001b[0;31m---------------------------------------------------------------------------\u001b[0m",
      "\u001b[0;31mKeyError\u001b[0m                                  Traceback (most recent call last)",
      "Cell \u001b[0;32mIn[47], line 1\u001b[0m\n\u001b[0;32m----> 1\u001b[0m qas \u001b[38;5;241m=\u001b[39m \u001b[38;5;124m\"\u001b[39m\u001b[38;5;130;01m\\n\u001b[39;00m\u001b[38;5;130;01m\\n\u001b[39;00m\u001b[38;5;124m\"\u001b[39m\u001b[38;5;241m.\u001b[39mjoin([\u001b[38;5;124m\"\u001b[39m\u001b[38;5;124mQ: \u001b[39m\u001b[38;5;124m\"\u001b[39m \u001b[38;5;241m+\u001b[39m e[\u001b[38;5;124m\"\u001b[39m\u001b[38;5;124mquestion\u001b[39m\u001b[38;5;124m\"\u001b[39m] \u001b[38;5;241m+\u001b[39m \u001b[38;5;124m\"\u001b[39m\u001b[38;5;130;01m\\n\u001b[39;00m\u001b[38;5;124mA: \u001b[39m\u001b[38;5;124m\"\u001b[39m \u001b[38;5;241m+\u001b[39m e[\u001b[38;5;124m\"\u001b[39m\u001b[38;5;124manswer\u001b[39m\u001b[38;5;124m\"\u001b[39m] \u001b[38;5;28;01mfor\u001b[39;00m e \u001b[38;5;129;01min\u001b[39;00m \u001b[43mdatapoint\u001b[49m\u001b[43m[\u001b[49m\u001b[38;5;124;43m\"\u001b[39;49m\u001b[38;5;124;43mevidence\u001b[39;49m\u001b[38;5;124;43m\"\u001b[39;49m\u001b[43m]\u001b[49m])\n\u001b[1;32m      2\u001b[0m verdicts \u001b[38;5;241m=\u001b[39m [\n\u001b[1;32m      3\u001b[0m     \u001b[38;5;124m\"\u001b[39m\u001b[38;5;124mSupported\u001b[39m\u001b[38;5;124m\"\u001b[39m,\n\u001b[1;32m      4\u001b[0m     \u001b[38;5;124m\"\u001b[39m\u001b[38;5;124mRefuted\u001b[39m\u001b[38;5;124m\"\u001b[39m,\n\u001b[1;32m      5\u001b[0m     \u001b[38;5;124m\"\u001b[39m\u001b[38;5;124mNot Enough Evidence\u001b[39m\u001b[38;5;124m\"\u001b[39m,\n\u001b[1;32m      6\u001b[0m     \u001b[38;5;124m\"\u001b[39m\u001b[38;5;124mConflicting Evidence/Cherrypicking\u001b[39m\u001b[38;5;124m\"\u001b[39m,\n\u001b[1;32m      7\u001b[0m ]\n\u001b[1;32m      8\u001b[0m verds \u001b[38;5;241m=\u001b[39m \u001b[38;5;124m\"\u001b[39m\u001b[38;5;130;01m\\n\u001b[39;00m\u001b[38;5;124m- \u001b[39m\u001b[38;5;124m\"\u001b[39m\u001b[38;5;241m.\u001b[39mjoin(verdicts)\n",
      "\u001b[0;31mKeyError\u001b[0m: 'evidence'"
     ]
    }
   ],
   "source": [
    "qas = \"\\n\\n\".join([\"Q: \" + e[\"question\"] + \"\\nA: \" + e[\"answer\"] for e in datapoint[\"evidence\"]])\n",
    "verdicts = [\n",
    "    \"Supported\",\n",
    "    \"Refuted\",\n",
    "    \"Not Enough Evidence\",\n",
    "    \"Conflicting Evidence/Cherrypicking\",\n",
    "]\n",
    "verds = \"\\n- \".join(verdicts)\n",
    "chat2 = SimpleJSONChat(\n",
    "    model=\"gpt-4o\",\n",
    "    system_prompt=f\"\"\"You are an expert factchecker, you classify the user's claim veracity ONLY WITH RESPECT to the following 3 questions and their answers:\\n\\n{qas}\n",
    "\n",
    "You must only print one of the following outputs:\\n- {verds}                    \n",
    "\"\"\",\n",
    "parse_output=False\n",
    ")\n",
    "\n",
    "chat2(datapoint[\"claim\"])"
   ]
  },
  {
   "cell_type": "code",
   "execution_count": 41,
   "metadata": {},
   "outputs": [],
   "source": [
    "data2 = []\n",
    "for datapoint in data:\n",
    "    qas = \"\\n\\n\".join([\"Q: \" + e[\"question\"] + \"\\nA:\" + e[\"answer\"] for e in datapoint[\"evidence\"]])\n",
    "    verdicts = [\n",
    "        \"Supported\",\n",
    "        \"Refuted\",\n",
    "        \"Not Enough Evidence\",\n",
    "        \"Conflicting Evidence/Cherrypicking\",\n",
    "    ]\n",
    "    verds = \"\\n- \".join(verdicts)\n",
    "    chat2 = SimpleJSONChat(\n",
    "        model=\"gpt-4o\",\n",
    "        system_prompt=f\"\"\"You are an expert factchecker, you classify the user's claim veracity ONLY WITH RESPECT to the following 3 questions and their answers:\\n\\n{qas}\n",
    "\n",
    "    You must only print one of the following outputs:\n",
    "    {verds}                    \n",
    "    \"\"\",\n",
    "    parse_output=False\n",
    "    )\n",
    "\n",
    "    datapoint[\"pred_label\"]=chat2(datapoint[\"claim\"])\n",
    "    with open('data_store/dev_veracity_gpt.jsonl',\"w\") as f:\n",
    "        # if lovercase datapoint label contains sup, make \"Supported\"\n",
    "        if \"sup\" in datapoint[\"pred_label\"].lower():\n",
    "            datapoint[\"pred_label\"] = \"Supported\"\n",
    "        # if lovercase datapoint label contains ref, make \"Refuted\"\n",
    "        elif \"ref\" in datapoint[\"pred_label\"].lower():\n",
    "            datapoint[\"pred_label\"] = \"Refuted\"\n",
    "        # if lovercase datapoint label contains not, make \"Not Enough Evidence\"\n",
    "        elif \"not\" in datapoint[\"pred_label\"].lower():\n",
    "            datapoint[\"pred_label\"] = \"Not Enough Evidence\"\n",
    "        # if lovercase datapoint label contains conf, make \"Conflicting Evidence/Cherrypicking\"\n",
    "        elif \"conf\" in datapoint[\"pred_label\"].lower() or \"cherr\" in datapoint[\"pred_label\"].lower():\n",
    "            datapoint[\"pred_label\"] = \"Conflicting Evidence/Cherrypicking\"\n",
    "        data2.append(datapoint)\n",
    "        #prettysave to f\n",
    "        f.write(json.dumps(data2, indent=4))"
   ]
  }
 ],
 "metadata": {
  "kernelspec": {
   "display_name": "Python 3 (ipykernel)",
   "language": "python",
   "name": "python3"
  }
 },
 "nbformat": 4,
 "nbformat_minor": 2
}
