{
 "cells": [
  {
   "cell_type": "markdown",
   "metadata": {},
   "source": [
    "# 🔎 Retrieval (and QG?) playground"
   ]
  },
  {
   "cell_type": "code",
   "execution_count": 102,
   "metadata": {},
   "outputs": [],
   "source": [
    "import json, random\n",
    "import matplotlib.pyplot as plt\n",
    "from langchain_core.example_selectors import (\n",
    "    MaxMarginalRelevanceExampleSelector,\n",
    "    SemanticSimilarityExampleSelector,\n",
    ")\n",
    "from langchain_huggingface.embeddings import HuggingFaceEmbeddings\n",
    "from langchain_text_splitters import CharacterTextSplitter\n",
    "from langchain_chroma import Chroma\n",
    "from langchain_core.documents import Document\n",
    "from langchain_community.retrievers import KNNRetriever\n",
    "from IPython.display import display, Markdown, Latex\n",
    "from sentence_transformers import CrossEncoder\n"
   ]
  },
  {
   "cell_type": "markdown",
   "metadata": {},
   "source": [
    "## ⚙️ 0. Choose claim & docstore"
   ]
  },
  {
   "cell_type": "code",
   "execution_count": 103,
   "metadata": {},
   "outputs": [],
   "source": [
    "random.seed(111)"
   ]
  },
  {
   "cell_type": "code",
   "execution_count": 104,
   "metadata": {},
   "outputs": [
    {
     "data": {
      "text/plain": [
       "423"
      ]
     },
     "execution_count": 104,
     "metadata": {},
     "output_type": "execute_result"
    }
   ],
   "source": [
    "random.randint(0, 500)\n"
   ]
  },
  {
   "cell_type": "code",
   "execution_count": 105,
   "metadata": {},
   "outputs": [
    {
     "data": {
      "text/markdown": [
       "### 🗯️ New Zealand opposition leader Judith Collins is opposed to new environmental legislation because of her connection to Oravida, a local water and dairy company that exports produce to China. [Refuted]"
      ],
      "text/plain": [
       "<IPython.core.display.Markdown object>"
      ]
     },
     "metadata": {},
     "output_type": "display_data"
    },
    {
     "data": {
      "text/markdown": [
       "**https://www.nytimes.com/2019/11/26/arts/music/judy-collins.html**\n",
       "\n",
       " * "
      ],
      "text/plain": [
       "<IPython.core.display.Markdown object>"
      ]
     },
     "metadata": {},
     "output_type": "display_data"
    },
    {
     "data": {
      "text/markdown": [
       "**https://azsos.gov/elections/campaign-finance/financial-disclosure-statements/2022-financial-disclosure-statements**\n",
       "\n",
       " * "
      ],
      "text/plain": [
       "<IPython.core.display.Markdown object>"
      ]
     },
     "metadata": {},
     "output_type": "display_data"
    },
    {
     "data": {
      "text/markdown": [
       "**https://www.wsj.com/articles/employees-ask-facebook-to-reverse-policy-on-political-ad-fact-checking-11572311436**\n",
       "\n",
       " * "
      ],
      "text/plain": [
       "<IPython.core.display.Markdown object>"
      ]
     },
     "metadata": {},
     "output_type": "display_data"
    }
   ],
   "source": [
    "CLAIM_ID = 252\n",
    "datapoint = json.load(open(\"data/dev.json\"))[CLAIM_ID]\n",
    "claim = datapoint[\"claim\"]\n",
    "docstore = []\n",
    "for line in open(f\"data_store/output_dev/{CLAIM_ID}.json\"):\n",
    "    docstore.append(json.loads(line))\n",
    "    \n",
    "# print claim in markdown with some sample evidence\n",
    "display(Markdown(\"### 🗯️ \" + claim + \" [\" + datapoint[\"label\"] +\"]\"))\n",
    "# sample 3\n",
    "for i in random.sample(range(len(docstore)), 3):\n",
    "    newline = \"\\n\"\n",
    "    display(Markdown(f\"**{docstore[i]['url']}**\\n\\n * {newline.join(docstore[i]['url2text'][:10])}\"))"
   ]
  },
  {
   "cell_type": "markdown",
   "metadata": {},
   "source": [
    "### 🗂️ 0.1 Docstore formatting/scraping"
   ]
  },
  {
   "cell_type": "code",
   "execution_count": 106,
   "metadata": {},
   "outputs": [
    {
     "data": {
      "text/plain": [
       "Document(page_content='Industry Update for Small Scale Residential Construction (28/09/2020)\\nHappy Monday. I hope you are having a great start to the week! I’ve been compiling this information to give you a succinct explanation of the current updates as I know there is a lot of confusion and overwhelm and it would be great to have things clearly laid out.\\nOn Sunday, our Premier Dan Andrews downgraded our industry’s status from the first step / ‘heavily restricted’ to the second step / ‘restricted’ stage of the COVID road map in Metropolitan Melbourne (Click here for info).\\nAn important change to note is that it is now mandatory to wear a fitted face mask that fully covers your nose and mouth.\\nWe have been given two weeks’ grace before penalties will be imposed for wearing the wrong type of face mask, so please make sure that all workers are wearing the appropriate face masks when leaving home to avoid any unnecessary fines.\\nEnforcement of the updated face covering requirements will take effect from midnight, 12 October.\\nAnother noteworthy change is with respect to COVID Safe Plans. Every single work premises must have a COVID Safe Plan in place.\\nThe exemption from having a COVID Safe Plan for work premises that have fewer than 5 workers no longer applies.\\nGiven the amazing progress we’ve all made, there is a possibility that we may move into the third step on 19 October (rather than 26 October as originally announced).\\nAccordingly, it is super important for everyone in our industry to continue to do the right thing on site in order to keep our industry safe and open (and we continue to pass on a huge thank you for your efforts to date).\\nWe must continue to follow High-Risk COVID Safe Plans on-site (click here for template) and: ensure physical distancing of 1.5m, wear a mask, practice good hygiene as per signage, keep good records and act quickly if staff become unwell, avoid interactions in closed spaces and create workforce bubbles.\\nFeatures of working within the second step, ‘Restricted’ stage include:\\n- Client (or agent) contract meetings including document signing remain permitted where remote meetings are not reasonably practicable, by appointment only with physical distancing and hygiene practices in place\\n- Final inspections remain permitted where remote meetings are not reasonably practicable, by appointment only with physical distancing and hygiene practices in place\\n- On site / office-based activities to resume with density quotient applied\\n- Workers encouraged to work from home where possible\\n- Display homes open by appointment only (not to exceed 15 minutes) with physical distancing and density quotient for enclosed spaces, temperature testing and contact tracing procedures.\\nResidents of Metropolitan Melbourne can now visit display homes within Metropolitan Melbourne provided such residents do not leave their residence for more than 2 hours and do not travel outside of the restricted area for this purpose\\n- The supply and install of building materials is exempt from the workforce limits providing that the workgroup is kept separate to other workers\\n- Workforce bubbles/workforce movement is permitted and specialist contractors are permitted to attend up to 5 sites per week with a maximum of 2 sites per day\\nSadly, nothing has changed for the renovations sector at this stage, meaning that renovations in client’s homes continue to be restricted to homes that are unoccupied with all COVID safety measures in place.\\nInternal and external renovations at occupied residential premises will not commence until the third step in the COVID road map, which could now possibly be as early as 19 October.\\nWe will keep you updated in this regard as new information comes to light.\\nWith respect to people traveling for work from Metropolitan Melbourne to Regional Victoria and for clarification, the person must hold a valid work permit to travel there and must also observe the Metropolitan Melbourne rules and not the rules that cover that job site in Regional Victoria.\\nWith respect to lending, the Federal Treasurer has announced his intentions to relax Australia’s credit framework regarding Responsible Lending.\\nThis is in an attempt to allow access to credit and loans much quicker and more easily in order to help our economy recover from this pandemic.\\nThe proposed changes put the responsibility on the owner to evidence that they can afford their proposed loan, rather than the bank bearing this burden.\\nIt is proposed that this change will commence from 1 March 2021. These changes, together with the government stimulus packages and business support and expansion policies will have an impact on:\\n- Property values in both metro and regional areas; and\\n- Renovations – especially incorporating home office space into properties,\\nwhich will ultimately create more work for all of us.\\nWe hope that this information has been useful and please remember to reach out if you have any questions or just want to touch base for a chat.\\nExcellent report Becc! Well done and thanks for that, very comprehensive.', metadata={'url': 'https://www.linkedin.com/pulse/industry-update-small-scale-residential-construction', 'sentences': ['Industry Update for Small Scale Residential Construction (28/09/2020)', 'Happy Monday. I hope you are having a great start to the week! I’ve been compiling this information to give you a succinct explanation of the current updates as I know there is a lot of confusion and overwhelm and it would be great to have things clearly laid out.', 'On Sunday, our Premier Dan Andrews downgraded our industry’s status from the first step / ‘heavily restricted’ to the second step / ‘restricted’ stage of the COVID road map in Metropolitan Melbourne (Click here for info).', 'An important change to note is that it is now mandatory to wear a fitted face mask that fully covers your nose and mouth.', 'We have been given two weeks’ grace before penalties will be imposed for wearing the wrong type of face mask, so please make sure that all workers are wearing the appropriate face masks when leaving home to avoid any unnecessary fines.', 'Enforcement of the updated face covering requirements will take effect from midnight, 12 October.', 'Another noteworthy change is with respect to COVID Safe Plans. Every single work premises must have a COVID Safe Plan in place.', 'The exemption from having a COVID Safe Plan for work premises that have fewer than 5 workers no longer applies.', 'Given the amazing progress we’ve all made, there is a possibility that we may move into the third step on 19 October (rather than 26 October as originally announced).', 'Accordingly, it is super important for everyone in our industry to continue to do the right thing on site in order to keep our industry safe and open (and we continue to pass on a huge thank you for your efforts to date).', 'We must continue to follow High-Risk COVID Safe Plans on-site (click here for template) and: ensure physical distancing of 1.5m, wear a mask, practice good hygiene as per signage, keep good records and act quickly if staff become unwell, avoid interactions in closed spaces and create workforce bubbles.', 'Features of working within the second step, ‘Restricted’ stage include:', '- Client (or agent) contract meetings including document signing remain permitted where remote meetings are not reasonably practicable, by appointment only with physical distancing and hygiene practices in place', '- Final inspections remain permitted where remote meetings are not reasonably practicable, by appointment only with physical distancing and hygiene practices in place', '- On site / office-based activities to resume with density quotient applied', '- Workers encouraged to work from home where possible', '- Display homes open by appointment only (not to exceed 15 minutes) with physical distancing and density quotient for enclosed spaces, temperature testing and contact tracing procedures.', 'Residents of Metropolitan Melbourne can now visit display homes within Metropolitan Melbourne provided such residents do not leave their residence for more than 2 hours and do not travel outside of the restricted area for this purpose', '- The supply and install of building materials is exempt from the workforce limits providing that the workgroup is kept separate to other workers', '- Workforce bubbles/workforce movement is permitted and specialist contractors are permitted to attend up to 5 sites per week with a maximum of 2 sites per day', 'Sadly, nothing has changed for the renovations sector at this stage, meaning that renovations in client’s homes continue to be restricted to homes that are unoccupied with all COVID safety measures in place.', 'Internal and external renovations at occupied residential premises will not commence until the third step in the COVID road map, which could now possibly be as early as 19 October.', 'We will keep you updated in this regard as new information comes to light.', 'With respect to people traveling for work from Metropolitan Melbourne to Regional Victoria and for clarification, the person must hold a valid work permit to travel there and must also observe the Metropolitan Melbourne rules and not the rules that cover that job site in Regional Victoria.', 'With respect to lending, the Federal Treasurer has announced his intentions to relax Australia’s credit framework regarding Responsible Lending.', 'This is in an attempt to allow access to credit and loans much quicker and more easily in order to help our economy recover from this pandemic.', 'The proposed changes put the responsibility on the owner to evidence that they can afford their proposed loan, rather than the bank bearing this burden.', 'It is proposed that this change will commence from 1 March 2021. These changes, together with the government stimulus packages and business support and expansion policies will have an impact on:', '- Property values in both metro and regional areas; and', '- Renovations – especially incorporating home office space into properties,', 'which will ultimately create more work for all of us.', 'We hope that this information has been useful and please remember to reach out if you have any questions or just want to touch base for a chat.', 'Excellent report Becc! Well done and thanks for that, very comprehensive.']})"
      ]
     },
     "execution_count": 106,
     "metadata": {},
     "output_type": "execute_result"
    }
   ],
   "source": [
    "# Naive version with \\n concatenated url2texts:\n",
    "documents = [\n",
    "    Document(\n",
    "        page_content=\"\\n\".join(doc[\"url2text\"]), \n",
    "        metadata={\n",
    "            \"url\": doc[\"url\"],\n",
    "            \"sentences\": doc[\"url2text\"]\n",
    "        }\n",
    "    )\n",
    "    for doc in docstore\n",
    "]\n",
    "documents[random.randint(0, len(documents))]"
   ]
  },
  {
   "cell_type": "markdown",
   "metadata": {},
   "source": [
    "### 📊 Docstore hist & truncation"
   ]
  },
  {
   "cell_type": "code",
   "execution_count": 107,
   "metadata": {},
   "outputs": [
    {
     "data": {
      "text/plain": [
       "(array([238.,  50.,  32.,  27.,  24.,  32.,  23.,  28.,  18.,  19.,  23.,\n",
       "         16.,  21.,  17.,   9.,   4.,   8.,  10.,   8.,   4.,   6.,   5.,\n",
       "          4.,   7.,   3.,   5.,   3.,   4.,   7.,   3.,   2.,   1.,   5.,\n",
       "          0.,   3.,   4.,   4.,   4.,   3.,   5.,   2.,   0.,   2.,   2.,\n",
       "          2.,   2.,   1.,   1.,   2.,   5.]),\n",
       " array([  0.,   3.,   6.,   9.,  12.,  15.,  18.,  21.,  24.,  27.,  30.,\n",
       "         33.,  36.,  39.,  42.,  45.,  48.,  51.,  54.,  57.,  60.,  63.,\n",
       "         66.,  69.,  72.,  75.,  78.,  81.,  84.,  87.,  90.,  93.,  96.,\n",
       "         99., 102., 105., 108., 111., 114., 117., 120., 123., 126., 129.,\n",
       "        132., 135., 138., 141., 144., 147., 150.]),\n",
       " <BarContainer object of 50 artists>)"
      ]
     },
     "execution_count": 107,
     "metadata": {},
     "output_type": "execute_result"
    },
    {
     "data": {
      "image/png": "[encoded data removed]",
      "text/plain": [
       "<Figure size 640x480 with 1 Axes>"
      ]
     },
     "metadata": {},
     "output_type": "display_data"
    }
   ],
   "source": [
    "# histogram of sentences len, between 0 and 100\n",
    "plt.hist([len(doc.metadata[\"sentences\"]) for doc in documents], bins=50, range=(0, 150))"
   ]
  },
  {
   "cell_type": "code",
   "execution_count": 108,
   "metadata": {},
   "outputs": [
    {
     "data": {
      "text/plain": [
       "\"Full text is available to Purdue University faculty, staff, and students on campus through this site.\\nOff-campus Purdue users may download theses and dissertations by logging into the Libraries' proxy server with your Purdue Career Account.\\nLinks to log in to the proxy server directly below the download button of each thesis or dissertation page.\\nNon-Purdue users, may purchase copies of theses and dissertations from ProQuest or talk to your librarian about borrowing a copy through Interlibrary Loan.\\n(Some titles may also be available free of charge in our Open Access Theses and Dissertations Series, so please check there first.)\\nFortney, Sarah Katherine (2024) The Role of Trait and Specific Expectations in the Experience of Dysmenorrhea\\nAbdullah, Umm E. Hani (2023) Exploratory Study of Deep Brain Stimulation in the Syngap1+/- Mouse Model of Autism Spectrum Disorder Using Electrophysiology\\nAbney, Douglas John (2023) Broadband’s Role in Agricultural Job Postings In U.S. Counties\\nAbou-Rac\""
      ]
     },
     "execution_count": 108,
     "metadata": {},
     "output_type": "execute_result"
    }
   ],
   "source": [
    "# show doc with most sentences\n",
    "max_sentences = max(documents, key=lambda d: len(d.metadata[\"sentences\"]))\n",
    "max_sentences.metadata[\"url\"]\n",
    "max_sentences.page_content[:1000]"
   ]
  },
  {
   "cell_type": "code",
   "execution_count": 109,
   "metadata": {},
   "outputs": [
    {
     "data": {
      "text/plain": [
       "(array([254.,  38.,  24.,  27.,  19.,  28.,  29.,  23.,  18.,  14.,  14.,\n",
       "         13.,  35.,  13.,  12.,  15.,   9.,  10.,   9.,   8.,   7.,   5.,\n",
       "          4.,   4.,   2.,   3.,   7.,   2.,   1.,   5.,   3.,   3.,   8.,\n",
       "          5.,   3.,   4.,   1.,   1.,   4.,   1.,   0.,   2.,   4.,   4.,\n",
       "          0.,   3.,   2.,   1.,   3.,   3.]),\n",
       " array([    0.,   400.,   800.,  1200.,  1600.,  2000.,  2400.,  2800.,\n",
       "         3200.,  3600.,  4000.,  4400.,  4800.,  5200.,  5600.,  6000.,\n",
       "         6400.,  6800.,  7200.,  7600.,  8000.,  8400.,  8800.,  9200.,\n",
       "         9600., 10000., 10400., 10800., 11200., 11600., 12000., 12400.,\n",
       "        12800., 13200., 13600., 14000., 14400., 14800., 15200., 15600.,\n",
       "        16000., 16400., 16800., 17200., 17600., 18000., 18400., 18800.,\n",
       "        19200., 19600., 20000.]),\n",
       " <BarContainer object of 50 artists>)"
      ]
     },
     "execution_count": 109,
     "metadata": {},
     "output_type": "execute_result"
    },
    {
     "data": {
      "image/png": "[encoded data removed]",
      "text/plain": [
       "<Figure size 640x480 with 1 Axes>"
      ]
     },
     "metadata": {},
     "output_type": "display_data"
    }
   ],
   "source": [
    "plt.hist([len(doc.page_content) for doc in documents], bins=50, range=(0, 20000))"
   ]
  },
  {
   "cell_type": "code",
   "execution_count": 110,
   "metadata": {},
   "outputs": [],
   "source": [
    "# trim document page contents to 13000 characters\n",
    "for doc in documents:\n",
    "    doc.page_content = doc.page_content[:13000]"
   ]
  },
  {
   "cell_type": "markdown",
   "metadata": {},
   "source": [
    "## 📐 1. Embedding searches"
   ]
  },
  {
   "cell_type": "code",
   "execution_count": 111,
   "metadata": {},
   "outputs": [],
   "source": [
    "embeddings = HuggingFaceEmbeddings(model_name=\"mixedbread-ai/mxbai-embed-large-v1\")"
   ]
  },
  {
   "cell_type": "code",
   "execution_count": 112,
   "metadata": {},
   "outputs": [
    {
     "data": {
      "text/markdown": [
       "### 🗯️ New Zealand opposition leader Judith Collins is opposed to new environmental legislation because of her connection to Oravida, a local water and dairy company that exports produce to China."
      ],
      "text/plain": [
       "<IPython.core.display.Markdown object>"
      ]
     },
     "metadata": {},
     "output_type": "display_data"
    },
    {
     "data": {
      "text/markdown": [
       "*Retrieved by mixedbread-ai/mxbai-embed-large-v1*\n",
       "\n"
      ],
      "text/plain": [
       "<IPython.core.display.Markdown object>"
      ]
     },
     "metadata": {},
     "output_type": "display_data"
    },
    {
     "data": {
      "text/markdown": [
       "**https://www.nzherald.co.nz/nz/judith-collins-accused-of-potential-conflict-of-interest/NXKZLIY4IZNGIN6GKTNQZQSJWQ/**\n",
       "\n",
       "Justice Minister Judith Collins has been accused of potentially breaching conflict of interest rules for Cabinet ministers after a visit to a company her husband is a director of while in China.\n",
       "One News reported that while Ms Collins was in China last Oct"
      ],
      "text/plain": [
       "<IPython.core.display.Markdown object>"
      ]
     },
     "metadata": {},
     "output_type": "display_data"
    },
    {
     "data": {
      "text/markdown": [
       "**https://www.nzherald.co.nz/nz/collins-told-oravida-its-milk-was-nice/4NLEWGILMPCQRYPT5XAA5IMN2I/**\n",
       "\n",
       "Justice Minister Judith Collins said she told milk product company Oravida that it could not use her photograph or name to endorse its products prior to visiting it in China last year and although its milk was \"nice\" that was not an endorsement of the comp"
      ],
      "text/plain": [
       "<IPython.core.display.Markdown object>"
      ]
     },
     "metadata": {},
     "output_type": "display_data"
    },
    {
     "data": {
      "text/markdown": [
       "**https://eitr545824759.wordpress.com/2020/08/08/judith-collins-david-wong-tung-and-the-oravida-kauri-ltd-ruakaka-connection-and-that-broken-marsden-point-fuel-line-breakage-that-caused-nz-48m-in-economic-damage-no-one-has-subsequently-been-charged/**\n",
       "\n",
       "David Wong-Tung, the husband of then energy minister Judith Collins, was a director of Kauri Ruakaka until 2017, but is no longer on its board.\n",
       "Former Engineering NZ president Elena Trout who headed the inquiry, said it understood the contractor sold swamp"
      ],
      "text/plain": [
       "<IPython.core.display.Markdown object>"
      ]
     },
     "metadata": {},
     "output_type": "display_data"
    },
    {
     "data": {
      "text/markdown": [
       "**https://www.rnz.co.nz/news/national/301943/'we're-giving-away-that-water-for-nothing'**\n",
       "\n",
       "Oravida is exporting millions of litres of New Zealand water to China, and the Green Party says it is wrong that they are paying practically nothing for it, while potentially making hundreds of millions of dollars.\n",
       "Oravida pays about $500 a year to draw up"
      ],
      "text/plain": [
       "<IPython.core.display.Markdown object>"
      ]
     },
     "metadata": {},
     "output_type": "display_data"
    },
    {
     "data": {
      "text/markdown": [
       "**https://thedailyblog.co.nz/2018/11/11/a-sad-day-for-judith-collins/**\n",
       "\n",
       "When Judith wasn’t questionably meeting Chinese border officials or diverting to its trade events, Oravida also exported swamp Kauri.\n",
       "The above quote was when Judith was challenged that Oravida was damaging the environment.\n",
       "What a sad day for Judith, appar"
      ],
      "text/plain": [
       "<IPython.core.display.Markdown object>"
      ]
     },
     "metadata": {},
     "output_type": "display_data"
    },
    {
     "data": {
      "text/markdown": [
       "**https://www.newshub.co.nz/home/money/2016/04/oravida-jumps-in-to-export-kiwi-water.html**\n",
       "\n",
       "New Zealand water could be the next big export to China and one of the companies that has just jumped in for a slice of the pie is none other than Oravida.\n",
       "The company is only paying a small amount to the council for the millions of litres it can take.\n",
       "Sto"
      ],
      "text/plain": [
       "<IPython.core.display.Markdown object>"
      ]
     },
     "metadata": {},
     "output_type": "display_data"
    },
    {
     "data": {
      "text/markdown": [
       "**https://thedailyblog.co.nz/2014/03/05/crusher-collins-conflict-of-interest-seems-as-large-as-her-interest-in-conflict/**\n",
       "\n",
       "Collins says Oravida visit not conflict of interest\n",
       "Judith Collins went on a taxpayer-funded visit to China last year. In her public role as Justice Minister, she was there to talk about our system.\n",
       "But she was also welcomed into a New Zealand export compa"
      ],
      "text/plain": [
       "<IPython.core.display.Markdown object>"
      ]
     },
     "metadata": {},
     "output_type": "display_data"
    },
    {
     "data": {
      "text/markdown": [
       "**https://www.newshub.co.nz/home/new-zealand/2015/10/greens-mp-apologises-over-swamp-kauri-claim.html**\n",
       "\n",
       "A Green MP has apologised to Judith Collins' husband following a press release condemning the extraction of valuable swamp kauri.\n",
       "In a statement released by the party's conservation spokeswoman Eugenie Sage in June, she called for the illegal export of anc"
      ],
      "text/plain": [
       "<IPython.core.display.Markdown object>"
      ]
     },
     "metadata": {},
     "output_type": "display_data"
    },
    {
     "data": {
      "text/markdown": [
       "**https://www.odt.co.nz/business/nz-milk-fetches-big-bucks-china**\n",
       "\n",
       "You are not permitted to download, save or email this image. Visit image gallery to purchase the image.\n",
       "But the high-price reflects a more complicated supply chain - and the degree to which the high-quality product is sought after in China.\n",
       "It's just one o"
      ],
      "text/plain": [
       "<IPython.core.display.Markdown object>"
      ]
     },
     "metadata": {},
     "output_type": "display_data"
    },
    {
     "data": {
      "text/markdown": [
       "**https://www.theguardian.com/world/2020/jul/18/we-have-a-fighting-chance-judith-collins-backs-herself-against-ardern-in-new-zealand-election**\n",
       "\n",
       "“I am very straightforward, people who are threatened by that will be threatened by me.”\n",
       "So says Judith Collins, the new leader of New Zealand’s main opposition party, and the woman who faces the task of unseating one of the country’s most popular prime mi"
      ],
      "text/plain": [
       "<IPython.core.display.Markdown object>"
      ]
     },
     "metadata": {},
     "output_type": "display_data"
    }
   ],
   "source": [
    "reranker = KNNRetriever.from_documents(documents, embeddings, k=10)\n",
    "results = reranker.get_relevant_documents(claim)\n",
    "\n",
    "display(Markdown(\"### 🗯️ \" + claim))\n",
    "display(Markdown(\"*Retrieved by \" + embeddings.model_name + \"*\\n\\n\"))\n",
    "# sample 3\n",
    "for r in results:\n",
    "    newline = \"\\n\"\n",
    "    display(Markdown(f\"**{r.metadata['url']}**\\n\\n{r.page_content[:256]}\"))"
   ]
  },
  {
   "cell_type": "markdown",
   "metadata": {},
   "source": [
    "## 📐 Max. Marginal relevance\n"
   ]
  },
  {
   "cell_type": "code",
   "execution_count": 113,
   "metadata": {},
   "outputs": [],
   "source": [
    "Chroma().delete_collection()\n",
    "documents_ = [doc.copy() for doc in documents]\n",
    "for doc in documents_:\n",
    "    doc.metadata.pop(\"sentences\", None)\n",
    "    \n",
    "chroma = Chroma.from_documents(documents_, embeddings)\n"
   ]
  },
  {
   "cell_type": "code",
   "execution_count": 118,
   "metadata": {},
   "outputs": [
    {
     "data": {
      "text/markdown": [
       "### 🗯️ New Zealand opposition leader Judith Collins is opposed to new environmental legislation because of her connection to Oravida, a local water and dairy company that exports produce to China."
      ],
      "text/plain": [
       "<IPython.core.display.Markdown object>"
      ]
     },
     "metadata": {},
     "output_type": "display_data"
    },
    {
     "data": {
      "text/markdown": [
       "*Retrieved by mixedbread-ai/mxbai-embed-large-v1 (mmr λ=0.5)*\n",
       "\n"
      ],
      "text/plain": [
       "<IPython.core.display.Markdown object>"
      ]
     },
     "metadata": {},
     "output_type": "display_data"
    },
    {
     "data": {
      "text/markdown": [
       "**https://www.nzherald.co.nz/nz/judith-collins-accused-of-potential-conflict-of-interest/NXKZLIY4IZNGIN6GKTNQZQSJWQ/**\n",
       "\n",
       "Justice Minister Judith Collins has been accused of potentially breaching conflict of interest rules for Cabinet ministers after a visit to a company her husband is a director of while in China.\n",
       "One News reported that while Ms Collins was in China last Oct"
      ],
      "text/plain": [
       "<IPython.core.display.Markdown object>"
      ]
     },
     "metadata": {},
     "output_type": "display_data"
    },
    {
     "data": {
      "text/markdown": [
       "**https://thedailyblog.co.nz/2018/11/11/a-sad-day-for-judith-collins/**\n",
       "\n",
       "When Judith wasn’t questionably meeting Chinese border officials or diverting to its trade events, Oravida also exported swamp Kauri.\n",
       "The above quote was when Judith was challenged that Oravida was damaging the environment.\n",
       "What a sad day for Judith, appar"
      ],
      "text/plain": [
       "<IPython.core.display.Markdown object>"
      ]
     },
     "metadata": {},
     "output_type": "display_data"
    },
    {
     "data": {
      "text/markdown": [
       "**https://www.rnz.co.nz/news/national/301943/'we're-giving-away-that-water-for-nothing'**\n",
       "\n",
       "Oravida is exporting millions of litres of New Zealand water to China, and the Green Party says it is wrong that they are paying practically nothing for it, while potentially making hundreds of millions of dollars.\n",
       "Oravida pays about $500 a year to draw up"
      ],
      "text/plain": [
       "<IPython.core.display.Markdown object>"
      ]
     },
     "metadata": {},
     "output_type": "display_data"
    },
    {
     "data": {
      "text/markdown": [
       "**https://www.theguardian.com/world/2020/jul/18/we-have-a-fighting-chance-judith-collins-backs-herself-against-ardern-in-new-zealand-election**\n",
       "\n",
       "“I am very straightforward, people who are threatened by that will be threatened by me.”\n",
       "So says Judith Collins, the new leader of New Zealand’s main opposition party, and the woman who faces the task of unseating one of the country’s most popular prime mi"
      ],
      "text/plain": [
       "<IPython.core.display.Markdown object>"
      ]
     },
     "metadata": {},
     "output_type": "display_data"
    },
    {
     "data": {
      "text/markdown": [
       "**https://newsroom.co.nz/2020/08/10/wong-tung-threatens-to-sue-newsroom/**\n",
       "\n",
       "National leader Judith Collins’ husband is threatening defamation action against Newsroom over a story about a West Coast mine site that the conservation department allowed to be left in a state likened to a “moonscape” by a conservationist.\n",
       "David Wong-Tun"
      ],
      "text/plain": [
       "<IPython.core.display.Markdown object>"
      ]
     },
     "metadata": {},
     "output_type": "display_data"
    },
    {
     "data": {
      "text/markdown": [
       "**https://www.rnz.co.nz/news/political/423287/national-caucus-to-vote-against-cannabis-at-referendum-judith-collins**\n",
       "\n",
       "National leader Judith Collins says the entire National Party caucus had decided to vote against the Cannabis Legalisation and Control Bill in the referendum.\n",
       "The referendum asks voters if they support the proposed Cannabis Legalisation and Control Bill, w"
      ],
      "text/plain": [
       "<IPython.core.display.Markdown object>"
      ]
     },
     "metadata": {},
     "output_type": "display_data"
    },
    {
     "data": {
      "text/markdown": [
       "**https://en.wikipedia.org/wiki/Leader_of_the_Opposition_(New_Zealand)**\n",
       "\n",
       "|While leader of the largest political party in the House of Representatives that is not in government\n",
       "|^ a. As the first parliamentary leader of an Opposition party.\n",
       "^ b. The date Ballance was officially named Leader of the Opposition.\n",
       "In New Zealand, the"
      ],
      "text/plain": [
       "<IPython.core.display.Markdown object>"
      ]
     },
     "metadata": {},
     "output_type": "display_data"
    },
    {
     "data": {
      "text/markdown": [
       "**http://www.atelieraitken.org/new-blog/new-zealand-concept-store-opens-in-shanghai**\n",
       "\n",
       "New Zealand food company Oravida opened China’s first flagship store in Shanghai on Nov 1, 2014. Rt Hon Dame Jenny Shipley, the former Prime Minister of New Zealand, opened the building, which sells New Zealand produce.\n",
       "http://english.eastday.com/auto/east"
      ],
      "text/plain": [
       "<IPython.core.display.Markdown object>"
      ]
     },
     "metadata": {},
     "output_type": "display_data"
    },
    {
     "data": {
      "text/markdown": [
       "**https://www.theguardian.com/world/2019/may/08/new-zealand-introduces-bill-for-zero-carbon-emissions-by-2050**\n",
       "\n",
       "A landmark bill which would set a target of zero carbon emissions for New Zealand by 2050 has been tabled in the New Zealand parliament.\n",
       "Prime minister Jacinda Ardern said on Wednesday that the bill, which would introduce targets for carbon and biogenic me"
      ],
      "text/plain": [
       "<IPython.core.display.Markdown object>"
      ]
     },
     "metadata": {},
     "output_type": "display_data"
    },
    {
     "data": {
      "text/markdown": [
       "**https://www.ifama.org/resources/documents/v19ib/14_shadbolt.pdf**\n",
       "\n",
       " 2016 International Food and Agribusiness Management Association (IFAMA). All rights reserved. 241\n",
       "International Food and Agribusiness Management Review \n",
       "Factors Influencing the Dairy Trade from New Zealand \n",
       "a Professor, Farm & Agribusiness Management, Co"
      ],
      "text/plain": [
       "<IPython.core.display.Markdown object>"
      ]
     },
     "metadata": {},
     "output_type": "display_data"
    }
   ],
   "source": [
    "results = chroma.max_marginal_relevance_search(claim, 10, 100, .5)\n",
    "\n",
    "display(Markdown(\"### 🗯️ \" + claim))\n",
    "display(Markdown(\"*Retrieved by \" + embeddings.model_name + \" (mmr λ=0.5)*\\n\\n\"))\n",
    "# sample 3\n",
    "for r in results:\n",
    "    newline = \"\\n\"\n",
    "    display(Markdown(f\"**{r.metadata['url']}**\\n\\n{r.page_content[:256]}\"))"
   ]
  },
  {
   "cell_type": "markdown",
   "metadata": {},
   "source": [
    "## ❌ Cross-encoder re-ranking "
   ]
  },
  {
   "cell_type": "code",
   "execution_count": 115,
   "metadata": {},
   "outputs": [
    {
     "data": {
      "text/markdown": [
       "### 🗯️ New Zealand opposition leader Judith Collins is opposed to new environmental legislation because of her connection to Oravida, a local water and dairy company that exports produce to China."
      ],
      "text/plain": [
       "<IPython.core.display.Markdown object>"
      ]
     },
     "metadata": {},
     "output_type": "display_data"
    },
    {
     "data": {
      "text/markdown": [
       "*Retrieved by mixedbread-ai/mxbai-rerank-large-v1*\n",
       "\n"
      ],
      "text/plain": [
       "<IPython.core.display.Markdown object>"
      ]
     },
     "metadata": {},
     "output_type": "display_data"
    },
    {
     "data": {
      "text/markdown": [
       "**https://www.sbs.com.au/news/article/new-zealand-opposition-chooses-judith-collins-to-take-on-jacinda-ardern-at-september-election/pd95nod40**\n",
       "\n",
       "Long-serving politician Judith Collins will lead New Zealand's opposition National Party into an election against a popular government in just over two months, taking over from Todd Muller, who quit as leader citing health reasons.\n",
       "Mr Muller shocked politi"
      ],
      "text/plain": [
       "<IPython.core.display.Markdown object>"
      ]
     },
     "metadata": {},
     "output_type": "display_data"
    },
    {
     "data": {
      "text/markdown": [
       "**https://www.theguardian.com/world/2020/jul/18/we-have-a-fighting-chance-judith-collins-backs-herself-against-ardern-in-new-zealand-election**\n",
       "\n",
       "“I am very straightforward, people who are threatened by that will be threatened by me.”\n",
       "So says Judith Collins, the new leader of New Zealand’s main opposition party, and the woman who faces the task of unseating one of the country’s most popular prime mi"
      ],
      "text/plain": [
       "<IPython.core.display.Markdown object>"
      ]
     },
     "metadata": {},
     "output_type": "display_data"
    },
    {
     "data": {
      "text/markdown": [
       "**https://www.theguardian.com/world/2020/jul/14/judith-collins-named-new-zealand-national-party-new-leader**\n",
       "\n",
       "New Zealand’s prime minister, Jacinda Ardern, widely known for her exhortations to kindness and compassion, will face Judith Collins – a combative, tough-talking conservative lawmaker who styled herself after Margaret Thatcher – in the country’s general el"
      ],
      "text/plain": [
       "<IPython.core.display.Markdown object>"
      ]
     },
     "metadata": {},
     "output_type": "display_data"
    },
    {
     "data": {
      "text/markdown": [
       "**https://thedailyblog.co.nz/2020/07/16/the-judith-collins-led-national-party-be-scared-be-very-scared/**\n",
       "\n",
       "WHOEVER E-MAILED MARK RICHARDSON on Wednesday morning’s AM Show was right: Judith Collins scares me. For the first time since National’s caucus replaced Don Brash with John Key, the party has chosen a leader who can win.\n",
       "The new Leader of the Opposition is"
      ],
      "text/plain": [
       "<IPython.core.display.Markdown object>"
      ]
     },
     "metadata": {},
     "output_type": "display_data"
    },
    {
     "data": {
      "text/markdown": [
       "**https://www.interest.co.nz/news/106045/national-caucus-elects-judith-collins-partys-new-leader-deputy-unknown-press-conference**\n",
       "\n",
       "Judith Collins has been elected National Party Leader, following Todd Muller’s shock resignation from the role on Tuesday morning.\n",
       "The National Party caucus took about two hours to make the decision on Tuesday evening. Thereafter, members of the caucus sto"
      ],
      "text/plain": [
       "<IPython.core.display.Markdown object>"
      ]
     },
     "metadata": {},
     "output_type": "display_data"
    },
    {
     "data": {
      "text/markdown": [
       "**https://thedailyblog.co.nz/2020/07/23/guest-blog-bryan-bruce-collins-and-muldoon/**\n",
       "\n",
       "I’ve seen a couple of recent political commentaries comparing National’s new leader Judith Collins to the late former Prime Minister Robert Muldoon who dominated New Zealand politics from the mid 1970’s to the mid 1980’s.\n",
       "Certainly the little bit of the fi"
      ],
      "text/plain": [
       "<IPython.core.display.Markdown object>"
      ]
     },
     "metadata": {},
     "output_type": "display_data"
    },
    {
     "data": {
      "text/markdown": [
       "**https://www.rnz.co.nz/news/political/421417/national-leader-judith-collins-announces-infrastructure-plan-rma-repeal**\n",
       "\n",
       "An eye-watering $31 billion is the price tag National has put on the infrastructure upgrade required to fix the country's transport network and Auckland and upper North Island's congestion crisis.\n",
       "In her first big policy announcement today, new National le"
      ],
      "text/plain": [
       "<IPython.core.display.Markdown object>"
      ]
     },
     "metadata": {},
     "output_type": "display_data"
    },
    {
     "data": {
      "text/markdown": [
       "**https://newzeelend.wordpress.com/2019/06/25/judith-collins-guardian-angel-or-gatekeeper-from-hell/**\n",
       "\n",
       "Judith Collins: Guardian Angel, or Gatekeeper from Hell?\n",
       "Sent by a reader in Sewage City [aka, “Wellington”]\n",
       "Judith Anne Collins (born 24 February 1959) is the National MP for Papakura and was a government minister under John Key and Bill English.\n",
       "“Collins"
      ],
      "text/plain": [
       "<IPython.core.display.Markdown object>"
      ]
     },
     "metadata": {},
     "output_type": "display_data"
    },
    {
     "data": {
      "text/markdown": [
       "**https://www.newshub.co.nz/home/politics/2020/07/judith-collins-biggest-controversies-troublesome-tweets-resignations-and-dirty-politics.html**\n",
       "\n",
       "Judith Collins is the new leader of National after the party accepted Todd Muller's resignation and backed her to take over on Tuesday.\n",
       "It's been a tumultuous road to the helm for Collins, a role she's put herself forward for twice before - one fraught wit"
      ],
      "text/plain": [
       "<IPython.core.display.Markdown object>"
      ]
     },
     "metadata": {},
     "output_type": "display_data"
    },
    {
     "data": {
      "text/markdown": [
       "**https://bryangould.com/2018/10/**\n",
       "\n",
       "The fall-out from the Jami-Lee Ross debacle no doubt accounts for Simon Bridges’ latest poll rating as preferred Prime Minister, at just 7%.\n",
       "Political commentators have interpreted this as the writing on the wall and have become excited at the prospect of "
      ],
      "text/plain": [
       "<IPython.core.display.Markdown object>"
      ]
     },
     "metadata": {},
     "output_type": "display_data"
    }
   ],
   "source": [
    "# Load the model, here we use our base sized model\n",
    "model_name = \"mixedbread-ai/mxbai-rerank-large-v1\"\n",
    "model = CrossEncoder(model_name)\n",
    "\n",
    "# Example query and document\n",
    "\n",
    "# Lets get the scores\n",
    "results = model.rank(claim, [doc.page_content for doc in documents], return_documents=True, top_k=10)\n",
    "\n",
    "\n",
    "display(Markdown(\"### 🗯️ \" + claim))\n",
    "display(Markdown(\"*Retrieved by \" + model_name + \"*\\n\\n\"))\n",
    "# sample 3\n",
    "for r in results:\n",
    "    newline = \"\\n\"\n",
    "    r = documents[r['corpus_id']]\n",
    "    display(Markdown(f\"**{r.metadata['url']}**\\n\\n{r.page_content[:256]}\"))"
   ]
  },
  {
   "cell_type": "markdown",
   "metadata": {},
   "source": []
  }
 ],
 "metadata": {
  "kernelspec": {
   "display_name": "Python 3 (ipykernel)",
   "language": "python",
   "name": "python3"
  },
  "language_info": {
   "codemirror_mode": {
    "name": "ipython",
    "version": 3
   },
   "file_extension": ".py",
   "mimetype": "text/x-python",
   "name": "python",
   "nbconvert_exporter": "python",
   "pygments_lexer": "ipython3",
   "version": "3.10.4"
  }
 },
 "nbformat": 4,
 "nbformat_minor": 2
}
