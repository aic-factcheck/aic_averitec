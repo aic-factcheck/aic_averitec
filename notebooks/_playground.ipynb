{
 "cells": [
  {
   "cell_type": "markdown",
   "metadata": {},
   "source": [
    "# 🔎 Retrieval (and QG?) playground"
   ]
  },
  {
   "cell_type": "code",
   "execution_count": 40,
   "metadata": {},
   "outputs": [],
   "source": [
    "from langchain_core.example_selectors import (\n",
    "    MaxMarginalRelevanceExampleSelector,\n",
    "    SemanticSimilarityExampleSelector,\n",
    ")\n",
    "import json, random\n",
    "from langchain_huggingface.embeddings import HuggingFaceEmbeddings\n",
    "from langchain_text_splitters import CharacterTextSplitter\n",
    "from langchain_chroma import Chroma\n",
    "from langchain_core.documents import Document\n",
    "from langchain_community.retrievers import KNNRetriever\n",
    "from IPython.display import display, Markdown, Latex\n",
    "import matplotlib.pyplot as plt\n",
    "\n"
   ]
  },
  {
   "cell_type": "markdown",
   "metadata": {},
   "source": [
    "## ⚙️ 0. Choose claim & docstore"
   ]
  },
  {
   "cell_type": "code",
   "execution_count": 21,
   "metadata": {},
   "outputs": [
    {
     "data": {
      "text/plain": [
       "423"
      ]
     },
     "execution_count": 21,
     "metadata": {},
     "output_type": "execute_result"
    }
   ],
   "source": [
    "random.seed(111)\n",
    "random.randint(0, 500)"
   ]
  },
  {
   "cell_type": "code",
   "execution_count": 20,
   "metadata": {},
   "outputs": [
    {
     "data": {
      "text/markdown": [
       "### 🗯️ Hunter Biden, son of US President Joe Biden has died."
      ],
      "text/plain": [
       "<IPython.core.display.Markdown object>"
      ]
     },
     "metadata": {},
     "output_type": "display_data"
    },
    {
     "data": {
      "text/markdown": [
       "**https://www.presidency.ucsb.edu/documents/trump-campaign-press-release-copy-that-joe-bidens-long-record-plagiarism**\n",
       "\n",
       " * Trump Campaign Press Release - Copy That – Joe Biden's Long Record Of Plagiarism?\n",
       "[APP Note: As with all \"Campaign Documents\" archived by the APP, the content of this document was prepared by the presidential campaign.\n",
       "This is not the analysis or work product of the American Presidency Project. We do not vouch for the accuracy of ANY campaign document published by any presidential campaign.\n",
       "They are provided as part of the historical record.]\n",
       "From his time in law school to his failed presidential campaigns, Biden's made it a habit of \"borrowing\" from others\n",
       "- Joe Biden has plagiarized from speeches, essays, and policy positions throughout his entire life\n",
       "- As a student at Syracuse Law School in 1965, Biden plagiarized 5-pages from a law review journal \"without quotation or attribution\"\n",
       "- During his failed 1988 presidential campaign, Biden plagiarized from speeches by British politician Neil Kinnock, Robert Kennedy, and President John F. Kennedy\n",
       "- Now, Joe Biden and his 2020 Presidential campaign are at it again – lifting ideas, slogans, and writings to pass off as their own\n",
       "- Last year, Biden's campaign used \"word-for-word\" language from other groups as part of his climate and education policy papers"
      ],
      "text/plain": [
       "<IPython.core.display.Markdown object>"
      ]
     },
     "metadata": {},
     "output_type": "display_data"
    },
    {
     "data": {
      "text/markdown": [
       "**https://en.m.wikipedia.org/wiki/File:Joe_Biden_sworn_in_as_Vice_President_in_2013.jpg**\n",
       "\n",
       " * Size of this preview: 800 × 533 pixels. Other resolutions: 320 × 213 pixels | 640 × 427 pixels | 1,024 × 683 pixels | 1,280 × 853 pixels | 2,560 × 1,707 pixels | 5,760 × 3,840 pixels.\n",
       "Original file (5,760 × 3,840 pixels, file size: 2.82 MB, MIME type: image/jpeg)\n",
       "Click on a date/time to view the file as it appeared at that time.\n",
       "The following pages on the English Wikipedia use this file (pages on other projects are not listed):"
      ],
      "text/plain": [
       "<IPython.core.display.Markdown object>"
      ]
     },
     "metadata": {},
     "output_type": "display_data"
    },
    {
     "data": {
      "text/markdown": [
       "**https://abcnews.go.com/Politics/beau-biden-dies-brain-cancer-family/story?id=31420377**\n",
       "\n",
       " * He had been undergoing treatment at Walter Reed Medical Center.\n",
       "— -- Beau Biden, the son of Vice President Joe Biden, has died of brain cancer, the family said. He was 46.\n",
       "\"It is with broken hearts that Hallie, Hunter, Ashley, Jill and I announce the passing of our husband, brother and son, Beau, after he battled brain cancer with the same integrity, courage and strength he demonstrated every day of his life,\" the vice president said Saturday night.\n",
       "\"The entire Biden family is saddened beyond words. We know that Beau's spirit will live on in all of us -- especially through his brave wife, Hallie, and two remarkable children, Natalie and Hunter,\" he added.\n",
       "Beau Biden, who had been considering a run for governor in Delaware, was undergoing treatment at Walter Reed National Military Medical Center.\n",
       "\"Beau's life was defined by service to others. As a young lawyer, he worked to establish the rule of law in war-torn Kosovo.\n",
       "A major in the Delaware National Guard, he was an Iraq War veteran and was awarded the Bronze Star. As Delaware's Attorney General, he fought for the powerless and made it his mission to protect children from abuse,\" the vice president said.\n",
       "\"More than his professional accomplishments, Beau measured himself as a husband, father, son and brother.\n",
       "His absolute honor made him a role model for our family. Beau embodied my father's saying that a parent knows success when his child turns out better than he did,\" Biden said.\n",
       "\"In the words of the Biden family: Beau Biden was, quite simply, the finest man any of us have ever known,\" he said."
      ],
      "text/plain": [
       "<IPython.core.display.Markdown object>"
      ]
     },
     "metadata": {},
     "output_type": "display_data"
    }
   ],
   "source": [
    "CLAIM_ID = 38\n",
    "datapoint = json.load(open(\"data/dev.json\"))[CLAIM_ID]\n",
    "claim = datapoint[\"claim\"]\n",
    "docstore = []\n",
    "for line in open(f\"data_store/output_dev/{CLAIM_ID}.json\"):\n",
    "    docstore.append(json.loads(line))\n",
    "    \n",
    "# print claim in markdown with some sample evidence\n",
    "display(Markdown(\"### 🗯️ \" + claim))\n",
    "# sample 3\n",
    "for i in random.sample(range(len(docstore)), 3):\n",
    "    newline = \"\\n\"\n",
    "    display(Markdown(f\"**{docstore[i]['url']}**\\n\\n * {newline.join(docstore[i]['url2text'][:10])}\"))"
   ]
  },
  {
   "cell_type": "markdown",
   "metadata": {},
   "source": [
    "### 🗂️ 0.1 Docstore formatting/scraping"
   ]
  },
  {
   "cell_type": "code",
   "execution_count": 25,
   "metadata": {},
   "outputs": [
    {
     "data": {
      "text/plain": [
       "Document(page_content='Some of the same people who pushed a false conspiracy theory about Hillary Clinton that first emerged in 2016 are now targeting Hunter Biden, Joe Biden\\'s son, with similar falsehoods, NBC News reports.\\nThe rumors, which emerged from the fringes of the internet and can be traced to associates of former White House aide Steve Bannon, echo specific plot points central to \"pizzagate,\" a viral disinformation campaign that predates QAnon but also falsely alleges a vast conspiracy of child abuse.\\nBut unlike the pizzagate-style rumors in 2016 that were largely confined to far-right message boards like 4chan and parts of Reddit, the Hunter Biden iteration of the same conspiracy theory took off last weekend with the help of of speculation from conservative TV hosts and members of Congress.\\nThe disinformation campaign appears to have been successful in its goal of generating a smear against the former vice president\\'s son.\\nAccording to Google Trends, \"human trafficking\" is now the third-most common related search term for \"Hunter Biden\" in the last year, after \"laptop\" and \"New York Post,\" which point to search interest around the unconfirmed allegations that a laptop belonging to Hunter Biden contained evidence of crimes.\\nNBC News requested a copy of the hard drive, but Rudy Giuliani, the president\\'s lawyer, who had possession of the hard drive, has yet to respond.\\nThe New York Post article did not include any of the child abuse rumors.', metadata={'url': 'https://www.nbcphiladelphia.com/news/national-international/inside-the-campaign-to-pizzagate-hunter-biden/2572108/', 'sentences': [\"Some of the same people who pushed a false conspiracy theory about Hillary Clinton that first emerged in 2016 are now targeting Hunter Biden, Joe Biden's son, with similar falsehoods, NBC News reports.\", 'The rumors, which emerged from the fringes of the internet and can be traced to associates of former White House aide Steve Bannon, echo specific plot points central to \"pizzagate,\" a viral disinformation campaign that predates QAnon but also falsely alleges a vast conspiracy of child abuse.', 'But unlike the pizzagate-style rumors in 2016 that were largely confined to far-right message boards like 4chan and parts of Reddit, the Hunter Biden iteration of the same conspiracy theory took off last weekend with the help of of speculation from conservative TV hosts and members of Congress.', \"The disinformation campaign appears to have been successful in its goal of generating a smear against the former vice president's son.\", 'According to Google Trends, \"human trafficking\" is now the third-most common related search term for \"Hunter Biden\" in the last year, after \"laptop\" and \"New York Post,\" which point to search interest around the unconfirmed allegations that a laptop belonging to Hunter Biden contained evidence of crimes.', \"NBC News requested a copy of the hard drive, but Rudy Giuliani, the president's lawyer, who had possession of the hard drive, has yet to respond.\", 'The New York Post article did not include any of the child abuse rumors.']})"
      ]
     },
     "execution_count": 25,
     "metadata": {},
     "output_type": "execute_result"
    }
   ],
   "source": [
    "# Naive version with \\n concatenated url2texts:\n",
    "documents = [\n",
    "    Document(\n",
    "        page_content=\"\\n\".join(doc[\"url2text\"]), \n",
    "        metadata={\n",
    "            \"url\": doc[\"url\"],\n",
    "            \"sentences\": doc[\"url2text\"]\n",
    "        }\n",
    "    )\n",
    "    for doc in docstore\n",
    "]\n",
    "documents[random.randint(0, len(documents))]"
   ]
  },
  {
   "cell_type": "markdown",
   "metadata": {},
   "source": [
    "### 📊 Docstore hist & truncation"
   ]
  },
  {
   "cell_type": "code",
   "execution_count": 36,
   "metadata": {},
   "outputs": [
    {
     "data": {
      "text/plain": [
       "(array([205.,  40.,  39.,  39.,  34.,  24.,  39.,  29.,  28.,  26.,  29.,\n",
       "         27.,  17.,  26.,  23.,  13.,  16.,  16.,  14.,   8.,  10.,   8.,\n",
       "          6.,  10.,   5.,   3.,   4.,   5.,   3.,   1.,   7.,   4.,   4.,\n",
       "          2.,   3.,   3.,   1.,   4.,   0.,   1.,   3.,   2.,   2.,   1.,\n",
       "          4.,   1.,   2.,   4.,   3.,   3.]),\n",
       " array([  0.,   3.,   6.,   9.,  12.,  15.,  18.,  21.,  24.,  27.,  30.,\n",
       "         33.,  36.,  39.,  42.,  45.,  48.,  51.,  54.,  57.,  60.,  63.,\n",
       "         66.,  69.,  72.,  75.,  78.,  81.,  84.,  87.,  90.,  93.,  96.,\n",
       "         99., 102., 105., 108., 111., 114., 117., 120., 123., 126., 129.,\n",
       "        132., 135., 138., 141., 144., 147., 150.]),\n",
       " <BarContainer object of 50 artists>)"
      ]
     },
     "execution_count": 36,
     "metadata": {},
     "output_type": "execute_result"
    },
    {
     "data": {
      "image/png": "[encoded data removed]",
      "text/plain": [
       "<Figure size 640x480 with 1 Axes>"
      ]
     },
     "metadata": {},
     "output_type": "display_data"
    }
   ],
   "source": [
    "# histogram of sentences len, between 0 and 100\n",
    "plt.hist([len(doc.metadata[\"sentences\"]) for doc in documents], bins=50, range=(0, 150))"
   ]
  },
  {
   "cell_type": "code",
   "execution_count": 33,
   "metadata": {},
   "outputs": [
    {
     "data": {
      "text/plain": [
       "'[Congressional Record (Bound Edition), Volume 155 (2009), Part 5]\\n[From the U.S. Government Publishing Office, www.gpo.gov]\\nThe Senate met at 9:30 a.m. and was called to order by the Honorable\\nTom Udall, a Senator from the State of New Mexico.\\nThe Chaplain, Dr. Barry C. Black, offered the following prayer:\\nO Lord, our God, by Your will we came into being, and at Your\\ncommand, when the right hour is come, we shall one day leave this\\nworld. Let Your spirit lead our Senators today. May they increase in\\nself-forgetfulness, in simplicity, in courage, and in trust, so that\\neach day they will approach nearer to Your likeness. Lord, help them to\\noffer themselves afresh to be used in Your service. Show them Your way\\nand may they obey Your presence. Give wisdom to the perplexed, fresh\\nvigor to the discouraged, and a clearer vision to all who seek Your\\nThe Honorable Tom Udall led the Pledge of Allegiance, as follows:\\nI pledge allegiance to the Flag of the United States of\\nAmerica, and to the Repu'"
      ]
     },
     "execution_count": 33,
     "metadata": {},
     "output_type": "execute_result"
    }
   ],
   "source": [
    "# show doc with most sentences\n",
    "max_sentences = max(documents, key=lambda d: len(d.metadata[\"sentences\"]))\n",
    "max_sentences.metadata[\"url\"]\n",
    "max_sentences.page_content[:1000]"
   ]
  },
  {
   "cell_type": "code",
   "execution_count": 38,
   "metadata": {},
   "outputs": [
    {
     "data": {
      "text/plain": [
       "(array([217.,  39.,  23.,  37.,  28.,  25.,  23.,  26.,  27.,  15.,  24.,\n",
       "         26.,  37.,  18.,  18.,  20.,  18.,  16.,  17.,  15.,  12.,  10.,\n",
       "          9.,  10.,   5.,   3.,   9.,   3.,   3.,   2.,   2.,   4.,   3.,\n",
       "          3.,   2.,   3.,   1.,   5.,   2.,   4.,   2.,   3.,   2.,   7.,\n",
       "          2.,   4.,   1.,   3.,   1.,   1.]),\n",
       " array([    0.,   400.,   800.,  1200.,  1600.,  2000.,  2400.,  2800.,\n",
       "         3200.,  3600.,  4000.,  4400.,  4800.,  5200.,  5600.,  6000.,\n",
       "         6400.,  6800.,  7200.,  7600.,  8000.,  8400.,  8800.,  9200.,\n",
       "         9600., 10000., 10400., 10800., 11200., 11600., 12000., 12400.,\n",
       "        12800., 13200., 13600., 14000., 14400., 14800., 15200., 15600.,\n",
       "        16000., 16400., 16800., 17200., 17600., 18000., 18400., 18800.,\n",
       "        19200., 19600., 20000.]),\n",
       " <BarContainer object of 50 artists>)"
      ]
     },
     "execution_count": 38,
     "metadata": {},
     "output_type": "execute_result"
    },
    {
     "data": {
      "image/png": "[encoded data removed]",
      "text/plain": [
       "<Figure size 640x480 with 1 Axes>"
      ]
     },
     "metadata": {},
     "output_type": "display_data"
    }
   ],
   "source": [
    "plt.hist([len(doc.page_content) for doc in documents], bins=50, range=(0, 20000))"
   ]
  },
  {
   "cell_type": "code",
   "execution_count": 39,
   "metadata": {},
   "outputs": [],
   "source": [
    "# trim document page contents to 13000 characters\n",
    "for doc in documents:\n",
    "    doc.page_content = doc.page_content[:13000]"
   ]
  },
  {
   "cell_type": "markdown",
   "metadata": {},
   "source": [
    "## 📐 1. Embedding searches"
   ]
  },
  {
   "cell_type": "code",
   "execution_count": null,
   "metadata": {},
   "outputs": [],
   "source": [
    "embeddings = HuggingFaceEmbeddings(model_name=\"mixedbread-ai/mxbai-embed-large-v1\")"
   ]
  },
  {
   "cell_type": "code",
   "execution_count": 43,
   "metadata": {},
   "outputs": [],
   "source": [
    "reranker = KNNRetriever.from_documents(documents, embeddings, k=10)\n",
    "results = reranker.get_relevant_documents(claim)\n",
    "\n",
    "display(Markdown(\"### 🗯️ \" + claim))\n",
    "display(Markdown(\"*Retrieved by \" + embeddings.model_name + \"*\\n\\n\"))\n",
    "# sample 3\n",
    "for r in results:\n",
    "    newline = \"\\n\"\n",
    "    display(Markdown(f\"**{r.metadata['url']}**\\n\\n * {r.page_content[:256]}\"))"
   ]
  }
 ],
 "metadata": {
  "kernelspec": {
   "display_name": "Python 3 (ipykernel)",
   "language": "python",
   "name": "python3"
  },
  "language_info": {
   "codemirror_mode": {
    "name": "ipython",
    "version": 3
   },
   "file_extension": ".py",
   "mimetype": "text/x-python",
   "name": "python",
   "nbconvert_exporter": "python",
   "pygments_lexer": "ipython3",
   "version": "3.10.4"
  }
 },
 "nbformat": 4,
 "nbformat_minor": 2
}
