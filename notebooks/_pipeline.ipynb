{
 "cells": [
  {
   "cell_type": "markdown",
   "metadata": {},
   "source": [
    "# Pipeline "
   ]
  },
  {
   "cell_type": "code",
   "execution_count": 26,
   "metadata": {},
   "outputs": [
    {
     "name": "stdout",
     "output_type": "stream",
     "text": [
      "The autoreload extension is already loaded. To reload it, use:\n",
      "  %reload_ext autoreload\n"
     ]
    }
   ],
   "source": [
    "%load_ext autoreload\n",
    "%autoreload 2\n",
    "\n",
    "from averitec import Datapoint\n",
    "from evidence_generation import GptEvidenceGenerator\n",
    "from classification import DefaultClassifier, HuggingfaceClassifier, AverageEnsembleClassifier, LogRegEnsembleClassifier\n",
    "from retrieval import SimpleFaissRetriever\n",
    "from pipeline import Pipeline, MockPipeline\n",
    "import pickle\n",
    "from labels import label2id, id2label\n",
    "import numpy as np\n",
    "from sklearn.metrics import classification_report\n",
    "import random\n",
    "from tqdm import tqdm\n",
    "random.seed(111)\n",
    "\n",
    "import json"
   ]
  },
  {
   "cell_type": "markdown",
   "metadata": {},
   "source": [
    "## Pipeline test"
   ]
  },
  {
   "cell_type": "code",
   "execution_count": 2,
   "metadata": {},
   "outputs": [],
   "source": [
    "with open('/mnt/data/factcheck/averitec-data/data/dev.json') as f:\n",
    "    dataset = json.load(f)\n",
    "    claim_id = 0\n",
    "    for el in dataset:\n",
    "        el['claim_id'] = claim_id\n",
    "        claim_id += 1"
   ]
  },
  {
   "cell_type": "code",
   "execution_count": 4,
   "metadata": {},
   "outputs": [
    {
     "data": {
      "text/plain": [
       "Datapoint(claim='Zimbabwe gets more than half of the African Export Import Bank loans.', claim_id=150, claim_date='7-10-2020', speaker='Tendai Biti', original_claim_url='https://web.archive.org/web/20210129100929im_/https://lh4.googleusercontent.com/WwmjzhYNC1g84X0JmQzruGRgW4tjrB8rAPT9Zx6x-W6xBhQpVIwGW1zw7wImZ6R6JAyQywo-CiCE3_AZtJcxB74aev7jVG1PFobnm3PKanSX0bwWP3Z8E6z-6tDwuPgrSa6mhuz7', reporting_source='Twitter', location_ISO_code='ZW', label='Refuted', split='dev', metadata={'required_reannotation': False, 'justification': 'Seems the numbers is no where near half. Therefore the claim is refuted', 'fact_checking_article': 'https://web.archive.org/web/20210129100929/https://zimfact.org/does-zimbabwe-get-more-than-half-afreximbank-loans/', 'claim_types': ['Numerical Claim'], 'fact_checking_strategies': ['Numerical Comparison'], 'questions': [{'question': 'How much has Zimbabwe gotten from the Africa Export Import Bank', 'answers': [{'answer': 'Zimbabwe got US$2,78 billion.', 'answer_type': 'Abstractive', 'source_url': 'https://web.archive.org/web/20210917074327/https://afr-corp-media-prod.s3-eu-west-1.amazonaws.com/afrexim/Afreximbank-Half-Year-2020-Results-Presentation-.pdf', 'source_medium': 'PDF', 'cached_source_url': 'https://web.archive.org/web/20210917074327/https://afr-corp-media-prod.s3-eu-west-1.amazonaws.com/afrexim/Afreximbank-Half-Year-2020-Results-Presentation-.pdf'}]}, {'question': 'How much loans were given out by the bank', 'answers': [{'answer': 'US$15.2 billion at the end of June 2020.', 'answer_type': 'Abstractive', 'source_url': 'https://web.archive.org/web/20210917074327/https://afr-corp-media-prod.s3-eu-west-1.amazonaws.com/afrexim/Afreximbank-Half-Year-2020-Results-Presentation-.pdf', 'source_medium': 'PDF', 'cached_source_url': 'https://web.archive.org/web/20210917074327/https://afr-corp-media-prod.s3-eu-west-1.amazonaws.com/afrexim/Afreximbank-Half-Year-2020-Results-Presentation-.pdf'}]}, {'question': 'What percentage of 15.2 billion is 2.78 billion', 'answers': [{'answer': '18.2%', 'answer_type': 'Abstractive', 'source_url': 'https://www.online-calculator.com/', 'source_medium': 'Other', 'cached_source_url': 'https://web.archive.org/web/20230327125745/https://www.online-calculator.com/'}]}], 'cached_original_claim_url': 'https://web.archive.org/web/20210129100929im_/https://lh4.googleusercontent.com/WwmjzhYNC1g84X0JmQzruGRgW4tjrB8rAPT9Zx6x-W6xBhQpVIwGW1zw7wImZ6R6JAyQywo-CiCE3_AZtJcxB74aev7jVG1PFobnm3PKanSX0bwWP3Z8E6z-6tDwuPgrSa6mhuz7'})"
      ]
     },
     "execution_count": 4,
     "metadata": {},
     "output_type": "execute_result"
    }
   ],
   "source": [
    "datapoint = Datapoint.from_dict(dataset[150])\n",
    "datapoint"
   ]
  },
  {
   "cell_type": "code",
   "execution_count": 11,
   "metadata": {},
   "outputs": [
    {
     "name": "stderr",
     "output_type": "stream",
     "text": [
      "/home/ullriher/venvs/averitec/lib/python3.10/site-packages/sentence_transformers/cross_encoder/CrossEncoder.py:11: TqdmExperimentalWarning: Using `tqdm.autonotebook.tqdm` in notebook mode. Use `tqdm.tqdm` instead to force console mode (e.g. in jupyter console)\n",
      "  from tqdm.autonotebook import tqdm, trange\n"
     ]
    },
    {
     "data": {
      "text/plain": [
       "RetrievalResult(documents=[Document(metadata={'url': 'https://www.voanews.com/a/afreximbank-pledges-to-post-mugabe-zimbabwe/4161541.html', 'context_before': '', 'context_after': 'The southern African nation, which dumped its hyperinflation-hit currency in 2009, is struggling with a severe dollar crunch that has seen banks fail to avail cash to customers while importers struggle to pay for imports. Finance Minister Patrick Chinamasa promised in a budget speech last week to re-engage with international lenders, curb spending and attract investors to revive the economy. '}, page_content='The African Export and Import Bank has pledged up to $1.5 billion in new loans and financial guarantees to Zimbabwe in a major boost for new President Emmerson Mnangagwa\\'s government, the bank\\'s president and chairman said Tuesday. Mnangagwa, who took over last month after veteran autocrat Robert Mugabe quit following a de facto military coup, has vowed to focus on reviving the struggling economy and provide jobs in a nation with an unemployment rate exceeding 80 percent. Afreximbank was the only international lender that stood by Zimbabwe throughout Mugabe\\'s repressive 37-year rule, but its quick announcement of a fresh package of loans and guarantees appeared to be a vote of confidence in the new government. Cairo-based Afreximbank was a major funder of Zimbabwe while the country was cut off from the International Monetary Fund and World Bank for having defaulted on its debt in 1999. Bank president and chairman Okey Oramah told reporters after a meeting with Mnangagwa and senior government officials that Afreximbank would provide $150 million to local banks to help them pay for outstanding critical imports. \"We also discussed a number of other areas that involve additional investment from us for something that will be in the order of $1 billion to $1.5 billion that will include certain kinds of guarantees to encourage investors to come to Zimbabwe. \"We ... want to make sure that we support the stabilization of the economy, that means providing liquidity to make sure that the situation where people are rushing every time to look for cash is dealt with,\" Oramah said. In August, before Mugabe\\'s ouster, Afreximbank provided $600 million to help Zimbabwe pay for imports and $300 million to allow it to print more \"bond notes,\" a quasi-currency that officially trades on par with the U.S. dollar. Zimbabwe has a foreign debt of more than $7 billion and in September said it would not be able to pay $1.8 billion in arrears to the World Bank and African Development Bank until economic fundamentals improved. '), Document(metadata={'url': 'https://media.afreximbank.com/afrexim/AFREXIMBANK_20_YEARS_PROMOTING_AFRICAN_TRADE.pdf', 'context_before': 'projects in Africa. Traditional instruments used by the  Bank to leverage international financing into Africa  include arranging and co-arranging syndications and  club deals and inviting others to share the risk of  such deals; granting lenders taking African exposures  facilities; raising money in its name from the markets  and on-lending to entities that would ordinarily not  be able to access the international financial markets;  and providing Advisory Services that encourage debt  and non-debt capital inflows. For instance, in 2010,  in fulfilment of its leveraging objective, the Bank  arranged, co-arranged or participated in 28 syndicated  financing transactions amounting to US$4.23 billion.  The Bank’s participation in these syndicated deals  funding committed by the Bank, it was able to attract  into Africa, on the average, about US$4.5 to support  In  2011, the Bank arranged, co-arranged or participated  in 14 syndicated financing transactions amounting to  US$3.27 billion. The Bank’s participation in those  syndicated deals amounted to US$953 million. Aside  from funding, the Bank, in some cases, supported the  deals by providing additional comfort in the form  of country risk guarantees to some members of the  lending Syndicate. Thus, for every US dollar funding  committed by the Bank, it was able to attract into  Africa about US$3.4 to support trade and bankable  trade-related projects in the continent. In furtherance  of its leveraging goal, in 2012, the Bank arranged, co- arranged or participated in 15 syndicated financing  transactions worth US$5.45 billion; and participated  in those deals up to an amount of US$894.5 million.  Following these developments, for every US dollar  committed by the Bank, it was able to attract into  Africa about US$6.10 to support bankable trade and  Further, during 2011, the Bank supported CBZ Bank  in the issuance of a three-year Zimbabwe Economic  issuance, which was arranged and guaranteed by the  Bank, mobilised much needed long term funding for  ', 'context_after': 'the Bank’s funding needs, only US$300 million was  taken (Table 6.2). The tenor of 5 years was chosen in  line with the objectives of the Bank to leverage term  funding to support the capital investments in Africa. Further, in July 2011, the Bank issued a benchmark  size bond in an amount of US$500 million under its  tight end attracted a coupon of 5.75% for a tenor of  5 years. The bond was six times oversubscribed with  an order book of US$3.2 billion at time of market  distress due to a worsening of the sovereign debt  crisis of the Eurozone. The success of the transaction  underscored the confidence of the bond market in the  Bank’s credit standing. Again, in December 2012, the  Bank arranged a private placement with BNP Paribas  to raise €35million under the US$1.5 billion EMTN  financing into the continent by providing guarantees  guarantee and reimbursement guarantee in an amount  of US$642.2 million as comfort to entities funding  African entities/projects. The Bank also actively used  its borrowing activities in leveraging international  As part of its effort at promoting intra-African trade,  the Bank has been providing financing and advisory  aviation) and communication service providers with a  pan-African focus to enable them build the necessary  infrastructure and/or provide the necessary services  to support the trade. In this regard, during 2010, the  facility in favour of Lonrho’s Fly540 (Fly540). Fly540  is building the first international standard, regional  airline that fully connects Sub Saharan Africa ---  East to West and North to South. Fly540 focuses on  operations built around three regional hubs, in Nairobi  hub feeds passengers domestically, regionally and  across the continent providing a route network that  connects the continent, and offers intercontinental  passengers arriving from Europe, USA, Middle East  and Far East a pan African access. The Kenyan and  Angolan hubs started operations well ahead of the  third regional hub in Accra, Ghana, which commenced  '}, page_content='capital investments in key sectors of the Zimbabwean  economy, including mining, energy and agriculture.  foreign investor participation, helped to mobilize  resources from both domestic and foreign investors.  The transaction reflects the success of the Bank’s  work towards encouraging the return of international  investors into Zimbabwe in support of the country’s  leverages international funding into Africa through  its partnership with Export Credit Agencies (ECAs),  who provide financing and guarantees for importation  of essential and capital goods from their country; and  Development Finance Institutions (DFIs), who provide  term financing for essential projects. Leveraging of  Table 6.1 Syndications/ Club Deals Arranged, Co-arranged by AFREXIMBANK, 2000 - 12 * Leverage Ratio is the  total amount the Bank raises per dollar invested Source: Afreximbank Annual Report (various issues) cHapter sIX: trade deVeLopment Impact of tHe BanK’s operatIons and actIVItIes significantly in recent times, especially at the height  of the global financial and economic crises in 2008/9  with a view to ensuring that African trade did not  suffer as a result of the crises. In this regard, in 2010,  for example, the Bank mobilised funded and unfunded  International Cooperation (US$100 million), Korea  others. The Bank also leveraged funding support from  DFIs, including the International Finance Corporation  (IFC) of the World Bank (US$200 million), African  million) in 2010. Overall, during 2009-12, the Bank  leveraged term funding of over US$.1.1 billion from  As part of its efforts at diversifying funding sources  trade-related projects in response to growing requests  from African counterparties in member countries, the  Bank, in 2009, arranged a US$1.5 billion Euro Medium  in the international bond markets. After successful  roadshows in Europe and Asia, the order books were  closed with orders in excess of US$1.5 billion from  135 different accounts spread across Europe, Asia,  '), Document(metadata={'url': 'https://www.afreximbank.com/afreximbank-tackles-zimbabwes-financial-sector-liquidity-challenges-new-facility-trade-finance-banks/', 'context_before': 'Cairo, 11 Feb. 2014– To boost access to trade finance, the African Export-Import Bank (Afreximbank) has entered into an agreement to introduce a facility and associated instruments to alleviate the liquidity challenges confronting the financial sector in Zimbabwe. The Afreximbank Trade Debt-backed Securities (AFTRADES) will be provided to participating banks as debt securities that could be used as collateral for interbank funds placements in order to promote interbank dealings among Zimbabwean Banks active in trade finance, according to the terms of a memorandum of understanding signed on by Afreximbank, the Zimbabwe Ministry of Finance and Economic Development and the Reserve Bank of Zimbabwe. “Our objective is to use this facility to enable trade finance banks in Zimbabwe to access much-needed liquidity from cash-surplus banks in the country, thereby increasing their capacity to deepen their trade finance activities,” said Jean-Louis Ekra, President of Afreximbank, after signing the memorandum of understanding in Cairo on 10 February. Patrick Chinamasa, Minister of Finance and Economic Planning, and Dr. Charity L. Dhliwayo, Acting Governor of the Reserve Bank, had signed it on 31 January on behalf of the Zimbabwean parties. Mr. Ekra said that Afreximbank’s decision to introduce the facility was motivated by its recognition of the serious constraints limiting the access of Zimbabwe’s trade finance banks to funding as a result of the liquidity challenge confronting the financial sector. Under the terms of the memorandum of understanding, AFTRADES would be structured as a collateral swap involving the issuance of securities by Afreximbank to participating banks in exchange for trade–related collateral or securities presented by those banks. ', 'context_after': ''}, page_content='The Government of Zimbabwe, through the Ministry of Finance and Economic Development, will serve as the facility’s guarantor and liquidity support contributor, up to agreed levels, while the Reserve Bank of Zimbabwe will grant the regulatory approvals required by the participating banks. In addition, the Reserve Bank will provide the infrastructure required for the implementation and administration of the facility. Only solvent banks which are not facing fundamental problems of viability will be eligible for the facility, according to the memorandum. The African Export Import Bank was established in October 1993 by African governments, African private and institutional investors, and non-African investors to finance and promote intra- and extra-African trade. Its two basic constitutive documents are the Establishment Agreement, which gives it the status of an international organization, and the Charter, which governs its corporate structure and operations. Since 1994, the Bank has approved more than $25 billion in credit facilities in support of African trade, including $3.71 billion in 2012. '), Document(metadata={'url': 'https://www.afreximbank.com/afreximbank-agrees-600-million-line-of-credit-to-zimbabwes-reserve-bank/', 'context_before': '', 'context_after': ''}, page_content='Harare, 24 September 2017: – The African Export-Import Bank (Afreximbank) yesterday entered into a memorandum of understanding (MOU) to provide a $600-million line of credit to the Reserve Bank of Zimbabwe (RBZ). Afreximbank President Dr. Benedict Oramah signed the MOU on behalf of Afreximbank during a ceremony in Harare while Dr. John Mangudya, Governor of RBZ, signed for his institution. According to the terms of the MOU, the line of credit will support RBZ in the financing of trade-related transactions and projects in Zimbabwe. The financing would be supported by Zimbabwe’s export proceeds, including gold and other mining exports. The MOU states that the line of credit is expected to boost trade into and out of Zimbabwe and will promote the country’s economic development. The signing ceremony was held on the sidelines of the 114th meeting of the Board of Directors of Afreximbank, which ended in Harare yesterday. Media Contact: Obi Emekekwue (oemekekwue@afreximbank.com; Tel. +202-2456-4238) Follow us on Twitter: @Afreximbank Like us on Facebook: Afreximbank The African Export-Import Bank (Afreximbank) is the foremost pan-African multilateral financial institution devoted to financing and promoting intra- and extra-African trade. The Bank was established in October 1993 by African governments, African private and institutional investors, and non-African investors. Its two basic constitutive documents are the Establishment Agreement, which gives it the status of an international organization, and the Charter, which governs its corporate structure and operations. Since 1994, it has approved more than $51 billion in credit facilities for African businesses, including about $10.3 billion in 2016. Afreximbank had total assets of $11.7 billion as at 31 December 2016 and is rated BBB+ (GCR), Baa1 (Moody’s), and BBB- (Fitch). '), Document(metadata={'url': 'https://www.centralbanking.com/central-banks/reserves/foreign-exchange/4072761/zimbabwe-borrows-985-million-from-pan-african-lenders', 'context_before': '', 'context_after': 'If you already have an account, please sign in here. You already have an account with one of the websites below that uses this email address. Risk.net, FX Markets.com, WatersTechnology.com, Central Banking.com, PostOnline.co.uk, InsuranceAge.co.uk, RiskTechForum.com and Chartis-Research.com. All fields are mandatory unless otherwise highlighted Malaysian governor urges firms to support currency Cambodian and Malaysian central banks will launch a new cross-border payments link Central bank tightens currency restrictions as inflation continues to rise and dollar shortages continue Nigerian authorities accuse ex-governor of $6m theft Emefiele has denied all charges but prosecutors say cheque to president was forged Nigerian central bank says it has cleared some lenders’ FX liabilities Move comes one week after CBN replaces management of three banks for alleged law-breaking Philippine central bank will cut FX interventions, governor says “We’ve been intervening a bit too much”, Remolona says, as officials work on new framework Board splits over decision, as inflation remains above 10% while economy slows Argentine government devalues peso and replaces governor Finance minister announces austerity as IMF welcomes new president’s early moves Fuel runs short as ex-governor says government “does not want to recognise” crisis - Central bank of the year: Central Bank of Brazil - Central Banking Awards 2024: second group of winners unveiled '}, page_content='Zimbabwe borrows $985 million from pan-African lenders The Reserve Bank of Zimbabwe (RBZ) has borrowed $985 million from pan-African lending institutions to cover import of basic products, governor John Mangudya told the country’s parliament on March 4. The southern African nation is grappling with hyperinflation, low exports and insufficient foreign exchange reserves. These cover just four weeks of imports, according to deputy governor Jesimen Chipika, and stood at $200 million in September 2018. Only users who have a paid subscription or are part of a corporate subscription are able to print or copy content. To access these options, along with all other subscription benefits, please contact info@centralbanking.com or view our subscription options here: http://subscriptions.centralbanking.com/subscribe You are currently unable to print this content. Please contact info@centralbanking.com to find out more. You are currently unable to copy this content. Please contact info@centralbanking.com to find out more. Copyright Infopro Digital Limited. All rights reserved. You may share this content using our article tools. Printing this content is for the sole use of the Authorised User (named subscriber), as outlined in our terms and conditions - https://www.infopro-insight.com/terms-conditions/insight-subscriptions/ If you would like to purchase additional rights please email info@centralbanking.com Copyright Infopro Digital Limited. All rights reserved. You may share this content using our article tools. Copying this content is for the sole use of the Authorised User (named subscriber), as outlined in our terms and conditions - https://www.infopro-insight.com/terms-conditions/insight-subscriptions/ If you would like to purchase additional rights please email info@centralbanking.com Sorry, our subscription options are not loading right now Please try again later. Get in touch with our customer services team if this issue persists. New to Central Banking? View our subscription options ')], metadata=None)"
      ]
     },
     "execution_count": 11,
     "metadata": {},
     "output_type": "execute_result"
    }
   ],
   "source": [
    "retriever = SimpleFaissRetriever(k=5, path=\"/mnt/data/factcheck/averitec-data/data_store/vecstore/dev/6k\")\n",
    "retrieval_result = retriever(datapoint)\n",
    "retrieval_result"
   ]
  },
  {
   "cell_type": "code",
   "execution_count": 12,
   "metadata": {},
   "outputs": [
    {
     "data": {
      "text/plain": [
       "EvidenceGenerationResult(evidences=[Evidence(question='What is the total amount of loans provided by the African Export Import Bank (Afreximbank) to African countries?', answer='Since 1994, Afreximbank has approved more than $51 billion in credit facilities for African businesses.', url='https://www.afreximbank.com/afreximbank-tackles-zimbabwes-financial-sector-liquidity-challenges-new-facility-trade-finance-banks/', scraped_text='Cairo, 11 Feb. 2014– To boost access to trade finance, the African Export-Import Bank (Afreximbank) has entered into an agreement to introduce a facility and associated instruments to alleviate the liquidity challenges confronting the financial sector in Zimbabwe. The Afreximbank Trade Debt-backed Securities (AFTRADES) will be provided to participating banks as debt securities that could be used as collateral for interbank funds placements in order to promote interbank dealings among Zimbabwean Banks active in trade finance, according to the terms of a memorandum of understanding signed on by Afreximbank, the Zimbabwe Ministry of Finance and Economic Development and the Reserve Bank of Zimbabwe. “Our objective is to use this facility to enable trade finance banks in Zimbabwe to access much-needed liquidity from cash-surplus banks in the country, thereby increasing their capacity to deepen their trade finance activities,” said Jean-Louis Ekra, President of Afreximbank, after signing the memorandum of understanding in Cairo on 10 February. Patrick Chinamasa, Minister of Finance and Economic Planning, and Dr. Charity L. Dhliwayo, Acting Governor of the Reserve Bank, had signed it on 31 January on behalf of the Zimbabwean parties. Mr. Ekra said that Afreximbank’s decision to introduce the facility was motivated by its recognition of the serious constraints limiting the access of Zimbabwe’s trade finance banks to funding as a result of the liquidity challenge confronting the financial sector. Under the terms of the memorandum of understanding, AFTRADES would be structured as a collateral swap involving the issuance of securities by Afreximbank to participating banks in exchange for trade–related collateral or securities presented by those banks. \\nThe Government of Zimbabwe, through the Ministry of Finance and Economic Development, will serve as the facility’s guarantor and liquidity support contributor, up to agreed levels, while the Reserve Bank of Zimbabwe will grant the regulatory approvals required by the participating banks. In addition, the Reserve Bank will provide the infrastructure required for the implementation and administration of the facility. Only solvent banks which are not facing fundamental problems of viability will be eligible for the facility, according to the memorandum. The African Export Import Bank was established in October 1993 by African governments, African private and institutional investors, and non-African investors to finance and promote intra- and extra-African trade. Its two basic constitutive documents are the Establishment Agreement, which gives it the status of an international organization, and the Charter, which governs its corporate structure and operations. Since 1994, the Bank has approved more than $25 billion in credit facilities in support of African trade, including $3.71 billion in 2012. \\n'), Evidence(question='How much has Afreximbank loaned to Zimbabwe specifically?', answer='Afreximbank has provided various loans to Zimbabwe, including a $600 million line of credit in 2017 and a $1.5 billion pledge in 2017.', url='https://www.centralbanking.com/central-banks/reserves/foreign-exchange/4072761/zimbabwe-borrows-985-million-from-pan-african-lenders', scraped_text='\\nZimbabwe borrows $985 million from pan-African lenders The Reserve Bank of Zimbabwe (RBZ) has borrowed $985 million from pan-African lending institutions to cover import of basic products, governor John Mangudya told the country’s parliament on March 4. The southern African nation is grappling with hyperinflation, low exports and insufficient foreign exchange reserves. These cover just four weeks of imports, according to deputy governor Jesimen Chipika, and stood at $200 million in September 2018. Only users who have a paid subscription or are part of a corporate subscription are able to print or copy content. To access these options, along with all other subscription benefits, please contact info@centralbanking.com or view our subscription options here: http://subscriptions.centralbanking.com/subscribe You are currently unable to print this content. Please contact info@centralbanking.com to find out more. You are currently unable to copy this content. Please contact info@centralbanking.com to find out more. Copyright Infopro Digital Limited. All rights reserved. You may share this content using our article tools. Printing this content is for the sole use of the Authorised User (named subscriber), as outlined in our terms and conditions - https://www.infopro-insight.com/terms-conditions/insight-subscriptions/ If you would like to purchase additional rights please email info@centralbanking.com Copyright Infopro Digital Limited. All rights reserved. You may share this content using our article tools. Copying this content is for the sole use of the Authorised User (named subscriber), as outlined in our terms and conditions - https://www.infopro-insight.com/terms-conditions/insight-subscriptions/ If you would like to purchase additional rights please email info@centralbanking.com Sorry, our subscription options are not loading right now Please try again later. Get in touch with our customer services team if this issue persists. New to Central Banking? View our subscription options \\nIf you already have an account, please sign in here. You already have an account with one of the websites below that uses this email address. Risk.net, FX Markets.com, WatersTechnology.com, Central Banking.com, PostOnline.co.uk, InsuranceAge.co.uk, RiskTechForum.com and Chartis-Research.com. All fields are mandatory unless otherwise highlighted Malaysian governor urges firms to support currency Cambodian and Malaysian central banks will launch a new cross-border payments link Central bank tightens currency restrictions as inflation continues to rise and dollar shortages continue Nigerian authorities accuse ex-governor of $6m theft Emefiele has denied all charges but prosecutors say cheque to president was forged Nigerian central bank says it has cleared some lenders’ FX liabilities Move comes one week after CBN replaces management of three banks for alleged law-breaking Philippine central bank will cut FX interventions, governor says “We’ve been intervening a bit too much”, Remolona says, as officials work on new framework Board splits over decision, as inflation remains above 10% while economy slows Argentine government devalues peso and replaces governor Finance minister announces austerity as IMF welcomes new president’s early moves Fuel runs short as ex-governor says government “does not want to recognise” crisis - Central bank of the year: Central Bank of Brazil - Central Banking Awards 2024: second group of winners unveiled '), Evidence(question='What is the total amount of loans provided by Afreximbank to Zimbabwe in recent years?', answer='Afreximbank has provided Zimbabwe with loans including $600 million in 2017, $1.5 billion in 2017, and $985 million from pan-African lenders in 2018.', url='https://www.centralbanking.com/central-banks/reserves/foreign-exchange/4072761/zimbabwe-borrows-985-million-from-pan-african-lenders', scraped_text='\\nZimbabwe borrows $985 million from pan-African lenders The Reserve Bank of Zimbabwe (RBZ) has borrowed $985 million from pan-African lending institutions to cover import of basic products, governor John Mangudya told the country’s parliament on March 4. The southern African nation is grappling with hyperinflation, low exports and insufficient foreign exchange reserves. These cover just four weeks of imports, according to deputy governor Jesimen Chipika, and stood at $200 million in September 2018. Only users who have a paid subscription or are part of a corporate subscription are able to print or copy content. To access these options, along with all other subscription benefits, please contact info@centralbanking.com or view our subscription options here: http://subscriptions.centralbanking.com/subscribe You are currently unable to print this content. Please contact info@centralbanking.com to find out more. You are currently unable to copy this content. Please contact info@centralbanking.com to find out more. Copyright Infopro Digital Limited. All rights reserved. You may share this content using our article tools. Printing this content is for the sole use of the Authorised User (named subscriber), as outlined in our terms and conditions - https://www.infopro-insight.com/terms-conditions/insight-subscriptions/ If you would like to purchase additional rights please email info@centralbanking.com Copyright Infopro Digital Limited. All rights reserved. You may share this content using our article tools. Copying this content is for the sole use of the Authorised User (named subscriber), as outlined in our terms and conditions - https://www.infopro-insight.com/terms-conditions/insight-subscriptions/ If you would like to purchase additional rights please email info@centralbanking.com Sorry, our subscription options are not loading right now Please try again later. Get in touch with our customer services team if this issue persists. New to Central Banking? View our subscription options \\nIf you already have an account, please sign in here. You already have an account with one of the websites below that uses this email address. Risk.net, FX Markets.com, WatersTechnology.com, Central Banking.com, PostOnline.co.uk, InsuranceAge.co.uk, RiskTechForum.com and Chartis-Research.com. All fields are mandatory unless otherwise highlighted Malaysian governor urges firms to support currency Cambodian and Malaysian central banks will launch a new cross-border payments link Central bank tightens currency restrictions as inflation continues to rise and dollar shortages continue Nigerian authorities accuse ex-governor of $6m theft Emefiele has denied all charges but prosecutors say cheque to president was forged Nigerian central bank says it has cleared some lenders’ FX liabilities Move comes one week after CBN replaces management of three banks for alleged law-breaking Philippine central bank will cut FX interventions, governor says “We’ve been intervening a bit too much”, Remolona says, as officials work on new framework Board splits over decision, as inflation remains above 10% while economy slows Argentine government devalues peso and replaces governor Finance minister announces austerity as IMF welcomes new president’s early moves Fuel runs short as ex-governor says government “does not want to recognise” crisis - Central bank of the year: Central Bank of Brazil - Central Banking Awards 2024: second group of winners unveiled '), Evidence(question=\"What percentage of Afreximbank's total loans does the amount loaned to Zimbabwe represent?\", answer='The total amount loaned to Zimbabwe is approximately $3.085 billion. This is about 6% of the $51 billion total loans provided by Afreximbank.', url='https://www.centralbanking.com/central-banks/reserves/foreign-exchange/4072761/zimbabwe-borrows-985-million-from-pan-african-lenders', scraped_text='\\nZimbabwe borrows $985 million from pan-African lenders The Reserve Bank of Zimbabwe (RBZ) has borrowed $985 million from pan-African lending institutions to cover import of basic products, governor John Mangudya told the country’s parliament on March 4. The southern African nation is grappling with hyperinflation, low exports and insufficient foreign exchange reserves. These cover just four weeks of imports, according to deputy governor Jesimen Chipika, and stood at $200 million in September 2018. Only users who have a paid subscription or are part of a corporate subscription are able to print or copy content. To access these options, along with all other subscription benefits, please contact info@centralbanking.com or view our subscription options here: http://subscriptions.centralbanking.com/subscribe You are currently unable to print this content. Please contact info@centralbanking.com to find out more. You are currently unable to copy this content. Please contact info@centralbanking.com to find out more. Copyright Infopro Digital Limited. All rights reserved. You may share this content using our article tools. Printing this content is for the sole use of the Authorised User (named subscriber), as outlined in our terms and conditions - https://www.infopro-insight.com/terms-conditions/insight-subscriptions/ If you would like to purchase additional rights please email info@centralbanking.com Copyright Infopro Digital Limited. All rights reserved. You may share this content using our article tools. Copying this content is for the sole use of the Authorised User (named subscriber), as outlined in our terms and conditions - https://www.infopro-insight.com/terms-conditions/insight-subscriptions/ If you would like to purchase additional rights please email info@centralbanking.com Sorry, our subscription options are not loading right now Please try again later. Get in touch with our customer services team if this issue persists. New to Central Banking? View our subscription options \\nIf you already have an account, please sign in here. You already have an account with one of the websites below that uses this email address. Risk.net, FX Markets.com, WatersTechnology.com, Central Banking.com, PostOnline.co.uk, InsuranceAge.co.uk, RiskTechForum.com and Chartis-Research.com. All fields are mandatory unless otherwise highlighted Malaysian governor urges firms to support currency Cambodian and Malaysian central banks will launch a new cross-border payments link Central bank tightens currency restrictions as inflation continues to rise and dollar shortages continue Nigerian authorities accuse ex-governor of $6m theft Emefiele has denied all charges but prosecutors say cheque to president was forged Nigerian central bank says it has cleared some lenders’ FX liabilities Move comes one week after CBN replaces management of three banks for alleged law-breaking Philippine central bank will cut FX interventions, governor says “We’ve been intervening a bit too much”, Remolona says, as officials work on new framework Board splits over decision, as inflation remains above 10% while economy slows Argentine government devalues peso and replaces governor Finance minister announces austerity as IMF welcomes new president’s early moves Fuel runs short as ex-governor says government “does not want to recognise” crisis - Central bank of the year: Central Bank of Brazil - Central Banking Awards 2024: second group of winners unveiled '), Evidence(question='Has Afreximbank provided loans to other African countries besides Zimbabwe?', answer='Yes, Afreximbank has provided loans to various African countries, including syndicated financing transactions amounting to billions of dollars.', url='https://www.voanews.com/a/afreximbank-pledges-to-post-mugabe-zimbabwe/4161541.html', scraped_text='\\nThe African Export and Import Bank has pledged up to $1.5 billion in new loans and financial guarantees to Zimbabwe in a major boost for new President Emmerson Mnangagwa\\'s government, the bank\\'s president and chairman said Tuesday. Mnangagwa, who took over last month after veteran autocrat Robert Mugabe quit following a de facto military coup, has vowed to focus on reviving the struggling economy and provide jobs in a nation with an unemployment rate exceeding 80 percent. Afreximbank was the only international lender that stood by Zimbabwe throughout Mugabe\\'s repressive 37-year rule, but its quick announcement of a fresh package of loans and guarantees appeared to be a vote of confidence in the new government. Cairo-based Afreximbank was a major funder of Zimbabwe while the country was cut off from the International Monetary Fund and World Bank for having defaulted on its debt in 1999. Bank president and chairman Okey Oramah told reporters after a meeting with Mnangagwa and senior government officials that Afreximbank would provide $150 million to local banks to help them pay for outstanding critical imports. \"We also discussed a number of other areas that involve additional investment from us for something that will be in the order of $1 billion to $1.5 billion that will include certain kinds of guarantees to encourage investors to come to Zimbabwe. \"We ... want to make sure that we support the stabilization of the economy, that means providing liquidity to make sure that the situation where people are rushing every time to look for cash is dealt with,\" Oramah said. In August, before Mugabe\\'s ouster, Afreximbank provided $600 million to help Zimbabwe pay for imports and $300 million to allow it to print more \"bond notes,\" a quasi-currency that officially trades on par with the U.S. dollar. Zimbabwe has a foreign debt of more than $7 billion and in September said it would not be able to pay $1.8 billion in arrears to the World Bank and African Development Bank until economic fundamentals improved. \\nThe southern African nation, which dumped its hyperinflation-hit currency in 2009, is struggling with a severe dollar crunch that has seen banks fail to avail cash to customers while importers struggle to pay for imports. Finance Minister Patrick Chinamasa promised in a budget speech last week to re-engage with international lenders, curb spending and attract investors to revive the economy. '), Evidence(question='What are some examples of other countries or projects funded by Afreximbank?', answer='Afreximbank has funded projects in various African countries, including a $1.5 billion Euro Medium Term Note Programme and a $500 million bond issuance.', url='https://www.voanews.com/a/afreximbank-pledges-to-post-mugabe-zimbabwe/4161541.html', scraped_text='\\nThe African Export and Import Bank has pledged up to $1.5 billion in new loans and financial guarantees to Zimbabwe in a major boost for new President Emmerson Mnangagwa\\'s government, the bank\\'s president and chairman said Tuesday. Mnangagwa, who took over last month after veteran autocrat Robert Mugabe quit following a de facto military coup, has vowed to focus on reviving the struggling economy and provide jobs in a nation with an unemployment rate exceeding 80 percent. Afreximbank was the only international lender that stood by Zimbabwe throughout Mugabe\\'s repressive 37-year rule, but its quick announcement of a fresh package of loans and guarantees appeared to be a vote of confidence in the new government. Cairo-based Afreximbank was a major funder of Zimbabwe while the country was cut off from the International Monetary Fund and World Bank for having defaulted on its debt in 1999. Bank president and chairman Okey Oramah told reporters after a meeting with Mnangagwa and senior government officials that Afreximbank would provide $150 million to local banks to help them pay for outstanding critical imports. \"We also discussed a number of other areas that involve additional investment from us for something that will be in the order of $1 billion to $1.5 billion that will include certain kinds of guarantees to encourage investors to come to Zimbabwe. \"We ... want to make sure that we support the stabilization of the economy, that means providing liquidity to make sure that the situation where people are rushing every time to look for cash is dealt with,\" Oramah said. In August, before Mugabe\\'s ouster, Afreximbank provided $600 million to help Zimbabwe pay for imports and $300 million to allow it to print more \"bond notes,\" a quasi-currency that officially trades on par with the U.S. dollar. Zimbabwe has a foreign debt of more than $7 billion and in September said it would not be able to pay $1.8 billion in arrears to the World Bank and African Development Bank until economic fundamentals improved. \\nThe southern African nation, which dumped its hyperinflation-hit currency in 2009, is struggling with a severe dollar crunch that has seen banks fail to avail cash to customers while importers struggle to pay for imports. Finance Minister Patrick Chinamasa promised in a budget speech last week to re-engage with international lenders, curb spending and attract investors to revive the economy. '), Evidence(question='What is the role of Afreximbank in supporting African trade?', answer='Afreximbank supports African trade by providing financing, guarantees, and advisory services to promote intra- and extra-African trade.', url='https://www.voanews.com/a/afreximbank-pledges-to-post-mugabe-zimbabwe/4161541.html', scraped_text='\\nThe African Export and Import Bank has pledged up to $1.5 billion in new loans and financial guarantees to Zimbabwe in a major boost for new President Emmerson Mnangagwa\\'s government, the bank\\'s president and chairman said Tuesday. Mnangagwa, who took over last month after veteran autocrat Robert Mugabe quit following a de facto military coup, has vowed to focus on reviving the struggling economy and provide jobs in a nation with an unemployment rate exceeding 80 percent. Afreximbank was the only international lender that stood by Zimbabwe throughout Mugabe\\'s repressive 37-year rule, but its quick announcement of a fresh package of loans and guarantees appeared to be a vote of confidence in the new government. Cairo-based Afreximbank was a major funder of Zimbabwe while the country was cut off from the International Monetary Fund and World Bank for having defaulted on its debt in 1999. Bank president and chairman Okey Oramah told reporters after a meeting with Mnangagwa and senior government officials that Afreximbank would provide $150 million to local banks to help them pay for outstanding critical imports. \"We also discussed a number of other areas that involve additional investment from us for something that will be in the order of $1 billion to $1.5 billion that will include certain kinds of guarantees to encourage investors to come to Zimbabwe. \"We ... want to make sure that we support the stabilization of the economy, that means providing liquidity to make sure that the situation where people are rushing every time to look for cash is dealt with,\" Oramah said. In August, before Mugabe\\'s ouster, Afreximbank provided $600 million to help Zimbabwe pay for imports and $300 million to allow it to print more \"bond notes,\" a quasi-currency that officially trades on par with the U.S. dollar. Zimbabwe has a foreign debt of more than $7 billion and in September said it would not be able to pay $1.8 billion in arrears to the World Bank and African Development Bank until economic fundamentals improved. \\nThe southern African nation, which dumped its hyperinflation-hit currency in 2009, is struggling with a severe dollar crunch that has seen banks fail to avail cash to customers while importers struggle to pay for imports. Finance Minister Patrick Chinamasa promised in a budget speech last week to re-engage with international lenders, curb spending and attract investors to revive the economy. '), Evidence(question='What is the mission of Afreximbank?', answer='The mission of Afreximbank is to finance and promote intra- and extra-African trade.', url='https://www.afreximbank.com/afreximbank-tackles-zimbabwes-financial-sector-liquidity-challenges-new-facility-trade-finance-banks/', scraped_text='Cairo, 11 Feb. 2014– To boost access to trade finance, the African Export-Import Bank (Afreximbank) has entered into an agreement to introduce a facility and associated instruments to alleviate the liquidity challenges confronting the financial sector in Zimbabwe. The Afreximbank Trade Debt-backed Securities (AFTRADES) will be provided to participating banks as debt securities that could be used as collateral for interbank funds placements in order to promote interbank dealings among Zimbabwean Banks active in trade finance, according to the terms of a memorandum of understanding signed on by Afreximbank, the Zimbabwe Ministry of Finance and Economic Development and the Reserve Bank of Zimbabwe. “Our objective is to use this facility to enable trade finance banks in Zimbabwe to access much-needed liquidity from cash-surplus banks in the country, thereby increasing their capacity to deepen their trade finance activities,” said Jean-Louis Ekra, President of Afreximbank, after signing the memorandum of understanding in Cairo on 10 February. Patrick Chinamasa, Minister of Finance and Economic Planning, and Dr. Charity L. Dhliwayo, Acting Governor of the Reserve Bank, had signed it on 31 January on behalf of the Zimbabwean parties. Mr. Ekra said that Afreximbank’s decision to introduce the facility was motivated by its recognition of the serious constraints limiting the access of Zimbabwe’s trade finance banks to funding as a result of the liquidity challenge confronting the financial sector. Under the terms of the memorandum of understanding, AFTRADES would be structured as a collateral swap involving the issuance of securities by Afreximbank to participating banks in exchange for trade–related collateral or securities presented by those banks. \\nThe Government of Zimbabwe, through the Ministry of Finance and Economic Development, will serve as the facility’s guarantor and liquidity support contributor, up to agreed levels, while the Reserve Bank of Zimbabwe will grant the regulatory approvals required by the participating banks. In addition, the Reserve Bank will provide the infrastructure required for the implementation and administration of the facility. Only solvent banks which are not facing fundamental problems of viability will be eligible for the facility, according to the memorandum. The African Export Import Bank was established in October 1993 by African governments, African private and institutional investors, and non-African investors to finance and promote intra- and extra-African trade. Its two basic constitutive documents are the Establishment Agreement, which gives it the status of an international organization, and the Charter, which governs its corporate structure and operations. Since 1994, the Bank has approved more than $25 billion in credit facilities in support of African trade, including $3.71 billion in 2012. \\n'), Evidence(question='What are the key financial instruments used by Afreximbank?', answer='Afreximbank uses instruments such as syndicated financing transactions, country risk guarantees, and trade debt-backed securities.', url='https://www.voanews.com/a/afreximbank-pledges-to-post-mugabe-zimbabwe/4161541.html', scraped_text='\\nThe African Export and Import Bank has pledged up to $1.5 billion in new loans and financial guarantees to Zimbabwe in a major boost for new President Emmerson Mnangagwa\\'s government, the bank\\'s president and chairman said Tuesday. Mnangagwa, who took over last month after veteran autocrat Robert Mugabe quit following a de facto military coup, has vowed to focus on reviving the struggling economy and provide jobs in a nation with an unemployment rate exceeding 80 percent. Afreximbank was the only international lender that stood by Zimbabwe throughout Mugabe\\'s repressive 37-year rule, but its quick announcement of a fresh package of loans and guarantees appeared to be a vote of confidence in the new government. Cairo-based Afreximbank was a major funder of Zimbabwe while the country was cut off from the International Monetary Fund and World Bank for having defaulted on its debt in 1999. Bank president and chairman Okey Oramah told reporters after a meeting with Mnangagwa and senior government officials that Afreximbank would provide $150 million to local banks to help them pay for outstanding critical imports. \"We also discussed a number of other areas that involve additional investment from us for something that will be in the order of $1 billion to $1.5 billion that will include certain kinds of guarantees to encourage investors to come to Zimbabwe. \"We ... want to make sure that we support the stabilization of the economy, that means providing liquidity to make sure that the situation where people are rushing every time to look for cash is dealt with,\" Oramah said. In August, before Mugabe\\'s ouster, Afreximbank provided $600 million to help Zimbabwe pay for imports and $300 million to allow it to print more \"bond notes,\" a quasi-currency that officially trades on par with the U.S. dollar. Zimbabwe has a foreign debt of more than $7 billion and in September said it would not be able to pay $1.8 billion in arrears to the World Bank and African Development Bank until economic fundamentals improved. \\nThe southern African nation, which dumped its hyperinflation-hit currency in 2009, is struggling with a severe dollar crunch that has seen banks fail to avail cash to customers while importers struggle to pay for imports. Finance Minister Patrick Chinamasa promised in a budget speech last week to re-engage with international lenders, curb spending and attract investors to revive the economy. '), Evidence(question=\"What is the significance of Afreximbank's support to Zimbabwe?\", answer=\"Afreximbank's support to Zimbabwe is significant as it helps alleviate liquidity challenges, supports trade finance, and promotes economic development.\", url='https://media.afreximbank.com/afrexim/AFREXIMBANK_20_YEARS_PROMOTING_AFRICAN_TRADE.pdf', scraped_text='projects in Africa. Traditional instruments used by the  Bank to leverage international financing into Africa  include arranging and co-arranging syndications and  club deals and inviting others to share the risk of  such deals; granting lenders taking African exposures  facilities; raising money in its name from the markets  and on-lending to entities that would ordinarily not  be able to access the international financial markets;  and providing Advisory Services that encourage debt  and non-debt capital inflows. For instance, in 2010,  in fulfilment of its leveraging objective, the Bank  arranged, co-arranged or participated in 28 syndicated  financing transactions amounting to US$4.23 billion.  The Bank’s participation in these syndicated deals  funding committed by the Bank, it was able to attract  into Africa, on the average, about US$4.5 to support  In  2011, the Bank arranged, co-arranged or participated  in 14 syndicated financing transactions amounting to  US$3.27 billion. The Bank’s participation in those  syndicated deals amounted to US$953 million. Aside  from funding, the Bank, in some cases, supported the  deals by providing additional comfort in the form  of country risk guarantees to some members of the  lending Syndicate. Thus, for every US dollar funding  committed by the Bank, it was able to attract into  Africa about US$3.4 to support trade and bankable  trade-related projects in the continent. In furtherance  of its leveraging goal, in 2012, the Bank arranged, co- arranged or participated in 15 syndicated financing  transactions worth US$5.45 billion; and participated  in those deals up to an amount of US$894.5 million.  Following these developments, for every US dollar  committed by the Bank, it was able to attract into  Africa about US$6.10 to support bankable trade and  Further, during 2011, the Bank supported CBZ Bank  in the issuance of a three-year Zimbabwe Economic  issuance, which was arranged and guaranteed by the  Bank, mobilised much needed long term funding for  \\ncapital investments in key sectors of the Zimbabwean  economy, including mining, energy and agriculture.  foreign investor participation, helped to mobilize  resources from both domestic and foreign investors.  The transaction reflects the success of the Bank’s  work towards encouraging the return of international  investors into Zimbabwe in support of the country’s  leverages international funding into Africa through  its partnership with Export Credit Agencies (ECAs),  who provide financing and guarantees for importation  of essential and capital goods from their country; and  Development Finance Institutions (DFIs), who provide  term financing for essential projects. Leveraging of  Table 6.1 Syndications/ Club Deals Arranged, Co-arranged by AFREXIMBANK, 2000 - 12 * Leverage Ratio is the  total amount the Bank raises per dollar invested Source: Afreximbank Annual Report (various issues) cHapter sIX: trade deVeLopment Impact of tHe BanK’s operatIons and actIVItIes significantly in recent times, especially at the height  of the global financial and economic crises in 2008/9  with a view to ensuring that African trade did not  suffer as a result of the crises. In this regard, in 2010,  for example, the Bank mobilised funded and unfunded  International Cooperation (US$100 million), Korea  others. The Bank also leveraged funding support from  DFIs, including the International Finance Corporation  (IFC) of the World Bank (US$200 million), African  million) in 2010. Overall, during 2009-12, the Bank  leveraged term funding of over US$.1.1 billion from  As part of its efforts at diversifying funding sources  trade-related projects in response to growing requests  from African counterparties in member countries, the  Bank, in 2009, arranged a US$1.5 billion Euro Medium  in the international bond markets. After successful  roadshows in Europe and Asia, the order books were  closed with orders in excess of US$1.5 billion from  135 different accounts spread across Europe, Asia,  \\nthe Bank’s funding needs, only US$300 million was  taken (Table 6.2). The tenor of 5 years was chosen in  line with the objectives of the Bank to leverage term  funding to support the capital investments in Africa. Further, in July 2011, the Bank issued a benchmark  size bond in an amount of US$500 million under its  tight end attracted a coupon of 5.75% for a tenor of  5 years. The bond was six times oversubscribed with  an order book of US$3.2 billion at time of market  distress due to a worsening of the sovereign debt  crisis of the Eurozone. The success of the transaction  underscored the confidence of the bond market in the  Bank’s credit standing. Again, in December 2012, the  Bank arranged a private placement with BNP Paribas  to raise €35million under the US$1.5 billion EMTN  financing into the continent by providing guarantees  guarantee and reimbursement guarantee in an amount  of US$642.2 million as comfort to entities funding  African entities/projects. The Bank also actively used  its borrowing activities in leveraging international  As part of its effort at promoting intra-African trade,  the Bank has been providing financing and advisory  aviation) and communication service providers with a  pan-African focus to enable them build the necessary  infrastructure and/or provide the necessary services  to support the trade. In this regard, during 2010, the  facility in favour of Lonrho’s Fly540 (Fly540). Fly540  is building the first international standard, regional  airline that fully connects Sub Saharan Africa ---  East to West and North to South. Fly540 focuses on  operations built around three regional hubs, in Nairobi  hub feeds passengers domestically, regionally and  across the continent providing a route network that  connects the continent, and offers intercontinental  passengers arriving from Europe, USA, Middle East  and Far East a pan African access. The Kenyan and  Angolan hubs started operations well ahead of the  third regional hub in Accra, Ghana, which commenced  ')], metadata={'suggested_label': array([0.92045574, 0.01685873, 0.04582679, 0.01685873]), 'llm_type': 'gpt-4o', 'llm_output': {'questions': [{'question': 'What is the total amount of loans provided by the African Export Import Bank (Afreximbank) to African countries?', 'answer': 'Since 1994, Afreximbank has approved more than $51 billion in credit facilities for African businesses.', 'source': '3'}, {'question': 'How much has Afreximbank loaned to Zimbabwe specifically?', 'answer': 'Afreximbank has provided various loans to Zimbabwe, including a $600 million line of credit in 2017 and a $1.5 billion pledge in 2017.', 'source': '0'}, {'question': 'What is the total amount of loans provided by Afreximbank to Zimbabwe in recent years?', 'answer': 'Afreximbank has provided Zimbabwe with loans including $600 million in 2017, $1.5 billion in 2017, and $985 million from pan-African lenders in 2018.', 'source': '0, 3, 4'}, {'question': \"What percentage of Afreximbank's total loans does the amount loaned to Zimbabwe represent?\", 'answer': 'The total amount loaned to Zimbabwe is approximately $3.085 billion. This is about 6% of the $51 billion total loans provided by Afreximbank.', 'source': '0, 3, 4'}, {'question': 'Has Afreximbank provided loans to other African countries besides Zimbabwe?', 'answer': 'Yes, Afreximbank has provided loans to various African countries, including syndicated financing transactions amounting to billions of dollars.', 'source': '1'}, {'question': 'What are some examples of other countries or projects funded by Afreximbank?', 'answer': 'Afreximbank has funded projects in various African countries, including a $1.5 billion Euro Medium Term Note Programme and a $500 million bond issuance.', 'source': '1'}, {'question': 'What is the role of Afreximbank in supporting African trade?', 'answer': 'Afreximbank supports African trade by providing financing, guarantees, and advisory services to promote intra- and extra-African trade.', 'source': '1'}, {'question': 'What is the mission of Afreximbank?', 'answer': 'The mission of Afreximbank is to finance and promote intra- and extra-African trade.', 'source': '3'}, {'question': 'What are the key financial instruments used by Afreximbank?', 'answer': 'Afreximbank uses instruments such as syndicated financing transactions, country risk guarantees, and trade debt-backed securities.', 'source': '1, 2'}, {'question': \"What is the significance of Afreximbank's support to Zimbabwe?\", 'answer': \"Afreximbank's support to Zimbabwe is significant as it helps alleviate liquidity challenges, supports trade finance, and promotes economic development.\", 'source': '2, 3'}], 'claim_veracity': {'Supported': '1', 'Refuted': '5', 'Not Enough Evidence': '2', 'Conflicting Evidence/Cherrypicking': '1'}}})"
      ]
     },
     "execution_count": 5,
     "metadata": {},
     "output_type": "execute_result"
    }
   ],
   "source": [
    "evidence_generator = GptEvidenceGenerator(\"gpt-4o\")\n",
    "evidence_generation_result = evidence_generator(datapoint, retrieval_result)\n",
    "evidence_generation_result"
   ]
  },
  {
   "cell_type": "code",
   "execution_count": 6,
   "metadata": {},
   "outputs": [
    {
     "data": {
      "text/plain": [
       "array([0.92045574, 0.01685873, 0.04582679, 0.01685873])"
      ]
     },
     "execution_count": 6,
     "metadata": {},
     "output_type": "execute_result"
    }
   ],
   "source": [
    "evidence_generation_result.metadata[\"suggested_label\"]"
   ]
  },
  {
   "cell_type": "code",
   "execution_count": 7,
   "metadata": {},
   "outputs": [
    {
     "data": {
      "text/plain": [
       "'Refuted'"
      ]
     },
     "execution_count": 7,
     "metadata": {},
     "output_type": "execute_result"
    }
   ],
   "source": [
    "datapoint.label"
   ]
  },
  {
   "cell_type": "code",
   "execution_count": 8,
   "metadata": {},
   "outputs": [
    {
     "data": {
      "text/plain": [
       "('Refuted',\n",
       " ClassificationResult(probs=array([0.92045574, 0.01685873, 0.04582679, 0.01685873]), metadata=None))"
      ]
     },
     "execution_count": 8,
     "metadata": {},
     "output_type": "execute_result"
    }
   ],
   "source": [
    "classifier = DefaultClassifier()\n",
    "classification_result = classifier(datapoint, evidence_generation_result, retrieval_result)\n",
    "str(classification_result), classification_result"
   ]
  },
  {
   "cell_type": "code",
   "execution_count": 9,
   "metadata": {},
   "outputs": [
    {
     "data": {
      "text/plain": [
       "PipelineResult(datapoint=Datapoint(claim='The plentiful evidence we have indicates that masks would not meaningfully help with aerosol transmission of COVID 19.', claim_id=16, claim_date='29-10-2020', speaker='Yinon Weiss', original_claim_url='https://thefederalist.com/2020/10/29/these-12-graphs-show-mask-mandates-do-nothing-to-stop-covid/', reporting_source='The Federalist', location_ISO_code='US', label='Refuted', split='dev', metadata={'required_reannotation': True, 'justification': 'Evidence finds that surgical face masks could prevent transmission of human coronaviruses and influenza viruses from symptomatic individuals. The CDC and the World Health Organization (WHO), at the time of the claim, also recommended cloth masks for the general public.', 'fact_checking_article': 'https://web.archive.org/web/20210711073635/https://healthfeedback.org/claimreview/wearing-face-masks-helps-reduce-the-spread-of-covid-19-but-it-only-confers-partial-protection-and-should-be-combined-with-additional-public-health-measures/', 'claim_types': ['Event/Property Claim'], 'fact_checking_strategies': ['Written Evidence'], 'questions': [{'question': 'Have any studies been done to show if masks help with Aerosol transmission ?', 'answers': [{'answer': 'Surgical face masks significantly reduced detection of influenza virus RNA in respiratory droplets and coronavirus RNA in aerosols, with a trend toward reduced detection of coronavirus RNA in respiratory droplets. Our results indicate that surgical face masks could prevent transmission of human coronaviruses and influenza viruses from symptomatic individuals.', 'answer_type': 'Extractive', 'source_url': 'https://www.nature.com/articles/s41591-020-0843-2?error=cookies_not_supported&code=06c46169-a951-475f-84e1-3761c88a0a71', 'source_medium': 'Web text', 'cached_source_url': 'https://web.archive.org/web/20230327114027/https://www.nature.com/articles/s41591-020-0843-2'}]}, {'question': \"Do any health body's recommend wearing a facemask to help slow down aerosol transmission of viruses at the time of the claim (2020)?\", 'answers': [{'answer': 'At of claim yes, the (CDC) and the World Health Organization now recommended cloth masks for the general public, but earlier in the pandemic, both organizations recommended just the opposite.', 'answer_type': 'Extractive', 'source_url': 'https://www.ucsf.edu/news/2020/06/417906/still-confused-about-masks-heres-science-behind-how-face-masks-prevent', 'source_medium': 'Web text', 'cached_source_url': 'https://web.archive.org/web/20230327114052/https://www.ucsf.edu/news/2020/06/417906/still-confused-about-masks-heres-science-behind-how-face-masks-prevent'}]}], 'cached_original_claim_url': 'https://web.archive.org/web/20230327113113/https://thefederalist.com/2020/10/29/these-12-graphs-show-mask-mandates-do-nothing-to-stop-covid/'}), evidence_generation_result=EvidenceGenerationResult(evidences=[Evidence(question='What is the primary mode of COVID-19 transmission?', answer='COVID-19 primarily spreads through respiratory droplets and aerosols.', url='https://time.com/5861295/masks-covid19-spread-fighting/', scraped_text='\\nAt long last, we have made a truly game-changing scientific breakthrough in preventing the spread of COVID-19. The impact of this breakthrough seems almost too good to be true. We have found a disease control tool that, when used properly, can dramatically reduce the person-to-person transmission of SARS-CoV-2, the virus that causes COVID-19. Studies have shown that this tool could reduce transmission by somewhere between 50% and 85%. The tool is cheap and remarkably low-tech. You can even make one at home. It has no significant side effects. And with each passing day, the scientific research showing the tool’s effectiveness gets stronger and stronger. If this tool were a vaccine or medicine, we’d be high-fiving each other and popping the champagne, knowing we’d discovered a crucial means to help prevent the spread of the pandemic. I’m talking, of course, about face masks—cloth, surgical, or even a bandanna. Face masks block the spread of respiratory droplets that can carry the novel coronavirus. But just as with so many other aspects of the response to COVID-19—including mass testing, contact tracing, and the early use of stay-at-home orders—the U.S. is once again squandering this opportunity. In many countries that have so far successfully controlled their COVID-19 epidemics, public health leaders, politicians, and the public have fully embraced the use of face masks with no hint of controversy. A recent study found that countries where masks were widely used soon after their COVID-19 outbreak began were more likely to keep their death rates low and to have a shorter outbreak. Countries like Hong Kong, South Korea, Taiwan, Thailand, and Vietnam that quickly adopted masking, along with other control measures such as social distancing and track and trace, have reported fewer than 6 deaths per million residents as a result of COVID-19. Yet in the U.S., where the death rate from COVID-19 is now 379 per million people, face masks have been weaponized for partisan purposes. \\nTaking their cues from President Trump, who has refused to appear on camera wearing a face mask and has said that Americans who wear masks are doing so to show their disapproval of him, many of his supporters now see wearing a face mask as an affront to personal liberty. According to the Washington Post, Republican leaders “are less likely to mandate them, and Republican voters are more likely to forgo, and even scorn, them.” Health officials who have promoted mask mandates have quit their jobs after receiving death threats. As a result of this alarming polarization, only 18 states and the District of Columbia are mandating face masks in public across the whole state. Only two—Massachusetts and Maryland—have Republican governors. Meanwhile, many Republican-led states are actively trying to subvert local measures. Nebraska Governor Pete Ricketts has gone so far as to say he will withhold federal coronavirus relief funds from local governments if they try and mandate mask use in their places of work. Rejecting face masks inevitably means embracing more COVID-19 cases and deaths. One U.S. study found that states with a mandate had a more rapid decline in daily growth rates of COVID-19 and estimated that mask use prevented up to 450,000 cases of COVID-19 by May 22, 2020. And while researchers at the University of Washington now predict that the U.S. could reach 180,000 COVID-19 deaths by October, they say we could prevent 33,000 of these deaths—more than half of the new deaths the model projects—if at least 95% of people wear a mask. That’s right. We can avert the deaths of 33,000 of our parents, grandparents, siblings, co-workers, teachers, bus drivers, mail carriers, nurses and store and factory workers by just sticking a one-dollar piece of cloth over our noses and mouths. So what’s stopping us? One problem is the “me first” culture in the U.S., in which anti-maskers claim that their right to go around unmasked in public matters more than saving lives. '), Evidence(question='Do masks help in blocking respiratory droplets?', answer='Yes, masks block the spread of respiratory droplets that can carry the novel coronavirus.', url='https://journals.plos.org/plosone/article?id=10.1371/journal.pone.0237691', scraped_text=\"A log transformed analysis is conducted to evaluate the growth rate of COVID-19 infections. ANOVA analysis is used to analyze the group effect. The p value is less than 2e-16 for the log 2 transformed case comparison, suggesting that the two groups are statistically significantly different. The Asian mask-wearing group clearly has lower growth rates of COVID-19 cases compared to the non-mask-wearing group. Thailand has the highest growth rate among the mask-wearing groups. However, the differences in the growth rate of confirmed cases between these two groups cannot be fully attributed to mask-wearing, but arise from many factors, such as clinical tests performed, complicated social, economic, and cultural differences, and varied public health polices enforcement. The preliminary comparison only provides the rationale to further evaluate if wearing masks is effective for controlling the infectious disease outbreak. Our study has six major assumptions with preliminary evidence. First, the SARS-CoV-2 transmission pathway includes airborne [1, 8, 22–24] with an R0 value exceeding that of influenza and SARS [16, 32, 33]. Second, a proportion of infected cases could be asymptomatic [36, 38, 46, 47]. Third, asymptomatic individuals could transfer the virus in the community [48, 49, 82]. Fourth, the public awareness of mask usage may increase as the pandemic spreads [64]. Fifth, the market could respond to consumer demand with a production increase and without supply chain problems [67]. Sixth, homemade cloth masks are not as effective as commercial medical masks [57, 60]. Thus, we project the best scenario as the pandemic spreads and by the end of the outbreak, the general population will be willing to wear a mask. Although wearing a mask is a low-cost and non-disruptive measure, wearing a mask has not been culturally widespread in many parts of the world [83]. Furthermore, for non-certified medical masks, individual errors could lead to ineffective mask fitting, which could reduce the benefit of wearing a mask [84]. \\nThere are limitations to those six assumptions. First, a recent study suggested that the virus was detected on the outer layer of COVID-19 patients' masks [85], which could invalidate the utility of a patient wearing a mask. However, although the virus was detected, the mask could still provide prevention by reducing the virus load to an adjacent healthy individual. Further studies on asymptomatic individuals wearing masks could be more convincing to validate the effectiveness of wearing a mask to prevent pre-symptomatic transmission. Second, we assume random mixing and model the general population, but have not taken account children's role. Children are less likely to wear masks consistently to realize mask effectiveness. At the same time, the role of children in COVID-19 transmission is unclear [86]. Third, we assume the willing individual who has a mask can use the mask in the right manner and follow social distancing and other personal hygiene practices. There are discrepancies between willingness, perceived compliance, and real compliance [87]. Fourth, research shows that masks can be a source of contamination if not disposed of or replaced in timely manner The COVID-19 pandemic has created a global crisis. Prevention such as vaccines is one of the most effective measures to mitigate such a catastrophic public health crisis. Prior to an available vaccine, NPIs such as wearing a mask can potentially reduce the virus transmission rate. Recent modeling studies suggest that timely and comprehensive NPIs are needed to prevent a secondary wave of COVID-19 [89]. However, timely implementations of NPI such as wearing a mask call for public awareness, a readily available market stockpile, and government advocacy and policies. For respiratory diseases caused by a rival agent through aerosol and droplet transmission routes, wearing masks could be a reasonable NPI to reduce the virus transmission efficiency and secondary transmission [5, 89]. \\nHowever, masks do not replace social distancing and other personal hygiene practices, such as hand washing. The effectiveness of any NPIs depends on compliance rates, contact rate reduction, the role of children, and asymptomatic cases in transmission. Our model analyzes the impact of wearing a mask that can efficiently filter viral aerosols during the COVID-19 pandemic in the general population. Our study suggests that wearing a quality mask in combination with other NPIs can support hospital resource management during a pandemic. In a free market, the risks of not having enough masks for the general population may negatively impact timely responses to the outbreak. Appropriate public health policies and government subsidies could be necessary to manage similar crises in the future. Future studies on how to improve adherence and compliance rates will better position society for potential future respiratory disease outbreaks when the viral agent has a similar clinical attack rate. - 1. Feng S, Shen C, Xia N, Song W, Fan M, Cowling BJ. Rational use of face masks in the COVID-19 pandemic. Lancet Respir Med. 2020. Epub 2020/03/24. pmid:32203710. - 2. Cowling BJ, Zhou Y, Ip DK, Leung GM, Aiello AE. Face masks to prevent transmission of influenza virus: a systematic review. Epidemiol Infect. 2010;138(4):449–56. Epub 2010/01/23. pmid:20092668. - 3. Brienen NC, Timen A, Wallinga J, van Steenbergen JE, Teunis PF. The effect of mask use on the spread of influenza during a pandemic. Risk Anal. 2010;30(8):1210–8. Epub 2010/05/26. pmid:20497389. - 4. Zhang L, Peng Z, Ou J, Zeng G, Fontaine RE, Liu M, et al. Protection by face masks against influenza A(H1N1)pdm09 virus on trans-Pacific passenger aircraft, 2009. Emerg Infect Dis. 2013;19(9). Epub 2013/08/24. pmid:23968983; PubMed Central PMCID: PMC3810906. - 5. Larson EL, Ferng YH, Wong-McLoughlin J, Wang S, Haber M, Morse SS. Impact of non-pharmaceutical interventions on URIs and influenza in crowded, urban households. \"), Evidence(question='What is the effectiveness of cloth masks in preventing aerosol transmission?', answer='Cloth masks or face coverings likely do not offer the same degree of protection as physical distancing, isolation, or limiting personal contact time.', url='https://aaqr.org/articles/aaqr-20-06-covid-0275', scraped_text='The unprecedented demand for masks has now attracted attention on their filtration efficiency. Furthermore, the widespread use of disposable masks has led to shortage of filter materials and problems with their haphazard disposal. In this study, a testing system that is based on standardized methods has been established and enhanced to reliably measure the particle filtration efficiency (PFE) of masks. Quality control experiments that examine the filtration efficiency of polystyrene latex (PSL) particles that are 0.1 µm in size and sodium chloride (NaCl) particles that range from 0.01–1.0 µm are conducted to determine the reliability of the testing system. Moreover, various textile materials are tested to fabricate 3-layer face masks, and the PFE of these masks is tested by using the proposed testing system to find the most suitable materials and the likelihood of their reusability. Among the tested materials, polytetrafluoroethylene (PTFE) used as the membrane in the filter layer has the highest PFE of 88.33% ± 1.80%, which is mainly due to its dense and multilayer structure. The air permeability of the self-developed masks ranges from 1.41 ± 0.04 to 1.93 ± 0.08, less breathable than the commercial masks. The reusability of a mask that uses PTFE as the membrane in the filter layer is tested by gently washing the mask 30 times and then drying the mask in air before the PFE is measured. The PFE is only reduced by 10–20% after 30 washes, thus indicating the potential reusability of the mask. The findings in this study will contribute to reducing the pressure of mask shortages and are an environmentally friendly solution to the massive use of disposable masks. Keywords: COVID-19; Mask testing system; Reusable mask; Particle filtration efficiency. The new coronavirus (COVID-19) has become a global public health concern because it is highly contagious with severe or even fatal health consequences. With the rapid spread of COVID-19, self-protection has become crucial to avoid contracting this disease. \\nAs a highly infectious disease, the two main routes of transmission include direct transmission (e.g., spraying droplets emitted from aerosolized particles through sneezing, coughing or talking), and indirect transmission (contact with surfaces that contain the virus or objects that have been in contact with an infected individual) (Liu, 2020; Ningthoujam, 2020; Tomar and Gupta, 2020). However, the former has been documented to be a more prevalent form of transmission, so an effective mask must be worn to obstruct the transmission of the virus and block its spread when conducting daily life activities (Bałazy et al., 2006; MacIntyre and Chughtai, 2020). This has led to the unprecedented demand and shortage of masks, along with the problem of ineffective masks. On the one hand, there are a variety of different masks on the market. Although most commercially available masks claim effectiveness against contact with airborne particles, their actual performance has not been tested adequately. For example, Cheng (2020) reported that there was no quality control in face mask production in Pakistan. In Italy, in order to meet the huge demand of face masks, some industries have reset the production chain, shifting from the usual target products to the production of masks. However, the quality of the masks is questionable and needs to be tested (Amendola et al., 2020). In addition, Lam et al. (2020) examined 160 mask brands on the market and found that 48.8% of them were substandard and/or invalid. With COVID-19 as an urgent public health issue now, it has become imperative to test and validate the performance of these masks with reliable testing equipment. On the other hand, COVID-19 has led to the unprecedented demand for masks, which has resulted in a shortage of materials to fabricate them. Moreover, most of the masks currently found on the market are disposable (i.e., surgical, N95 and KF94 masks). \\nThe widespread use of such disposable masks is having a detrimental effect on the environment, as additional resources and human resources are needed to properly dispose of used masks which might otherwise end up in the oceans or landfills. As such, it is timely to develop effective yet reusable masks, not only to address the needs of the current epidemic but also to conserve resources. One of the key parameters of masks is their particle filtration efficiency (PFE) which reflects the ability of masks and/or filters to block the inhalation of different types of particles. Basically, PFE testing follows the methods stipulated in various standards, which include ASTM F2299 (the United States) and YY 0469-2011/GB19083-2010 (Chinese), and the standard provided by the National Institute for Occupational Safety and Health (NIOSH). In ASTM F2299, polystyrene latex (PSL) particles of a specific size are used to evaluate the PFE of a material. Although the applicable particle size range is from 0.1 µm to 5.0 µm, PSL particles of 0.1 µm are generally used for testing as it is the most penetrating particle size. In YY 0469-2011, sodium chloride (NaCl) particles that range from 0.01 µm to 1.0 µm are used as the index in PFE testing of masks, while the NIOSH standard is used to test masks to filter NaCl particles that are 0.3 µm in size. Although these standard methods provide basic instructions and parameters for PFE testing, they do not offer specific settings for testing systems and details of the equipment involved. Moreover, some of the standard methods have limitations. For instance, a device that is recommended for measuring particle concentration (an optical particle counter (OPC)) is low in accuracy and size-resolution (Rengasamy et al., 2011). Moreover, the standards do not strictly stipulate the size of the particles to be tested, thus resulting in differences and uncertainties in the results with the different testing agents and systems. '), Evidence(question='What is the effectiveness of N95 masks in preventing aerosol transmission?', answer='N95 respirators are preferable to ill-fitting cloth masks when it comes to filtering out minuscule viral aerosols.', url='https://washmo.gov/wp-content/uploads/2020/08/Special-Meeting-Packet-08-19-20.pdf', scraped_text=\"are concerned that many people do not understand the very limited degree of protection a cloth  mask or face covering likely offers as source control for people located nearby.  Despite the current limited scientific data detailing their effectiveness, we support the wearing of face coverings by the public when mandated and when in close contact with people whose infection  status they don't know. However, we also encourage everyone to continue to limit their time spent  indoors near potentially infectious people and to not count on or expect a cloth mask or face  covering to protect them or the people around them. The pandemic is not over and will not likely be  over for some time. As states and local jurisdictions reopen, we encourage people to continue to  assess and limit their risks. Cloth masks and face coverings likely do not offer the same degree of  protection as physical distancing, isolation, or limiting personal contact time.  Will face coverings 'flatten the curve' and stop the pandemic?  We have reviewed the many modeling studies that purport to demonstrate that cloth masks or face  coverings have the potential for flattening the curve or significantly decrease the number of cases. These studies fail to recognize several important facts:  • The filter performance of a cloth material does not directly translate or represent its performance on an individual, because it neglects the understanding of fit.  • Cloth masks or coverings come in a variety of shapes, sizes, and materials and are not made  • Transmission is not simply a function of short random interactions between individuals, but  rather a function of particle concentration in the air and the time exposed to that concentration.  • A cloth mask or face covering does very little to prevent the emission or inhalation of small  particles. As discussed in an earlier CIDRAP commenta1y_(http, ://www.cidrap.umn.edu/n ws- perspective/2.020/03/commentary-covid-19-transmission-messages-should-l1inge-science)_and more recently by \\nMorawska and Milton (2020) in an open letter to WHO signed by 239 scientists, inhalation of  https://www.cidrap. umn. ed u/news-perspective/2020/04/commenta ry-masks-all-covid-19-not-based-sound-data ? COMMENTARY: Masks-for-all for COVID-19 not based on sound data I CIDRAP  small infectious particles is not only biologically plausible, but the epidemiology supports it as an important mode of transmission for SARS-CoV-2, the virus that causes COVID-19.  In summary, though we support mask wearing by the general public, we continue to conclude that  cloth masks and face coverings are likely to have limited impact on lowering COVID-19  transmission, because they have minimal ability to prevent the emission of small particles, offer  limited personal protection with respect to small particle inhalation, and should not be  recommended as a replacement for physical distancing or reducing time in enclosed spaces with  many potentially infectious people. We are very concerned about messaging that suggests cloth  masks or face coverings can replace physical distancing. We also worry that the public doesn't  understand the limitations of cloth masks and face coverings when we observe how many people  wear their mask under their nose or even under their mouth, remove their masks when talking to  someone nearby, or fail to practice physical distancing when wearing a mask.  Anfinrud P, Stadnytskyi V, Bax CE, et al. Visualizing..s.12eech-generated oral fluid dropl ts with  laser light scattering_(httRs://www.nejm.org/doi/full/lo.1056/nejmc2007.8oo)_. N Engl J Med 2020 (published Davies A, Thompson KA, Giri K, et al. Testing-tl-1~= =  protect in an influenza pandemic? (httRs://www.cambridge.org/core/jonrnals/disa. ter-medicine-and-Rublic-health- P.reµ.arednes. /article/testing-the-efficac -of-homemade-ruasks-would-they.:protect-·in-an-influe111.a- P.anclemic/0921Ao5A69A9.419C862FA2F35F819.D55)_Disaster Med Public Health Prep 2013 Aug;7(4):413-8  \\nGreen CF, Davidson CS, Panlilio AL, et al. Effecti eness of elected surgical mask in arre t ing  vegetative c 11 and endospores when worn bY. simulated contagious 12atients  (httP.s://www.cambridge.org~journals/infection-contrnl-and-hosP.ital-eP.idemiologx/article/effectivene.ss-of-selected- surgical-masks-i n-arresti ng-veg tativc-cel ls-and- ndo, QOres-1 hen-worn-bY.-sim u lated-contagious- P-atients/BFC344C3AE4D99~43B1FF0644Bqt4) . Infect Control Hosp Epidemiol 2012 May;33(5):487-94  Johnson DF, Druce JD, Birch C, et al. A g,uantitative assessment of the efficacY. of surgical and  N95 masks to filter influenza virus in patients with acute influenza infection  {https:/ja ·ademic.ouJ)..tom/cid/articlefa9~7.5L4.Q5108)_. Clin Infect Dis 2009 Jul 15;49(2):275-7  Konda A, Prakash A, Moss GA, et al. A rosol filtration ffici nc of common fabrics used in  respiratory'. cloth masks (http..§.;1./P-ubs.acs.org/doi/10.1021/acsnano.oco3g5g)_. ACS Nano. 2020 (published Leung NHL, Chu DKW, Shiu EYC, et al. ResP-iratory: virus shedding in exhaled breath and  efficacY. of face masks (https://www.natur a.com/articl s/s41591-020-0843-2)_. Nat Med 2020 (published Ma QX, Shan H, Zhang HL, et al. Potential utiliti ., of mask-wearing and instant hand hygiene  for fighting SARS-CoV-2 (httg. ://onlin library.wil Y.,Com/doi/(uU/10.1002/jmv.25805)_. J Med Virol 2020 Morawska L, Milton DK. It is time to address airborne transmission of COVID-19. Clin Infect Dis  https://www.cidrap.umn.edu/news-perspective/2020/04/commentary-masks-all-covid-19-not-based-sound-data ?fbcl id=lwAR 1 zw5R04z_ NePM6GZw... COMMENTARY: Masks-for-all for COVID-19 not based on sound data I CIDRAP  National Academies of Sciences, Engineering, and Medicine. 2020. RaP-id exP-ert  consultation on the effectiv ness of fabric masks for the CO  .(httP.S: I (www .naP..edu/ catalogf.257-7-6 /rapid- ,·gert-consu ltation-on-the-effectiveness-of-fa bric-ma. k -for-the-covid-19.: P.andemic-aP.ril-8-2020)_. Washington, DC, National Academies Press. Apr 8, 2020  \"), Evidence(question='What is the general consensus among scientists about aerosol transmission of COVID-19?', answer='Many scientists argue that the spread of COVID-19 by aerosols is both real and dangerous.', url='https://washmo.gov/wp-content/uploads/2020/08/Special-Meeting-Packet-08-19-20.pdf', scraped_text=\"are concerned that many people do not understand the very limited degree of protection a cloth  mask or face covering likely offers as source control for people located nearby.  Despite the current limited scientific data detailing their effectiveness, we support the wearing of face coverings by the public when mandated and when in close contact with people whose infection  status they don't know. However, we also encourage everyone to continue to limit their time spent  indoors near potentially infectious people and to not count on or expect a cloth mask or face  covering to protect them or the people around them. The pandemic is not over and will not likely be  over for some time. As states and local jurisdictions reopen, we encourage people to continue to  assess and limit their risks. Cloth masks and face coverings likely do not offer the same degree of  protection as physical distancing, isolation, or limiting personal contact time.  Will face coverings 'flatten the curve' and stop the pandemic?  We have reviewed the many modeling studies that purport to demonstrate that cloth masks or face  coverings have the potential for flattening the curve or significantly decrease the number of cases. These studies fail to recognize several important facts:  • The filter performance of a cloth material does not directly translate or represent its performance on an individual, because it neglects the understanding of fit.  • Cloth masks or coverings come in a variety of shapes, sizes, and materials and are not made  • Transmission is not simply a function of short random interactions between individuals, but  rather a function of particle concentration in the air and the time exposed to that concentration.  • A cloth mask or face covering does very little to prevent the emission or inhalation of small  particles. As discussed in an earlier CIDRAP commenta1y_(http, ://www.cidrap.umn.edu/n ws- perspective/2.020/03/commentary-covid-19-transmission-messages-should-l1inge-science)_and more recently by \\nMorawska and Milton (2020) in an open letter to WHO signed by 239 scientists, inhalation of  https://www.cidrap. umn. ed u/news-perspective/2020/04/commenta ry-masks-all-covid-19-not-based-sound-data ? COMMENTARY: Masks-for-all for COVID-19 not based on sound data I CIDRAP  small infectious particles is not only biologically plausible, but the epidemiology supports it as an important mode of transmission for SARS-CoV-2, the virus that causes COVID-19.  In summary, though we support mask wearing by the general public, we continue to conclude that  cloth masks and face coverings are likely to have limited impact on lowering COVID-19  transmission, because they have minimal ability to prevent the emission of small particles, offer  limited personal protection with respect to small particle inhalation, and should not be  recommended as a replacement for physical distancing or reducing time in enclosed spaces with  many potentially infectious people. We are very concerned about messaging that suggests cloth  masks or face coverings can replace physical distancing. We also worry that the public doesn't  understand the limitations of cloth masks and face coverings when we observe how many people  wear their mask under their nose or even under their mouth, remove their masks when talking to  someone nearby, or fail to practice physical distancing when wearing a mask.  Anfinrud P, Stadnytskyi V, Bax CE, et al. Visualizing..s.12eech-generated oral fluid dropl ts with  laser light scattering_(httRs://www.nejm.org/doi/full/lo.1056/nejmc2007.8oo)_. N Engl J Med 2020 (published Davies A, Thompson KA, Giri K, et al. Testing-tl-1~= =  protect in an influenza pandemic? (httRs://www.cambridge.org/core/jonrnals/disa. ter-medicine-and-Rublic-health- P.reµ.arednes. /article/testing-the-efficac -of-homemade-ruasks-would-they.:protect-·in-an-influe111.a- P.anclemic/0921Ao5A69A9.419C862FA2F35F819.D55)_Disaster Med Public Health Prep 2013 Aug;7(4):413-8  \\nGreen CF, Davidson CS, Panlilio AL, et al. Effecti eness of elected surgical mask in arre t ing  vegetative c 11 and endospores when worn bY. simulated contagious 12atients  (httP.s://www.cambridge.org~journals/infection-contrnl-and-hosP.ital-eP.idemiologx/article/effectivene.ss-of-selected- surgical-masks-i n-arresti ng-veg tativc-cel ls-and- ndo, QOres-1 hen-worn-bY.-sim u lated-contagious- P-atients/BFC344C3AE4D99~43B1FF0644Bqt4) . Infect Control Hosp Epidemiol 2012 May;33(5):487-94  Johnson DF, Druce JD, Birch C, et al. A g,uantitative assessment of the efficacY. of surgical and  N95 masks to filter influenza virus in patients with acute influenza infection  {https:/ja ·ademic.ouJ)..tom/cid/articlefa9~7.5L4.Q5108)_. Clin Infect Dis 2009 Jul 15;49(2):275-7  Konda A, Prakash A, Moss GA, et al. A rosol filtration ffici nc of common fabrics used in  respiratory'. cloth masks (http..§.;1./P-ubs.acs.org/doi/10.1021/acsnano.oco3g5g)_. ACS Nano. 2020 (published Leung NHL, Chu DKW, Shiu EYC, et al. ResP-iratory: virus shedding in exhaled breath and  efficacY. of face masks (https://www.natur a.com/articl s/s41591-020-0843-2)_. Nat Med 2020 (published Ma QX, Shan H, Zhang HL, et al. Potential utiliti ., of mask-wearing and instant hand hygiene  for fighting SARS-CoV-2 (httg. ://onlin library.wil Y.,Com/doi/(uU/10.1002/jmv.25805)_. J Med Virol 2020 Morawska L, Milton DK. It is time to address airborne transmission of COVID-19. Clin Infect Dis  https://www.cidrap.umn.edu/news-perspective/2020/04/commentary-masks-all-covid-19-not-based-sound-data ?fbcl id=lwAR 1 zw5R04z_ NePM6GZw... COMMENTARY: Masks-for-all for COVID-19 not based on sound data I CIDRAP  National Academies of Sciences, Engineering, and Medicine. 2020. RaP-id exP-ert  consultation on the effectiv ness of fabric masks for the CO  .(httP.S: I (www .naP..edu/ catalogf.257-7-6 /rapid- ,·gert-consu ltation-on-the-effectiveness-of-fa bric-ma. k -for-the-covid-19.: P.andemic-aP.ril-8-2020)_. Washington, DC, National Academies Press. Apr 8, 2020  \"), Evidence(question='What is the stance of the CDC and WHO on aerosol transmission?', answer='The CDC and WHO have only recently allowed that aerosol spread is possible, not necessarily likely.', url='https://washmo.gov/wp-content/uploads/2020/08/Special-Meeting-Packet-08-19-20.pdf', scraped_text=\"are concerned that many people do not understand the very limited degree of protection a cloth  mask or face covering likely offers as source control for people located nearby.  Despite the current limited scientific data detailing their effectiveness, we support the wearing of face coverings by the public when mandated and when in close contact with people whose infection  status they don't know. However, we also encourage everyone to continue to limit their time spent  indoors near potentially infectious people and to not count on or expect a cloth mask or face  covering to protect them or the people around them. The pandemic is not over and will not likely be  over for some time. As states and local jurisdictions reopen, we encourage people to continue to  assess and limit their risks. Cloth masks and face coverings likely do not offer the same degree of  protection as physical distancing, isolation, or limiting personal contact time.  Will face coverings 'flatten the curve' and stop the pandemic?  We have reviewed the many modeling studies that purport to demonstrate that cloth masks or face  coverings have the potential for flattening the curve or significantly decrease the number of cases. These studies fail to recognize several important facts:  • The filter performance of a cloth material does not directly translate or represent its performance on an individual, because it neglects the understanding of fit.  • Cloth masks or coverings come in a variety of shapes, sizes, and materials and are not made  • Transmission is not simply a function of short random interactions between individuals, but  rather a function of particle concentration in the air and the time exposed to that concentration.  • A cloth mask or face covering does very little to prevent the emission or inhalation of small  particles. As discussed in an earlier CIDRAP commenta1y_(http, ://www.cidrap.umn.edu/n ws- perspective/2.020/03/commentary-covid-19-transmission-messages-should-l1inge-science)_and more recently by \\nMorawska and Milton (2020) in an open letter to WHO signed by 239 scientists, inhalation of  https://www.cidrap. umn. ed u/news-perspective/2020/04/commenta ry-masks-all-covid-19-not-based-sound-data ? COMMENTARY: Masks-for-all for COVID-19 not based on sound data I CIDRAP  small infectious particles is not only biologically plausible, but the epidemiology supports it as an important mode of transmission for SARS-CoV-2, the virus that causes COVID-19.  In summary, though we support mask wearing by the general public, we continue to conclude that  cloth masks and face coverings are likely to have limited impact on lowering COVID-19  transmission, because they have minimal ability to prevent the emission of small particles, offer  limited personal protection with respect to small particle inhalation, and should not be  recommended as a replacement for physical distancing or reducing time in enclosed spaces with  many potentially infectious people. We are very concerned about messaging that suggests cloth  masks or face coverings can replace physical distancing. We also worry that the public doesn't  understand the limitations of cloth masks and face coverings when we observe how many people  wear their mask under their nose or even under their mouth, remove their masks when talking to  someone nearby, or fail to practice physical distancing when wearing a mask.  Anfinrud P, Stadnytskyi V, Bax CE, et al. Visualizing..s.12eech-generated oral fluid dropl ts with  laser light scattering_(httRs://www.nejm.org/doi/full/lo.1056/nejmc2007.8oo)_. N Engl J Med 2020 (published Davies A, Thompson KA, Giri K, et al. Testing-tl-1~= =  protect in an influenza pandemic? (httRs://www.cambridge.org/core/jonrnals/disa. ter-medicine-and-Rublic-health- P.reµ.arednes. /article/testing-the-efficac -of-homemade-ruasks-would-they.:protect-·in-an-influe111.a- P.anclemic/0921Ao5A69A9.419C862FA2F35F819.D55)_Disaster Med Public Health Prep 2013 Aug;7(4):413-8  \\nGreen CF, Davidson CS, Panlilio AL, et al. Effecti eness of elected surgical mask in arre t ing  vegetative c 11 and endospores when worn bY. simulated contagious 12atients  (httP.s://www.cambridge.org~journals/infection-contrnl-and-hosP.ital-eP.idemiologx/article/effectivene.ss-of-selected- surgical-masks-i n-arresti ng-veg tativc-cel ls-and- ndo, QOres-1 hen-worn-bY.-sim u lated-contagious- P-atients/BFC344C3AE4D99~43B1FF0644Bqt4) . Infect Control Hosp Epidemiol 2012 May;33(5):487-94  Johnson DF, Druce JD, Birch C, et al. A g,uantitative assessment of the efficacY. of surgical and  N95 masks to filter influenza virus in patients with acute influenza infection  {https:/ja ·ademic.ouJ)..tom/cid/articlefa9~7.5L4.Q5108)_. Clin Infect Dis 2009 Jul 15;49(2):275-7  Konda A, Prakash A, Moss GA, et al. A rosol filtration ffici nc of common fabrics used in  respiratory'. cloth masks (http..§.;1./P-ubs.acs.org/doi/10.1021/acsnano.oco3g5g)_. ACS Nano. 2020 (published Leung NHL, Chu DKW, Shiu EYC, et al. ResP-iratory: virus shedding in exhaled breath and  efficacY. of face masks (https://www.natur a.com/articl s/s41591-020-0843-2)_. Nat Med 2020 (published Ma QX, Shan H, Zhang HL, et al. Potential utiliti ., of mask-wearing and instant hand hygiene  for fighting SARS-CoV-2 (httg. ://onlin library.wil Y.,Com/doi/(uU/10.1002/jmv.25805)_. J Med Virol 2020 Morawska L, Milton DK. It is time to address airborne transmission of COVID-19. Clin Infect Dis  https://www.cidrap.umn.edu/news-perspective/2020/04/commentary-masks-all-covid-19-not-based-sound-data ?fbcl id=lwAR 1 zw5R04z_ NePM6GZw... COMMENTARY: Masks-for-all for COVID-19 not based on sound data I CIDRAP  National Academies of Sciences, Engineering, and Medicine. 2020. RaP-id exP-ert  consultation on the effectiv ness of fabric masks for the CO  .(httP.S: I (www .naP..edu/ catalogf.257-7-6 /rapid- ,·gert-consu ltation-on-the-effectiveness-of-fa bric-ma. k -for-the-covid-19.: P.andemic-aP.ril-8-2020)_. Washington, DC, National Academies Press. Apr 8, 2020  \"), Evidence(question='What are the limitations of cloth masks according to the sources?', answer='Cloth masks have minimal ability to prevent the emission or inhalation of small particles and should not replace physical distancing.', url='https://aaqr.org/articles/aaqr-20-06-covid-0275', scraped_text='The unprecedented demand for masks has now attracted attention on their filtration efficiency. Furthermore, the widespread use of disposable masks has led to shortage of filter materials and problems with their haphazard disposal. In this study, a testing system that is based on standardized methods has been established and enhanced to reliably measure the particle filtration efficiency (PFE) of masks. Quality control experiments that examine the filtration efficiency of polystyrene latex (PSL) particles that are 0.1 µm in size and sodium chloride (NaCl) particles that range from 0.01–1.0 µm are conducted to determine the reliability of the testing system. Moreover, various textile materials are tested to fabricate 3-layer face masks, and the PFE of these masks is tested by using the proposed testing system to find the most suitable materials and the likelihood of their reusability. Among the tested materials, polytetrafluoroethylene (PTFE) used as the membrane in the filter layer has the highest PFE of 88.33% ± 1.80%, which is mainly due to its dense and multilayer structure. The air permeability of the self-developed masks ranges from 1.41 ± 0.04 to 1.93 ± 0.08, less breathable than the commercial masks. The reusability of a mask that uses PTFE as the membrane in the filter layer is tested by gently washing the mask 30 times and then drying the mask in air before the PFE is measured. The PFE is only reduced by 10–20% after 30 washes, thus indicating the potential reusability of the mask. The findings in this study will contribute to reducing the pressure of mask shortages and are an environmentally friendly solution to the massive use of disposable masks. Keywords: COVID-19; Mask testing system; Reusable mask; Particle filtration efficiency. The new coronavirus (COVID-19) has become a global public health concern because it is highly contagious with severe or even fatal health consequences. With the rapid spread of COVID-19, self-protection has become crucial to avoid contracting this disease. \\nAs a highly infectious disease, the two main routes of transmission include direct transmission (e.g., spraying droplets emitted from aerosolized particles through sneezing, coughing or talking), and indirect transmission (contact with surfaces that contain the virus or objects that have been in contact with an infected individual) (Liu, 2020; Ningthoujam, 2020; Tomar and Gupta, 2020). However, the former has been documented to be a more prevalent form of transmission, so an effective mask must be worn to obstruct the transmission of the virus and block its spread when conducting daily life activities (Bałazy et al., 2006; MacIntyre and Chughtai, 2020). This has led to the unprecedented demand and shortage of masks, along with the problem of ineffective masks. On the one hand, there are a variety of different masks on the market. Although most commercially available masks claim effectiveness against contact with airborne particles, their actual performance has not been tested adequately. For example, Cheng (2020) reported that there was no quality control in face mask production in Pakistan. In Italy, in order to meet the huge demand of face masks, some industries have reset the production chain, shifting from the usual target products to the production of masks. However, the quality of the masks is questionable and needs to be tested (Amendola et al., 2020). In addition, Lam et al. (2020) examined 160 mask brands on the market and found that 48.8% of them were substandard and/or invalid. With COVID-19 as an urgent public health issue now, it has become imperative to test and validate the performance of these masks with reliable testing equipment. On the other hand, COVID-19 has led to the unprecedented demand for masks, which has resulted in a shortage of materials to fabricate them. Moreover, most of the masks currently found on the market are disposable (i.e., surgical, N95 and KF94 masks). \\nThe widespread use of such disposable masks is having a detrimental effect on the environment, as additional resources and human resources are needed to properly dispose of used masks which might otherwise end up in the oceans or landfills. As such, it is timely to develop effective yet reusable masks, not only to address the needs of the current epidemic but also to conserve resources. One of the key parameters of masks is their particle filtration efficiency (PFE) which reflects the ability of masks and/or filters to block the inhalation of different types of particles. Basically, PFE testing follows the methods stipulated in various standards, which include ASTM F2299 (the United States) and YY 0469-2011/GB19083-2010 (Chinese), and the standard provided by the National Institute for Occupational Safety and Health (NIOSH). In ASTM F2299, polystyrene latex (PSL) particles of a specific size are used to evaluate the PFE of a material. Although the applicable particle size range is from 0.1 µm to 5.0 µm, PSL particles of 0.1 µm are generally used for testing as it is the most penetrating particle size. In YY 0469-2011, sodium chloride (NaCl) particles that range from 0.01 µm to 1.0 µm are used as the index in PFE testing of masks, while the NIOSH standard is used to test masks to filter NaCl particles that are 0.3 µm in size. Although these standard methods provide basic instructions and parameters for PFE testing, they do not offer specific settings for testing systems and details of the equipment involved. Moreover, some of the standard methods have limitations. For instance, a device that is recommended for measuring particle concentration (an optical particle counter (OPC)) is low in accuracy and size-resolution (Rengasamy et al., 2011). Moreover, the standards do not strictly stipulate the size of the particles to be tested, thus resulting in differences and uncertainties in the results with the different testing agents and systems. '), Evidence(question='What evidence exists regarding the effectiveness of masks in reducing COVID-19 transmission?', answer='Studies have shown that masks could reduce transmission by somewhere between 50% and 85%.', url='https://journals.plos.org/plosone/article?id=10.1371/journal.pone.0237691', scraped_text=\"A log transformed analysis is conducted to evaluate the growth rate of COVID-19 infections. ANOVA analysis is used to analyze the group effect. The p value is less than 2e-16 for the log 2 transformed case comparison, suggesting that the two groups are statistically significantly different. The Asian mask-wearing group clearly has lower growth rates of COVID-19 cases compared to the non-mask-wearing group. Thailand has the highest growth rate among the mask-wearing groups. However, the differences in the growth rate of confirmed cases between these two groups cannot be fully attributed to mask-wearing, but arise from many factors, such as clinical tests performed, complicated social, economic, and cultural differences, and varied public health polices enforcement. The preliminary comparison only provides the rationale to further evaluate if wearing masks is effective for controlling the infectious disease outbreak. Our study has six major assumptions with preliminary evidence. First, the SARS-CoV-2 transmission pathway includes airborne [1, 8, 22–24] with an R0 value exceeding that of influenza and SARS [16, 32, 33]. Second, a proportion of infected cases could be asymptomatic [36, 38, 46, 47]. Third, asymptomatic individuals could transfer the virus in the community [48, 49, 82]. Fourth, the public awareness of mask usage may increase as the pandemic spreads [64]. Fifth, the market could respond to consumer demand with a production increase and without supply chain problems [67]. Sixth, homemade cloth masks are not as effective as commercial medical masks [57, 60]. Thus, we project the best scenario as the pandemic spreads and by the end of the outbreak, the general population will be willing to wear a mask. Although wearing a mask is a low-cost and non-disruptive measure, wearing a mask has not been culturally widespread in many parts of the world [83]. Furthermore, for non-certified medical masks, individual errors could lead to ineffective mask fitting, which could reduce the benefit of wearing a mask [84]. \\nThere are limitations to those six assumptions. First, a recent study suggested that the virus was detected on the outer layer of COVID-19 patients' masks [85], which could invalidate the utility of a patient wearing a mask. However, although the virus was detected, the mask could still provide prevention by reducing the virus load to an adjacent healthy individual. Further studies on asymptomatic individuals wearing masks could be more convincing to validate the effectiveness of wearing a mask to prevent pre-symptomatic transmission. Second, we assume random mixing and model the general population, but have not taken account children's role. Children are less likely to wear masks consistently to realize mask effectiveness. At the same time, the role of children in COVID-19 transmission is unclear [86]. Third, we assume the willing individual who has a mask can use the mask in the right manner and follow social distancing and other personal hygiene practices. There are discrepancies between willingness, perceived compliance, and real compliance [87]. Fourth, research shows that masks can be a source of contamination if not disposed of or replaced in timely manner The COVID-19 pandemic has created a global crisis. Prevention such as vaccines is one of the most effective measures to mitigate such a catastrophic public health crisis. Prior to an available vaccine, NPIs such as wearing a mask can potentially reduce the virus transmission rate. Recent modeling studies suggest that timely and comprehensive NPIs are needed to prevent a secondary wave of COVID-19 [89]. However, timely implementations of NPI such as wearing a mask call for public awareness, a readily available market stockpile, and government advocacy and policies. For respiratory diseases caused by a rival agent through aerosol and droplet transmission routes, wearing masks could be a reasonable NPI to reduce the virus transmission efficiency and secondary transmission [5, 89]. \\nHowever, masks do not replace social distancing and other personal hygiene practices, such as hand washing. The effectiveness of any NPIs depends on compliance rates, contact rate reduction, the role of children, and asymptomatic cases in transmission. Our model analyzes the impact of wearing a mask that can efficiently filter viral aerosols during the COVID-19 pandemic in the general population. Our study suggests that wearing a quality mask in combination with other NPIs can support hospital resource management during a pandemic. In a free market, the risks of not having enough masks for the general population may negatively impact timely responses to the outbreak. Appropriate public health policies and government subsidies could be necessary to manage similar crises in the future. Future studies on how to improve adherence and compliance rates will better position society for potential future respiratory disease outbreaks when the viral agent has a similar clinical attack rate. - 1. Feng S, Shen C, Xia N, Song W, Fan M, Cowling BJ. Rational use of face masks in the COVID-19 pandemic. Lancet Respir Med. 2020. Epub 2020/03/24. pmid:32203710. - 2. Cowling BJ, Zhou Y, Ip DK, Leung GM, Aiello AE. Face masks to prevent transmission of influenza virus: a systematic review. Epidemiol Infect. 2010;138(4):449–56. Epub 2010/01/23. pmid:20092668. - 3. Brienen NC, Timen A, Wallinga J, van Steenbergen JE, Teunis PF. The effect of mask use on the spread of influenza during a pandemic. Risk Anal. 2010;30(8):1210–8. Epub 2010/05/26. pmid:20497389. - 4. Zhang L, Peng Z, Ou J, Zeng G, Fontaine RE, Liu M, et al. Protection by face masks against influenza A(H1N1)pdm09 virus on trans-Pacific passenger aircraft, 2009. Emerg Infect Dis. 2013;19(9). Epub 2013/08/24. pmid:23968983; PubMed Central PMCID: PMC3810906. - 5. Larson EL, Ferng YH, Wong-McLoughlin J, Wang S, Haber M, Morse SS. Impact of non-pharmaceutical interventions on URIs and influenza in crowded, urban households. \"), Evidence(question='What are the findings of studies on mask-wearing in countries with low COVID-19 death rates?', answer='Countries that quickly adopted masking, along with other control measures, have reported fewer deaths per million residents.', url='https://journals.plos.org/plosone/article?id=10.1371/journal.pone.0237691', scraped_text=\"A log transformed analysis is conducted to evaluate the growth rate of COVID-19 infections. ANOVA analysis is used to analyze the group effect. The p value is less than 2e-16 for the log 2 transformed case comparison, suggesting that the two groups are statistically significantly different. The Asian mask-wearing group clearly has lower growth rates of COVID-19 cases compared to the non-mask-wearing group. Thailand has the highest growth rate among the mask-wearing groups. However, the differences in the growth rate of confirmed cases between these two groups cannot be fully attributed to mask-wearing, but arise from many factors, such as clinical tests performed, complicated social, economic, and cultural differences, and varied public health polices enforcement. The preliminary comparison only provides the rationale to further evaluate if wearing masks is effective for controlling the infectious disease outbreak. Our study has six major assumptions with preliminary evidence. First, the SARS-CoV-2 transmission pathway includes airborne [1, 8, 22–24] with an R0 value exceeding that of influenza and SARS [16, 32, 33]. Second, a proportion of infected cases could be asymptomatic [36, 38, 46, 47]. Third, asymptomatic individuals could transfer the virus in the community [48, 49, 82]. Fourth, the public awareness of mask usage may increase as the pandemic spreads [64]. Fifth, the market could respond to consumer demand with a production increase and without supply chain problems [67]. Sixth, homemade cloth masks are not as effective as commercial medical masks [57, 60]. Thus, we project the best scenario as the pandemic spreads and by the end of the outbreak, the general population will be willing to wear a mask. Although wearing a mask is a low-cost and non-disruptive measure, wearing a mask has not been culturally widespread in many parts of the world [83]. Furthermore, for non-certified medical masks, individual errors could lead to ineffective mask fitting, which could reduce the benefit of wearing a mask [84]. \\nThere are limitations to those six assumptions. First, a recent study suggested that the virus was detected on the outer layer of COVID-19 patients' masks [85], which could invalidate the utility of a patient wearing a mask. However, although the virus was detected, the mask could still provide prevention by reducing the virus load to an adjacent healthy individual. Further studies on asymptomatic individuals wearing masks could be more convincing to validate the effectiveness of wearing a mask to prevent pre-symptomatic transmission. Second, we assume random mixing and model the general population, but have not taken account children's role. Children are less likely to wear masks consistently to realize mask effectiveness. At the same time, the role of children in COVID-19 transmission is unclear [86]. Third, we assume the willing individual who has a mask can use the mask in the right manner and follow social distancing and other personal hygiene practices. There are discrepancies between willingness, perceived compliance, and real compliance [87]. Fourth, research shows that masks can be a source of contamination if not disposed of or replaced in timely manner The COVID-19 pandemic has created a global crisis. Prevention such as vaccines is one of the most effective measures to mitigate such a catastrophic public health crisis. Prior to an available vaccine, NPIs such as wearing a mask can potentially reduce the virus transmission rate. Recent modeling studies suggest that timely and comprehensive NPIs are needed to prevent a secondary wave of COVID-19 [89]. However, timely implementations of NPI such as wearing a mask call for public awareness, a readily available market stockpile, and government advocacy and policies. For respiratory diseases caused by a rival agent through aerosol and droplet transmission routes, wearing masks could be a reasonable NPI to reduce the virus transmission efficiency and secondary transmission [5, 89]. \\nHowever, masks do not replace social distancing and other personal hygiene practices, such as hand washing. The effectiveness of any NPIs depends on compliance rates, contact rate reduction, the role of children, and asymptomatic cases in transmission. Our model analyzes the impact of wearing a mask that can efficiently filter viral aerosols during the COVID-19 pandemic in the general population. Our study suggests that wearing a quality mask in combination with other NPIs can support hospital resource management during a pandemic. In a free market, the risks of not having enough masks for the general population may negatively impact timely responses to the outbreak. Appropriate public health policies and government subsidies could be necessary to manage similar crises in the future. Future studies on how to improve adherence and compliance rates will better position society for potential future respiratory disease outbreaks when the viral agent has a similar clinical attack rate. - 1. Feng S, Shen C, Xia N, Song W, Fan M, Cowling BJ. Rational use of face masks in the COVID-19 pandemic. Lancet Respir Med. 2020. Epub 2020/03/24. pmid:32203710. - 2. Cowling BJ, Zhou Y, Ip DK, Leung GM, Aiello AE. Face masks to prevent transmission of influenza virus: a systematic review. Epidemiol Infect. 2010;138(4):449–56. Epub 2010/01/23. pmid:20092668. - 3. Brienen NC, Timen A, Wallinga J, van Steenbergen JE, Teunis PF. The effect of mask use on the spread of influenza during a pandemic. Risk Anal. 2010;30(8):1210–8. Epub 2010/05/26. pmid:20497389. - 4. Zhang L, Peng Z, Ou J, Zeng G, Fontaine RE, Liu M, et al. Protection by face masks against influenza A(H1N1)pdm09 virus on trans-Pacific passenger aircraft, 2009. Emerg Infect Dis. 2013;19(9). Epub 2013/08/24. pmid:23968983; PubMed Central PMCID: PMC3810906. - 5. Larson EL, Ferng YH, Wong-McLoughlin J, Wang S, Haber M, Morse SS. Impact of non-pharmaceutical interventions on URIs and influenza in crowded, urban households. \"), Evidence(question='What is the impact of mask mandates in the U.S. according to studies?', answer='States with a mandate had a more rapid decline in daily growth rates of COVID-19 and mask use prevented up to 450,000 cases of COVID-19 by May 22, 2020.', url='https://journals.plos.org/plosone/article?id=10.1371/journal.pone.0237691', scraped_text=\"A log transformed analysis is conducted to evaluate the growth rate of COVID-19 infections. ANOVA analysis is used to analyze the group effect. The p value is less than 2e-16 for the log 2 transformed case comparison, suggesting that the two groups are statistically significantly different. The Asian mask-wearing group clearly has lower growth rates of COVID-19 cases compared to the non-mask-wearing group. Thailand has the highest growth rate among the mask-wearing groups. However, the differences in the growth rate of confirmed cases between these two groups cannot be fully attributed to mask-wearing, but arise from many factors, such as clinical tests performed, complicated social, economic, and cultural differences, and varied public health polices enforcement. The preliminary comparison only provides the rationale to further evaluate if wearing masks is effective for controlling the infectious disease outbreak. Our study has six major assumptions with preliminary evidence. First, the SARS-CoV-2 transmission pathway includes airborne [1, 8, 22–24] with an R0 value exceeding that of influenza and SARS [16, 32, 33]. Second, a proportion of infected cases could be asymptomatic [36, 38, 46, 47]. Third, asymptomatic individuals could transfer the virus in the community [48, 49, 82]. Fourth, the public awareness of mask usage may increase as the pandemic spreads [64]. Fifth, the market could respond to consumer demand with a production increase and without supply chain problems [67]. Sixth, homemade cloth masks are not as effective as commercial medical masks [57, 60]. Thus, we project the best scenario as the pandemic spreads and by the end of the outbreak, the general population will be willing to wear a mask. Although wearing a mask is a low-cost and non-disruptive measure, wearing a mask has not been culturally widespread in many parts of the world [83]. Furthermore, for non-certified medical masks, individual errors could lead to ineffective mask fitting, which could reduce the benefit of wearing a mask [84]. \\nThere are limitations to those six assumptions. First, a recent study suggested that the virus was detected on the outer layer of COVID-19 patients' masks [85], which could invalidate the utility of a patient wearing a mask. However, although the virus was detected, the mask could still provide prevention by reducing the virus load to an adjacent healthy individual. Further studies on asymptomatic individuals wearing masks could be more convincing to validate the effectiveness of wearing a mask to prevent pre-symptomatic transmission. Second, we assume random mixing and model the general population, but have not taken account children's role. Children are less likely to wear masks consistently to realize mask effectiveness. At the same time, the role of children in COVID-19 transmission is unclear [86]. Third, we assume the willing individual who has a mask can use the mask in the right manner and follow social distancing and other personal hygiene practices. There are discrepancies between willingness, perceived compliance, and real compliance [87]. Fourth, research shows that masks can be a source of contamination if not disposed of or replaced in timely manner The COVID-19 pandemic has created a global crisis. Prevention such as vaccines is one of the most effective measures to mitigate such a catastrophic public health crisis. Prior to an available vaccine, NPIs such as wearing a mask can potentially reduce the virus transmission rate. Recent modeling studies suggest that timely and comprehensive NPIs are needed to prevent a secondary wave of COVID-19 [89]. However, timely implementations of NPI such as wearing a mask call for public awareness, a readily available market stockpile, and government advocacy and policies. For respiratory diseases caused by a rival agent through aerosol and droplet transmission routes, wearing masks could be a reasonable NPI to reduce the virus transmission efficiency and secondary transmission [5, 89]. \\nHowever, masks do not replace social distancing and other personal hygiene practices, such as hand washing. The effectiveness of any NPIs depends on compliance rates, contact rate reduction, the role of children, and asymptomatic cases in transmission. Our model analyzes the impact of wearing a mask that can efficiently filter viral aerosols during the COVID-19 pandemic in the general population. Our study suggests that wearing a quality mask in combination with other NPIs can support hospital resource management during a pandemic. In a free market, the risks of not having enough masks for the general population may negatively impact timely responses to the outbreak. Appropriate public health policies and government subsidies could be necessary to manage similar crises in the future. Future studies on how to improve adherence and compliance rates will better position society for potential future respiratory disease outbreaks when the viral agent has a similar clinical attack rate. - 1. Feng S, Shen C, Xia N, Song W, Fan M, Cowling BJ. Rational use of face masks in the COVID-19 pandemic. Lancet Respir Med. 2020. Epub 2020/03/24. pmid:32203710. - 2. Cowling BJ, Zhou Y, Ip DK, Leung GM, Aiello AE. Face masks to prevent transmission of influenza virus: a systematic review. Epidemiol Infect. 2010;138(4):449–56. Epub 2010/01/23. pmid:20092668. - 3. Brienen NC, Timen A, Wallinga J, van Steenbergen JE, Teunis PF. The effect of mask use on the spread of influenza during a pandemic. Risk Anal. 2010;30(8):1210–8. Epub 2010/05/26. pmid:20497389. - 4. Zhang L, Peng Z, Ou J, Zeng G, Fontaine RE, Liu M, et al. Protection by face masks against influenza A(H1N1)pdm09 virus on trans-Pacific passenger aircraft, 2009. Emerg Infect Dis. 2013;19(9). Epub 2013/08/24. pmid:23968983; PubMed Central PMCID: PMC3810906. - 5. Larson EL, Ferng YH, Wong-McLoughlin J, Wang S, Haber M, Morse SS. Impact of non-pharmaceutical interventions on URIs and influenza in crowded, urban households. \")], metadata={'suggested_label': array([0.3994863 , 0.05406459, 0.1469628 , 0.3994863 ]), 'llm_type': 'gpt-4o', 'llm_output': {'questions': [{'question': 'What is the primary mode of COVID-19 transmission?', 'answer': 'COVID-19 primarily spreads through respiratory droplets and aerosols.', 'source': '0'}, {'question': 'Do masks help in blocking respiratory droplets?', 'answer': 'Yes, masks block the spread of respiratory droplets that can carry the novel coronavirus.', 'source': '4'}, {'question': 'What is the effectiveness of cloth masks in preventing aerosol transmission?', 'answer': 'Cloth masks or face coverings likely do not offer the same degree of protection as physical distancing, isolation, or limiting personal contact time.', 'source': '1'}, {'question': 'What is the effectiveness of N95 masks in preventing aerosol transmission?', 'answer': 'N95 respirators are preferable to ill-fitting cloth masks when it comes to filtering out minuscule viral aerosols.', 'source': '2'}, {'question': 'What is the general consensus among scientists about aerosol transmission of COVID-19?', 'answer': 'Many scientists argue that the spread of COVID-19 by aerosols is both real and dangerous.', 'source': '2'}, {'question': 'What is the stance of the CDC and WHO on aerosol transmission?', 'answer': 'The CDC and WHO have only recently allowed that aerosol spread is possible, not necessarily likely.', 'source': '2'}, {'question': 'What are the limitations of cloth masks according to the sources?', 'answer': 'Cloth masks have minimal ability to prevent the emission or inhalation of small particles and should not replace physical distancing.', 'source': '1'}, {'question': 'What evidence exists regarding the effectiveness of masks in reducing COVID-19 transmission?', 'answer': 'Studies have shown that masks could reduce transmission by somewhere between 50% and 85%.', 'source': '4'}, {'question': 'What are the findings of studies on mask-wearing in countries with low COVID-19 death rates?', 'answer': 'Countries that quickly adopted masking, along with other control measures, have reported fewer deaths per million residents.', 'source': '4'}, {'question': 'What is the impact of mask mandates in the U.S. according to studies?', 'answer': 'States with a mandate had a more rapid decline in daily growth rates of COVID-19 and mask use prevented up to 450,000 cases of COVID-19 by May 22, 2020.', 'source': '4'}], 'claim_veracity': {'Supported': '2', 'Refuted': '4', 'Not Enough Evidence': '3', 'Conflicting Evidence/Cherrypicking': '4'}}}), retrieval_result=RetrievalResult(documents=[Document(metadata={'url': 'https://aaqr.org/articles/aaqr-20-06-covid-0275', 'context_before': 'The unprecedented demand for masks has now attracted attention on their filtration efficiency. Furthermore, the widespread use of disposable masks has led to shortage of filter materials and problems with their haphazard disposal. In this study, a testing system that is based on standardized methods has been established and enhanced to reliably measure the particle filtration efficiency (PFE) of masks. Quality control experiments that examine the filtration efficiency of polystyrene latex (PSL) particles that are 0.1 µm in size and sodium chloride (NaCl) particles that range from 0.01–1.0 µm are conducted to determine the reliability of the testing system. Moreover, various textile materials are tested to fabricate 3-layer face masks, and the PFE of these masks is tested by using the proposed testing system to find the most suitable materials and the likelihood of their reusability. Among the tested materials, polytetrafluoroethylene (PTFE) used as the membrane in the filter layer has the highest PFE of 88.33% ± 1.80%, which is mainly due to its dense and multilayer structure. The air permeability of the self-developed masks ranges from 1.41 ± 0.04 to 1.93 ± 0.08, less breathable than the commercial masks. The reusability of a mask that uses PTFE as the membrane in the filter layer is tested by gently washing the mask 30 times and then drying the mask in air before the PFE is measured. The PFE is only reduced by 10–20% after 30 washes, thus indicating the potential reusability of the mask. The findings in this study will contribute to reducing the pressure of mask shortages and are an environmentally friendly solution to the massive use of disposable masks. Keywords: COVID-19; Mask testing system; Reusable mask; Particle filtration efficiency. The new coronavirus (COVID-19) has become a global public health concern because it is highly contagious with severe or even fatal health consequences. With the rapid spread of COVID-19, self-protection has become crucial to avoid contracting this disease. ', 'context_after': 'The widespread use of such disposable masks is having a detrimental effect on the environment, as additional resources and human resources are needed to properly dispose of used masks which might otherwise end up in the oceans or landfills. As such, it is timely to develop effective yet reusable masks, not only to address the needs of the current epidemic but also to conserve resources. One of the key parameters of masks is their particle filtration efficiency (PFE) which reflects the ability of masks and/or filters to block the inhalation of different types of particles. Basically, PFE testing follows the methods stipulated in various standards, which include ASTM F2299 (the United States) and YY 0469-2011/GB19083-2010 (Chinese), and the standard provided by the National Institute for Occupational Safety and Health (NIOSH). In ASTM F2299, polystyrene latex (PSL) particles of a specific size are used to evaluate the PFE of a material. Although the applicable particle size range is from 0.1 µm to 5.0 µm, PSL particles of 0.1 µm are generally used for testing as it is the most penetrating particle size. In YY 0469-2011, sodium chloride (NaCl) particles that range from 0.01 µm to 1.0 µm are used as the index in PFE testing of masks, while the NIOSH standard is used to test masks to filter NaCl particles that are 0.3 µm in size. Although these standard methods provide basic instructions and parameters for PFE testing, they do not offer specific settings for testing systems and details of the equipment involved. Moreover, some of the standard methods have limitations. For instance, a device that is recommended for measuring particle concentration (an optical particle counter (OPC)) is low in accuracy and size-resolution (Rengasamy et al., 2011). Moreover, the standards do not strictly stipulate the size of the particles to be tested, thus resulting in differences and uncertainties in the results with the different testing agents and systems. '}, page_content='As a highly infectious disease, the two main routes of transmission include direct transmission (e.g., spraying droplets emitted from aerosolized particles through sneezing, coughing or talking), and indirect transmission (contact with surfaces that contain the virus or objects that have been in contact with an infected individual) (Liu, 2020; Ningthoujam, 2020; Tomar and Gupta, 2020). However, the former has been documented to be a more prevalent form of transmission, so an effective mask must be worn to obstruct the transmission of the virus and block its spread when conducting daily life activities (Bałazy et al., 2006; MacIntyre and Chughtai, 2020). This has led to the unprecedented demand and shortage of masks, along with the problem of ineffective masks. On the one hand, there are a variety of different masks on the market. Although most commercially available masks claim effectiveness against contact with airborne particles, their actual performance has not been tested adequately. For example, Cheng (2020) reported that there was no quality control in face mask production in Pakistan. In Italy, in order to meet the huge demand of face masks, some industries have reset the production chain, shifting from the usual target products to the production of masks. However, the quality of the masks is questionable and needs to be tested (Amendola et al., 2020). In addition, Lam et al. (2020) examined 160 mask brands on the market and found that 48.8% of them were substandard and/or invalid. With COVID-19 as an urgent public health issue now, it has become imperative to test and validate the performance of these masks with reliable testing equipment. On the other hand, COVID-19 has led to the unprecedented demand for masks, which has resulted in a shortage of materials to fabricate them. Moreover, most of the masks currently found on the market are disposable (i.e., surgical, N95 and KF94 masks). '), Document(metadata={'url': 'https://washmo.gov/wp-content/uploads/2020/08/Special-Meeting-Packet-08-19-20.pdf', 'context_before': \"are concerned that many people do not understand the very limited degree of protection a cloth  mask or face covering likely offers as source control for people located nearby.  Despite the current limited scientific data detailing their effectiveness, we support the wearing of face coverings by the public when mandated and when in close contact with people whose infection  status they don't know. However, we also encourage everyone to continue to limit their time spent  indoors near potentially infectious people and to not count on or expect a cloth mask or face  covering to protect them or the people around them. The pandemic is not over and will not likely be  over for some time. As states and local jurisdictions reopen, we encourage people to continue to  assess and limit their risks. Cloth masks and face coverings likely do not offer the same degree of  protection as physical distancing, isolation, or limiting personal contact time.  Will face coverings 'flatten the curve' and stop the pandemic?  We have reviewed the many modeling studies that purport to demonstrate that cloth masks or face  coverings have the potential for flattening the curve or significantly decrease the number of cases. These studies fail to recognize several important facts:  • The filter performance of a cloth material does not directly translate or represent its performance on an individual, because it neglects the understanding of fit.  • Cloth masks or coverings come in a variety of shapes, sizes, and materials and are not made  • Transmission is not simply a function of short random interactions between individuals, but  rather a function of particle concentration in the air and the time exposed to that concentration.  • A cloth mask or face covering does very little to prevent the emission or inhalation of small  particles. As discussed in an earlier CIDRAP commenta1y_(http, ://www.cidrap.umn.edu/n ws- perspective/2.020/03/commentary-covid-19-transmission-messages-should-l1inge-science)_and more recently by \", 'context_after': \"Green CF, Davidson CS, Panlilio AL, et al. Effecti eness of elected surgical mask in arre t ing  vegetative c 11 and endospores when worn bY. simulated contagious 12atients  (httP.s://www.cambridge.org~journals/infection-contrnl-and-hosP.ital-eP.idemiologx/article/effectivene.ss-of-selected- surgical-masks-i n-arresti ng-veg tativc-cel ls-and- ndo, QOres-1 hen-worn-bY.-sim u lated-contagious- P-atients/BFC344C3AE4D99~43B1FF0644Bqt4) . Infect Control Hosp Epidemiol 2012 May;33(5):487-94  Johnson DF, Druce JD, Birch C, et al. A g,uantitative assessment of the efficacY. of surgical and  N95 masks to filter influenza virus in patients with acute influenza infection  {https:/ja ·ademic.ouJ)..tom/cid/articlefa9~7.5L4.Q5108)_. Clin Infect Dis 2009 Jul 15;49(2):275-7  Konda A, Prakash A, Moss GA, et al. A rosol filtration ffici nc of common fabrics used in  respiratory'. cloth masks (http..§.;1./P-ubs.acs.org/doi/10.1021/acsnano.oco3g5g)_. ACS Nano. 2020 (published Leung NHL, Chu DKW, Shiu EYC, et al. ResP-iratory: virus shedding in exhaled breath and  efficacY. of face masks (https://www.natur a.com/articl s/s41591-020-0843-2)_. Nat Med 2020 (published Ma QX, Shan H, Zhang HL, et al. Potential utiliti ., of mask-wearing and instant hand hygiene  for fighting SARS-CoV-2 (httg. ://onlin library.wil Y.,Com/doi/(uU/10.1002/jmv.25805)_. J Med Virol 2020 Morawska L, Milton DK. It is time to address airborne transmission of COVID-19. Clin Infect Dis  https://www.cidrap.umn.edu/news-perspective/2020/04/commentary-masks-all-covid-19-not-based-sound-data ?fbcl id=lwAR 1 zw5R04z_ NePM6GZw... COMMENTARY: Masks-for-all for COVID-19 not based on sound data I CIDRAP  National Academies of Sciences, Engineering, and Medicine. 2020. RaP-id exP-ert  consultation on the effectiv ness of fabric masks for the CO  .(httP.S: I (www .naP..edu/ catalogf.257-7-6 /rapid- ,·gert-consu ltation-on-the-effectiveness-of-fa bric-ma. k -for-the-covid-19.: P.andemic-aP.ril-8-2020)_. Washington, DC, National Academies Press. Apr 8, 2020  \"}, page_content=\"Morawska and Milton (2020) in an open letter to WHO signed by 239 scientists, inhalation of  https://www.cidrap. umn. ed u/news-perspective/2020/04/commenta ry-masks-all-covid-19-not-based-sound-data ? COMMENTARY: Masks-for-all for COVID-19 not based on sound data I CIDRAP  small infectious particles is not only biologically plausible, but the epidemiology supports it as an important mode of transmission for SARS-CoV-2, the virus that causes COVID-19.  In summary, though we support mask wearing by the general public, we continue to conclude that  cloth masks and face coverings are likely to have limited impact on lowering COVID-19  transmission, because they have minimal ability to prevent the emission of small particles, offer  limited personal protection with respect to small particle inhalation, and should not be  recommended as a replacement for physical distancing or reducing time in enclosed spaces with  many potentially infectious people. We are very concerned about messaging that suggests cloth  masks or face coverings can replace physical distancing. We also worry that the public doesn't  understand the limitations of cloth masks and face coverings when we observe how many people  wear their mask under their nose or even under their mouth, remove their masks when talking to  someone nearby, or fail to practice physical distancing when wearing a mask.  Anfinrud P, Stadnytskyi V, Bax CE, et al. Visualizing..s.12eech-generated oral fluid dropl ts with  laser light scattering_(httRs://www.nejm.org/doi/full/lo.1056/nejmc2007.8oo)_. N Engl J Med 2020 (published Davies A, Thompson KA, Giri K, et al. Testing-tl-1~= =  protect in an influenza pandemic? (httRs://www.cambridge.org/core/jonrnals/disa. ter-medicine-and-Rublic-health- P.reµ.arednes. /article/testing-the-efficac -of-homemade-ruasks-would-they.:protect-·in-an-influe111.a- P.anclemic/0921Ao5A69A9.419C862FA2F35F819.D55)_Disaster Med Public Health Prep 2013 Aug;7(4):413-8  \"), Document(metadata={'url': 'https://www.scientificamerican.com/article/protecting-against-covids-aerosol-threat/', 'context_before': \"This feels like a lopsided fight. In one corner, we have scientists, epidemiologists, infectious-disease physicians, clinicians, engineers—many different experts in the medical community, that is—arguing that the spread of COVID-19 by aerosols (that is, tiny droplets that can remain airborne long enough to travel significantly farther than the six-foot separation we’ve been told to observe) is both real and dangerous. In the other, it’s the Centers for Disease Control (CDC) and the World Health Organization (WHO), which until veryrecently have allowed only that aerosol spread is possible, not necessarily likely. And while watching experts going against governmental agencies isn’t always riveting stuff, this particular battle is terribly important. It has significant implications for how we as a country handle this epidemic, and what decisions we make going forward—and those decisions need to be made sooner, not later. On some level, this is a discussion of droplets versus aerosols. You’ve probably heard plenty this year about droplets: they’re larger in size and may be exhaled by someone talking, shouting, singing, coughing or sneezing. These droplets don’t travel far and fall quickly to the ground, one reason why a “social distance” of roughly six feet is seen as a safe one. If you're enjoying this article, consider supporting our award-winning journalism by subscribing. By purchasing a subscription you are helping to ensure the future of impactful stories about the discoveries and ideas shaping our world today. Aerosols, on the other hand, are tiny by comparison, nearly 10,000 times smaller than a human hair. They’re spread at far greater distances—20 to 30 feet—and can linger in the air for minutes to hours, infecting others. What constitutes a safe distance from aerosols is much harder to define, especially in crowded indoor spaces with poor ventilation. \", 'context_after': 'The idea of aerosol spread is neither new nor controversial. Several diseases, including measles, chickenpox and tuberculosis, have been shown to be transmitted by aerosols. Patients sick with the flu have the virus in their exhaled breath, and that virus has been shown to be present in the air. This is true for some other viruses, including those found in infants. Scientists in Wuhan, China, have identified coronavirus RNA particles in the air in hospital areas, although they haven’t yet proven that the particles are infectious. Lab workers at the University of Nebraska have published their finding that they, too, have identified coronavirus RNA in the air. “We have pretty strong circumstantial evidence, in a number of these superspreading indoor incidents, that there must have been a significant component of aerosol or airborne transmission,” says William Bahnfleth, chair of the American Society of Heating, Refrigerating and Air Conditioning Engineers (ASHRAE) Epidemic Task Force. Bahnfleth noted several examples, including a restaurant in Guangzhou, China, where multiple people without direct contact with one another became infected from a single individual, and a choir practice in Washington state where presumed droplet and aerosol spread from singingsickened 53 people, two of whom died. In an e-mail interview, researcher Bjorn Birnir shared his work, published in a preprint (a non–peer reviewed paper), that demonstrated how an infected person continues to exhale a cloud of droplets and aerosols. These “build up over time to dangerous concentrations for everyone in the room,” Birnir says. While we don’t know exactly how much virus is needed to infect people or at what concentrations, these examples show that at some point the threshold is met and inhaled aerosols are the likely culprits. “Aerosol transmission plays a significant role in indoor environments and cannot be neglected,” says environmental science expert Maosheng Yao, a professor of engineering at Peking University. '}, page_content='Choosing a safe mask becomes difficult as well: an N95 respirator, for example, would be preferable to an ill-fitting cloth mask when it comes to filtering out these minuscule viral aerosols. For these and other reasons, some in the medical community suspect, our health agencies have been reluctant to accept the data on the airborne transmission of COVID-19—because if they do, they’re acknowledging a problem far more challenging even than what we’ve been dealt with so far. This reluctance has prompted an epic response. In a nearly unprecedented move, 239 scientists from 32 countries wrote an open letter to the WHO in July, urging the agency to recognize that airborne transmission of coronavirus by smaller aerosol particles is possible. The organization’s response was to subsequently update its position, stating that aerosol transmission “cannot be ruled out.” A glowing endorsement this was not—although, points out a spokesperson for the organization, “We have substantial guidance on the topic and speak repeatedly in press conferences and other venues about the importance of keeping indoor spaces well ventilated, precisely because of the potential of aerosol transmission in these settings. WHO has advice in the form of Q&As for the general public, and for people who manage public spaces and buildings and health facilities.” The CDC, meanwhile, posted on its Web site over the weekend that aerosolization may be “the main way the virus spreads,” then backtracked and removed the content from its site, claiming the language had been a draft of some proposed changes which were “posted in error.” This is a major point, not a minor one. Aerosol carry of the virus means that any indoor area where people gather in numbers—think restaurants, bars, churches, schools, rallies—is potentially a spreader of the disease, and depending upon the numbers, a superspreader. These are likely places with poor ventilation, where people not only are close together but may be speaking loudly, shouting, singing, cheering or booing, etc. '), Document(metadata={'url': 'https://journals.plos.org/plosone/article?id=10.1371/journal.pone.0237691', 'context_before': 'A log transformed analysis is conducted to evaluate the growth rate of COVID-19 infections. ANOVA analysis is used to analyze the group effect. The p value is less than 2e-16 for the log 2 transformed case comparison, suggesting that the two groups are statistically significantly different. The Asian mask-wearing group clearly has lower growth rates of COVID-19 cases compared to the non-mask-wearing group. Thailand has the highest growth rate among the mask-wearing groups. However, the differences in the growth rate of confirmed cases between these two groups cannot be fully attributed to mask-wearing, but arise from many factors, such as clinical tests performed, complicated social, economic, and cultural differences, and varied public health polices enforcement. The preliminary comparison only provides the rationale to further evaluate if wearing masks is effective for controlling the infectious disease outbreak. Our study has six major assumptions with preliminary evidence. First, the SARS-CoV-2 transmission pathway includes airborne [1, 8, 22–24] with an R0 value exceeding that of influenza and SARS [16, 32, 33]. Second, a proportion of infected cases could be asymptomatic [36, 38, 46, 47]. Third, asymptomatic individuals could transfer the virus in the community [48, 49, 82]. Fourth, the public awareness of mask usage may increase as the pandemic spreads [64]. Fifth, the market could respond to consumer demand with a production increase and without supply chain problems [67]. Sixth, homemade cloth masks are not as effective as commercial medical masks [57, 60]. Thus, we project the best scenario as the pandemic spreads and by the end of the outbreak, the general population will be willing to wear a mask. Although wearing a mask is a low-cost and non-disruptive measure, wearing a mask has not been culturally widespread in many parts of the world [83]. Furthermore, for non-certified medical masks, individual errors could lead to ineffective mask fitting, which could reduce the benefit of wearing a mask [84]. ', 'context_after': 'However, masks do not replace social distancing and other personal hygiene practices, such as hand washing. The effectiveness of any NPIs depends on compliance rates, contact rate reduction, the role of children, and asymptomatic cases in transmission. Our model analyzes the impact of wearing a mask that can efficiently filter viral aerosols during the COVID-19 pandemic in the general population. Our study suggests that wearing a quality mask in combination with other NPIs can support hospital resource management during a pandemic. In a free market, the risks of not having enough masks for the general population may negatively impact timely responses to the outbreak. Appropriate public health policies and government subsidies could be necessary to manage similar crises in the future. Future studies on how to improve adherence and compliance rates will better position society for potential future respiratory disease outbreaks when the viral agent has a similar clinical attack rate. - 1. Feng S, Shen C, Xia N, Song W, Fan M, Cowling BJ. Rational use of face masks in the COVID-19 pandemic. Lancet Respir Med. 2020. Epub 2020/03/24. pmid:32203710. - 2. Cowling BJ, Zhou Y, Ip DK, Leung GM, Aiello AE. Face masks to prevent transmission of influenza virus: a systematic review. Epidemiol Infect. 2010;138(4):449–56. Epub 2010/01/23. pmid:20092668. - 3. Brienen NC, Timen A, Wallinga J, van Steenbergen JE, Teunis PF. The effect of mask use on the spread of influenza during a pandemic. Risk Anal. 2010;30(8):1210–8. Epub 2010/05/26. pmid:20497389. - 4. Zhang L, Peng Z, Ou J, Zeng G, Fontaine RE, Liu M, et al. Protection by face masks against influenza A(H1N1)pdm09 virus on trans-Pacific passenger aircraft, 2009. Emerg Infect Dis. 2013;19(9). Epub 2013/08/24. pmid:23968983; PubMed Central PMCID: PMC3810906. - 5. Larson EL, Ferng YH, Wong-McLoughlin J, Wang S, Haber M, Morse SS. Impact of non-pharmaceutical interventions on URIs and influenza in crowded, urban households. '}, page_content=\"There are limitations to those six assumptions. First, a recent study suggested that the virus was detected on the outer layer of COVID-19 patients' masks [85], which could invalidate the utility of a patient wearing a mask. However, although the virus was detected, the mask could still provide prevention by reducing the virus load to an adjacent healthy individual. Further studies on asymptomatic individuals wearing masks could be more convincing to validate the effectiveness of wearing a mask to prevent pre-symptomatic transmission. Second, we assume random mixing and model the general population, but have not taken account children's role. Children are less likely to wear masks consistently to realize mask effectiveness. At the same time, the role of children in COVID-19 transmission is unclear [86]. Third, we assume the willing individual who has a mask can use the mask in the right manner and follow social distancing and other personal hygiene practices. There are discrepancies between willingness, perceived compliance, and real compliance [87]. Fourth, research shows that masks can be a source of contamination if not disposed of or replaced in timely manner The COVID-19 pandemic has created a global crisis. Prevention such as vaccines is one of the most effective measures to mitigate such a catastrophic public health crisis. Prior to an available vaccine, NPIs such as wearing a mask can potentially reduce the virus transmission rate. Recent modeling studies suggest that timely and comprehensive NPIs are needed to prevent a secondary wave of COVID-19 [89]. However, timely implementations of NPI such as wearing a mask call for public awareness, a readily available market stockpile, and government advocacy and policies. For respiratory diseases caused by a rival agent through aerosol and droplet transmission routes, wearing masks could be a reasonable NPI to reduce the virus transmission efficiency and secondary transmission [5, 89]. \"), Document(metadata={'url': 'https://time.com/5861295/masks-covid19-spread-fighting/', 'context_before': '', 'context_after': 'Taking their cues from President Trump, who has refused to appear on camera wearing a face mask and has said that Americans who wear masks are doing so to show their disapproval of him, many of his supporters now see wearing a face mask as an affront to personal liberty. According to the Washington Post, Republican leaders “are less likely to mandate them, and Republican voters are more likely to forgo, and even scorn, them.” Health officials who have promoted mask mandates have quit their jobs after receiving death threats. As a result of this alarming polarization, only 18 states and the District of Columbia are mandating face masks in public across the whole state. Only two—Massachusetts and Maryland—have Republican governors. Meanwhile, many Republican-led states are actively trying to subvert local measures. Nebraska Governor Pete Ricketts has gone so far as to say he will withhold federal coronavirus relief funds from local governments if they try and mandate mask use in their places of work. Rejecting face masks inevitably means embracing more COVID-19 cases and deaths. One U.S. study found that states with a mandate had a more rapid decline in daily growth rates of COVID-19 and estimated that mask use prevented up to 450,000 cases of COVID-19 by May 22, 2020. And while researchers at the University of Washington now predict that the U.S. could reach 180,000 COVID-19 deaths by October, they say we could prevent 33,000 of these deaths—more than half of the new deaths the model projects—if at least 95% of people wear a mask. That’s right. We can avert the deaths of 33,000 of our parents, grandparents, siblings, co-workers, teachers, bus drivers, mail carriers, nurses and store and factory workers by just sticking a one-dollar piece of cloth over our noses and mouths. So what’s stopping us? One problem is the “me first” culture in the U.S., in which anti-maskers claim that their right to go around unmasked in public matters more than saving lives. '}, page_content='At long last, we have made a truly game-changing scientific breakthrough in preventing the spread of COVID-19. The impact of this breakthrough seems almost too good to be true. We have found a disease control tool that, when used properly, can dramatically reduce the person-to-person transmission of SARS-CoV-2, the virus that causes COVID-19. Studies have shown that this tool could reduce transmission by somewhere between 50% and 85%. The tool is cheap and remarkably low-tech. You can even make one at home. It has no significant side effects. And with each passing day, the scientific research showing the tool’s effectiveness gets stronger and stronger. If this tool were a vaccine or medicine, we’d be high-fiving each other and popping the champagne, knowing we’d discovered a crucial means to help prevent the spread of the pandemic. I’m talking, of course, about face masks—cloth, surgical, or even a bandanna. Face masks block the spread of respiratory droplets that can carry the novel coronavirus. But just as with so many other aspects of the response to COVID-19—including mass testing, contact tracing, and the early use of stay-at-home orders—the U.S. is once again squandering this opportunity. In many countries that have so far successfully controlled their COVID-19 epidemics, public health leaders, politicians, and the public have fully embraced the use of face masks with no hint of controversy. A recent study found that countries where masks were widely used soon after their COVID-19 outbreak began were more likely to keep their death rates low and to have a shorter outbreak. Countries like Hong Kong, South Korea, Taiwan, Thailand, and Vietnam that quickly adopted masking, along with other control measures such as social distancing and track and trace, have reported fewer than 6 deaths per million residents as a result of COVID-19. Yet in the U.S., where the death rate from COVID-19 is now 379 per million people, face masks have been weaponized for partisan purposes. ')], metadata=None), classification_result=ClassificationResult(probs=array([0.3994863 , 0.05406459, 0.1469628 , 0.3994863 ]), metadata=None))"
      ]
     },
     "execution_count": 9,
     "metadata": {},
     "output_type": "execute_result"
    }
   ],
   "source": [
    "datapoint2 = Datapoint.from_dict(dataset[16])\n",
    "pipeline = Pipeline(retriever, evidence_generator, classifier)\n",
    "pipeline_result = pipeline(datapoint2)\n",
    "pipeline_result"
   ]
  },
  {
   "cell_type": "code",
   "execution_count": 10,
   "metadata": {},
   "outputs": [
    {
     "data": {
      "text/plain": [
       "('Refuted', 'Refuted')"
      ]
     },
     "execution_count": 10,
     "metadata": {},
     "output_type": "execute_result"
    }
   ],
   "source": [
    "str(pipeline_result.classification_result), datapoint2.label"
   ]
  },
  {
   "cell_type": "code",
   "execution_count": 11,
   "metadata": {},
   "outputs": [
    {
     "data": {
      "text/plain": [
       "{'claim_id': 16,\n",
       " 'claim': 'The plentiful evidence we have indicates that masks would not meaningfully help with aerosol transmission of COVID 19.',\n",
       " 'evidence': [{'question': 'What is the primary mode of COVID-19 transmission?',\n",
       "   'answer': 'COVID-19 primarily spreads through respiratory droplets and aerosols.',\n",
       "   'url': 'https://time.com/5861295/masks-covid19-spread-fighting/',\n",
       "   'scraped_text': '\\nAt long last, we have made a truly game-changing scientific breakthrough in preventing the spread of COVID-19. The impact of this breakthrough seems almost too good to be true. We have found a disease control tool that, when used properly, can dramatically reduce the person-to-person transmission of SARS-CoV-2, the virus that causes COVID-19. Studies have shown that this tool could reduce transmission by somewhere between 50% and 85%. The tool is cheap and remarkably low-tech. You can even make one at home. It has no significant side effects. And with each passing day, the scientific research showing the tool’s effectiveness gets stronger and stronger. If this tool were a vaccine or medicine, we’d be high-fiving each other and popping the champagne, knowing we’d discovered a crucial means to help prevent the spread of the pandemic. I’m talking, of course, about face masks—cloth, surgical, or even a bandanna. Face masks block the spread of respiratory droplets that can carry the novel coronavirus. But just as with so many other aspects of the response to COVID-19—including mass testing, contact tracing, and the early use of stay-at-home orders—the U.S. is once again squandering this opportunity. In many countries that have so far successfully controlled their COVID-19 epidemics, public health leaders, politicians, and the public have fully embraced the use of face masks with no hint of controversy. A recent study found that countries where masks were widely used soon after their COVID-19 outbreak began were more likely to keep their death rates low and to have a shorter outbreak. Countries like Hong Kong, South Korea, Taiwan, Thailand, and Vietnam that quickly adopted masking, along with other control measures such as social distancing and track and trace, have reported fewer than 6 deaths per million residents as a result of COVID-19. Yet in the U.S., where the death rate from COVID-19 is now 379 per million people, face masks have been weaponized for partisan purposes. \\nTaking their cues from President Trump, who has refused to appear on camera wearing a face mask and has said that Americans who wear masks are doing so to show their disapproval of him, many of his supporters now see wearing a face mask as an affront to personal liberty. According to the Washington Post, Republican leaders “are less likely to mandate them, and Republican voters are more likely to forgo, and even scorn, them.” Health officials who have promoted mask mandates have quit their jobs after receiving death threats. As a result of this alarming polarization, only 18 states and the District of Columbia are mandating face masks in public across the whole state. Only two—Massachusetts and Maryland—have Republican governors. Meanwhile, many Republican-led states are actively trying to subvert local measures. Nebraska Governor Pete Ricketts has gone so far as to say he will withhold federal coronavirus relief funds from local governments if they try and mandate mask use in their places of work. Rejecting face masks inevitably means embracing more COVID-19 cases and deaths. One U.S. study found that states with a mandate had a more rapid decline in daily growth rates of COVID-19 and estimated that mask use prevented up to 450,000 cases of COVID-19 by May 22, 2020. And while researchers at the University of Washington now predict that the U.S. could reach 180,000 COVID-19 deaths by October, they say we could prevent 33,000 of these deaths—more than half of the new deaths the model projects—if at least 95% of people wear a mask. That’s right. We can avert the deaths of 33,000 of our parents, grandparents, siblings, co-workers, teachers, bus drivers, mail carriers, nurses and store and factory workers by just sticking a one-dollar piece of cloth over our noses and mouths. So what’s stopping us? One problem is the “me first” culture in the U.S., in which anti-maskers claim that their right to go around unmasked in public matters more than saving lives. '},\n",
       "  {'question': 'Do masks help in blocking respiratory droplets?',\n",
       "   'answer': 'Yes, masks block the spread of respiratory droplets that can carry the novel coronavirus.',\n",
       "   'url': 'https://journals.plos.org/plosone/article?id=10.1371/journal.pone.0237691',\n",
       "   'scraped_text': \"A log transformed analysis is conducted to evaluate the growth rate of COVID-19 infections. ANOVA analysis is used to analyze the group effect. The p value is less than 2e-16 for the log 2 transformed case comparison, suggesting that the two groups are statistically significantly different. The Asian mask-wearing group clearly has lower growth rates of COVID-19 cases compared to the non-mask-wearing group. Thailand has the highest growth rate among the mask-wearing groups. However, the differences in the growth rate of confirmed cases between these two groups cannot be fully attributed to mask-wearing, but arise from many factors, such as clinical tests performed, complicated social, economic, and cultural differences, and varied public health polices enforcement. The preliminary comparison only provides the rationale to further evaluate if wearing masks is effective for controlling the infectious disease outbreak. Our study has six major assumptions with preliminary evidence. First, the SARS-CoV-2 transmission pathway includes airborne [1, 8, 22–24] with an R0 value exceeding that of influenza and SARS [16, 32, 33]. Second, a proportion of infected cases could be asymptomatic [36, 38, 46, 47]. Third, asymptomatic individuals could transfer the virus in the community [48, 49, 82]. Fourth, the public awareness of mask usage may increase as the pandemic spreads [64]. Fifth, the market could respond to consumer demand with a production increase and without supply chain problems [67]. Sixth, homemade cloth masks are not as effective as commercial medical masks [57, 60]. Thus, we project the best scenario as the pandemic spreads and by the end of the outbreak, the general population will be willing to wear a mask. Although wearing a mask is a low-cost and non-disruptive measure, wearing a mask has not been culturally widespread in many parts of the world [83]. Furthermore, for non-certified medical masks, individual errors could lead to ineffective mask fitting, which could reduce the benefit of wearing a mask [84]. \\nThere are limitations to those six assumptions. First, a recent study suggested that the virus was detected on the outer layer of COVID-19 patients' masks [85], which could invalidate the utility of a patient wearing a mask. However, although the virus was detected, the mask could still provide prevention by reducing the virus load to an adjacent healthy individual. Further studies on asymptomatic individuals wearing masks could be more convincing to validate the effectiveness of wearing a mask to prevent pre-symptomatic transmission. Second, we assume random mixing and model the general population, but have not taken account children's role. Children are less likely to wear masks consistently to realize mask effectiveness. At the same time, the role of children in COVID-19 transmission is unclear [86]. Third, we assume the willing individual who has a mask can use the mask in the right manner and follow social distancing and other personal hygiene practices. There are discrepancies between willingness, perceived compliance, and real compliance [87]. Fourth, research shows that masks can be a source of contamination if not disposed of or replaced in timely manner The COVID-19 pandemic has created a global crisis. Prevention such as vaccines is one of the most effective measures to mitigate such a catastrophic public health crisis. Prior to an available vaccine, NPIs such as wearing a mask can potentially reduce the virus transmission rate. Recent modeling studies suggest that timely and comprehensive NPIs are needed to prevent a secondary wave of COVID-19 [89]. However, timely implementations of NPI such as wearing a mask call for public awareness, a readily available market stockpile, and government advocacy and policies. For respiratory diseases caused by a rival agent through aerosol and droplet transmission routes, wearing masks could be a reasonable NPI to reduce the virus transmission efficiency and secondary transmission [5, 89]. \\nHowever, masks do not replace social distancing and other personal hygiene practices, such as hand washing. The effectiveness of any NPIs depends on compliance rates, contact rate reduction, the role of children, and asymptomatic cases in transmission. Our model analyzes the impact of wearing a mask that can efficiently filter viral aerosols during the COVID-19 pandemic in the general population. Our study suggests that wearing a quality mask in combination with other NPIs can support hospital resource management during a pandemic. In a free market, the risks of not having enough masks for the general population may negatively impact timely responses to the outbreak. Appropriate public health policies and government subsidies could be necessary to manage similar crises in the future. Future studies on how to improve adherence and compliance rates will better position society for potential future respiratory disease outbreaks when the viral agent has a similar clinical attack rate. - 1. Feng S, Shen C, Xia N, Song W, Fan M, Cowling BJ. Rational use of face masks in the COVID-19 pandemic. Lancet Respir Med. 2020. Epub 2020/03/24. pmid:32203710. - 2. Cowling BJ, Zhou Y, Ip DK, Leung GM, Aiello AE. Face masks to prevent transmission of influenza virus: a systematic review. Epidemiol Infect. 2010;138(4):449–56. Epub 2010/01/23. pmid:20092668. - 3. Brienen NC, Timen A, Wallinga J, van Steenbergen JE, Teunis PF. The effect of mask use on the spread of influenza during a pandemic. Risk Anal. 2010;30(8):1210–8. Epub 2010/05/26. pmid:20497389. - 4. Zhang L, Peng Z, Ou J, Zeng G, Fontaine RE, Liu M, et al. Protection by face masks against influenza A(H1N1)pdm09 virus on trans-Pacific passenger aircraft, 2009. Emerg Infect Dis. 2013;19(9). Epub 2013/08/24. pmid:23968983; PubMed Central PMCID: PMC3810906. - 5. Larson EL, Ferng YH, Wong-McLoughlin J, Wang S, Haber M, Morse SS. Impact of non-pharmaceutical interventions on URIs and influenza in crowded, urban households. \"},\n",
       "  {'question': 'What is the effectiveness of cloth masks in preventing aerosol transmission?',\n",
       "   'answer': 'Cloth masks or face coverings likely do not offer the same degree of protection as physical distancing, isolation, or limiting personal contact time.',\n",
       "   'url': 'https://aaqr.org/articles/aaqr-20-06-covid-0275',\n",
       "   'scraped_text': 'The unprecedented demand for masks has now attracted attention on their filtration efficiency. Furthermore, the widespread use of disposable masks has led to shortage of filter materials and problems with their haphazard disposal. In this study, a testing system that is based on standardized methods has been established and enhanced to reliably measure the particle filtration efficiency (PFE) of masks. Quality control experiments that examine the filtration efficiency of polystyrene latex (PSL) particles that are 0.1 µm in size and sodium chloride (NaCl) particles that range from 0.01–1.0 µm are conducted to determine the reliability of the testing system. Moreover, various textile materials are tested to fabricate 3-layer face masks, and the PFE of these masks is tested by using the proposed testing system to find the most suitable materials and the likelihood of their reusability. Among the tested materials, polytetrafluoroethylene (PTFE) used as the membrane in the filter layer has the highest PFE of 88.33% ± 1.80%, which is mainly due to its dense and multilayer structure. The air permeability of the self-developed masks ranges from 1.41 ± 0.04 to 1.93 ± 0.08, less breathable than the commercial masks. The reusability of a mask that uses PTFE as the membrane in the filter layer is tested by gently washing the mask 30 times and then drying the mask in air before the PFE is measured. The PFE is only reduced by 10–20% after 30 washes, thus indicating the potential reusability of the mask. The findings in this study will contribute to reducing the pressure of mask shortages and are an environmentally friendly solution to the massive use of disposable masks. Keywords: COVID-19; Mask testing system; Reusable mask; Particle filtration efficiency. The new coronavirus (COVID-19) has become a global public health concern because it is highly contagious with severe or even fatal health consequences. With the rapid spread of COVID-19, self-protection has become crucial to avoid contracting this disease. \\nAs a highly infectious disease, the two main routes of transmission include direct transmission (e.g., spraying droplets emitted from aerosolized particles through sneezing, coughing or talking), and indirect transmission (contact with surfaces that contain the virus or objects that have been in contact with an infected individual) (Liu, 2020; Ningthoujam, 2020; Tomar and Gupta, 2020). However, the former has been documented to be a more prevalent form of transmission, so an effective mask must be worn to obstruct the transmission of the virus and block its spread when conducting daily life activities (Bałazy et al., 2006; MacIntyre and Chughtai, 2020). This has led to the unprecedented demand and shortage of masks, along with the problem of ineffective masks. On the one hand, there are a variety of different masks on the market. Although most commercially available masks claim effectiveness against contact with airborne particles, their actual performance has not been tested adequately. For example, Cheng (2020) reported that there was no quality control in face mask production in Pakistan. In Italy, in order to meet the huge demand of face masks, some industries have reset the production chain, shifting from the usual target products to the production of masks. However, the quality of the masks is questionable and needs to be tested (Amendola et al., 2020). In addition, Lam et al. (2020) examined 160 mask brands on the market and found that 48.8% of them were substandard and/or invalid. With COVID-19 as an urgent public health issue now, it has become imperative to test and validate the performance of these masks with reliable testing equipment. On the other hand, COVID-19 has led to the unprecedented demand for masks, which has resulted in a shortage of materials to fabricate them. Moreover, most of the masks currently found on the market are disposable (i.e., surgical, N95 and KF94 masks). \\nThe widespread use of such disposable masks is having a detrimental effect on the environment, as additional resources and human resources are needed to properly dispose of used masks which might otherwise end up in the oceans or landfills. As such, it is timely to develop effective yet reusable masks, not only to address the needs of the current epidemic but also to conserve resources. One of the key parameters of masks is their particle filtration efficiency (PFE) which reflects the ability of masks and/or filters to block the inhalation of different types of particles. Basically, PFE testing follows the methods stipulated in various standards, which include ASTM F2299 (the United States) and YY 0469-2011/GB19083-2010 (Chinese), and the standard provided by the National Institute for Occupational Safety and Health (NIOSH). In ASTM F2299, polystyrene latex (PSL) particles of a specific size are used to evaluate the PFE of a material. Although the applicable particle size range is from 0.1 µm to 5.0 µm, PSL particles of 0.1 µm are generally used for testing as it is the most penetrating particle size. In YY 0469-2011, sodium chloride (NaCl) particles that range from 0.01 µm to 1.0 µm are used as the index in PFE testing of masks, while the NIOSH standard is used to test masks to filter NaCl particles that are 0.3 µm in size. Although these standard methods provide basic instructions and parameters for PFE testing, they do not offer specific settings for testing systems and details of the equipment involved. Moreover, some of the standard methods have limitations. For instance, a device that is recommended for measuring particle concentration (an optical particle counter (OPC)) is low in accuracy and size-resolution (Rengasamy et al., 2011). Moreover, the standards do not strictly stipulate the size of the particles to be tested, thus resulting in differences and uncertainties in the results with the different testing agents and systems. '},\n",
       "  {'question': 'What is the effectiveness of N95 masks in preventing aerosol transmission?',\n",
       "   'answer': 'N95 respirators are preferable to ill-fitting cloth masks when it comes to filtering out minuscule viral aerosols.',\n",
       "   'url': 'https://washmo.gov/wp-content/uploads/2020/08/Special-Meeting-Packet-08-19-20.pdf',\n",
       "   'scraped_text': \"are concerned that many people do not understand the very limited degree of protection a cloth  mask or face covering likely offers as source control for people located nearby.  Despite the current limited scientific data detailing their effectiveness, we support the wearing of face coverings by the public when mandated and when in close contact with people whose infection  status they don't know. However, we also encourage everyone to continue to limit their time spent  indoors near potentially infectious people and to not count on or expect a cloth mask or face  covering to protect them or the people around them. The pandemic is not over and will not likely be  over for some time. As states and local jurisdictions reopen, we encourage people to continue to  assess and limit their risks. Cloth masks and face coverings likely do not offer the same degree of  protection as physical distancing, isolation, or limiting personal contact time.  Will face coverings 'flatten the curve' and stop the pandemic?  We have reviewed the many modeling studies that purport to demonstrate that cloth masks or face  coverings have the potential for flattening the curve or significantly decrease the number of cases. These studies fail to recognize several important facts:  • The filter performance of a cloth material does not directly translate or represent its performance on an individual, because it neglects the understanding of fit.  • Cloth masks or coverings come in a variety of shapes, sizes, and materials and are not made  • Transmission is not simply a function of short random interactions between individuals, but  rather a function of particle concentration in the air and the time exposed to that concentration.  • A cloth mask or face covering does very little to prevent the emission or inhalation of small  particles. As discussed in an earlier CIDRAP commenta1y_(http, ://www.cidrap.umn.edu/n ws- perspective/2.020/03/commentary-covid-19-transmission-messages-should-l1inge-science)_and more recently by \\nMorawska and Milton (2020) in an open letter to WHO signed by 239 scientists, inhalation of  https://www.cidrap. umn. ed u/news-perspective/2020/04/commenta ry-masks-all-covid-19-not-based-sound-data ? COMMENTARY: Masks-for-all for COVID-19 not based on sound data I CIDRAP  small infectious particles is not only biologically plausible, but the epidemiology supports it as an important mode of transmission for SARS-CoV-2, the virus that causes COVID-19.  In summary, though we support mask wearing by the general public, we continue to conclude that  cloth masks and face coverings are likely to have limited impact on lowering COVID-19  transmission, because they have minimal ability to prevent the emission of small particles, offer  limited personal protection with respect to small particle inhalation, and should not be  recommended as a replacement for physical distancing or reducing time in enclosed spaces with  many potentially infectious people. We are very concerned about messaging that suggests cloth  masks or face coverings can replace physical distancing. We also worry that the public doesn't  understand the limitations of cloth masks and face coverings when we observe how many people  wear their mask under their nose or even under their mouth, remove their masks when talking to  someone nearby, or fail to practice physical distancing when wearing a mask.  Anfinrud P, Stadnytskyi V, Bax CE, et al. Visualizing..s.12eech-generated oral fluid dropl ts with  laser light scattering_(httRs://www.nejm.org/doi/full/lo.1056/nejmc2007.8oo)_. N Engl J Med 2020 (published Davies A, Thompson KA, Giri K, et al. Testing-tl-1~= =  protect in an influenza pandemic? (httRs://www.cambridge.org/core/jonrnals/disa. ter-medicine-and-Rublic-health- P.reµ.arednes. /article/testing-the-efficac -of-homemade-ruasks-would-they.:protect-·in-an-influe111.a- P.anclemic/0921Ao5A69A9.419C862FA2F35F819.D55)_Disaster Med Public Health Prep 2013 Aug;7(4):413-8  \\nGreen CF, Davidson CS, Panlilio AL, et al. Effecti eness of elected surgical mask in arre t ing  vegetative c 11 and endospores when worn bY. simulated contagious 12atients  (httP.s://www.cambridge.org~journals/infection-contrnl-and-hosP.ital-eP.idemiologx/article/effectivene.ss-of-selected- surgical-masks-i n-arresti ng-veg tativc-cel ls-and- ndo, QOres-1 hen-worn-bY.-sim u lated-contagious- P-atients/BFC344C3AE4D99~43B1FF0644Bqt4) . Infect Control Hosp Epidemiol 2012 May;33(5):487-94  Johnson DF, Druce JD, Birch C, et al. A g,uantitative assessment of the efficacY. of surgical and  N95 masks to filter influenza virus in patients with acute influenza infection  {https:/ja ·ademic.ouJ)..tom/cid/articlefa9~7.5L4.Q5108)_. Clin Infect Dis 2009 Jul 15;49(2):275-7  Konda A, Prakash A, Moss GA, et al. A rosol filtration ffici nc of common fabrics used in  respiratory'. cloth masks (http..§.;1./P-ubs.acs.org/doi/10.1021/acsnano.oco3g5g)_. ACS Nano. 2020 (published Leung NHL, Chu DKW, Shiu EYC, et al. ResP-iratory: virus shedding in exhaled breath and  efficacY. of face masks (https://www.natur a.com/articl s/s41591-020-0843-2)_. Nat Med 2020 (published Ma QX, Shan H, Zhang HL, et al. Potential utiliti ., of mask-wearing and instant hand hygiene  for fighting SARS-CoV-2 (httg. ://onlin library.wil Y.,Com/doi/(uU/10.1002/jmv.25805)_. J Med Virol 2020 Morawska L, Milton DK. It is time to address airborne transmission of COVID-19. Clin Infect Dis  https://www.cidrap.umn.edu/news-perspective/2020/04/commentary-masks-all-covid-19-not-based-sound-data ?fbcl id=lwAR 1 zw5R04z_ NePM6GZw... COMMENTARY: Masks-for-all for COVID-19 not based on sound data I CIDRAP  National Academies of Sciences, Engineering, and Medicine. 2020. RaP-id exP-ert  consultation on the effectiv ness of fabric masks for the CO  .(httP.S: I (www .naP..edu/ catalogf.257-7-6 /rapid- ,·gert-consu ltation-on-the-effectiveness-of-fa bric-ma. k -for-the-covid-19.: P.andemic-aP.ril-8-2020)_. Washington, DC, National Academies Press. Apr 8, 2020  \"},\n",
       "  {'question': 'What is the general consensus among scientists about aerosol transmission of COVID-19?',\n",
       "   'answer': 'Many scientists argue that the spread of COVID-19 by aerosols is both real and dangerous.',\n",
       "   'url': 'https://washmo.gov/wp-content/uploads/2020/08/Special-Meeting-Packet-08-19-20.pdf',\n",
       "   'scraped_text': \"are concerned that many people do not understand the very limited degree of protection a cloth  mask or face covering likely offers as source control for people located nearby.  Despite the current limited scientific data detailing their effectiveness, we support the wearing of face coverings by the public when mandated and when in close contact with people whose infection  status they don't know. However, we also encourage everyone to continue to limit their time spent  indoors near potentially infectious people and to not count on or expect a cloth mask or face  covering to protect them or the people around them. The pandemic is not over and will not likely be  over for some time. As states and local jurisdictions reopen, we encourage people to continue to  assess and limit their risks. Cloth masks and face coverings likely do not offer the same degree of  protection as physical distancing, isolation, or limiting personal contact time.  Will face coverings 'flatten the curve' and stop the pandemic?  We have reviewed the many modeling studies that purport to demonstrate that cloth masks or face  coverings have the potential for flattening the curve or significantly decrease the number of cases. These studies fail to recognize several important facts:  • The filter performance of a cloth material does not directly translate or represent its performance on an individual, because it neglects the understanding of fit.  • Cloth masks or coverings come in a variety of shapes, sizes, and materials and are not made  • Transmission is not simply a function of short random interactions between individuals, but  rather a function of particle concentration in the air and the time exposed to that concentration.  • A cloth mask or face covering does very little to prevent the emission or inhalation of small  particles. As discussed in an earlier CIDRAP commenta1y_(http, ://www.cidrap.umn.edu/n ws- perspective/2.020/03/commentary-covid-19-transmission-messages-should-l1inge-science)_and more recently by \\nMorawska and Milton (2020) in an open letter to WHO signed by 239 scientists, inhalation of  https://www.cidrap. umn. ed u/news-perspective/2020/04/commenta ry-masks-all-covid-19-not-based-sound-data ? COMMENTARY: Masks-for-all for COVID-19 not based on sound data I CIDRAP  small infectious particles is not only biologically plausible, but the epidemiology supports it as an important mode of transmission for SARS-CoV-2, the virus that causes COVID-19.  In summary, though we support mask wearing by the general public, we continue to conclude that  cloth masks and face coverings are likely to have limited impact on lowering COVID-19  transmission, because they have minimal ability to prevent the emission of small particles, offer  limited personal protection with respect to small particle inhalation, and should not be  recommended as a replacement for physical distancing or reducing time in enclosed spaces with  many potentially infectious people. We are very concerned about messaging that suggests cloth  masks or face coverings can replace physical distancing. We also worry that the public doesn't  understand the limitations of cloth masks and face coverings when we observe how many people  wear their mask under their nose or even under their mouth, remove their masks when talking to  someone nearby, or fail to practice physical distancing when wearing a mask.  Anfinrud P, Stadnytskyi V, Bax CE, et al. Visualizing..s.12eech-generated oral fluid dropl ts with  laser light scattering_(httRs://www.nejm.org/doi/full/lo.1056/nejmc2007.8oo)_. N Engl J Med 2020 (published Davies A, Thompson KA, Giri K, et al. Testing-tl-1~= =  protect in an influenza pandemic? (httRs://www.cambridge.org/core/jonrnals/disa. ter-medicine-and-Rublic-health- P.reµ.arednes. /article/testing-the-efficac -of-homemade-ruasks-would-they.:protect-·in-an-influe111.a- P.anclemic/0921Ao5A69A9.419C862FA2F35F819.D55)_Disaster Med Public Health Prep 2013 Aug;7(4):413-8  \\nGreen CF, Davidson CS, Panlilio AL, et al. Effecti eness of elected surgical mask in arre t ing  vegetative c 11 and endospores when worn bY. simulated contagious 12atients  (httP.s://www.cambridge.org~journals/infection-contrnl-and-hosP.ital-eP.idemiologx/article/effectivene.ss-of-selected- surgical-masks-i n-arresti ng-veg tativc-cel ls-and- ndo, QOres-1 hen-worn-bY.-sim u lated-contagious- P-atients/BFC344C3AE4D99~43B1FF0644Bqt4) . Infect Control Hosp Epidemiol 2012 May;33(5):487-94  Johnson DF, Druce JD, Birch C, et al. A g,uantitative assessment of the efficacY. of surgical and  N95 masks to filter influenza virus in patients with acute influenza infection  {https:/ja ·ademic.ouJ)..tom/cid/articlefa9~7.5L4.Q5108)_. Clin Infect Dis 2009 Jul 15;49(2):275-7  Konda A, Prakash A, Moss GA, et al. A rosol filtration ffici nc of common fabrics used in  respiratory'. cloth masks (http..§.;1./P-ubs.acs.org/doi/10.1021/acsnano.oco3g5g)_. ACS Nano. 2020 (published Leung NHL, Chu DKW, Shiu EYC, et al. ResP-iratory: virus shedding in exhaled breath and  efficacY. of face masks (https://www.natur a.com/articl s/s41591-020-0843-2)_. Nat Med 2020 (published Ma QX, Shan H, Zhang HL, et al. Potential utiliti ., of mask-wearing and instant hand hygiene  for fighting SARS-CoV-2 (httg. ://onlin library.wil Y.,Com/doi/(uU/10.1002/jmv.25805)_. J Med Virol 2020 Morawska L, Milton DK. It is time to address airborne transmission of COVID-19. Clin Infect Dis  https://www.cidrap.umn.edu/news-perspective/2020/04/commentary-masks-all-covid-19-not-based-sound-data ?fbcl id=lwAR 1 zw5R04z_ NePM6GZw... COMMENTARY: Masks-for-all for COVID-19 not based on sound data I CIDRAP  National Academies of Sciences, Engineering, and Medicine. 2020. RaP-id exP-ert  consultation on the effectiv ness of fabric masks for the CO  .(httP.S: I (www .naP..edu/ catalogf.257-7-6 /rapid- ,·gert-consu ltation-on-the-effectiveness-of-fa bric-ma. k -for-the-covid-19.: P.andemic-aP.ril-8-2020)_. Washington, DC, National Academies Press. Apr 8, 2020  \"},\n",
       "  {'question': 'What is the stance of the CDC and WHO on aerosol transmission?',\n",
       "   'answer': 'The CDC and WHO have only recently allowed that aerosol spread is possible, not necessarily likely.',\n",
       "   'url': 'https://washmo.gov/wp-content/uploads/2020/08/Special-Meeting-Packet-08-19-20.pdf',\n",
       "   'scraped_text': \"are concerned that many people do not understand the very limited degree of protection a cloth  mask or face covering likely offers as source control for people located nearby.  Despite the current limited scientific data detailing their effectiveness, we support the wearing of face coverings by the public when mandated and when in close contact with people whose infection  status they don't know. However, we also encourage everyone to continue to limit their time spent  indoors near potentially infectious people and to not count on or expect a cloth mask or face  covering to protect them or the people around them. The pandemic is not over and will not likely be  over for some time. As states and local jurisdictions reopen, we encourage people to continue to  assess and limit their risks. Cloth masks and face coverings likely do not offer the same degree of  protection as physical distancing, isolation, or limiting personal contact time.  Will face coverings 'flatten the curve' and stop the pandemic?  We have reviewed the many modeling studies that purport to demonstrate that cloth masks or face  coverings have the potential for flattening the curve or significantly decrease the number of cases. These studies fail to recognize several important facts:  • The filter performance of a cloth material does not directly translate or represent its performance on an individual, because it neglects the understanding of fit.  • Cloth masks or coverings come in a variety of shapes, sizes, and materials and are not made  • Transmission is not simply a function of short random interactions between individuals, but  rather a function of particle concentration in the air and the time exposed to that concentration.  • A cloth mask or face covering does very little to prevent the emission or inhalation of small  particles. As discussed in an earlier CIDRAP commenta1y_(http, ://www.cidrap.umn.edu/n ws- perspective/2.020/03/commentary-covid-19-transmission-messages-should-l1inge-science)_and more recently by \\nMorawska and Milton (2020) in an open letter to WHO signed by 239 scientists, inhalation of  https://www.cidrap. umn. ed u/news-perspective/2020/04/commenta ry-masks-all-covid-19-not-based-sound-data ? COMMENTARY: Masks-for-all for COVID-19 not based on sound data I CIDRAP  small infectious particles is not only biologically plausible, but the epidemiology supports it as an important mode of transmission for SARS-CoV-2, the virus that causes COVID-19.  In summary, though we support mask wearing by the general public, we continue to conclude that  cloth masks and face coverings are likely to have limited impact on lowering COVID-19  transmission, because they have minimal ability to prevent the emission of small particles, offer  limited personal protection with respect to small particle inhalation, and should not be  recommended as a replacement for physical distancing or reducing time in enclosed spaces with  many potentially infectious people. We are very concerned about messaging that suggests cloth  masks or face coverings can replace physical distancing. We also worry that the public doesn't  understand the limitations of cloth masks and face coverings when we observe how many people  wear their mask under their nose or even under their mouth, remove their masks when talking to  someone nearby, or fail to practice physical distancing when wearing a mask.  Anfinrud P, Stadnytskyi V, Bax CE, et al. Visualizing..s.12eech-generated oral fluid dropl ts with  laser light scattering_(httRs://www.nejm.org/doi/full/lo.1056/nejmc2007.8oo)_. N Engl J Med 2020 (published Davies A, Thompson KA, Giri K, et al. Testing-tl-1~= =  protect in an influenza pandemic? (httRs://www.cambridge.org/core/jonrnals/disa. ter-medicine-and-Rublic-health- P.reµ.arednes. /article/testing-the-efficac -of-homemade-ruasks-would-they.:protect-·in-an-influe111.a- P.anclemic/0921Ao5A69A9.419C862FA2F35F819.D55)_Disaster Med Public Health Prep 2013 Aug;7(4):413-8  \\nGreen CF, Davidson CS, Panlilio AL, et al. Effecti eness of elected surgical mask in arre t ing  vegetative c 11 and endospores when worn bY. simulated contagious 12atients  (httP.s://www.cambridge.org~journals/infection-contrnl-and-hosP.ital-eP.idemiologx/article/effectivene.ss-of-selected- surgical-masks-i n-arresti ng-veg tativc-cel ls-and- ndo, QOres-1 hen-worn-bY.-sim u lated-contagious- P-atients/BFC344C3AE4D99~43B1FF0644Bqt4) . Infect Control Hosp Epidemiol 2012 May;33(5):487-94  Johnson DF, Druce JD, Birch C, et al. A g,uantitative assessment of the efficacY. of surgical and  N95 masks to filter influenza virus in patients with acute influenza infection  {https:/ja ·ademic.ouJ)..tom/cid/articlefa9~7.5L4.Q5108)_. Clin Infect Dis 2009 Jul 15;49(2):275-7  Konda A, Prakash A, Moss GA, et al. A rosol filtration ffici nc of common fabrics used in  respiratory'. cloth masks (http..§.;1./P-ubs.acs.org/doi/10.1021/acsnano.oco3g5g)_. ACS Nano. 2020 (published Leung NHL, Chu DKW, Shiu EYC, et al. ResP-iratory: virus shedding in exhaled breath and  efficacY. of face masks (https://www.natur a.com/articl s/s41591-020-0843-2)_. Nat Med 2020 (published Ma QX, Shan H, Zhang HL, et al. Potential utiliti ., of mask-wearing and instant hand hygiene  for fighting SARS-CoV-2 (httg. ://onlin library.wil Y.,Com/doi/(uU/10.1002/jmv.25805)_. J Med Virol 2020 Morawska L, Milton DK. It is time to address airborne transmission of COVID-19. Clin Infect Dis  https://www.cidrap.umn.edu/news-perspective/2020/04/commentary-masks-all-covid-19-not-based-sound-data ?fbcl id=lwAR 1 zw5R04z_ NePM6GZw... COMMENTARY: Masks-for-all for COVID-19 not based on sound data I CIDRAP  National Academies of Sciences, Engineering, and Medicine. 2020. RaP-id exP-ert  consultation on the effectiv ness of fabric masks for the CO  .(httP.S: I (www .naP..edu/ catalogf.257-7-6 /rapid- ,·gert-consu ltation-on-the-effectiveness-of-fa bric-ma. k -for-the-covid-19.: P.andemic-aP.ril-8-2020)_. Washington, DC, National Academies Press. Apr 8, 2020  \"},\n",
       "  {'question': 'What are the limitations of cloth masks according to the sources?',\n",
       "   'answer': 'Cloth masks have minimal ability to prevent the emission or inhalation of small particles and should not replace physical distancing.',\n",
       "   'url': 'https://aaqr.org/articles/aaqr-20-06-covid-0275',\n",
       "   'scraped_text': 'The unprecedented demand for masks has now attracted attention on their filtration efficiency. Furthermore, the widespread use of disposable masks has led to shortage of filter materials and problems with their haphazard disposal. In this study, a testing system that is based on standardized methods has been established and enhanced to reliably measure the particle filtration efficiency (PFE) of masks. Quality control experiments that examine the filtration efficiency of polystyrene latex (PSL) particles that are 0.1 µm in size and sodium chloride (NaCl) particles that range from 0.01–1.0 µm are conducted to determine the reliability of the testing system. Moreover, various textile materials are tested to fabricate 3-layer face masks, and the PFE of these masks is tested by using the proposed testing system to find the most suitable materials and the likelihood of their reusability. Among the tested materials, polytetrafluoroethylene (PTFE) used as the membrane in the filter layer has the highest PFE of 88.33% ± 1.80%, which is mainly due to its dense and multilayer structure. The air permeability of the self-developed masks ranges from 1.41 ± 0.04 to 1.93 ± 0.08, less breathable than the commercial masks. The reusability of a mask that uses PTFE as the membrane in the filter layer is tested by gently washing the mask 30 times and then drying the mask in air before the PFE is measured. The PFE is only reduced by 10–20% after 30 washes, thus indicating the potential reusability of the mask. The findings in this study will contribute to reducing the pressure of mask shortages and are an environmentally friendly solution to the massive use of disposable masks. Keywords: COVID-19; Mask testing system; Reusable mask; Particle filtration efficiency. The new coronavirus (COVID-19) has become a global public health concern because it is highly contagious with severe or even fatal health consequences. With the rapid spread of COVID-19, self-protection has become crucial to avoid contracting this disease. \\nAs a highly infectious disease, the two main routes of transmission include direct transmission (e.g., spraying droplets emitted from aerosolized particles through sneezing, coughing or talking), and indirect transmission (contact with surfaces that contain the virus or objects that have been in contact with an infected individual) (Liu, 2020; Ningthoujam, 2020; Tomar and Gupta, 2020). However, the former has been documented to be a more prevalent form of transmission, so an effective mask must be worn to obstruct the transmission of the virus and block its spread when conducting daily life activities (Bałazy et al., 2006; MacIntyre and Chughtai, 2020). This has led to the unprecedented demand and shortage of masks, along with the problem of ineffective masks. On the one hand, there are a variety of different masks on the market. Although most commercially available masks claim effectiveness against contact with airborne particles, their actual performance has not been tested adequately. For example, Cheng (2020) reported that there was no quality control in face mask production in Pakistan. In Italy, in order to meet the huge demand of face masks, some industries have reset the production chain, shifting from the usual target products to the production of masks. However, the quality of the masks is questionable and needs to be tested (Amendola et al., 2020). In addition, Lam et al. (2020) examined 160 mask brands on the market and found that 48.8% of them were substandard and/or invalid. With COVID-19 as an urgent public health issue now, it has become imperative to test and validate the performance of these masks with reliable testing equipment. On the other hand, COVID-19 has led to the unprecedented demand for masks, which has resulted in a shortage of materials to fabricate them. Moreover, most of the masks currently found on the market are disposable (i.e., surgical, N95 and KF94 masks). \\nThe widespread use of such disposable masks is having a detrimental effect on the environment, as additional resources and human resources are needed to properly dispose of used masks which might otherwise end up in the oceans or landfills. As such, it is timely to develop effective yet reusable masks, not only to address the needs of the current epidemic but also to conserve resources. One of the key parameters of masks is their particle filtration efficiency (PFE) which reflects the ability of masks and/or filters to block the inhalation of different types of particles. Basically, PFE testing follows the methods stipulated in various standards, which include ASTM F2299 (the United States) and YY 0469-2011/GB19083-2010 (Chinese), and the standard provided by the National Institute for Occupational Safety and Health (NIOSH). In ASTM F2299, polystyrene latex (PSL) particles of a specific size are used to evaluate the PFE of a material. Although the applicable particle size range is from 0.1 µm to 5.0 µm, PSL particles of 0.1 µm are generally used for testing as it is the most penetrating particle size. In YY 0469-2011, sodium chloride (NaCl) particles that range from 0.01 µm to 1.0 µm are used as the index in PFE testing of masks, while the NIOSH standard is used to test masks to filter NaCl particles that are 0.3 µm in size. Although these standard methods provide basic instructions and parameters for PFE testing, they do not offer specific settings for testing systems and details of the equipment involved. Moreover, some of the standard methods have limitations. For instance, a device that is recommended for measuring particle concentration (an optical particle counter (OPC)) is low in accuracy and size-resolution (Rengasamy et al., 2011). Moreover, the standards do not strictly stipulate the size of the particles to be tested, thus resulting in differences and uncertainties in the results with the different testing agents and systems. '},\n",
       "  {'question': 'What evidence exists regarding the effectiveness of masks in reducing COVID-19 transmission?',\n",
       "   'answer': 'Studies have shown that masks could reduce transmission by somewhere between 50% and 85%.',\n",
       "   'url': 'https://journals.plos.org/plosone/article?id=10.1371/journal.pone.0237691',\n",
       "   'scraped_text': \"A log transformed analysis is conducted to evaluate the growth rate of COVID-19 infections. ANOVA analysis is used to analyze the group effect. The p value is less than 2e-16 for the log 2 transformed case comparison, suggesting that the two groups are statistically significantly different. The Asian mask-wearing group clearly has lower growth rates of COVID-19 cases compared to the non-mask-wearing group. Thailand has the highest growth rate among the mask-wearing groups. However, the differences in the growth rate of confirmed cases between these two groups cannot be fully attributed to mask-wearing, but arise from many factors, such as clinical tests performed, complicated social, economic, and cultural differences, and varied public health polices enforcement. The preliminary comparison only provides the rationale to further evaluate if wearing masks is effective for controlling the infectious disease outbreak. Our study has six major assumptions with preliminary evidence. First, the SARS-CoV-2 transmission pathway includes airborne [1, 8, 22–24] with an R0 value exceeding that of influenza and SARS [16, 32, 33]. Second, a proportion of infected cases could be asymptomatic [36, 38, 46, 47]. Third, asymptomatic individuals could transfer the virus in the community [48, 49, 82]. Fourth, the public awareness of mask usage may increase as the pandemic spreads [64]. Fifth, the market could respond to consumer demand with a production increase and without supply chain problems [67]. Sixth, homemade cloth masks are not as effective as commercial medical masks [57, 60]. Thus, we project the best scenario as the pandemic spreads and by the end of the outbreak, the general population will be willing to wear a mask. Although wearing a mask is a low-cost and non-disruptive measure, wearing a mask has not been culturally widespread in many parts of the world [83]. Furthermore, for non-certified medical masks, individual errors could lead to ineffective mask fitting, which could reduce the benefit of wearing a mask [84]. \\nThere are limitations to those six assumptions. First, a recent study suggested that the virus was detected on the outer layer of COVID-19 patients' masks [85], which could invalidate the utility of a patient wearing a mask. However, although the virus was detected, the mask could still provide prevention by reducing the virus load to an adjacent healthy individual. Further studies on asymptomatic individuals wearing masks could be more convincing to validate the effectiveness of wearing a mask to prevent pre-symptomatic transmission. Second, we assume random mixing and model the general population, but have not taken account children's role. Children are less likely to wear masks consistently to realize mask effectiveness. At the same time, the role of children in COVID-19 transmission is unclear [86]. Third, we assume the willing individual who has a mask can use the mask in the right manner and follow social distancing and other personal hygiene practices. There are discrepancies between willingness, perceived compliance, and real compliance [87]. Fourth, research shows that masks can be a source of contamination if not disposed of or replaced in timely manner The COVID-19 pandemic has created a global crisis. Prevention such as vaccines is one of the most effective measures to mitigate such a catastrophic public health crisis. Prior to an available vaccine, NPIs such as wearing a mask can potentially reduce the virus transmission rate. Recent modeling studies suggest that timely and comprehensive NPIs are needed to prevent a secondary wave of COVID-19 [89]. However, timely implementations of NPI such as wearing a mask call for public awareness, a readily available market stockpile, and government advocacy and policies. For respiratory diseases caused by a rival agent through aerosol and droplet transmission routes, wearing masks could be a reasonable NPI to reduce the virus transmission efficiency and secondary transmission [5, 89]. \\nHowever, masks do not replace social distancing and other personal hygiene practices, such as hand washing. The effectiveness of any NPIs depends on compliance rates, contact rate reduction, the role of children, and asymptomatic cases in transmission. Our model analyzes the impact of wearing a mask that can efficiently filter viral aerosols during the COVID-19 pandemic in the general population. Our study suggests that wearing a quality mask in combination with other NPIs can support hospital resource management during a pandemic. In a free market, the risks of not having enough masks for the general population may negatively impact timely responses to the outbreak. Appropriate public health policies and government subsidies could be necessary to manage similar crises in the future. Future studies on how to improve adherence and compliance rates will better position society for potential future respiratory disease outbreaks when the viral agent has a similar clinical attack rate. - 1. Feng S, Shen C, Xia N, Song W, Fan M, Cowling BJ. Rational use of face masks in the COVID-19 pandemic. Lancet Respir Med. 2020. Epub 2020/03/24. pmid:32203710. - 2. Cowling BJ, Zhou Y, Ip DK, Leung GM, Aiello AE. Face masks to prevent transmission of influenza virus: a systematic review. Epidemiol Infect. 2010;138(4):449–56. Epub 2010/01/23. pmid:20092668. - 3. Brienen NC, Timen A, Wallinga J, van Steenbergen JE, Teunis PF. The effect of mask use on the spread of influenza during a pandemic. Risk Anal. 2010;30(8):1210–8. Epub 2010/05/26. pmid:20497389. - 4. Zhang L, Peng Z, Ou J, Zeng G, Fontaine RE, Liu M, et al. Protection by face masks against influenza A(H1N1)pdm09 virus on trans-Pacific passenger aircraft, 2009. Emerg Infect Dis. 2013;19(9). Epub 2013/08/24. pmid:23968983; PubMed Central PMCID: PMC3810906. - 5. Larson EL, Ferng YH, Wong-McLoughlin J, Wang S, Haber M, Morse SS. Impact of non-pharmaceutical interventions on URIs and influenza in crowded, urban households. \"},\n",
       "  {'question': 'What are the findings of studies on mask-wearing in countries with low COVID-19 death rates?',\n",
       "   'answer': 'Countries that quickly adopted masking, along with other control measures, have reported fewer deaths per million residents.',\n",
       "   'url': 'https://journals.plos.org/plosone/article?id=10.1371/journal.pone.0237691',\n",
       "   'scraped_text': \"A log transformed analysis is conducted to evaluate the growth rate of COVID-19 infections. ANOVA analysis is used to analyze the group effect. The p value is less than 2e-16 for the log 2 transformed case comparison, suggesting that the two groups are statistically significantly different. The Asian mask-wearing group clearly has lower growth rates of COVID-19 cases compared to the non-mask-wearing group. Thailand has the highest growth rate among the mask-wearing groups. However, the differences in the growth rate of confirmed cases between these two groups cannot be fully attributed to mask-wearing, but arise from many factors, such as clinical tests performed, complicated social, economic, and cultural differences, and varied public health polices enforcement. The preliminary comparison only provides the rationale to further evaluate if wearing masks is effective for controlling the infectious disease outbreak. Our study has six major assumptions with preliminary evidence. First, the SARS-CoV-2 transmission pathway includes airborne [1, 8, 22–24] with an R0 value exceeding that of influenza and SARS [16, 32, 33]. Second, a proportion of infected cases could be asymptomatic [36, 38, 46, 47]. Third, asymptomatic individuals could transfer the virus in the community [48, 49, 82]. Fourth, the public awareness of mask usage may increase as the pandemic spreads [64]. Fifth, the market could respond to consumer demand with a production increase and without supply chain problems [67]. Sixth, homemade cloth masks are not as effective as commercial medical masks [57, 60]. Thus, we project the best scenario as the pandemic spreads and by the end of the outbreak, the general population will be willing to wear a mask. Although wearing a mask is a low-cost and non-disruptive measure, wearing a mask has not been culturally widespread in many parts of the world [83]. Furthermore, for non-certified medical masks, individual errors could lead to ineffective mask fitting, which could reduce the benefit of wearing a mask [84]. \\nThere are limitations to those six assumptions. First, a recent study suggested that the virus was detected on the outer layer of COVID-19 patients' masks [85], which could invalidate the utility of a patient wearing a mask. However, although the virus was detected, the mask could still provide prevention by reducing the virus load to an adjacent healthy individual. Further studies on asymptomatic individuals wearing masks could be more convincing to validate the effectiveness of wearing a mask to prevent pre-symptomatic transmission. Second, we assume random mixing and model the general population, but have not taken account children's role. Children are less likely to wear masks consistently to realize mask effectiveness. At the same time, the role of children in COVID-19 transmission is unclear [86]. Third, we assume the willing individual who has a mask can use the mask in the right manner and follow social distancing and other personal hygiene practices. There are discrepancies between willingness, perceived compliance, and real compliance [87]. Fourth, research shows that masks can be a source of contamination if not disposed of or replaced in timely manner The COVID-19 pandemic has created a global crisis. Prevention such as vaccines is one of the most effective measures to mitigate such a catastrophic public health crisis. Prior to an available vaccine, NPIs such as wearing a mask can potentially reduce the virus transmission rate. Recent modeling studies suggest that timely and comprehensive NPIs are needed to prevent a secondary wave of COVID-19 [89]. However, timely implementations of NPI such as wearing a mask call for public awareness, a readily available market stockpile, and government advocacy and policies. For respiratory diseases caused by a rival agent through aerosol and droplet transmission routes, wearing masks could be a reasonable NPI to reduce the virus transmission efficiency and secondary transmission [5, 89]. \\nHowever, masks do not replace social distancing and other personal hygiene practices, such as hand washing. The effectiveness of any NPIs depends on compliance rates, contact rate reduction, the role of children, and asymptomatic cases in transmission. Our model analyzes the impact of wearing a mask that can efficiently filter viral aerosols during the COVID-19 pandemic in the general population. Our study suggests that wearing a quality mask in combination with other NPIs can support hospital resource management during a pandemic. In a free market, the risks of not having enough masks for the general population may negatively impact timely responses to the outbreak. Appropriate public health policies and government subsidies could be necessary to manage similar crises in the future. Future studies on how to improve adherence and compliance rates will better position society for potential future respiratory disease outbreaks when the viral agent has a similar clinical attack rate. - 1. Feng S, Shen C, Xia N, Song W, Fan M, Cowling BJ. Rational use of face masks in the COVID-19 pandemic. Lancet Respir Med. 2020. Epub 2020/03/24. pmid:32203710. - 2. Cowling BJ, Zhou Y, Ip DK, Leung GM, Aiello AE. Face masks to prevent transmission of influenza virus: a systematic review. Epidemiol Infect. 2010;138(4):449–56. Epub 2010/01/23. pmid:20092668. - 3. Brienen NC, Timen A, Wallinga J, van Steenbergen JE, Teunis PF. The effect of mask use on the spread of influenza during a pandemic. Risk Anal. 2010;30(8):1210–8. Epub 2010/05/26. pmid:20497389. - 4. Zhang L, Peng Z, Ou J, Zeng G, Fontaine RE, Liu M, et al. Protection by face masks against influenza A(H1N1)pdm09 virus on trans-Pacific passenger aircraft, 2009. Emerg Infect Dis. 2013;19(9). Epub 2013/08/24. pmid:23968983; PubMed Central PMCID: PMC3810906. - 5. Larson EL, Ferng YH, Wong-McLoughlin J, Wang S, Haber M, Morse SS. Impact of non-pharmaceutical interventions on URIs and influenza in crowded, urban households. \"},\n",
       "  {'question': 'What is the impact of mask mandates in the U.S. according to studies?',\n",
       "   'answer': 'States with a mandate had a more rapid decline in daily growth rates of COVID-19 and mask use prevented up to 450,000 cases of COVID-19 by May 22, 2020.',\n",
       "   'url': 'https://journals.plos.org/plosone/article?id=10.1371/journal.pone.0237691',\n",
       "   'scraped_text': \"A log transformed analysis is conducted to evaluate the growth rate of COVID-19 infections. ANOVA analysis is used to analyze the group effect. The p value is less than 2e-16 for the log 2 transformed case comparison, suggesting that the two groups are statistically significantly different. The Asian mask-wearing group clearly has lower growth rates of COVID-19 cases compared to the non-mask-wearing group. Thailand has the highest growth rate among the mask-wearing groups. However, the differences in the growth rate of confirmed cases between these two groups cannot be fully attributed to mask-wearing, but arise from many factors, such as clinical tests performed, complicated social, economic, and cultural differences, and varied public health polices enforcement. The preliminary comparison only provides the rationale to further evaluate if wearing masks is effective for controlling the infectious disease outbreak. Our study has six major assumptions with preliminary evidence. First, the SARS-CoV-2 transmission pathway includes airborne [1, 8, 22–24] with an R0 value exceeding that of influenza and SARS [16, 32, 33]. Second, a proportion of infected cases could be asymptomatic [36, 38, 46, 47]. Third, asymptomatic individuals could transfer the virus in the community [48, 49, 82]. Fourth, the public awareness of mask usage may increase as the pandemic spreads [64]. Fifth, the market could respond to consumer demand with a production increase and without supply chain problems [67]. Sixth, homemade cloth masks are not as effective as commercial medical masks [57, 60]. Thus, we project the best scenario as the pandemic spreads and by the end of the outbreak, the general population will be willing to wear a mask. Although wearing a mask is a low-cost and non-disruptive measure, wearing a mask has not been culturally widespread in many parts of the world [83]. Furthermore, for non-certified medical masks, individual errors could lead to ineffective mask fitting, which could reduce the benefit of wearing a mask [84]. \\nThere are limitations to those six assumptions. First, a recent study suggested that the virus was detected on the outer layer of COVID-19 patients' masks [85], which could invalidate the utility of a patient wearing a mask. However, although the virus was detected, the mask could still provide prevention by reducing the virus load to an adjacent healthy individual. Further studies on asymptomatic individuals wearing masks could be more convincing to validate the effectiveness of wearing a mask to prevent pre-symptomatic transmission. Second, we assume random mixing and model the general population, but have not taken account children's role. Children are less likely to wear masks consistently to realize mask effectiveness. At the same time, the role of children in COVID-19 transmission is unclear [86]. Third, we assume the willing individual who has a mask can use the mask in the right manner and follow social distancing and other personal hygiene practices. There are discrepancies between willingness, perceived compliance, and real compliance [87]. Fourth, research shows that masks can be a source of contamination if not disposed of or replaced in timely manner The COVID-19 pandemic has created a global crisis. Prevention such as vaccines is one of the most effective measures to mitigate such a catastrophic public health crisis. Prior to an available vaccine, NPIs such as wearing a mask can potentially reduce the virus transmission rate. Recent modeling studies suggest that timely and comprehensive NPIs are needed to prevent a secondary wave of COVID-19 [89]. However, timely implementations of NPI such as wearing a mask call for public awareness, a readily available market stockpile, and government advocacy and policies. For respiratory diseases caused by a rival agent through aerosol and droplet transmission routes, wearing masks could be a reasonable NPI to reduce the virus transmission efficiency and secondary transmission [5, 89]. \\nHowever, masks do not replace social distancing and other personal hygiene practices, such as hand washing. The effectiveness of any NPIs depends on compliance rates, contact rate reduction, the role of children, and asymptomatic cases in transmission. Our model analyzes the impact of wearing a mask that can efficiently filter viral aerosols during the COVID-19 pandemic in the general population. Our study suggests that wearing a quality mask in combination with other NPIs can support hospital resource management during a pandemic. In a free market, the risks of not having enough masks for the general population may negatively impact timely responses to the outbreak. Appropriate public health policies and government subsidies could be necessary to manage similar crises in the future. Future studies on how to improve adherence and compliance rates will better position society for potential future respiratory disease outbreaks when the viral agent has a similar clinical attack rate. - 1. Feng S, Shen C, Xia N, Song W, Fan M, Cowling BJ. Rational use of face masks in the COVID-19 pandemic. Lancet Respir Med. 2020. Epub 2020/03/24. pmid:32203710. - 2. Cowling BJ, Zhou Y, Ip DK, Leung GM, Aiello AE. Face masks to prevent transmission of influenza virus: a systematic review. Epidemiol Infect. 2010;138(4):449–56. Epub 2010/01/23. pmid:20092668. - 3. Brienen NC, Timen A, Wallinga J, van Steenbergen JE, Teunis PF. The effect of mask use on the spread of influenza during a pandemic. Risk Anal. 2010;30(8):1210–8. Epub 2010/05/26. pmid:20497389. - 4. Zhang L, Peng Z, Ou J, Zeng G, Fontaine RE, Liu M, et al. Protection by face masks against influenza A(H1N1)pdm09 virus on trans-Pacific passenger aircraft, 2009. Emerg Infect Dis. 2013;19(9). Epub 2013/08/24. pmid:23968983; PubMed Central PMCID: PMC3810906. - 5. Larson EL, Ferng YH, Wong-McLoughlin J, Wang S, Haber M, Morse SS. Impact of non-pharmaceutical interventions on URIs and influenza in crowded, urban households. \"}],\n",
       " 'pred_label': 'Refuted'}"
      ]
     },
     "execution_count": 11,
     "metadata": {},
     "output_type": "execute_result"
    }
   ],
   "source": [
    "pipeline_result.to_submission()"
   ]
  },
  {
   "cell_type": "code",
   "execution_count": 12,
   "metadata": {},
   "outputs": [],
   "source": [
    "# pickle dump pipeline result\n",
    "import pickle\n",
    "with open('data/pipeline_result.pkl', 'wb') as f:\n",
    "    pickle.dump(pipeline_result, f)"
   ]
  },
  {
   "cell_type": "markdown",
   "metadata": {},
   "source": [
    "## Whole dev set example\n",
    "not really whole, but we will show a sampling :)"
   ]
  },
  {
   "cell_type": "code",
   "execution_count": 5,
   "metadata": {},
   "outputs": [],
   "source": [
    "import json, random, pickle\n",
    "from tqdm.notebook import tqdm\n",
    "sample_size = 2\n",
    "random.seed(111)"
   ]
  },
  {
   "cell_type": "code",
   "execution_count": 86,
   "metadata": {},
   "outputs": [
    {
     "data": {
      "application/vnd.jupyter.widget-view+json": {
       "model_id": "94d63ad33a3644b79682502b51f9f61d",
       "version_major": 2,
       "version_minor": 0
      },
      "text/plain": [
       "  0%|          | 0/2 [00:00<?, ?it/s]"
      ]
     },
     "metadata": {},
     "output_type": "display_data"
    }
   ],
   "source": [
    "retriever = SimpleFaissRetriever(k=5, path=\"/mnt/data/factcheck/averitec-data/data_store/vecstore/dev/6k\")\n",
    "evidence_generator = GptEvidenceGenerator(\"gpt-4o\")\n",
    "classifier = DefaultClassifier()\n",
    "pipeline = Pipeline(retriever, evidence_generator, classifier)\n",
    "\n",
    "with open(\"/mnt/data/factcheck/averitec-data/data/dev.json\") as f:\n",
    "    dataset = json.load(f)\n",
    "    seq = 0\n",
    "    for d in dataset:\n",
    "        d[\"claim_id\"] = seq\n",
    "        seq += 1\n",
    "\n",
    "\n",
    "sample = random.sample(dataset, sample_size)\n",
    "\n",
    "with open(f\"/mnt/data/factcheck/averitec-data/data/dev{sample_size}.json\", \"w\") as f:\n",
    "    json.dump(sample, f)\n",
    "    \n",
    "datapoints = [Datapoint.from_dict(d) for d in sample]\n",
    "submission = []\n",
    "dump = []\n",
    "\n",
    "for dp in tqdm(datapoints):\n",
    "    pipeline_result = pipeline(dp)\n",
    "    submission.append(pipeline_result.to_submission())\n",
    "    dump.append(pipeline_result)\n",
    "    with open(f\"/mnt/data/factcheck/averitec-data/data_store/submission_dev{sample_size}.json\", \"w\") as f:\n",
    "        json.dump(submission, f, indent=4)\n",
    "    with open(f\"/mnt/data/factcheck/averitec-data/data_store/pipeline_result_dev{sample_size}.pkl\", \"wb\") as f:\n",
    "        pickle.dump(dump, f)"
   ]
  },
  {
   "cell_type": "code",
   "execution_count": 14,
   "metadata": {},
   "outputs": [
    {
     "data": {
      "text/plain": [
       "{'suggested_label': array([0.1469628 , 0.3994863 , 0.3994863 , 0.05406459]),\n",
       " 'llm_type': 'gpt-4o',\n",
       " 'llm_output': {'questions': [{'question': 'Did Donald Trump sign executive orders aimed at lowering prescription drug costs?',\n",
       "    'answer': 'Yes, Donald Trump signed multiple executive orders aimed at lowering the cost of prescription drugs.',\n",
       "    'source': '0'},\n",
       "   {'question': 'When did Donald Trump sign these executive orders?',\n",
       "    'answer': 'Donald Trump signed these executive orders on a Friday, but the exact date is not specified in the sources.',\n",
       "    'source': '1'},\n",
       "   {'question': 'What were the main objectives of the executive orders signed by Trump?',\n",
       "    'answer': 'The executive orders aimed to allow imports of cheaper medicines, direct drugmaker rebates straight to patients, provide insulin and EpiPens at steep discounts to low-income people, and use lower international prices to pay for some Medicare drugs.',\n",
       "    'source': '1'},\n",
       "   {'question': 'Did Trump claim that these orders would massively lower the cost of prescription drugs?',\n",
       "    'answer': 'Yes, Trump claimed that these orders would massively lower the cost of prescription drugs.',\n",
       "    'source': '0'},\n",
       "   {'question': 'Did Trump face opposition from Big Pharma regarding these executive orders?',\n",
       "    'answer': 'Yes, Trump faced opposition from Big Pharma, and he mentioned that Big Pharma has vast power.',\n",
       "    'source': '0'},\n",
       "   {'question': 'Were there any immediate effects of the executive orders on drug prices?',\n",
       "    'answer': 'No, consumers may not notice immediate changes since the orders must be carried out by the federal bureaucracy and could face court challenges.',\n",
       "    'source': '1'},\n",
       "   {'question': 'Did Trump previously promise to negotiate drug prices through Medicare?',\n",
       "    'answer': 'Yes, Trump previously promised to negotiate drug prices through Medicare but later abandoned that pledge.',\n",
       "    'source': '3'},\n",
       "   {'question': 'Have experts expressed skepticism about the implementation and effectiveness of these executive orders?',\n",
       "    'answer': 'Yes, experts have expressed skepticism about whether these proposals will be implemented and whether they would significantly lower drug prices for Americans.',\n",
       "    'source': '4'},\n",
       "   {'question': 'Did Trump claim to have reduced drug prices before?',\n",
       "    'answer': 'Yes, Trump has previously claimed to have reduced drug prices, but these claims were found to be mostly false.',\n",
       "    'source': '4'},\n",
       "   {'question': 'Is there any evidence that the executive orders have already led to lower drug prices?',\n",
       "    'answer': 'No, there is no evidence that the executive orders have already led to lower drug prices.',\n",
       "    'source': '4'}],\n",
       "  'claim_veracity': {'Supported': '4',\n",
       "   'Refuted': '3',\n",
       "   'Not Enough Evidence': '4',\n",
       "   'Conflicting Evidence/Cherrypicking': '2'}}}"
      ]
     },
     "execution_count": 14,
     "metadata": {},
     "output_type": "execute_result"
    }
   ],
   "source": [
    "dump[-1].evidence_generation_result.metadata"
   ]
  },
  {
   "cell_type": "markdown",
   "metadata": {},
   "source": [
    "### now lets see if our submission fits the eval script"
   ]
  },
  {
   "cell_type": "code",
   "execution_count": 15,
   "metadata": {},
   "outputs": [
    {
     "name": "stdout",
     "output_type": "stream",
     "text": [
      "Question-only score (HU-meteor):             0.7057333276522711\n",
      "Question-answer score (HU-meteor):           0.36226711909299614\n",
      "====================\n",
      "Veracity F1 scores:\n",
      " * Supported:                                0.6666666666666666\n",
      " * Refuted:                                  0.0\n",
      " * Not Enough Evidence:                      0.0\n",
      " * Conflicting Evidence/Cherrypicking:       0.0\n",
      " * macro:                                    0.16666666666666666\n",
      " * acc:                                      0.5\n",
      "--------------------\n",
      "AVeriTeC scores:\n",
      " * Veracity scores (meteor @ 0.1):           0.5\n",
      " * Veracity scores (meteor @ 0.2):           0.5\n",
      " * Veracity scores (meteor @ 0.25):          0.5\n",
      " * Veracity scores (meteor @ 0.3):           0.5\n",
      " * Veracity scores (meteor @ 0.4):           0.0\n",
      " * Veracity scores (meteor @ 0.5):           0.0\n",
      "--------------------\n",
      "AVeriTeC scores by type @ 0.25:\n",
      " * Veracity scores (Position Statement):     0.36226711909299614\n",
      " * Veracity scores (Quote Verification):     0.32760357724321804\n",
      " * Veracity scores (Event/Property Claim):   0.32760357724321804\n"
     ]
    },
    {
     "name": "stderr",
     "output_type": "stream",
     "text": [
      "/home/ullriher/venvs/averitec/lib/python3.10/site-packages/sklearn/metrics/_classification.py:1517: UndefinedMetricWarning: F-score is ill-defined and being set to 0.0 in labels with no true nor predicted samples. Use `zero_division` parameter to control this behavior.\n",
      "  _warn_prf(average, modifier, f\"{metric.capitalize()} is\", len(result))\n",
      "/home/ullriher/venvs/averitec/lib/python3.10/site-packages/sklearn/metrics/_classification.py:1517: UndefinedMetricWarning: F-score is ill-defined and being set to 0.0 in labels with no true nor predicted samples. Use `zero_division` parameter to control this behavior.\n",
      "  _warn_prf(average, modifier, f\"{metric.capitalize()} is\", len(result))\n"
     ]
    }
   ],
   "source": [
    "%run src/prediction/evaluate_veracity.py --label_file data/dev{sample_size}.json --prediction_file data_store/submission_dev{sample_size}.json"
   ]
  },
  {
   "cell_type": "markdown",
   "metadata": {},
   "source": [
    "## Load Pickles"
   ]
  },
  {
   "cell_type": "code",
   "execution_count": 30,
   "metadata": {},
   "outputs": [],
   "source": [
    "DUMP_PATH = \"/mnt/data/factcheck/averitec-data/data_store/pipeline_result_dev.pkl\"\n",
    "DUMP_PATH_CLAUDE = \"/mnt/data/factcheck/averitec-data/data_store/pipeline_result_dev_claude.pkl\"\n",
    "# dump = pickle.load(open(f\"/mnt/data/factcheck/averitec-data/data_store/pipeline_result_dev{sample_size}.pkl\", \"rb\"))\n",
    "dump = pickle.load(open(DUMP_PATH, \"rb\")) #whole dev set\n",
    "\n",
    "retrieval_results = [d.retrieval_result for d in dump]\n",
    "evidence_generation_results = [d.evidence_generation_result for d in dump]\n",
    "datapoints = [d.datapoint for d in dump]\n",
    "\n",
    "dump_claude = pickle.load(open(DUMP_PATH_CLAUDE, \"rb\")) #whole dev set\n",
    "\n",
    "retrieval_results_claude = [d.retrieval_result for d in dump_claude]\n",
    "evidence_generation_results_claude = [d.evidence_generation_result for d in dump_claude]\n",
    "datapoints_claude = [d.datapoint for d in dump_claude]"
   ]
  },
  {
   "cell_type": "code",
   "execution_count": 28,
   "metadata": {},
   "outputs": [],
   "source": [
    "#split dump in dev_train and dev_test respecting the labels\n",
    "#divide dump according to the labels\n",
    "dump_labels = {0: [], 1: [], 2: [], 3: []}\n",
    "\n",
    "for d in dump:\n",
    "    dump_labels[label2id[d.datapoint.label]].append(d)\n",
    "\n",
    "dump_dev_train = []\n",
    "dump_dev_test = []\n",
    "\n",
    "for label, data in dump_labels.items():\n",
    "    split = int(len(data)*0.7)\n",
    "    dump_dev_train.extend(data[:split])\n",
    "    dump_dev_test.extend(data[split:])\n",
    "\n",
    "random.shuffle(dump_dev_train)\n",
    "\n",
    "retrieval_results_dev_train = [d.retrieval_result for d in dump_dev_train]\n",
    "evidence_generation_results_dev_train = [d.evidence_generation_result for d in dump_dev_train]\n",
    "datapoints_dev_train = [d.datapoint for d in dump_dev_train]\n",
    "\n",
    "retrieval_results_dev_test = [d.retrieval_result for d in dump_dev_test]\n",
    "evidence_generation_results_dev_test = [d.evidence_generation_result for d in dump_dev_test]\n",
    "datapoints_dev_test = [d.datapoint for d in dump_dev_test]"
   ]
  },
  {
   "cell_type": "markdown",
   "metadata": {},
   "source": [
    "## Classifiers testing"
   ]
  },
  {
   "cell_type": "code",
   "execution_count": 29,
   "metadata": {},
   "outputs": [],
   "source": [
    "def test_classifier(pipeline_results, datapoints, verbose=False):\n",
    "    pipeline_labels = [np.argmax(pr.classification_result.probs) for pr in pipeline_results]\n",
    "    \n",
    "    true_labels = [label2id[d.label] for d in datapoints]\n",
    "    if verbose:\n",
    "        print(\"y_pred\", np.unique(pipeline_labels, return_counts=True))\n",
    "        print(\"y_true\", np.unique(true_labels, return_counts=True))\n",
    "\n",
    "    print(classification_report(true_labels, pipeline_labels, target_names=id2label.values()))"
   ]
  },
  {
   "cell_type": "markdown",
   "metadata": {},
   "source": [
    "### GPT4o Likert scale based classifier"
   ]
  },
  {
   "cell_type": "code",
   "execution_count": 31,
   "metadata": {},
   "outputs": [
    {
     "data": {
      "text/plain": [
       "(ClassificationResult(probs=array([0.94791499, 0.01736167, 0.01736167, 0.01736167]), metadata=None),\n",
       " 'Refuted',\n",
       " 'Evidence(question=\\'Was Reed Hastings, the CEO of Netflix, arrested by the FBI?\\', answer=\\'No, Reed Hastings was not arrested by the FBI.\\', url=\\'https://www.boomlive.in/world/posts-claiming-netflix-ceo-was-arrested-for-child-pornography-are-false-9919\\', scraped_text=\\'\\\\nPosts Claiming Netflix CEO Was Arrested For Child Pornography Are False Law enforcement officials said that there was no arrest and the rumour was published by a fringe news site, where it has since been removed. \"The CEO of a Netflix – Reed Hastings – has been caught by FBI agents with 13,000 files of child pornography. He was arrested at his home in California,\" reads a Facebook post, archived here, shared more than 400 times since it was published on September 12, 2020. Screenshot taken on September 22, 2020, showing the false claim on Facebook The same claim also circulated on social media in Spanish, Portuguese, German and Italian. Many posts give the source of the information as Toronto Today, a website describing itself on Facebook as offering \"radical and revolutionary news\". Also Read: No, Target Hasn\\\\\\'t Issued Black Lives Matter T-shirts As Uniform AFP Fact Check found the site was registered on July 8, 2020, according to domain name search site WhoIs. Since then, the website has published several viral false claims debunked by various fact-checking organisations, including Snopes and Lead Stories. On September 12, 2020, Toronto Today published an article headlined, \"Netflix CEO gets BUSTED with 13,000 files of CHILD PORNOGRAPHY\". Although the article has since been removed, an archived version is still accessible. AFP Fact Check ran a Google search of keywords from the article, such as the alleged \"13,000 files\" of child pornography and \"279 of the submitted files\" allegedly depicting victims known to authorities. We found US news reports about the arrest of a man in Utah state in December 2019. The man, described as a \"CEO\", reportedly possessed more than 13,000 files of child pornography, with 279 including \"identifiable child victims\". The Toronto Today story also mentions two organisations that were allegedly involved in investigating Hastings - the Internet Crimes Against Children Task Force (ICAC) and the National Center for Missing and Exploited Children (NCMEC). \\\\nAFP Fact Check ran keyword searches for \"Hastings\" on the websites of the two organisations but found no information on his alleged arrest. Brandon Pursell, commander of the ICAC task force in central Califonia, told AFP Fact Check his task force \"did not arrest\" Hastings. Furthermore, the FBI did not release a statement on Hasting\\\\\\'s alleged arrest as it has done in the past for prominent figures, including former Uber CSO Joseph Sullivan, who was charged in August with attempting to cover up a hack of millions of customers\\\\\\' personal details. Hastings, who co-founded Netflix in 1997, was active on Twitter on September 12, 2020 -- the same day the Toronto Today article reported that he had been \"arrested at his home in California\". https://t.co/Wkr1S14YZV Some independent perspective on the Sundance award-winning French film Cuties— Reed Hastings (@reedhastings) September 12, 2020 He has since given interviews to media outlets including Wired and NPR promoting his book, \\\\\\'No Rules Rules: Netflix and the Culture of Reinvention\\\\\\'. Also Read: Map Of US Wildfires Shared To Cast Doubts On Climate Change The child pornography allegation comes amid calls for a boycott of Netflix over French film \"Cuties\" (\"Mignonnes\"), which critics say portrays its young stars in a sexualised way. Celebrities and politicians have tweeted the hashtag #CancelNetflix, used more than 200,000 times. Just a reminder to #CancelNetflix if you haven\\\\\\'t already. My dear friend & fellow child advocate @drjohndegarmo called @Netflix & after a calm and lengthy discussion on why #Cuties is child exploitation, promoting pedophelia, and is soft core porn, Netflix says they stand by it.— Meanwhile, US Republican Senator Ted Cruz wrote to the Justice Department asking it to investigate \"whether Netflix, its executives, or the makers of the film \\\\\\'Cuties\\\\\\' violated any federal laws against the production and distribution of child pornography\". \\')')"
      ]
     },
     "execution_count": 31,
     "metadata": {},
     "output_type": "execute_result"
    }
   ],
   "source": [
    "#GPTClassifier example\n",
    "gpt_likert_classifier = DefaultClassifier(evidence_generation_results=evidence_generation_results)\n",
    "\n",
    "mock_pipeline = MockPipeline(\n",
    "    classifier=gpt_likert_classifier,\n",
    "    dumps=DUMP_PATH,\n",
    ")\n",
    "\n",
    "pipeline_result = mock_pipeline(dump_dev_test[0].datapoint)\n",
    "pipeline_result.classification_result, str(pipeline_result.classification_result), str(pipeline_result.evidence_generation_result.evidences[0])"
   ]
  },
  {
   "cell_type": "code",
   "execution_count": 32,
   "metadata": {},
   "outputs": [
    {
     "name": "stdout",
     "output_type": "stream",
     "text": [
      "y_pred (array([0, 1, 2, 3]), array([94, 48,  9,  1]))\n",
      "y_true (array([0, 1, 2, 3]), array([92, 37, 11, 12]))\n",
      "                                    precision    recall  f1-score   support\n",
      "\n",
      "                           Refuted       0.81      0.83      0.82        92\n",
      "                         Supported       0.58      0.76      0.66        37\n",
      "               Not Enough Evidence       0.11      0.09      0.10        11\n",
      "Conflicting Evidence/Cherrypicking       0.00      0.00      0.00        12\n",
      "\n",
      "                          accuracy                           0.69       152\n",
      "                         macro avg       0.38      0.42      0.39       152\n",
      "                      weighted avg       0.64      0.69      0.66       152\n",
      "\n"
     ]
    }
   ],
   "source": [
    "pipeline_results_gpt_likert = [mock_pipeline(d.datapoint) for d in dump_dev_test]\n",
    "\n",
    "test_classifier(pipeline_results_gpt_likert, datapoints_dev_test, verbose=True)\n"
   ]
  },
  {
   "cell_type": "code",
   "execution_count": 33,
   "metadata": {},
   "outputs": [
    {
     "name": "stdout",
     "output_type": "stream",
     "text": [
      "y_pred (array([0, 1, 2, 3]), array([305, 143,  39,  13]))\n",
      "y_true (array([0, 1, 2, 3]), array([305, 122,  35,  38]))\n",
      "                                    precision    recall  f1-score   support\n",
      "\n",
      "                           Refuted       0.81      0.81      0.81       305\n",
      "                         Supported       0.61      0.71      0.66       122\n",
      "               Not Enough Evidence       0.18      0.20      0.19        35\n",
      "Conflicting Evidence/Cherrypicking       0.15      0.05      0.08        38\n",
      "\n",
      "                          accuracy                           0.69       500\n",
      "                         macro avg       0.44      0.44      0.43       500\n",
      "                      weighted avg       0.67      0.69      0.67       500\n",
      "\n"
     ]
    }
   ],
   "source": [
    "#whole dev\n",
    "pipeline_results_gpt_likert = [mock_pipeline(d.datapoint) for d in dump]\n",
    "\n",
    "test_classifier(pipeline_results_gpt_likert, datapoints, verbose=True)"
   ]
  },
  {
   "cell_type": "markdown",
   "metadata": {},
   "source": [
    "### Claude Likert scale based classifier"
   ]
  },
  {
   "cell_type": "code",
   "execution_count": 34,
   "metadata": {},
   "outputs": [
    {
     "data": {
      "text/plain": [
       "(ClassificationResult(probs=array([0.94791499, 0.01736167, 0.01736167, 0.01736167]), metadata=None),\n",
       " 'Refuted',\n",
       " 'Evidence(question=\\'Was Reed Hastings, the CEO of Netflix, arrested by the FBI?\\', answer=\\'No, Reed Hastings was not arrested by the FBI.\\', url=\\'https://www.boomlive.in/world/posts-claiming-netflix-ceo-was-arrested-for-child-pornography-are-false-9919\\', scraped_text=\\'\\\\nPosts Claiming Netflix CEO Was Arrested For Child Pornography Are False Law enforcement officials said that there was no arrest and the rumour was published by a fringe news site, where it has since been removed. \"The CEO of a Netflix – Reed Hastings – has been caught by FBI agents with 13,000 files of child pornography. He was arrested at his home in California,\" reads a Facebook post, archived here, shared more than 400 times since it was published on September 12, 2020. Screenshot taken on September 22, 2020, showing the false claim on Facebook The same claim also circulated on social media in Spanish, Portuguese, German and Italian. Many posts give the source of the information as Toronto Today, a website describing itself on Facebook as offering \"radical and revolutionary news\". Also Read: No, Target Hasn\\\\\\'t Issued Black Lives Matter T-shirts As Uniform AFP Fact Check found the site was registered on July 8, 2020, according to domain name search site WhoIs. Since then, the website has published several viral false claims debunked by various fact-checking organisations, including Snopes and Lead Stories. On September 12, 2020, Toronto Today published an article headlined, \"Netflix CEO gets BUSTED with 13,000 files of CHILD PORNOGRAPHY\". Although the article has since been removed, an archived version is still accessible. AFP Fact Check ran a Google search of keywords from the article, such as the alleged \"13,000 files\" of child pornography and \"279 of the submitted files\" allegedly depicting victims known to authorities. We found US news reports about the arrest of a man in Utah state in December 2019. The man, described as a \"CEO\", reportedly possessed more than 13,000 files of child pornography, with 279 including \"identifiable child victims\". The Toronto Today story also mentions two organisations that were allegedly involved in investigating Hastings - the Internet Crimes Against Children Task Force (ICAC) and the National Center for Missing and Exploited Children (NCMEC). \\\\nAFP Fact Check ran keyword searches for \"Hastings\" on the websites of the two organisations but found no information on his alleged arrest. Brandon Pursell, commander of the ICAC task force in central Califonia, told AFP Fact Check his task force \"did not arrest\" Hastings. Furthermore, the FBI did not release a statement on Hasting\\\\\\'s alleged arrest as it has done in the past for prominent figures, including former Uber CSO Joseph Sullivan, who was charged in August with attempting to cover up a hack of millions of customers\\\\\\' personal details. Hastings, who co-founded Netflix in 1997, was active on Twitter on September 12, 2020 -- the same day the Toronto Today article reported that he had been \"arrested at his home in California\". https://t.co/Wkr1S14YZV Some independent perspective on the Sundance award-winning French film Cuties— Reed Hastings (@reedhastings) September 12, 2020 He has since given interviews to media outlets including Wired and NPR promoting his book, \\\\\\'No Rules Rules: Netflix and the Culture of Reinvention\\\\\\'. Also Read: Map Of US Wildfires Shared To Cast Doubts On Climate Change The child pornography allegation comes amid calls for a boycott of Netflix over French film \"Cuties\" (\"Mignonnes\"), which critics say portrays its young stars in a sexualised way. Celebrities and politicians have tweeted the hashtag #CancelNetflix, used more than 200,000 times. Just a reminder to #CancelNetflix if you haven\\\\\\'t already. My dear friend & fellow child advocate @drjohndegarmo called @Netflix & after a calm and lengthy discussion on why #Cuties is child exploitation, promoting pedophelia, and is soft core porn, Netflix says they stand by it.— Meanwhile, US Republican Senator Ted Cruz wrote to the Justice Department asking it to investigate \"whether Netflix, its executives, or the makers of the film \\\\\\'Cuties\\\\\\' violated any federal laws against the production and distribution of child pornography\". \\')')"
      ]
     },
     "execution_count": 34,
     "metadata": {},
     "output_type": "execute_result"
    }
   ],
   "source": [
    "#ClaudeClassifier example\n",
    "claude_likert_classifier = DefaultClassifier(evidence_generation_results=evidence_generation_results_claude)\n",
    "\n",
    "mock_pipeline = MockPipeline(\n",
    "    classifier=claude_likert_classifier,\n",
    "    dumps=DUMP_PATH,\n",
    ")\n",
    "\n",
    "pipeline_result = mock_pipeline(dump_dev_test[0].datapoint)\n",
    "pipeline_result.classification_result, str(pipeline_result.classification_result), str(\n",
    "    pipeline_result.evidence_generation_result.evidences[0])"
   ]
  },
  {
   "cell_type": "code",
   "execution_count": 36,
   "metadata": {},
   "outputs": [
    {
     "name": "stdout",
     "output_type": "stream",
     "text": [
      "y_pred (array([0, 1, 2, 3]), array([67, 35, 13, 37]))\n",
      "y_true (array([0, 1, 2, 3]), array([92, 37, 11, 12]))\n",
      "                                    precision    recall  f1-score   support\n",
      "\n",
      "                           Refuted       0.87      0.63      0.73        92\n",
      "                         Supported       0.74      0.70      0.72        37\n",
      "               Not Enough Evidence       0.23      0.27      0.25        11\n",
      "Conflicting Evidence/Cherrypicking       0.16      0.50      0.24        12\n",
      "\n",
      "                          accuracy                           0.61       152\n",
      "                         macro avg       0.50      0.53      0.49       152\n",
      "                      weighted avg       0.73      0.61      0.65       152\n",
      "\n"
     ]
    }
   ],
   "source": [
    "pipeline_results_claude_likert = [mock_pipeline(d.datapoint) for d in dump_dev_test]\n",
    "\n",
    "test_classifier(pipeline_results_claude_likert, datapoints_dev_test, verbose=True)"
   ]
  },
  {
   "cell_type": "code",
   "execution_count": 37,
   "metadata": {},
   "outputs": [
    {
     "name": "stdout",
     "output_type": "stream",
     "text": [
      "y_pred (array([0, 1, 2, 3]), array([247, 110,  34, 109]))\n",
      "y_true (array([0, 1, 2, 3]), array([305, 122,  35,  38]))\n",
      "                                    precision    recall  f1-score   support\n",
      "\n",
      "                           Refuted       0.87      0.70      0.78       305\n",
      "                         Supported       0.74      0.66      0.70       122\n",
      "               Not Enough Evidence       0.21      0.20      0.20        35\n",
      "Conflicting Evidence/Cherrypicking       0.18      0.53      0.27        38\n",
      "\n",
      "                          accuracy                           0.64       500\n",
      "                         macro avg       0.50      0.52      0.49       500\n",
      "                      weighted avg       0.74      0.64      0.68       500\n",
      "\n"
     ]
    }
   ],
   "source": [
    "#whole dev\n",
    "pipeline_results_claude_likert = [mock_pipeline(d.datapoint) for d in dump]\n",
    "\n",
    "test_classifier(pipeline_results_claude_likert, datapoints, verbose=True)"
   ]
  },
  {
   "cell_type": "markdown",
   "metadata": {},
   "source": [
    "### Huggingface based classifier"
   ]
  },
  {
   "cell_type": "code",
   "execution_count": 55,
   "metadata": {},
   "outputs": [
    {
     "data": {
      "text/plain": [
       "(ClassificationResult(probs=array([9.9754179e-01, 3.8506641e-04, 1.2324582e-03, 8.4070157e-04],\n",
       "       dtype=float32), metadata={'logits': array([[ 5.451454 , -2.3421342, -1.2933868, -1.6085335],\n",
       "        [ 5.404509 , -2.4541886, -1.2605273, -1.549625 ],\n",
       "        [ 5.505223 , -2.3594985, -1.2050164, -1.6430886],\n",
       "        [ 5.5156126, -2.4180639, -1.1979843, -1.6767354],\n",
       "        [ 5.4588323, -2.4269962, -1.2276417, -1.6143471],\n",
       "        [ 5.4715605, -2.350417 , -1.3035946, -1.5991894],\n",
       "        [ 5.421331 , -2.4247289, -1.103447 , -1.6727502],\n",
       "        [ 5.4672832, -2.384836 , -1.3410959, -1.5654705],\n",
       "        [ 5.4723916, -2.392237 , -1.2000624, -1.6302536],\n",
       "        [ 5.4460998, -2.428934 , -1.2157843, -1.6138378]], dtype=float32), 'mean_logits': array([ 5.4614296, -2.3982036, -1.234854 , -1.6173832], dtype=float32)}),\n",
       " 'Refuted',\n",
       " 'Evidence(question=\\'Was Netflix CEO Reed Hastings arrested?\\', answer=\\'No, Reed Hastings was not arrested. This claim is false.\\', url=\\'https://www.boomlive.in/world/posts-claiming-netflix-ceo-was-arrested-for-child-pornography-are-false-9919\\', scraped_text=\\'\\\\nPosts Claiming Netflix CEO Was Arrested For Child Pornography Are False Law enforcement officials said that there was no arrest and the rumour was published by a fringe news site, where it has since been removed. \"The CEO of a Netflix – Reed Hastings – has been caught by FBI agents with 13,000 files of child pornography. He was arrested at his home in California,\" reads a Facebook post, archived here, shared more than 400 times since it was published on September 12, 2020. Screenshot taken on September 22, 2020, showing the false claim on Facebook The same claim also circulated on social media in Spanish, Portuguese, German and Italian. Many posts give the source of the information as Toronto Today, a website describing itself on Facebook as offering \"radical and revolutionary news\". Also Read: No, Target Hasn\\\\\\'t Issued Black Lives Matter T-shirts As Uniform AFP Fact Check found the site was registered on July 8, 2020, according to domain name search site WhoIs. Since then, the website has published several viral false claims debunked by various fact-checking organisations, including Snopes and Lead Stories. On September 12, 2020, Toronto Today published an article headlined, \"Netflix CEO gets BUSTED with 13,000 files of CHILD PORNOGRAPHY\". Although the article has since been removed, an archived version is still accessible. AFP Fact Check ran a Google search of keywords from the article, such as the alleged \"13,000 files\" of child pornography and \"279 of the submitted files\" allegedly depicting victims known to authorities. We found US news reports about the arrest of a man in Utah state in December 2019. The man, described as a \"CEO\", reportedly possessed more than 13,000 files of child pornography, with 279 including \"identifiable child victims\". The Toronto Today story also mentions two organisations that were allegedly involved in investigating Hastings - the Internet Crimes Against Children Task Force (ICAC) and the National Center for Missing and Exploited Children (NCMEC). \\\\nAFP Fact Check ran keyword searches for \"Hastings\" on the websites of the two organisations but found no information on his alleged arrest. Brandon Pursell, commander of the ICAC task force in central Califonia, told AFP Fact Check his task force \"did not arrest\" Hastings. Furthermore, the FBI did not release a statement on Hasting\\\\\\'s alleged arrest as it has done in the past for prominent figures, including former Uber CSO Joseph Sullivan, who was charged in August with attempting to cover up a hack of millions of customers\\\\\\' personal details. Hastings, who co-founded Netflix in 1997, was active on Twitter on September 12, 2020 -- the same day the Toronto Today article reported that he had been \"arrested at his home in California\". https://t.co/Wkr1S14YZV Some independent perspective on the Sundance award-winning French film Cuties— Reed Hastings (@reedhastings) September 12, 2020 He has since given interviews to media outlets including Wired and NPR promoting his book, \\\\\\'No Rules Rules: Netflix and the Culture of Reinvention\\\\\\'. Also Read: Map Of US Wildfires Shared To Cast Doubts On Climate Change The child pornography allegation comes amid calls for a boycott of Netflix over French film \"Cuties\" (\"Mignonnes\"), which critics say portrays its young stars in a sexualised way. Celebrities and politicians have tweeted the hashtag #CancelNetflix, used more than 200,000 times. Just a reminder to #CancelNetflix if you haven\\\\\\'t already. My dear friend & fellow child advocate @drjohndegarmo called @Netflix & after a calm and lengthy discussion on why #Cuties is child exploitation, promoting pedophelia, and is soft core porn, Netflix says they stand by it.— Meanwhile, US Republican Senator Ted Cruz wrote to the Justice Department asking it to investigate \"whether Netflix, its executives, or the makers of the film \\\\\\'Cuties\\\\\\' violated any federal laws against the production and distribution of child pornography\". \\')')"
      ]
     },
     "execution_count": 55,
     "metadata": {},
     "output_type": "execute_result"
    }
   ],
   "source": [
    "#HuggingfaceClassifier example\n",
    "\n",
    "#hf_classifier = HuggingfaceClassifier(model_path=\"/mnt/data/factcheck/averitec-data/pretrained_models/nli_4concat/deberta-v3-large/checkpoint-576\")\n",
    "hf_classifier = HuggingfaceClassifier(model_path=\"/mnt/data/factcheck/averitec-data/pretrained_models/nli_4concat/deberta-v3-large/checkpoint-576\", rand_order_evidence=True, num_orders=10)\n",
    "\n",
    "mock_pipeline = MockPipeline(\n",
    "    classifier=hf_classifier,\n",
    "    dumps=DUMP_PATH_CLAUDE,\n",
    ")\n",
    "\n",
    "pipeline_result = mock_pipeline(dump_dev_test[0].datapoint)\n",
    "pipeline_result.classification_result, str(pipeline_result.classification_result), str(\n",
    "    pipeline_result.evidence_generation_result.evidences[0]\n",
    ")"
   ]
  },
  {
   "cell_type": "code",
   "execution_count": 26,
   "metadata": {},
   "outputs": [
    {
     "name": "stdout",
     "output_type": "stream",
     "text": [
      "y_pred (array([0, 1, 2, 3]), array([265, 115,   5, 115]))\n",
      "y_true (array([0, 1, 2, 3]), array([305, 122,  35,  38]))\n",
      "                                    precision    recall  f1-score   support\n",
      "\n",
      "                           Refuted       0.84      0.73      0.78       305\n",
      "                         Supported       0.65      0.61      0.63       122\n",
      "               Not Enough Evidence       0.40      0.06      0.10        35\n",
      "Conflicting Evidence/Cherrypicking       0.10      0.29      0.14        38\n",
      "\n",
      "                          accuracy                           0.62       500\n",
      "                         macro avg       0.50      0.42      0.41       500\n",
      "                      weighted avg       0.71      0.62      0.65       500\n",
      "\n"
     ]
    }
   ],
   "source": [
    "#whole dev\n",
    "pipeline_results_hf = [mock_pipeline(d.datapoint) for d in dump]\n",
    "test_classifier(pipeline_results_hf, datapoints, verbose=True)"
   ]
  },
  {
   "cell_type": "code",
   "execution_count": 52,
   "metadata": {},
   "outputs": [
    {
     "name": "stdout",
     "output_type": "stream",
     "text": [
      "                                    precision    recall  f1-score   support\n",
      "\n",
      "                           Refuted       0.86      0.77      0.81        92\n",
      "                         Supported       0.60      0.57      0.58        37\n",
      "               Not Enough Evidence       0.50      0.09      0.15        11\n",
      "Conflicting Evidence/Cherrypicking       0.16      0.42      0.23        12\n",
      "\n",
      "                          accuracy                           0.64       152\n",
      "                         macro avg       0.53      0.46      0.44       152\n",
      "                      weighted avg       0.71      0.64      0.66       152\n",
      "\n"
     ]
    }
   ],
   "source": [
    "pipeline_results_hf = [mock_pipeline(d.datapoint) for d in dump_dev_test]\n",
    "\n",
    "test_classifier(pipeline_results_hf, datapoints_dev_test)\n"
   ]
  },
  {
   "cell_type": "code",
   "execution_count": 54,
   "metadata": {},
   "outputs": [
    {
     "name": "stdout",
     "output_type": "stream",
     "text": [
      "                                    precision    recall  f1-score   support\n",
      "\n",
      "                           Refuted       0.84      0.77      0.80        92\n",
      "                         Supported       0.73      0.59      0.66        37\n",
      "               Not Enough Evidence       0.67      0.36      0.47        11\n",
      "Conflicting Evidence/Cherrypicking       0.13      0.33      0.19        12\n",
      "\n",
      "                          accuracy                           0.66       152\n",
      "                         macro avg       0.59      0.52      0.53       152\n",
      "                      weighted avg       0.74      0.66      0.69       152\n",
      "\n"
     ]
    }
   ],
   "source": [
    "#with claude evidence\n",
    "pipeline_results_hf = [mock_pipeline(d.datapoint) for d in dump_dev_test]\n",
    "\n",
    "test_classifier(pipeline_results_hf, datapoints_dev_test)\n"
   ]
  },
  {
   "cell_type": "code",
   "execution_count": 30,
   "metadata": {},
   "outputs": [
    {
     "name": "stdout",
     "output_type": "stream",
     "text": [
      "                                    precision    recall  f1-score   support\n",
      "\n",
      "                           Refuted       0.84      0.76      0.80        92\n",
      "                         Supported       0.61      0.59      0.60        37\n",
      "               Not Enough Evidence       0.00      0.00      0.00        11\n",
      "Conflicting Evidence/Cherrypicking       0.12      0.33      0.18        12\n",
      "\n",
      "                          accuracy                           0.63       152\n",
      "                         macro avg       0.39      0.42      0.40       152\n",
      "                      weighted avg       0.67      0.63      0.65       152\n",
      "\n"
     ]
    }
   ],
   "source": [
    "pipeline_results_hf_rand = [mock_pipeline(d.datapoint) for d in dump_dev_test]\n",
    "test_classifier(pipeline_results_hf_rand, datapoints_dev_test)"
   ]
  },
  {
   "cell_type": "code",
   "execution_count": 56,
   "metadata": {},
   "outputs": [
    {
     "name": "stdout",
     "output_type": "stream",
     "text": [
      "                                    precision    recall  f1-score   support\n",
      "\n",
      "                           Refuted       0.85      0.77      0.81        92\n",
      "                         Supported       0.73      0.59      0.66        37\n",
      "               Not Enough Evidence       0.67      0.36      0.47        11\n",
      "Conflicting Evidence/Cherrypicking       0.16      0.42      0.23        12\n",
      "\n",
      "                          accuracy                           0.67       152\n",
      "                         macro avg       0.60      0.54      0.54       152\n",
      "                      weighted avg       0.75      0.67      0.70       152\n",
      "\n"
     ]
    }
   ],
   "source": [
    "#with Claude evidence\n",
    "pipeline_results_hf_rand = [mock_pipeline(d.datapoint) for d in dump_dev_test]\n",
    "test_classifier(pipeline_results_hf_rand, datapoints_dev_test)"
   ]
  },
  {
   "cell_type": "markdown",
   "metadata": {},
   "source": [
    "### Simple average ensemble classifier"
   ]
  },
  {
   "cell_type": "code",
   "execution_count": 61,
   "metadata": {},
   "outputs": [
    {
     "data": {
      "text/plain": [
       "(ClassificationResult(probs=array([0.97268544, 0.00886898, 0.00935958, 0.00908605]), metadata={'clf_probs': [array([9.9745589e-01, 3.7628258e-04, 1.3574883e-03, 8.1042910e-04],\n",
       "       dtype=float32), array([0.94791499, 0.01736167, 0.01736167, 0.01736167])], 'weights': array([1., 1.])}),\n",
       " 'Refuted',\n",
       " 'Evidence(question=\\'Was Netflix CEO Reed Hastings arrested?\\', answer=\\'No, Reed Hastings was not arrested. This claim is false.\\', url=\\'https://www.boomlive.in/world/posts-claiming-netflix-ceo-was-arrested-for-child-pornography-are-false-9919\\', scraped_text=\\'\\\\nPosts Claiming Netflix CEO Was Arrested For Child Pornography Are False Law enforcement officials said that there was no arrest and the rumour was published by a fringe news site, where it has since been removed. \"The CEO of a Netflix – Reed Hastings – has been caught by FBI agents with 13,000 files of child pornography. He was arrested at his home in California,\" reads a Facebook post, archived here, shared more than 400 times since it was published on September 12, 2020. Screenshot taken on September 22, 2020, showing the false claim on Facebook The same claim also circulated on social media in Spanish, Portuguese, German and Italian. Many posts give the source of the information as Toronto Today, a website describing itself on Facebook as offering \"radical and revolutionary news\". Also Read: No, Target Hasn\\\\\\'t Issued Black Lives Matter T-shirts As Uniform AFP Fact Check found the site was registered on July 8, 2020, according to domain name search site WhoIs. Since then, the website has published several viral false claims debunked by various fact-checking organisations, including Snopes and Lead Stories. On September 12, 2020, Toronto Today published an article headlined, \"Netflix CEO gets BUSTED with 13,000 files of CHILD PORNOGRAPHY\". Although the article has since been removed, an archived version is still accessible. AFP Fact Check ran a Google search of keywords from the article, such as the alleged \"13,000 files\" of child pornography and \"279 of the submitted files\" allegedly depicting victims known to authorities. We found US news reports about the arrest of a man in Utah state in December 2019. The man, described as a \"CEO\", reportedly possessed more than 13,000 files of child pornography, with 279 including \"identifiable child victims\". The Toronto Today story also mentions two organisations that were allegedly involved in investigating Hastings - the Internet Crimes Against Children Task Force (ICAC) and the National Center for Missing and Exploited Children (NCMEC). \\\\nAFP Fact Check ran keyword searches for \"Hastings\" on the websites of the two organisations but found no information on his alleged arrest. Brandon Pursell, commander of the ICAC task force in central Califonia, told AFP Fact Check his task force \"did not arrest\" Hastings. Furthermore, the FBI did not release a statement on Hasting\\\\\\'s alleged arrest as it has done in the past for prominent figures, including former Uber CSO Joseph Sullivan, who was charged in August with attempting to cover up a hack of millions of customers\\\\\\' personal details. Hastings, who co-founded Netflix in 1997, was active on Twitter on September 12, 2020 -- the same day the Toronto Today article reported that he had been \"arrested at his home in California\". https://t.co/Wkr1S14YZV Some independent perspective on the Sundance award-winning French film Cuties— Reed Hastings (@reedhastings) September 12, 2020 He has since given interviews to media outlets including Wired and NPR promoting his book, \\\\\\'No Rules Rules: Netflix and the Culture of Reinvention\\\\\\'. Also Read: Map Of US Wildfires Shared To Cast Doubts On Climate Change The child pornography allegation comes amid calls for a boycott of Netflix over French film \"Cuties\" (\"Mignonnes\"), which critics say portrays its young stars in a sexualised way. Celebrities and politicians have tweeted the hashtag #CancelNetflix, used more than 200,000 times. Just a reminder to #CancelNetflix if you haven\\\\\\'t already. My dear friend & fellow child advocate @drjohndegarmo called @Netflix & after a calm and lengthy discussion on why #Cuties is child exploitation, promoting pedophelia, and is soft core porn, Netflix says they stand by it.— Meanwhile, US Republican Senator Ted Cruz wrote to the Justice Department asking it to investigate \"whether Netflix, its executives, or the makers of the film \\\\\\'Cuties\\\\\\' violated any federal laws against the production and distribution of child pornography\". \\')')"
      ]
     },
     "execution_count": 61,
     "metadata": {},
     "output_type": "execute_result"
    }
   ],
   "source": [
    "# AverageEnsemble classifier example\n",
    "from pipeline import MockPipeline\n",
    "from classification import AverageEnsembleClassifier, HuggingfaceClassifier, DefaultClassifier\n",
    "%reload_ext autoreload\n",
    "\n",
    "hf_classifier = HuggingfaceClassifier(model_path=\"/mnt/data/factcheck/averitec-data/pretrained_models/nli_4concat/deberta-v3-large/checkpoint-576\")\n",
    "hf_classifier_order = HuggingfaceClassifier(model_path=\"/mnt/data/factcheck/averitec-data/pretrained_models/nli_4concat/deberta-v3-large/checkpoint-576\", rand_order_evidence=True, num_orders=10)\n",
    "gpt_likert_classifier = DefaultClassifier(evidence_generation_results=evidence_generation_results)\n",
    "claude_likert_classifier = DefaultClassifier(evidence_generation_results=evidence_generation_results_claude)\n",
    "\n",
    "mock_pipeline = MockPipeline(\n",
    "    classifier=AverageEnsembleClassifier([hf_classifier, claude_likert_classifier]),\n",
    "    dumps=DUMP_PATH_CLAUDE,\n",
    ")\n",
    "\n",
    "pipeline_result = mock_pipeline(dump_dev_test[0].datapoint)\n",
    "pipeline_result.classification_result, str(pipeline_result.classification_result), str(\n",
    "    pipeline_result.evidence_generation_result.evidences[0]\n",
    ")"
   ]
  },
  {
   "cell_type": "code",
   "execution_count": 32,
   "metadata": {},
   "outputs": [
    {
     "name": "stdout",
     "output_type": "stream",
     "text": [
      "                                    precision    recall  f1-score   support\n",
      "\n",
      "                           Refuted       0.84      0.80      0.82        92\n",
      "                         Supported       0.61      0.73      0.67        37\n",
      "               Not Enough Evidence       0.50      0.09      0.15        11\n",
      "Conflicting Evidence/Cherrypicking       0.11      0.17      0.13        12\n",
      "\n",
      "                          accuracy                           0.68       152\n",
      "                         macro avg       0.52      0.45      0.44       152\n",
      "                      weighted avg       0.70      0.68      0.68       152\n",
      "\n"
     ]
    }
   ],
   "source": [
    "pipeline_results_avg_ensemble = [mock_pipeline(d.datapoint) for d in dump_dev_test]\n",
    "test_classifier(pipeline_results_avg_ensemble, datapoints_dev_test)"
   ]
  },
  {
   "cell_type": "code",
   "execution_count": 50,
   "metadata": {},
   "outputs": [
    {
     "name": "stdout",
     "output_type": "stream",
     "text": [
      "                                    precision    recall  f1-score   support\n",
      "\n",
      "                           Refuted       0.86      0.78      0.82        92\n",
      "                         Supported       0.66      0.68      0.67        37\n",
      "               Not Enough Evidence       0.00      0.00      0.00        11\n",
      "Conflicting Evidence/Cherrypicking       0.18      0.42      0.25        12\n",
      "\n",
      "                          accuracy                           0.67       152\n",
      "                         macro avg       0.42      0.47      0.43       152\n",
      "                      weighted avg       0.69      0.67      0.68       152\n",
      "\n"
     ]
    }
   ],
   "source": [
    "#hf with Claude\n",
    "pipeline_results_avg_ensemble = [mock_pipeline(d.datapoint) for d in dump_dev_test]\n",
    "test_classifier(pipeline_results_avg_ensemble, datapoints_dev_test)"
   ]
  },
  {
   "cell_type": "code",
   "execution_count": 39,
   "metadata": {},
   "outputs": [
    {
     "name": "stdout",
     "output_type": "stream",
     "text": [
      "                                    precision    recall  f1-score   support\n",
      "\n",
      "                           Refuted       0.85      0.79      0.82        92\n",
      "                         Supported       0.67      0.70      0.68        37\n",
      "               Not Enough Evidence       0.25      0.09      0.13        11\n",
      "Conflicting Evidence/Cherrypicking       0.17      0.33      0.23        12\n",
      "\n",
      "                          accuracy                           0.68       152\n",
      "                         macro avg       0.48      0.48      0.47       152\n",
      "                      weighted avg       0.71      0.68      0.69       152\n",
      "\n"
     ]
    }
   ],
   "source": [
    "# gpt, claude, hf\n",
    "pipeline_results_avg_ensemble = [mock_pipeline(d.datapoint) for d in dump_dev_test]\n",
    "test_classifier(pipeline_results_avg_ensemble, datapoints_dev_test)"
   ]
  },
  {
   "cell_type": "code",
   "execution_count": 41,
   "metadata": {},
   "outputs": [
    {
     "name": "stdout",
     "output_type": "stream",
     "text": [
      "                                    precision    recall  f1-score   support\n",
      "\n",
      "                           Refuted       0.79      0.76      0.77        92\n",
      "                         Supported       0.57      0.73      0.64        37\n",
      "               Not Enough Evidence       0.12      0.09      0.11        11\n",
      "Conflicting Evidence/Cherrypicking       0.12      0.08      0.10        12\n",
      "\n",
      "                          accuracy                           0.65       152\n",
      "                         macro avg       0.40      0.42      0.41       152\n",
      "                      weighted avg       0.63      0.65      0.64       152\n",
      "\n"
     ]
    }
   ],
   "source": [
    "# claude, gpt\n",
    "pipeline_results_avg_ensemble = [mock_pipeline(d.datapoint) for d in dump_dev_test]\n",
    "test_classifier(pipeline_results_avg_ensemble, datapoints_dev_test)"
   ]
  },
  {
   "cell_type": "code",
   "execution_count": 62,
   "metadata": {},
   "outputs": [
    {
     "name": "stdout",
     "output_type": "stream",
     "text": [
      "                                    precision    recall  f1-score   support\n",
      "\n",
      "                           Refuted       0.83      0.77      0.80        92\n",
      "                         Supported       0.74      0.68      0.70        37\n",
      "               Not Enough Evidence       0.38      0.27      0.32        11\n",
      "Conflicting Evidence/Cherrypicking       0.17      0.33      0.22        12\n",
      "\n",
      "                          accuracy                           0.68       152\n",
      "                         macro avg       0.53      0.51      0.51       152\n",
      "                      weighted avg       0.72      0.68      0.69       152\n",
      "\n"
     ]
    }
   ],
   "source": [
    "# claude, hf - claude ev\n",
    "pipeline_results_avg_ensemble = [mock_pipeline(d.datapoint) for d in dump_dev_test]\n",
    "test_classifier(pipeline_results_avg_ensemble, datapoints_dev_test)"
   ]
  },
  {
   "cell_type": "markdown",
   "metadata": {},
   "source": [
    "### Weighted average ensemble classifier"
   ]
  },
  {
   "cell_type": "code",
   "execution_count": 59,
   "metadata": {},
   "outputs": [
    {
     "name": "stdout",
     "output_type": "stream",
     "text": [
      " message: Solution found.\n",
      " success: True\n",
      "  status: 0\n",
      "     fun: -0.48539516995108256\n",
      "       x: 0.7639364807041505\n",
      "     nit: 24\n",
      "    nfev: 24\n"
     ]
    },
    {
     "data": {
      "text/plain": [
       "(ClassificationResult(probs=array([0.95960979, 0.01335204, 0.01358367, 0.01345452]), metadata={'clf_probs': [array([0.94791499, 0.01736167, 0.01736167, 0.01736167]), array([9.9745589e-01, 3.7628258e-04, 1.3574883e-03, 8.1042910e-04],\n",
       "       dtype=float32)], 'weights': array([0.76393648, 0.23606352])}),\n",
       " 'Refuted',\n",
       " 'Refuted',\n",
       " 'Evidence(question=\\'Was Netflix CEO Reed Hastings arrested?\\', answer=\\'No, Reed Hastings was not arrested. This claim is false.\\', url=\\'https://www.boomlive.in/world/posts-claiming-netflix-ceo-was-arrested-for-child-pornography-are-false-9919\\', scraped_text=\\'\\\\nPosts Claiming Netflix CEO Was Arrested For Child Pornography Are False Law enforcement officials said that there was no arrest and the rumour was published by a fringe news site, where it has since been removed. \"The CEO of a Netflix – Reed Hastings – has been caught by FBI agents with 13,000 files of child pornography. He was arrested at his home in California,\" reads a Facebook post, archived here, shared more than 400 times since it was published on September 12, 2020. Screenshot taken on September 22, 2020, showing the false claim on Facebook The same claim also circulated on social media in Spanish, Portuguese, German and Italian. Many posts give the source of the information as Toronto Today, a website describing itself on Facebook as offering \"radical and revolutionary news\". Also Read: No, Target Hasn\\\\\\'t Issued Black Lives Matter T-shirts As Uniform AFP Fact Check found the site was registered on July 8, 2020, according to domain name search site WhoIs. Since then, the website has published several viral false claims debunked by various fact-checking organisations, including Snopes and Lead Stories. On September 12, 2020, Toronto Today published an article headlined, \"Netflix CEO gets BUSTED with 13,000 files of CHILD PORNOGRAPHY\". Although the article has since been removed, an archived version is still accessible. AFP Fact Check ran a Google search of keywords from the article, such as the alleged \"13,000 files\" of child pornography and \"279 of the submitted files\" allegedly depicting victims known to authorities. We found US news reports about the arrest of a man in Utah state in December 2019. The man, described as a \"CEO\", reportedly possessed more than 13,000 files of child pornography, with 279 including \"identifiable child victims\". The Toronto Today story also mentions two organisations that were allegedly involved in investigating Hastings - the Internet Crimes Against Children Task Force (ICAC) and the National Center for Missing and Exploited Children (NCMEC). \\\\nAFP Fact Check ran keyword searches for \"Hastings\" on the websites of the two organisations but found no information on his alleged arrest. Brandon Pursell, commander of the ICAC task force in central Califonia, told AFP Fact Check his task force \"did not arrest\" Hastings. Furthermore, the FBI did not release a statement on Hasting\\\\\\'s alleged arrest as it has done in the past for prominent figures, including former Uber CSO Joseph Sullivan, who was charged in August with attempting to cover up a hack of millions of customers\\\\\\' personal details. Hastings, who co-founded Netflix in 1997, was active on Twitter on September 12, 2020 -- the same day the Toronto Today article reported that he had been \"arrested at his home in California\". https://t.co/Wkr1S14YZV Some independent perspective on the Sundance award-winning French film Cuties— Reed Hastings (@reedhastings) September 12, 2020 He has since given interviews to media outlets including Wired and NPR promoting his book, \\\\\\'No Rules Rules: Netflix and the Culture of Reinvention\\\\\\'. Also Read: Map Of US Wildfires Shared To Cast Doubts On Climate Change The child pornography allegation comes amid calls for a boycott of Netflix over French film \"Cuties\" (\"Mignonnes\"), which critics say portrays its young stars in a sexualised way. Celebrities and politicians have tweeted the hashtag #CancelNetflix, used more than 200,000 times. Just a reminder to #CancelNetflix if you haven\\\\\\'t already. My dear friend & fellow child advocate @drjohndegarmo called @Netflix & after a calm and lengthy discussion on why #Cuties is child exploitation, promoting pedophelia, and is soft core porn, Netflix says they stand by it.— Meanwhile, US Republican Senator Ted Cruz wrote to the Justice Department asking it to investigate \"whether Netflix, its executives, or the makers of the film \\\\\\'Cuties\\\\\\' violated any federal laws against the production and distribution of child pornography\". \\')')"
      ]
     },
     "execution_count": 59,
     "metadata": {},
     "output_type": "execute_result"
    }
   ],
   "source": [
    "# AverageEnsemble classifier fiting example\n",
    "hf_classifier = HuggingfaceClassifier(model_path=\"/mnt/data/factcheck/averitec-data/pretrained_models/nli_4concat/deberta-v3-large/checkpoint-576\")\n",
    "gpt_likert_classifier = DefaultClassifier(evidence_generation_results=evidence_generation_results)\n",
    "claude_likert_classifier = DefaultClassifier(evidence_generation_results=evidence_generation_results_claude)\n",
    "\n",
    "avg_ensemble_classifier = AverageEnsembleClassifier([claude_likert_classifier, hf_classifier])\n",
    "\n",
    "# fit the weights TODO using only part of the data -> to be able to validate results! \n",
    "#prepared for univariate (used for 2 classifiers) and multivariate (used for 3+ classifiers) optimization and 2 metrics f1 and cross-entropy\n",
    "avg_ensemble_classifier.fit_weights(datapoints_dev_train, evidence_generation_results_dev_train, retrieval_results_dev_train, metric=\"f1\")\n",
    "\n",
    "mock_pipeline = MockPipeline(\n",
    "    classifier=avg_ensemble_classifier,\n",
    "    dumps=DUMP_PATH_CLAUDE,\n",
    ")\n",
    "\n",
    "pipeline_result = mock_pipeline(dump_dev_test[0].datapoint)\n",
    "pipeline_result.classification_result, str(pipeline_result.classification_result), pipeline_result.datapoint.label, str(\n",
    "    pipeline_result.evidence_generation_result.evidences[0]\n",
    ")"
   ]
  },
  {
   "cell_type": "code",
   "execution_count": 37,
   "metadata": {},
   "outputs": [
    {
     "name": "stdout",
     "output_type": "stream",
     "text": [
      "                                    precision    recall  f1-score   support\n",
      "\n",
      "                           Refuted       0.80      0.80      0.80        92\n",
      "                         Supported       0.60      0.76      0.67        37\n",
      "               Not Enough Evidence       0.11      0.09      0.10        11\n",
      "Conflicting Evidence/Cherrypicking       0.25      0.08      0.12        12\n",
      "\n",
      "                          accuracy                           0.68       152\n",
      "                         macro avg       0.44      0.43      0.42       152\n",
      "                      weighted avg       0.66      0.68      0.67       152\n",
      "\n"
     ]
    }
   ],
   "source": [
    "#cross entropy\n",
    "pipeline_results_avg_w_ensemble = [mock_pipeline(d.datapoint) for d in dump_dev_test]\n",
    "test_classifier(pipeline_results_avg_w_ensemble, datapoints_dev_test)"
   ]
  },
  {
   "cell_type": "code",
   "execution_count": 34,
   "metadata": {},
   "outputs": [
    {
     "name": "stdout",
     "output_type": "stream",
     "text": [
      "                                    precision    recall  f1-score   support\n",
      "\n",
      "                           Refuted       0.80      0.84      0.82        92\n",
      "                         Supported       0.59      0.73      0.65        37\n",
      "               Not Enough Evidence       0.33      0.09      0.14        11\n",
      "Conflicting Evidence/Cherrypicking       0.14      0.08      0.11        12\n",
      "\n",
      "                          accuracy                           0.70       152\n",
      "                         macro avg       0.47      0.44      0.43       152\n",
      "                      weighted avg       0.66      0.70      0.67       152\n",
      "\n"
     ]
    }
   ],
   "source": [
    "#f1 deberta with GPT\n",
    "pipeline_results_avg_w_ensemble = [mock_pipeline(d.datapoint) for d in dump_dev_test]\n",
    "test_classifier(pipeline_results_avg_w_ensemble, datapoints_dev_test)"
   ]
  },
  {
   "cell_type": "code",
   "execution_count": 20,
   "metadata": {},
   "outputs": [
    {
     "name": "stdout",
     "output_type": "stream",
     "text": [
      "                                    precision    recall  f1-score   support\n",
      "\n",
      "                           Refuted       0.81      0.75      0.78        92\n",
      "                         Supported       0.76      0.70      0.73        37\n",
      "               Not Enough Evidence       0.25      0.18      0.21        11\n",
      "Conflicting Evidence/Cherrypicking       0.12      0.25      0.16        12\n",
      "\n",
      "                          accuracy                           0.66       152\n",
      "                         macro avg       0.49      0.47      0.47       152\n",
      "                      weighted avg       0.71      0.66      0.68       152\n",
      "\n"
     ]
    }
   ],
   "source": [
    "#f1 deberta with Claude\n",
    "pipeline_results_avg_w_ensemble = [mock_pipeline(d.datapoint) for d in dump_dev_test]\n",
    "test_classifier(pipeline_results_avg_w_ensemble, datapoints_dev_test)"
   ]
  },
  {
   "cell_type": "code",
   "execution_count": 43,
   "metadata": {},
   "outputs": [
    {
     "name": "stdout",
     "output_type": "stream",
     "text": [
      "                                    precision    recall  f1-score   support\n",
      "\n",
      "                           Refuted       0.87      0.63      0.73        92\n",
      "                         Supported       0.74      0.70      0.72        37\n",
      "               Not Enough Evidence       0.23      0.27      0.25        11\n",
      "Conflicting Evidence/Cherrypicking       0.16      0.50      0.24        12\n",
      "\n",
      "                          accuracy                           0.61       152\n",
      "                         macro avg       0.50      0.53      0.49       152\n",
      "                      weighted avg       0.73      0.61      0.65       152\n",
      "\n"
     ]
    }
   ],
   "source": [
    "#f1 gpt with Claude\n",
    "pipeline_results_avg_w_ensemble = [mock_pipeline(d.datapoint) for d in dump_dev_test]\n",
    "test_classifier(pipeline_results_avg_w_ensemble, datapoints_dev_test)"
   ]
  },
  {
   "cell_type": "code",
   "execution_count": 46,
   "metadata": {},
   "outputs": [
    {
     "name": "stdout",
     "output_type": "stream",
     "text": [
      "                                    precision    recall  f1-score   support\n",
      "\n",
      "                           Refuted       0.79      0.78      0.79        92\n",
      "                         Supported       0.61      0.73      0.67        37\n",
      "               Not Enough Evidence       0.20      0.09      0.12        11\n",
      "Conflicting Evidence/Cherrypicking       0.08      0.08      0.08        12\n",
      "\n",
      "                          accuracy                           0.66       152\n",
      "                         macro avg       0.42      0.42      0.42       152\n",
      "                      weighted avg       0.65      0.66      0.65       152\n",
      "\n"
     ]
    }
   ],
   "source": [
    "#ce gpt with Claude with hf\n",
    "pipeline_results_avg_w_ensemble = [mock_pipeline(d.datapoint) for d in dump_dev_test]\n",
    "test_classifier(pipeline_results_avg_w_ensemble, datapoints_dev_test)"
   ]
  },
  {
   "cell_type": "code",
   "execution_count": 58,
   "metadata": {},
   "outputs": [
    {
     "name": "stdout",
     "output_type": "stream",
     "text": [
      "                                    precision    recall  f1-score   support\n",
      "\n",
      "                           Refuted       0.80      0.77      0.78        92\n",
      "                         Supported       0.63      0.73      0.68        37\n",
      "               Not Enough Evidence       0.29      0.18      0.22        11\n",
      "Conflicting Evidence/Cherrypicking       0.08      0.08      0.08        12\n",
      "\n",
      "                          accuracy                           0.66       152\n",
      "                         macro avg       0.45      0.44      0.44       152\n",
      "                      weighted avg       0.66      0.66      0.66       152\n",
      "\n"
     ]
    }
   ],
   "source": [
    "#ce gpt with Claude with hf - claude ev\n",
    "pipeline_results_avg_w_ensemble = [mock_pipeline(d.datapoint) for d in dump_dev_test]\n",
    "test_classifier(pipeline_results_avg_w_ensemble, datapoints_dev_test)"
   ]
  },
  {
   "cell_type": "code",
   "execution_count": 60,
   "metadata": {},
   "outputs": [
    {
     "name": "stdout",
     "output_type": "stream",
     "text": [
      "                                    precision    recall  f1-score   support\n",
      "\n",
      "                           Refuted       0.86      0.62      0.72        92\n",
      "                         Supported       0.79      0.70      0.74        37\n",
      "               Not Enough Evidence       0.17      0.18      0.17        11\n",
      "Conflicting Evidence/Cherrypicking       0.20      0.67      0.30        12\n",
      "\n",
      "                          accuracy                           0.61       152\n",
      "                         macro avg       0.50      0.54      0.49       152\n",
      "                      weighted avg       0.74      0.61      0.65       152\n",
      "\n"
     ]
    }
   ],
   "source": [
    "#f1 Claude with hf - claude ev\n",
    "pipeline_results_avg_w_ensemble = [mock_pipeline(d.datapoint) for d in dump_dev_test]\n",
    "test_classifier(pipeline_results_avg_w_ensemble, datapoints_dev_test)"
   ]
  },
  {
   "cell_type": "markdown",
   "metadata": {},
   "source": [
    "### Logistic regression based stacking classifier"
   ]
  },
  {
   "cell_type": "code",
   "execution_count": 47,
   "metadata": {},
   "outputs": [
    {
     "data": {
      "text/plain": [
       "(ClassificationResult(probs=array([0.91284996, 0.03829509, 0.02086459, 0.02799035]), metadata={'clf_probs': [array([0.94791499, 0.01736167, 0.01736167, 0.01736167]), array([0.94791499, 0.01736167, 0.01736167, 0.01736167])]}),\n",
       " 'Refuted',\n",
       " 'Evidence(question=\\'Was Netflix CEO Reed Hastings arrested?\\', answer=\\'No, Reed Hastings was not arrested. This claim is false.\\', url=\\'https://www.boomlive.in/world/posts-claiming-netflix-ceo-was-arrested-for-child-pornography-are-false-9919\\', scraped_text=\\'\\\\nPosts Claiming Netflix CEO Was Arrested For Child Pornography Are False Law enforcement officials said that there was no arrest and the rumour was published by a fringe news site, where it has since been removed. \"The CEO of a Netflix – Reed Hastings – has been caught by FBI agents with 13,000 files of child pornography. He was arrested at his home in California,\" reads a Facebook post, archived here, shared more than 400 times since it was published on September 12, 2020. Screenshot taken on September 22, 2020, showing the false claim on Facebook The same claim also circulated on social media in Spanish, Portuguese, German and Italian. Many posts give the source of the information as Toronto Today, a website describing itself on Facebook as offering \"radical and revolutionary news\". Also Read: No, Target Hasn\\\\\\'t Issued Black Lives Matter T-shirts As Uniform AFP Fact Check found the site was registered on July 8, 2020, according to domain name search site WhoIs. Since then, the website has published several viral false claims debunked by various fact-checking organisations, including Snopes and Lead Stories. On September 12, 2020, Toronto Today published an article headlined, \"Netflix CEO gets BUSTED with 13,000 files of CHILD PORNOGRAPHY\". Although the article has since been removed, an archived version is still accessible. AFP Fact Check ran a Google search of keywords from the article, such as the alleged \"13,000 files\" of child pornography and \"279 of the submitted files\" allegedly depicting victims known to authorities. We found US news reports about the arrest of a man in Utah state in December 2019. The man, described as a \"CEO\", reportedly possessed more than 13,000 files of child pornography, with 279 including \"identifiable child victims\". The Toronto Today story also mentions two organisations that were allegedly involved in investigating Hastings - the Internet Crimes Against Children Task Force (ICAC) and the National Center for Missing and Exploited Children (NCMEC). \\\\nAFP Fact Check ran keyword searches for \"Hastings\" on the websites of the two organisations but found no information on his alleged arrest. Brandon Pursell, commander of the ICAC task force in central Califonia, told AFP Fact Check his task force \"did not arrest\" Hastings. Furthermore, the FBI did not release a statement on Hasting\\\\\\'s alleged arrest as it has done in the past for prominent figures, including former Uber CSO Joseph Sullivan, who was charged in August with attempting to cover up a hack of millions of customers\\\\\\' personal details. Hastings, who co-founded Netflix in 1997, was active on Twitter on September 12, 2020 -- the same day the Toronto Today article reported that he had been \"arrested at his home in California\". https://t.co/Wkr1S14YZV Some independent perspective on the Sundance award-winning French film Cuties— Reed Hastings (@reedhastings) September 12, 2020 He has since given interviews to media outlets including Wired and NPR promoting his book, \\\\\\'No Rules Rules: Netflix and the Culture of Reinvention\\\\\\'. Also Read: Map Of US Wildfires Shared To Cast Doubts On Climate Change The child pornography allegation comes amid calls for a boycott of Netflix over French film \"Cuties\" (\"Mignonnes\"), which critics say portrays its young stars in a sexualised way. Celebrities and politicians have tweeted the hashtag #CancelNetflix, used more than 200,000 times. Just a reminder to #CancelNetflix if you haven\\\\\\'t already. My dear friend & fellow child advocate @drjohndegarmo called @Netflix & after a calm and lengthy discussion on why #Cuties is child exploitation, promoting pedophelia, and is soft core porn, Netflix says they stand by it.— Meanwhile, US Republican Senator Ted Cruz wrote to the Justice Department asking it to investigate \"whether Netflix, its executives, or the makers of the film \\\\\\'Cuties\\\\\\' violated any federal laws against the production and distribution of child pornography\". \\')')"
      ]
     },
     "execution_count": 47,
     "metadata": {},
     "output_type": "execute_result"
    }
   ],
   "source": [
    "#LogRegEnsemble classifier example\n",
    "hf_classifier = HuggingfaceClassifier(model_path=\"/mnt/data/factcheck/averitec-data/pretrained_models/nli_4concat/deberta-v3-large/checkpoint-576\")\n",
    "gpt_likert_classifier = DefaultClassifier(evidence_generation_results=evidence_generation_results)\n",
    "claude_likert_classifier = DefaultClassifier(evidence_generation_results=evidence_generation_results_claude)\n",
    "\n",
    "logreg_ensemble_classifier = LogRegEnsembleClassifier([claude_likert_classifier, gpt_likert_classifier])\n",
    "\n",
    "#need all labels to present in the data\n",
    "logreg_ensemble_classifier.fit(datapoints_dev_train, evidence_generation_results_dev_train, retrieval_results_dev_train)\n",
    "\n",
    "mock_pipeline = MockPipeline(\n",
    "    classifier=logreg_ensemble_classifier,\n",
    "    dumps=DUMP_PATH_CLAUDE,\n",
    ")\n",
    "\n",
    "pipeline_result = mock_pipeline(dump_dev_test[0].datapoint)\n",
    "pipeline_result.classification_result, str(pipeline_result.classification_result), str(\n",
    "    pipeline_result.evidence_generation_result.evidences[0]\n",
    ")"
   ]
  },
  {
   "cell_type": "code",
   "execution_count": 39,
   "metadata": {},
   "outputs": [
    {
     "name": "stdout",
     "output_type": "stream",
     "text": [
      "y_pred (array([0, 1]), array([108,  44]))\n",
      "y_true (array([0, 1, 2, 3]), array([92, 37, 11, 12]))\n",
      "                                    precision    recall  f1-score   support\n",
      "\n",
      "                           Refuted       0.79      0.92      0.85        92\n",
      "                         Supported       0.61      0.73      0.67        37\n",
      "               Not Enough Evidence       0.00      0.00      0.00        11\n",
      "Conflicting Evidence/Cherrypicking       0.00      0.00      0.00        12\n",
      "\n",
      "                          accuracy                           0.74       152\n",
      "                         macro avg       0.35      0.41      0.38       152\n",
      "                      weighted avg       0.63      0.74      0.68       152\n",
      "\n"
     ]
    },
    {
     "name": "stderr",
     "output_type": "stream",
     "text": [
      "/home/mlynatom/aic_averitec/venvs/averitec/lib/python3.10/site-packages/sklearn/metrics/_classification.py:1531: UndefinedMetricWarning: Precision is ill-defined and being set to 0.0 in labels with no predicted samples. Use `zero_division` parameter to control this behavior.\n",
      "  _warn_prf(average, modifier, f\"{metric.capitalize()} is\", len(result))\n",
      "/home/mlynatom/aic_averitec/venvs/averitec/lib/python3.10/site-packages/sklearn/metrics/_classification.py:1531: UndefinedMetricWarning: Precision is ill-defined and being set to 0.0 in labels with no predicted samples. Use `zero_division` parameter to control this behavior.\n",
      "  _warn_prf(average, modifier, f\"{metric.capitalize()} is\", len(result))\n",
      "/home/mlynatom/aic_averitec/venvs/averitec/lib/python3.10/site-packages/sklearn/metrics/_classification.py:1531: UndefinedMetricWarning: Precision is ill-defined and being set to 0.0 in labels with no predicted samples. Use `zero_division` parameter to control this behavior.\n",
      "  _warn_prf(average, modifier, f\"{metric.capitalize()} is\", len(result))\n"
     ]
    }
   ],
   "source": [
    "pipeline_results_logreg_ensemble = [mock_pipeline(d.datapoint) for d in dump_dev_test]\n",
    "test_classifier(pipeline_results_logreg_ensemble, datapoints_dev_test, verbose=True)"
   ]
  },
  {
   "cell_type": "code",
   "execution_count": 22,
   "metadata": {},
   "outputs": [
    {
     "name": "stdout",
     "output_type": "stream",
     "text": [
      "y_pred (array([0, 1]), array([120,  32]))\n",
      "y_true (array([0, 1, 2, 3]), array([92, 37, 11, 12]))\n",
      "                                    precision    recall  f1-score   support\n",
      "\n",
      "                           Refuted       0.73      0.96      0.83        92\n",
      "                         Supported       0.78      0.68      0.72        37\n",
      "               Not Enough Evidence       0.00      0.00      0.00        11\n",
      "Conflicting Evidence/Cherrypicking       0.00      0.00      0.00        12\n",
      "\n",
      "                          accuracy                           0.74       152\n",
      "                         macro avg       0.38      0.41      0.39       152\n",
      "                      weighted avg       0.63      0.74      0.68       152\n",
      "\n"
     ]
    },
    {
     "name": "stderr",
     "output_type": "stream",
     "text": [
      "/home/mlynatom/aic_averitec/venvs/averitec/lib/python3.10/site-packages/sklearn/metrics/_classification.py:1531: UndefinedMetricWarning: Precision is ill-defined and being set to 0.0 in labels with no predicted samples. Use `zero_division` parameter to control this behavior.\n",
      "  _warn_prf(average, modifier, f\"{metric.capitalize()} is\", len(result))\n",
      "/home/mlynatom/aic_averitec/venvs/averitec/lib/python3.10/site-packages/sklearn/metrics/_classification.py:1531: UndefinedMetricWarning: Precision is ill-defined and being set to 0.0 in labels with no predicted samples. Use `zero_division` parameter to control this behavior.\n",
      "  _warn_prf(average, modifier, f\"{metric.capitalize()} is\", len(result))\n",
      "/home/mlynatom/aic_averitec/venvs/averitec/lib/python3.10/site-packages/sklearn/metrics/_classification.py:1531: UndefinedMetricWarning: Precision is ill-defined and being set to 0.0 in labels with no predicted samples. Use `zero_division` parameter to control this behavior.\n",
      "  _warn_prf(average, modifier, f\"{metric.capitalize()} is\", len(result))\n"
     ]
    }
   ],
   "source": [
    "#hf with Claude\n",
    "pipeline_results_logreg_ensemble = [mock_pipeline(d.datapoint) for d in dump_dev_test]\n",
    "test_classifier(pipeline_results_logreg_ensemble, datapoints_dev_test, verbose=True)"
   ]
  },
  {
   "cell_type": "code",
   "execution_count": 48,
   "metadata": {},
   "outputs": [
    {
     "name": "stdout",
     "output_type": "stream",
     "text": [
      "y_pred (array([0, 1]), array([108,  44]))\n",
      "y_true (array([0, 1, 2, 3]), array([92, 37, 11, 12]))\n",
      "                                    precision    recall  f1-score   support\n",
      "\n",
      "                           Refuted       0.77      0.90      0.83        92\n",
      "                         Supported       0.64      0.76      0.69        37\n",
      "               Not Enough Evidence       0.00      0.00      0.00        11\n",
      "Conflicting Evidence/Cherrypicking       0.00      0.00      0.00        12\n",
      "\n",
      "                          accuracy                           0.73       152\n",
      "                         macro avg       0.35      0.41      0.38       152\n",
      "                      weighted avg       0.62      0.73      0.67       152\n",
      "\n"
     ]
    },
    {
     "name": "stderr",
     "output_type": "stream",
     "text": [
      "/home/mlynatom/aic_averitec/venvs/averitec/lib/python3.10/site-packages/sklearn/metrics/_classification.py:1531: UndefinedMetricWarning: Precision is ill-defined and being set to 0.0 in labels with no predicted samples. Use `zero_division` parameter to control this behavior.\n",
      "  _warn_prf(average, modifier, f\"{metric.capitalize()} is\", len(result))\n",
      "/home/mlynatom/aic_averitec/venvs/averitec/lib/python3.10/site-packages/sklearn/metrics/_classification.py:1531: UndefinedMetricWarning: Precision is ill-defined and being set to 0.0 in labels with no predicted samples. Use `zero_division` parameter to control this behavior.\n",
      "  _warn_prf(average, modifier, f\"{metric.capitalize()} is\", len(result))\n",
      "/home/mlynatom/aic_averitec/venvs/averitec/lib/python3.10/site-packages/sklearn/metrics/_classification.py:1531: UndefinedMetricWarning: Precision is ill-defined and being set to 0.0 in labels with no predicted samples. Use `zero_division` parameter to control this behavior.\n",
      "  _warn_prf(average, modifier, f\"{metric.capitalize()} is\", len(result))\n"
     ]
    }
   ],
   "source": [
    "#gpt with Claude\n",
    "pipeline_results_logreg_ensemble = [mock_pipeline(d.datapoint) for d in dump_dev_test]\n",
    "test_classifier(pipeline_results_logreg_ensemble, datapoints_dev_test, verbose=True)"
   ]
  },
  {
   "cell_type": "markdown",
   "metadata": {},
   "source": [
    "## Full Eval of the Best Classifier"
   ]
  },
  {
   "cell_type": "markdown",
   "metadata": {},
   "source": [
    "### Just Likert GPT"
   ]
  },
  {
   "cell_type": "code",
   "execution_count": 45,
   "metadata": {},
   "outputs": [
    {
     "name": "stdout",
     "output_type": "stream",
     "text": [
      "[0.37138793 0.62861207]\n"
     ]
    },
    {
     "name": "stderr",
     "output_type": "stream",
     "text": [
      "100%|██████████| 500/500 [00:52<00:00,  9.50it/s]\n"
     ]
    }
   ],
   "source": [
    "\n",
    "\n",
    "classifier = DefaultClassifier()\n",
    "\n",
    "pipeline = MockPipeline(classifier=classifier, dumps=DUMP_PATH)\n",
    "\n",
    "with open(\"/mnt/data/factcheck/averitec-data/data/dev.json\") as f:\n",
    "    dataset = json.load(f)\n",
    "    seq = 0\n",
    "    for d in dataset:\n",
    "        d[\"claim_id\"] = seq\n",
    "        seq += 1\n",
    "    \n",
    "datapoints = [Datapoint.from_dict(d) for d in dataset]\n",
    "submission = []\n",
    "dump = []\n",
    "\n",
    "for dp in tqdm(datapoints):\n",
    "    pipeline_result = pipeline(dp)\n",
    "    submission.append(pipeline_result.to_submission())\n",
    "    dump.append(pipeline_result)\n",
    "    with open(f\"/mnt/data/factcheck/averitec-data/data_store/submission_dev_gpt_likert.json\", \"w\") as f:\n",
    "        json.dump(submission, f, indent=4)\n",
    "    with open(f\"/mnt/data/factcheck/averitec-data/data_store/pipeline_result_dev_gpt_likert.pkl\", \"wb\") as f:\n",
    "        pickle.dump(dump, f)"
   ]
  },
  {
   "cell_type": "code",
   "execution_count": 46,
   "metadata": {},
   "outputs": [
    {
     "name": "stdout",
     "output_type": "stream",
     "text": [
      "Question-only score (HU-meteor):             0.44559202247101487\n",
      "Question-answer score (HU-meteor):           0.27486491800924373\n",
      "====================\n",
      "Veracity F1 scores:\n",
      " * Supported:                                0.6566037735849056\n",
      " * Refuted:                                  0.8098360655737705\n",
      " * Not Enough Evidence:                      0.1891891891891892\n",
      " * Conflicting Evidence/Cherrypicking:       0.0784313725490196\n",
      " * macro:                                    0.43351510022422124\n",
      " * acc:                                      0.686\n",
      "--------------------\n",
      "AVeriTeC scores:\n",
      " * Veracity scores (meteor @ 0.1):           0.672\n",
      " * Veracity scores (meteor @ 0.2):           0.532\n",
      " * Veracity scores (meteor @ 0.25):          0.394\n",
      " * Veracity scores (meteor @ 0.3):           0.256\n",
      " * Veracity scores (meteor @ 0.4):           0.106\n",
      " * Veracity scores (meteor @ 0.5):           0.03\n",
      "--------------------\n",
      "AVeriTeC scores by type @ 0.25:\n",
      " * Veracity scores (Event/Property Claim):   0.18721511530819013\n",
      " * Veracity scores (Position Statement):     0.2481496158938146\n",
      " * Veracity scores (Causal Claim):           0.1562263392835381\n",
      " * Veracity scores (Numerical Claim):        0.2067296026668847\n",
      " * Veracity scores (Quote Verification):     0.16204951947304194\n"
     ]
    }
   ],
   "source": [
    "%run src/prediction/evaluate_veracity.py --label_file /mnt/data/factcheck/averitec-data/data/dev.json --prediction_file /mnt/data/factcheck/averitec-data/data_store/submission_dev_gpt_likert.json"
   ]
  },
  {
   "cell_type": "markdown",
   "metadata": {},
   "source": [
    "### Just Claude"
   ]
  },
  {
   "cell_type": "code",
   "execution_count": 24,
   "metadata": {},
   "outputs": [
    {
     "name": "stderr",
     "output_type": "stream",
     "text": [
      "100%|██████████| 500/500 [00:42<00:00, 11.68it/s]\n"
     ]
    }
   ],
   "source": [
    "classifier = DefaultClassifier()\n",
    "pipeline = MockPipeline(classifier=classifier, dumps=DUMP_PATH_CLAUDE)\n",
    "\n",
    "with open(\"/mnt/data/factcheck/averitec-data/data/dev.json\") as f:\n",
    "    dataset = json.load(f)\n",
    "    seq = 0\n",
    "    for d in dataset:\n",
    "        d[\"claim_id\"] = seq\n",
    "        seq += 1\n",
    "    \n",
    "datapoints = [Datapoint.from_dict(d) for d in dataset]\n",
    "submission = []\n",
    "dump = []\n",
    "\n",
    "for dp in tqdm(datapoints):\n",
    "    pipeline_result = pipeline(dp)\n",
    "    submission.append(pipeline_result.to_submission())\n",
    "    dump.append(pipeline_result)\n",
    "    with open(f\"/mnt/data/factcheck/averitec-data/data_store/submission_dev_claude_likert.json\", \"w\") as f:\n",
    "        json.dump(submission, f, indent=4)\n",
    "    with open(f\"/mnt/data/factcheck/averitec-data/data_store/pipeline_result_dev_claude_likert.pkl\", \"wb\") as f:\n",
    "        pickle.dump(dump, f)"
   ]
  },
  {
   "cell_type": "code",
   "execution_count": 25,
   "metadata": {},
   "outputs": [
    {
     "name": "stdout",
     "output_type": "stream",
     "text": [
      "Question-only score (HU-meteor):             0.43356239977995653\n",
      "Question-answer score (HU-meteor):           0.2756433945181975\n",
      "====================\n",
      "Veracity F1 scores:\n",
      " * Supported:                                0.6982758620689655\n",
      " * Refuted:                                  0.7753623188405797\n",
      " * Not Enough Evidence:                      0.2028985507246377\n",
      " * Conflicting Evidence/Cherrypicking:       0.272108843537415\n",
      " * macro:                                    0.4871613937928995\n",
      " * acc:                                      0.644\n",
      "--------------------\n",
      "AVeriTeC scores:\n",
      " * Veracity scores (meteor @ 0.1):           0.63\n",
      " * Veracity scores (meteor @ 0.2):           0.496\n",
      " * Veracity scores (meteor @ 0.25):          0.35\n",
      " * Veracity scores (meteor @ 0.3):           0.234\n",
      " * Veracity scores (meteor @ 0.4):           0.094\n",
      " * Veracity scores (meteor @ 0.5):           0.038\n",
      "--------------------\n",
      "AVeriTeC scores by type @ 0.25:\n",
      " * Veracity scores (Event/Property Claim):   0.18399764934948373\n",
      " * Veracity scores (Position Statement):     0.22489454430190647\n",
      " * Veracity scores (Causal Claim):           0.14843578712749905\n",
      " * Veracity scores (Numerical Claim):        0.20220535481529925\n",
      " * Veracity scores (Quote Verification):     0.13987899010337315\n"
     ]
    }
   ],
   "source": [
    "%run src/prediction/evaluate_veracity.py --label_file /mnt/data/factcheck/averitec-data/data/dev.json --prediction_file /mnt/data/factcheck/averitec-data/data_store/submission_dev_claude_likert.json"
   ]
  },
  {
   "cell_type": "markdown",
   "metadata": {},
   "source": [
    "### Deberta only"
   ]
  },
  {
   "cell_type": "code",
   "execution_count": 63,
   "metadata": {},
   "outputs": [
    {
     "name": "stderr",
     "output_type": "stream",
     "text": [
      "100%|██████████| 500/500 [01:08<00:00,  7.32it/s]\n"
     ]
    }
   ],
   "source": [
    "from tqdm import tqdm\n",
    "from classification import HuggingfaceClassifier\n",
    "classifier = HuggingfaceClassifier(model_path=\"/mnt/data/factcheck/averitec-data/pretrained_models/nli_4concat/deberta-v3-large/checkpoint-576\")\n",
    "\n",
    "pipeline = MockPipeline(classifier=classifier, dumps=DUMP_PATH_CLAUDE)\n",
    "\n",
    "with open(\"/mnt/data/factcheck/averitec-data/data/dev.json\") as f:\n",
    "    dataset = json.load(f)\n",
    "    seq = 0\n",
    "    for d in dataset:\n",
    "        d[\"claim_id\"] = seq\n",
    "        seq += 1\n",
    "    \n",
    "datapoints = [Datapoint.from_dict(d) for d in dataset]\n",
    "submission = []\n",
    "dump = []\n",
    "\n",
    "for dp in tqdm(datapoints):\n",
    "    pipeline_result = pipeline(dp)\n",
    "    submission.append(pipeline_result.to_submission())\n",
    "    dump.append(pipeline_result)\n",
    "    with open(f\"/mnt/data/factcheck/averitec-data/data_store/submission_dev_hf_dc.json\", \"w\") as f:\n",
    "        json.dump(submission, f, indent=4)\n",
    "    with open(f\"/mnt/data/factcheck/averitec-data/data_store/pipeline_result_dev_hf_dc.pkl\", \"wb\") as f:\n",
    "        pickle.dump(dump, f)"
   ]
  },
  {
   "cell_type": "code",
   "execution_count": 48,
   "metadata": {},
   "outputs": [
    {
     "name": "stdout",
     "output_type": "stream",
     "text": [
      "Question-only score (HU-meteor):             0.44559202247101487\n",
      "Question-answer score (HU-meteor):           0.27486491800924373\n",
      "====================\n",
      "Veracity F1 scores:\n",
      " * Supported:                                0.6329113924050633\n",
      " * Refuted:                                  0.7824561403508772\n",
      " * Not Enough Evidence:                      0.1\n",
      " * Conflicting Evidence/Cherrypicking:       0.1437908496732026\n",
      " * macro:                                    0.4147895956072858\n",
      " * acc:                                      0.622\n",
      "--------------------\n",
      "AVeriTeC scores:\n",
      " * Veracity scores (meteor @ 0.1):           0.606\n",
      " * Veracity scores (meteor @ 0.2):           0.474\n",
      " * Veracity scores (meteor @ 0.25):          0.358\n",
      " * Veracity scores (meteor @ 0.3):           0.232\n",
      " * Veracity scores (meteor @ 0.4):           0.098\n",
      " * Veracity scores (meteor @ 0.5):           0.028\n",
      "--------------------\n",
      "AVeriTeC scores by type @ 0.25:\n",
      " * Veracity scores (Event/Property Claim):   0.18721511530819013\n",
      " * Veracity scores (Position Statement):     0.2481496158938146\n",
      " * Veracity scores (Causal Claim):           0.1562263392835381\n",
      " * Veracity scores (Numerical Claim):        0.2067296026668847\n",
      " * Veracity scores (Quote Verification):     0.16204951947304194\n"
     ]
    }
   ],
   "source": [
    "%run src/prediction/evaluate_veracity.py --label_file /mnt/data/factcheck/averitec-data/data/dev.json --prediction_file /mnt/data/factcheck/averitec-data/data_store/submission_dev_hf.json"
   ]
  },
  {
   "cell_type": "code",
   "execution_count": 64,
   "metadata": {},
   "outputs": [
    {
     "name": "stdout",
     "output_type": "stream",
     "text": [
      "Question-only score (HU-meteor):             0.43356239977995653\n",
      "Question-answer score (HU-meteor):           0.2756433945181975\n",
      "====================\n",
      "Veracity F1 scores:\n",
      " * Supported:                                0.6666666666666666\n",
      " * Refuted:                                  0.7952218430034129\n",
      " * Not Enough Evidence:                      0.19607843137254902\n",
      " * Conflicting Evidence/Cherrypicking:       0.19047619047619047\n",
      " * macro:                                    0.46211078287970475\n",
      " * acc:                                      0.648\n",
      "--------------------\n",
      "AVeriTeC scores:\n",
      " * Veracity scores (meteor @ 0.1):           0.634\n",
      " * Veracity scores (meteor @ 0.2):           0.482\n",
      " * Veracity scores (meteor @ 0.25):          0.334\n",
      " * Veracity scores (meteor @ 0.3):           0.222\n",
      " * Veracity scores (meteor @ 0.4):           0.088\n",
      " * Veracity scores (meteor @ 0.5):           0.03\n",
      "--------------------\n",
      "AVeriTeC scores by type @ 0.25:\n",
      " * Veracity scores (Event/Property Claim):   0.18399764934948373\n",
      " * Veracity scores (Position Statement):     0.22489454430190647\n",
      " * Veracity scores (Causal Claim):           0.14843578712749905\n",
      " * Veracity scores (Numerical Claim):        0.20220535481529925\n",
      " * Veracity scores (Quote Verification):     0.13987899010337315\n"
     ]
    }
   ],
   "source": [
    "%run src/prediction/evaluate_veracity.py --label_file /mnt/data/factcheck/averitec-data/data/dev.json --prediction_file /mnt/data/factcheck/averitec-data/data_store/submission_dev_hf_dc.json"
   ]
  },
  {
   "cell_type": "markdown",
   "metadata": {},
   "source": [
    "### Average Ensemble"
   ]
  },
  {
   "cell_type": "code",
   "execution_count": 65,
   "metadata": {},
   "outputs": [
    {
     "name": "stdout",
     "output_type": "stream",
     "text": [
      "[0.76393648 0.23606352]\n"
     ]
    },
    {
     "name": "stderr",
     "output_type": "stream",
     "text": [
      "100%|██████████| 500/500 [01:08<00:00,  7.34it/s]\n"
     ]
    }
   ],
   "source": [
    "hf_classifier = HuggingfaceClassifier(model_path=\"/mnt/data/factcheck/averitec-data/pretrained_models/nli_4concat/deberta-v3-large/checkpoint-576\")\n",
    "claude_likert_classifier = DefaultClassifier(evidence_generation_results=evidence_generation_results_claude)\n",
    "\n",
    "pipeline = MockPipeline(\n",
    "    classifier=AverageEnsembleClassifier([hf_classifier, claude_likert_classifier]),\n",
    "    dumps=DUMP_PATH_CLAUDE,\n",
    ")\n",
    "\n",
    "with open(\"/mnt/data/factcheck/averitec-data/data/dev.json\") as f:\n",
    "    dataset = json.load(f)\n",
    "    seq = 0\n",
    "    for d in dataset:\n",
    "        d[\"claim_id\"] = seq\n",
    "        seq += 1\n",
    "    \n",
    "datapoints = [Datapoint.from_dict(d) for d in dataset]\n",
    "submission = []\n",
    "dump = []\n",
    "\n",
    "for dp in tqdm(datapoints):\n",
    "    pipeline_result = pipeline(dp)\n",
    "    submission.append(pipeline_result.to_submission())\n",
    "    dump.append(pipeline_result)\n",
    "    with open(f\"/mnt/data/factcheck/averitec-data/data_store/submission_dev_avg_hf_claude_dc.json\", \"w\") as f:\n",
    "        json.dump(submission, f, indent=4)\n",
    "    with open(f\"/mnt/data/factcheck/averitec-data/data_store/pipeline_result_dev_avg_hf_claude_dc.pkl\", \"wb\") as f:\n",
    "        pickle.dump(dump, f)"
   ]
  },
  {
   "cell_type": "code",
   "execution_count": 66,
   "metadata": {},
   "outputs": [
    {
     "name": "stdout",
     "output_type": "stream",
     "text": [
      "Question-only score (HU-meteor):             0.43356239977995653\n",
      "Question-answer score (HU-meteor):           0.2756433945181975\n",
      "====================\n",
      "Veracity F1 scores:\n",
      " * Supported:                                0.7053571428571429\n",
      " * Refuted:                                  0.8108108108108109\n",
      " * Not Enough Evidence:                      0.1568627450980392\n",
      " * Conflicting Evidence/Cherrypicking:       0.22556390977443608\n",
      " * macro:                                    0.4746486521351072\n",
      " * acc:                                      0.676\n",
      "--------------------\n",
      "AVeriTeC scores:\n",
      " * Veracity scores (meteor @ 0.1):           0.662\n",
      " * Veracity scores (meteor @ 0.2):           0.512\n",
      " * Veracity scores (meteor @ 0.25):          0.356\n",
      " * Veracity scores (meteor @ 0.3):           0.238\n",
      " * Veracity scores (meteor @ 0.4):           0.094\n",
      " * Veracity scores (meteor @ 0.5):           0.034\n",
      "--------------------\n",
      "AVeriTeC scores by type @ 0.25:\n",
      " * Veracity scores (Event/Property Claim):   0.18399764934948373\n",
      " * Veracity scores (Position Statement):     0.22489454430190647\n",
      " * Veracity scores (Causal Claim):           0.14843578712749905\n",
      " * Veracity scores (Numerical Claim):        0.20220535481529925\n",
      " * Veracity scores (Quote Verification):     0.13987899010337315\n"
     ]
    }
   ],
   "source": [
    "%run src/prediction/evaluate_veracity.py --label_file /mnt/data/factcheck/averitec-data/data/dev.json --prediction_file /mnt/data/factcheck/averitec-data/data_store/submission_dev_avg_hf_claude_dc.json"
   ]
  },
  {
   "cell_type": "markdown",
   "metadata": {},
   "source": [
    "### Weighted Average Ensemble"
   ]
  },
  {
   "cell_type": "code",
   "execution_count": 43,
   "metadata": {},
   "outputs": [
    {
     "name": "stdout",
     "output_type": "stream",
     "text": [
      "[0.37138793 0.62861207]\n"
     ]
    },
    {
     "name": "stderr",
     "output_type": "stream",
     "text": [
      "100%|██████████| 500/500 [01:15<00:00,  6.61it/s]\n"
     ]
    }
   ],
   "source": [
    "from tqdm import tqdm\n",
    "\n",
    "pipeline = MockPipeline(classifier=avg_ensemble_classifier, dumps=DUMP_PATH)\n",
    "print(avg_ensemble_classifier.weights)\n",
    "\n",
    "with open(\"/mnt/data/factcheck/averitec-data/data/dev.json\") as f:\n",
    "    dataset = json.load(f)\n",
    "    seq = 0\n",
    "    for d in dataset:\n",
    "        d[\"claim_id\"] = seq\n",
    "        seq += 1\n",
    "    \n",
    "datapoints = [Datapoint.from_dict(d) for d in dataset]\n",
    "submission = []\n",
    "dump = []\n",
    "\n",
    "for dp in tqdm(datapoints):\n",
    "    pipeline_result = pipeline(dp)\n",
    "    submission.append(pipeline_result.to_submission())\n",
    "    dump.append(pipeline_result)\n",
    "    with open(f\"/mnt/data/factcheck/averitec-data/data_store/submission_dev_avg_clf.json\", \"w\") as f:\n",
    "        json.dump(submission, f, indent=4)\n",
    "    with open(f\"/mnt/data/factcheck/averitec-data/data_store/pipeline_result_dev_avg_clf.pkl\", \"wb\") as f:\n",
    "        pickle.dump(dump, f)"
   ]
  },
  {
   "cell_type": "code",
   "execution_count": 44,
   "metadata": {},
   "outputs": [
    {
     "name": "stdout",
     "output_type": "stream",
     "text": [
      "Question-only score (HU-meteor):             0.44559202247101487\n",
      "Question-answer score (HU-meteor):           0.27486491800924373\n",
      "====================\n",
      "Veracity F1 scores:\n",
      " * Supported:                                0.6666666666666666\n",
      " * Refuted:                                  0.8181818181818182\n",
      " * Not Enough Evidence:                      0.1509433962264151\n",
      " * Conflicting Evidence/Cherrypicking:       0.136986301369863\n",
      " * macro:                                    0.44319454561119076\n",
      " * acc:                                      0.694\n",
      "--------------------\n",
      "AVeriTeC scores:\n",
      " * Veracity scores (meteor @ 0.1):           0.678\n",
      " * Veracity scores (meteor @ 0.2):           0.528\n",
      " * Veracity scores (meteor @ 0.25):          0.392\n",
      " * Veracity scores (meteor @ 0.3):           0.252\n",
      " * Veracity scores (meteor @ 0.4):           0.104\n",
      " * Veracity scores (meteor @ 0.5):           0.032\n",
      "--------------------\n",
      "AVeriTeC scores by type @ 0.25:\n",
      " * Veracity scores (Event/Property Claim):   0.18721511530819013\n",
      " * Veracity scores (Position Statement):     0.2481496158938146\n",
      " * Veracity scores (Causal Claim):           0.1562263392835381\n",
      " * Veracity scores (Numerical Claim):        0.2067296026668847\n",
      " * Veracity scores (Quote Verification):     0.16204951947304194\n"
     ]
    }
   ],
   "source": [
    "%run src/prediction/evaluate_veracity.py --label_file /mnt/data/factcheck/averitec-data/data/dev.json --prediction_file /mnt/data/factcheck/averitec-data/data_store/submission_dev_avg_clf.json"
   ]
  }
 ],
 "metadata": {
  "kernelspec": {
   "display_name": "Python 3 (ipykernel)",
   "language": "python",
   "name": "python3"
  },
  "language_info": {
   "codemirror_mode": {
    "name": "ipython",
    "version": 3
   },
   "file_extension": ".py",
   "mimetype": "text/x-python",
   "name": "python",
   "nbconvert_exporter": "python",
   "pygments_lexer": "ipython3",
   "version": "3.10.4"
  }
 },
 "nbformat": 4,
 "nbformat_minor": 2
}
